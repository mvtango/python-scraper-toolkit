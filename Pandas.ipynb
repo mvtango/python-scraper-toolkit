{
 "metadata": {
  "name": ""
 },
 "nbformat": 3,
 "nbformat_minor": 0,
 "worksheets": [
  {
   "cells": [
    {
     "cell_type": "code",
     "collapsed": false,
     "input": [
      "import sqlite3 \n",
      "from pandas.io import sql\n",
      "df=sql.read_frame(\"select * from events\",sqlite3.connect(\"/home/martin/projekte/scribblelive/ipython/data/events.sqlite\"))"
     ],
     "language": "python",
     "metadata": {},
     "outputs": [
      {
       "output_type": "stream",
       "stream": "stderr",
       "text": [
        "/usr/local/lib/python2.7/dist-packages/pytz/__init__.py:35: UserWarning: Module readline was already imported from /usr/lib/python2.7/lib-dynload/readline.i386-linux-gnu.so, but /usr/local/lib/python2.7/dist-packages is being added to sys.path\n",
        "  from pkg_resources import resource_stream\n"
       ]
      }
     ],
     "prompt_number": 1
    },
    {
     "cell_type": "code",
     "collapsed": false,
     "input": [
      "df.columns\n"
     ],
     "language": "python",
     "metadata": {},
     "outputs": [
      {
       "output_type": "pyout",
       "prompt_number": 5,
       "text": [
        "Index([u'iscommenting', u'issyndicatable', u'discussionsenabled', u'description', u'lastmodified', u'metatitle', u'who', u'numposts', u'meta', u'stime', u'mtime', u'islive', u'issyndicated', u'id', u'ismoderated', u'canonical', u'end', u'language', u'title', u'url', u'websites', u'discussion', u'created', u'start', u'pages', u'stamp', u'syndicatedcomments', u'numcomments', u'isdeleted', u'location', u'error'], dtype=object)"
       ]
      }
     ],
     "prompt_number": 5
    },
    {
     "cell_type": "code",
     "collapsed": false,
     "input": [
      "len(df.index)"
     ],
     "language": "python",
     "metadata": {},
     "outputs": [
      {
       "output_type": "pyout",
       "prompt_number": 6,
       "text": [
        "184635"
       ]
      }
     ],
     "prompt_number": 6
    },
    {
     "cell_type": "code",
     "collapsed": false,
     "input": [
      "df.loc[1]"
     ],
     "language": "python",
     "metadata": {},
     "outputs": [
      {
       "output_type": "pyout",
       "prompt_number": 8,
       "text": [
        "iscommenting                                                          1\n",
        "issyndicatable                                                        0\n",
        "discussionsenabled                                                 true\n",
        "description                                     Hubbard Test Event Desc\n",
        "lastmodified                                        2013-08-24 01:14:52\n",
        "metatitle                                      Hubbard Test Event Title\n",
        "who                               [\"Graeme MacFarlane\", \"Jeremy Sinon\"]\n",
        "numposts                                                            882\n",
        "meta                                                                 {}\n",
        "stime                                               2013-08-23 23:14:52\n",
        "mtime                                               2013-08-23 23:14:52\n",
        "islive                                                                1\n",
        "issyndicated                                                          0\n",
        "id                                                               173297\n",
        "ismoderated                                                           0\n",
        "canonical             http://live.1500espn.com/Event/Hubbard_Test_Ev...\n",
        "end                                                 2013-10-31 05:00:00\n",
        "language                                                             en\n",
        "title                                         Hubbard Test Event Title \n",
        "url                   http://scribblelive.mobi/Event/Hubbard_Test_Ev...\n",
        "websites              [{\"Url\": \"http://live.1500espn.com/Event/Hubba...\n",
        "discussion                               {\"Moderated\": 0, \"Enabled\": 1}\n",
        "created                                             2013-08-16 20:17:11\n",
        "start                                               2013-08-16 20:17:11\n",
        "pages                                                                20\n",
        "stamp                                                      11:14 PM EST\n",
        "syndicatedcomments                                                    0\n",
        "numcomments                                                           6\n",
        "isdeleted                                                             0\n",
        "location                                                           None\n",
        "error                                                              None\n",
        "Name: 1, dtype: object"
       ]
      }
     ],
     "prompt_number": 8
    },
    {
     "cell_type": "code",
     "collapsed": false,
     "input": [
      "df.loc[0]"
     ],
     "language": "python",
     "metadata": {},
     "outputs": [
      {
       "output_type": "pyout",
       "prompt_number": 9,
       "text": [
        "iscommenting                                                          1\n",
        "issyndicatable                                                        0\n",
        "discussionsenabled                                                false\n",
        "description           Gillette Stadium goes country for this weekend...\n",
        "lastmodified                                        2013-08-24 01:15:00\n",
        "metatitle             Country Fest at Gillette Stadium, Aug. 23-24 -...\n",
        "who                                           Glenn Yoder, A&E producer\n",
        "numposts                                                          15139\n",
        "meta                                                                 {}\n",
        "stime                                               2013-08-23 23:14:56\n",
        "mtime                                               2013-08-23 23:14:56\n",
        "islive                                                                1\n",
        "issyndicated                                                          0\n",
        "id                                                               179063\n",
        "ismoderated                                                           1\n",
        "canonical             http://live.boston.com/Event/Country_Fest_at_G...\n",
        "end                                                 2013-08-26 04:00:00\n",
        "language                                                             en\n",
        "title                 Country Fest at Gillette Stadium, Aug. 23-24 -...\n",
        "url                   http://scribblelive.mobi/Event/Country_Fest_at...\n",
        "websites              [{\"Url\": \"http://live.boston.com/Event/Country...\n",
        "discussion                               {\"Moderated\": 0, \"Enabled\": 0}\n",
        "created                                             2013-08-22 22:11:32\n",
        "start                                               2013-08-22 22:11:32\n",
        "pages                                                               337\n",
        "stamp                                                      11:14 PM EST\n",
        "syndicatedcomments                                                    0\n",
        "numcomments                                                           0\n",
        "isdeleted                                                             0\n",
        "location                                                           None\n",
        "error                                                              None\n",
        "Name: 0, dtype: object"
       ]
      }
     ],
     "prompt_number": 9
    },
    {
     "cell_type": "code",
     "collapsed": false,
     "input": [
      "df[\"who\"][:10]"
     ],
     "language": "python",
     "metadata": {},
     "outputs": [
      {
       "output_type": "pyout",
       "prompt_number": 10,
       "text": [
        "0                            Glenn Yoder, A&E producer\n",
        "1                [\"Graeme MacFarlane\", \"Jeremy Sinon\"]\n",
        "2    [\"Dan Larson\", \"robhernandezwsj\", \"Dennis Semr...\n",
        "3    [\"abarreales\", \"ivangelibter\", \"suriphone41\", ...\n",
        "4                                          Emily Mertz\n",
        "5                                        Katie Cassidy\n",
        "6    [\"SportsDayDFW\", \"SportsDay Live Chat\", \"Evan ...\n",
        "7               [\"David Moore\", \"SportsDay Live Chat\"]\n",
        "8    [\"La r\\u00c3\\u00a9daction\", \"La r\\u00c3\\u00a9d...\n",
        "9    [\"Jennifer Weigel/Staff\", \"Matthew Thomas/Staff\"]\n",
        "Name: who, dtype: object"
       ]
      }
     ],
     "prompt_number": 10
    },
    {
     "cell_type": "code",
     "collapsed": false,
     "input": [
      "df[\"mtime\"][-400:]"
     ],
     "language": "python",
     "metadata": {},
     "outputs": [
      {
       "output_type": "pyout",
       "prompt_number": 16,
       "text": [
        "184235    2013-08-27 20:55:36\n",
        "184236    2013-08-28 05:12:53\n",
        "184237                   None\n",
        "184238    2013-08-28 00:00:37\n",
        "184239    2013-08-28 04:50:56\n",
        "184240    2013-08-27 23:10:44\n",
        "184241    2013-08-28 03:38:53\n",
        "184242    2013-08-27 23:12:05\n",
        "184243    2013-08-27 20:20:52\n",
        "184244    2013-08-28 04:42:21\n",
        "184245    2013-08-27 23:06:50\n",
        "184246                   None\n",
        "184247    2013-08-28 05:22:30\n",
        "184248    2013-08-27 21:23:12\n",
        "184249    2013-08-28 03:24:44\n",
        "...\n",
        "184620                   None\n",
        "184621    2013-08-28 10:45:10\n",
        "184622                   None\n",
        "184623    2013-08-28 12:27:10\n",
        "184624    2013-08-28 12:19:34\n",
        "184625    2013-08-28 11:54:49\n",
        "184626                   None\n",
        "184627    2013-08-28 11:10:24\n",
        "184628    2013-08-28 11:22:32\n",
        "184629                   None\n",
        "184630    2013-08-28 11:53:31\n",
        "184631    2013-08-28 10:52:29\n",
        "184632    2013-08-28 11:57:09\n",
        "184633    2013-08-28 10:43:23\n",
        "184634    2013-08-28 10:48:03\n",
        "Name: mtime, Length: 400, dtype: object"
       ]
      }
     ],
     "prompt_number": 16
    },
    {
     "cell_type": "code",
     "collapsed": false,
     "input": [],
     "language": "python",
     "metadata": {},
     "outputs": []
    }
   ],
   "metadata": {}
  }
 ]
}