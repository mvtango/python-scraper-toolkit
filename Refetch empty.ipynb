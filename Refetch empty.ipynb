{
 "metadata": {
  "name": ""
 },
 "nbformat": 3,
 "nbformat_minor": 0,
 "worksheets": [
  {
   "cells": [
    {
     "cell_type": "code",
     "collapsed": false,
     "input": [
      "from dumptruck import DumpTruck\n",
      "dt=DumpTruck(dbname=\"data/events.sqlite\")\n",
      "\n",
      "from slscraper import eventdata \n",
      "\n",
      "d=True\n",
      "\n",
      "for r in dt.execute(\"select id from events where (upper(title) like '%MERKEL%' or upper(title) like '%DUELL%' or upper(description) like '%DUELL%') order by id desc, numposts desc\") :\n",
      "    rr=r[\"id\"]\n",
      "    try :\n",
      "        dd=eventdata(\"%s\" % rr)\n",
      "        dt.upsert(dd,\"events\")\n",
      "        print \"(%s) %s\" % (rr,repr(dt.execute(\"select id,title,numposts,numcomments from events where id=%s\" % rr)))\n",
      "    except Exception, e:\n",
      "        print \"ERROR %s %s\" % (rr,e)\n",
      "        "
     ],
     "language": "python",
     "metadata": {},
     "outputs": [
      {
       "output_type": "stream",
       "stream": "stdout",
       "text": [
        "(190607) [OrderedDict([(u'id', 190607), (u'title', u'Duellen p\\xc3\\xa5 Plassen '), (u'numposts', 6), (u'numcomments', 0)])]\n",
        "(189804) [OrderedDict([(u'id', 189804), (u'title', u'Das TV-Duell: Merkel gegen Steinbr\\xc3\\xbcck'), (u'numposts', 126), (u'numcomments', 18)])]"
       ]
      },
      {
       "output_type": "stream",
       "stream": "stdout",
       "text": [
        "\n",
        "(189714) [OrderedDict([(u'id', 189714), (u'title', u'TV-Duell Merkel vs. Steinbr\\xc3\\xbcck'), (u'numposts', 139), (u'numcomments', 6)])]"
       ]
      },
      {
       "output_type": "stream",
       "stream": "stdout",
       "text": [
        "\n",
        "(189350) [OrderedDict([(u'id', 189350), (u'title', u'Das TV-Duell'), (u'numposts', 0), (u'numcomments', 0)])]"
       ]
      },
      {
       "output_type": "stream",
       "stream": "stdout",
       "text": [
        "\n",
        "(187306) [OrderedDict([(u'id', 187306), (u'title', u'Merkel gegen Steinbr\\xfcck - Kommentare zum TV-Duell'), (u'numposts', 17), (u'numcomments', 2456)])]"
       ]
      },
      {
       "output_type": "stream",
       "stream": "stdout",
       "text": [
        "\n",
        "(186293) [OrderedDict([(u'id', 186293), (u'title', u'Kampf ums Kanzleramt: Merkel und Steinbr\\xc3\\xbcck im TV-Duell '), (u'numposts', 150), (u'numcomments', 22)])]"
       ]
      },
      {
       "output_type": "stream",
       "stream": "stdout",
       "text": [
        "\n",
        "(186272) [OrderedDict([(u'id', 186272), (u'title', u'TV Duell Merkel Steinbr\\xfcck 1.9.13'), (u'numposts', 177), (u'numcomments', 18)])]"
       ]
      },
      {
       "output_type": "stream",
       "stream": "stdout",
       "text": [
        "\n",
        "(186151) [OrderedDict([(u'id', 186151), (u'title', u'Merkel kontra Steinbr\\xc3\\xbcck \\xe2\\x80\\x93 Wer gewinnt das TV-Duell?'), (u'numposts', 43), (u'numcomments', 53)])]"
       ]
      },
      {
       "output_type": "stream",
       "stream": "stdout",
       "text": [
        "\n",
        "(186048) [OrderedDict([(u'id', 186048), (u'title', u'TV-Duelle: Glawischnig vs. Strache, Bucher vs. Stronach'), (u'numposts', 0), (u'numcomments', 0)])]"
       ]
      },
      {
       "output_type": "stream",
       "stream": "stdout",
       "text": [
        "\n",
        "(184792) [OrderedDict([(u'id', 184792), (u'title', u'Kampf ums Kanzleramt: Fernseh-Duell Merkel - Steinbr\\xc3\\xbcck'), (u'numposts', 107), (u'numcomments', 3)])]"
       ]
      },
      {
       "output_type": "stream",
       "stream": "stdout",
       "text": [
        "\n",
        "(184755) [OrderedDict([(u'id', 184755), (u'title', u'Liveticker-Fernsehduell'), (u'numposts', 59), (u'numcomments', 33)])]"
       ]
      },
      {
       "output_type": "stream",
       "stream": "stdout",
       "text": [
        "\n",
        "(184380) [OrderedDict([(u'id', 184380), (u'title', u'Duell zur Landtagswahl'), (u'numposts', 0), (u'numcomments', 0)])]"
       ]
      },
      {
       "output_type": "stream",
       "stream": "stdout",
       "text": [
        "\n",
        "(184351) [OrderedDict([(u'id', 184351), (u'title', u'Duell zur Bundestagswahl'), (u'numposts', 24), (u'numcomments', 712)])]"
       ]
      },
      {
       "output_type": "stream",
       "stream": "stdout",
       "text": [
        "\n",
        "(182287) [OrderedDict([(u'id', 182287), (u'title', u'Merkel gegen Steinbr\\xc3\\xbcck: Das TV-Duell zur Bundestagswahl 2013'), (u'numposts', 169), (u'numcomments', 0)])]"
       ]
      },
      {
       "output_type": "stream",
       "stream": "stdout",
       "text": [
        "\n",
        "(182285) [OrderedDict([(u'id', 182285), (u'title', u'PULS 4 News: Das Kanzlerduell'), (u'numposts', 2118), (u'numcomments', 770)])]"
       ]
      },
      {
       "output_type": "stream",
       "stream": "stdout",
       "text": [
        "\n",
        "(178711) [OrderedDict([(u'id', 178711), (u'title', u'TV-Duell'), (u'numposts', 41), (u'numcomments', 134)])]"
       ]
      },
      {
       "output_type": "stream",
       "stream": "stdout",
       "text": [
        "\n",
        "(149865) [OrderedDict([(u'id', 149865), (u'title', u'Bundespressekonferenz mit Kanzlerin Merkel'), (u'numposts', 32), (u'numcomments', 1)])]"
       ]
      },
      {
       "output_type": "stream",
       "stream": "stdout",
       "text": [
        "\n",
        "(133311) [OrderedDict([(u'id', 133311), (u'title', u'L\\xc3\\xa4ngste Bundestagssitzung des Jahres'), (u'numposts', 52), (u'numcomments', 0)])]"
       ]
      },
      {
       "output_type": "stream",
       "stream": "stdout",
       "text": [
        "\n",
        "(117538) [OrderedDict([(u'id', 117538), (u'title', u'BBL Playoff:  Brose Baskets Bamberg vs. FC Bayern M\\xc3\\xbcnchen'), (u'numposts', 8), (u'numcomments', 1)])]"
       ]
      },
      {
       "output_type": "stream",
       "stream": "stdout",
       "text": [
        "\n",
        "(104616) [OrderedDict([(u'id', 104616), (u'title', u'Liveblog: Alles rund um das Champions-League-Finale'), (u'numposts', 565), (u'numcomments', 70)])]"
       ]
      },
      {
       "output_type": "stream",
       "stream": "stdout",
       "text": [
        "\n",
        "(93150) [OrderedDict([(u'id', 93150), (u'title', u'Live! Die Auslosung der Halbfinal-Partien in der Champions League'), (u'numposts', 50), (u'numcomments', 8)])]"
       ]
      },
      {
       "output_type": "stream",
       "stream": "stdout",
       "text": [
        "\n",
        "(92060) [OrderedDict([(u'id', 92060), (u'title', u'Copia di TvZap - The Voice, I Duelli - 4 aprile 2013'), (u'numposts', 79), (u'numcomments', 2)])]"
       ]
      },
      {
       "output_type": "stream",
       "stream": "stdout",
       "text": [
        "\n",
        "(92058) [OrderedDict([(u'id', 92058), (u'title', u'TvZap - The Voice, I Duelli - 4 aprile 2013'), (u'numposts', 82), (u'numcomments', 11)])]"
       ]
      },
      {
       "output_type": "stream",
       "stream": "stdout",
       "text": [
        "\n",
        "(83826) [OrderedDict([(u'id', 83826), (u'title', u'Livekommentar zu Stefan Raabs \"Absolute Mehrheit\"'), (u'numposts', 74), (u'numcomments', 22)])]"
       ]
      },
      {
       "output_type": "stream",
       "stream": "stdout",
       "text": [
        "\n",
        "(64149) [OrderedDict([(u'id', 64149), (u'title', u'US-Wahl Rededuell 2'), (u'numposts', 155), (u'numcomments', 390)])]"
       ]
      },
      {
       "output_type": "stream",
       "stream": "stdout",
       "text": [
        "\n",
        "(64148) [OrderedDict([(u'id', 64148), (u'title', u'US-Wahl - Rededuell 1'), (u'numposts', 184), (u'numcomments', 190)])]"
       ]
      },
      {
       "output_type": "stream",
       "stream": "stdout",
       "text": [
        "\n",
        "(60910) [OrderedDict([(u'id', 60910), (u'title', u'Opmerkelijke campagnefilmpjes'), (u'numposts', 109), (u'numcomments', 4)])]"
       ]
      },
      {
       "output_type": "stream",
       "stream": "stdout",
       "text": [
        "\n",
        "(55676) [OrderedDict([(u'id', 55676), (u'title', u'Liveblog: German Chancellor Angela Merkel meets with PM Harper'), (u'numposts', 52), (u'numcomments', 0)])]"
       ]
      },
      {
       "output_type": "stream",
       "stream": "stdout",
       "text": [
        "\n",
        "(38535) [OrderedDict([(u'id', 38535), (u'title', u'EN DIRECT. Entretien crois\\xc3\\xa9 de Nicolas Sarkozy et Angela Merkel'), (u'numposts', 49), (u'numcomments', 0)])]"
       ]
      },
      {
       "output_type": "stream",
       "stream": "stdout",
       "text": [
        "\n",
        "(33441) [OrderedDict([(u'id', 33441), (u'title', u'Live Blog: Cameron And Merkel Meet To Discuss Debt Crisis'), (u'numposts', 4), (u'numcomments', 3)])]"
       ]
      },
      {
       "output_type": "stream",
       "stream": "stdout",
       "text": [
        "\n",
        "(6772) [OrderedDict([(u'id', 6772), (u'title', u'Duel t\\xc3\\xa9l\\xc3\\xa9vis\\xc3\\xa9 Merkel - Steinmeier du 13 septembre 2009'), (u'numposts', 5), (u'numcomments', 3)])]"
       ]
      },
      {
       "output_type": "stream",
       "stream": "stdout",
       "text": [
        "\n",
        "(6767) [OrderedDict([(u'id', 6767), (u'title', u'TV-Duell Merkel - Steinmeier am 13. September 2009'), (u'numposts', 97), (u'numcomments', 134)])]"
       ]
      },
      {
       "output_type": "stream",
       "stream": "stdout",
       "text": [
        "\n"
       ]
      }
     ],
     "prompt_number": 3
    },
    {
     "cell_type": "code",
     "collapsed": false,
     "input": [],
     "language": "python",
     "metadata": {},
     "outputs": []
    }
   ],
   "metadata": {}
  }
 ]
}