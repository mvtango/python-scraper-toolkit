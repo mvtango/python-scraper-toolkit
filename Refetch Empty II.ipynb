{
 "metadata": {
  "name": "Refetch Empty II"
 },
 "nbformat": 3,
 "nbformat_minor": 0,
 "worksheets": [
  {
   "cells": [
    {
     "cell_type": "code",
     "collapsed": false,
     "input": [
      "from dumptruck import DumpTruck\n",
      "dt=DumpTruck(dbname=\"/home/martin/projekte/scribblelive/data/events.sqlite\")\n",
      "\n",
      "from slscraper import eventdata \n",
      "\n",
      "d=True\n",
      "\n",
      "while d: \n",
      "    r=dt.execute(\"select id from events where error like '%403 Client Error%' and title is null order by id desc limit 1\")\n",
      "    if len(r)>0 :\n",
      "        rr=r[0][\"id\"]\n",
      "        try :\n",
      "            dd=eventdata(\"%s\" % rr)\n",
      "            if \"url\" not in dd :\n",
      "                dd[\"url\"]=dd[\"id\"]\n",
      "            dd[\"title\"]=dd[\"metatitle\"]\n",
      "            dt.upsert(dd,\"events\")\n",
      "            tc=dt.execute(\"select count(id) as c from events where error like '%403 Client Error%' and title is null\") \n",
      "            print \"(%s) %s,%s\" % (tc[0][\"c\"], rr,repr(dt.execute(\"select title,start,id from events where id=%s\" % rr)))\n",
      "        except Exception, e:\n",
      "            print \"ERROR %s %s\" % (rr,e)\n",
      "    else :\n",
      "        d=False\n",
      "        "
     ],
     "language": "python",
     "metadata": {},
     "outputs": [
      {
       "output_type": "stream",
       "stream": "stdout",
       "text": [
        "(6220) 175795,[OrderedDict([(u'title', u'US Open Test 2'), (u'start', datetime.datetime(2013, 8, 20, 14, 43, 58)), (u'id', 175795)])]\n",
        "(6220) 175485,[OrderedDict([(u'title', u'Test'), (u'start', datetime.datetime(2013, 8, 19, 19, 25, 7)), (u'id', 175485)])]"
       ]
      },
      {
       "output_type": "stream",
       "stream": "stdout",
       "text": [
        "\n",
        "(6220) 175453,[OrderedDict([(u'title', u'SVP & Russillo Chat'), (u'start', datetime.datetime(2013, 8, 19, 18, 10, 22)), (u'id', 175453)])]"
       ]
      },
      {
       "output_type": "stream",
       "stream": "stdout",
       "text": [
        "\n",
        "(6220) 175443,[OrderedDict([(u'title', u'EA Liveblog'), (u'start', datetime.datetime(2013, 8, 20, 15, 45)), (u'id', 175443)])]"
       ]
      },
      {
       "output_type": "stream",
       "stream": "stdout",
       "text": [
        "\n",
        "(6220) 175425,[OrderedDict([(u'title', u'Test'), (u'start', datetime.datetime(2013, 8, 19, 17, 17, 32)), (u'id', 175425)])]"
       ]
      },
      {
       "output_type": "stream",
       "stream": "stdout",
       "text": [
        "\n",
        "(6219) 175417,[OrderedDict([(u'title', u'Via Terror Accused Court Appearance'), (u'start', datetime.datetime(2013, 8, 19, 17, 10, 7)), (u'id', 175417)])]"
       ]
      },
      {
       "output_type": "stream",
       "stream": "stdout",
       "text": [
        "\n",
        "(6220) 175269,[OrderedDict([(u'title', u'HF Online'), (u'start', datetime.datetime(2013, 8, 19, 11, 24, 5)), (u'id', 175269)])]"
       ]
      },
      {
       "output_type": "stream",
       "stream": "stdout",
       "text": [
        "\n",
        "(6220) 175253,[OrderedDict([(u'title', u'Conf\\xe9rence Electronic Arts - Gamescom 2013'), (u'start', datetime.datetime(2013, 8, 20, 15, 45)), (u'id', 175253)])]"
       ]
      },
      {
       "output_type": "stream",
       "stream": "stdout",
       "text": [
        "\n",
        "(6220) 175240,[OrderedDict([(u'title', u'GC-persconferentie EA'), (u'start', datetime.datetime(2013, 8, 20, 15, 51, 23)), (u'id', 175240)])]"
       ]
      },
      {
       "output_type": "stream",
       "stream": "stdout",
       "text": [
        "\n",
        "(6222) 175234,[OrderedDict([(u'title', u'The F365 Transfer Blog - Monday August 19'), (u'start', datetime.datetime(2013, 8, 19, 9, 19, 5)), (u'id', 175234)])]"
       ]
      },
      {
       "output_type": "stream",
       "stream": "stdout",
       "text": [
        "\n",
        "(6221) 175211,[OrderedDict([(u'title', u'WOOP.GR: \\u039a\\u0391\\u039b\\u039b\\u039f\\u039d\\u0397 - \\u039f\\u039b\\u03a5\\u039c\\u03a0\\u0399\\u0391\\u039a\\u039f\\u03a3'), (u'start', datetime.datetime(2013, 8, 19, 20, 2, 23)), (u'id', 175211)])]"
       ]
      },
      {
       "output_type": "stream",
       "stream": "stdout",
       "text": [
        "\n",
        "(6223) 175133,[OrderedDict([(u'title', u'Sunshine Economy: education'), (u'start', datetime.datetime(2013, 8, 19, 3, 8, 11)), (u'id', 175133)])]"
       ]
      },
      {
       "output_type": "stream",
       "stream": "stdout",
       "text": [
        "\n",
        "(6224) 175108,[OrderedDict([(u'title', u'Day 15 - The Australian - Election 2013 Live Coverage'), (u'start', datetime.datetime(2013, 8, 23, 4, 48, 43)), (u'id', 175108)])]"
       ]
      },
      {
       "output_type": "stream",
       "stream": "stdout",
       "text": [
        "\n",
        "(6225) 174930,[OrderedDict([(u'title', u'#WalangPasok: Bagyong Maring'), (u'start', datetime.datetime(2013, 8, 18, 18, 30)), (u'id', 174930)])]"
       ]
      },
      {
       "output_type": "stream",
       "stream": "stdout",
       "text": [
        "\n",
        "(6225) 174791,[OrderedDict([(u'title', u'Sony GDC 2013 Commentary Report'), (u'start', datetime.datetime(2013, 8, 20, 18, 30)), (u'id', 174791)])]"
       ]
      },
      {
       "output_type": "stream",
       "stream": "stdout",
       "text": [
        "\n",
        "(6226) 174782,[OrderedDict([(u'title', u'Sony GDC 2013 Writer Report'), (u'start', datetime.datetime(2013, 8, 20, 18, 30)), (u'id', 174782)])]"
       ]
      },
      {
       "output_type": "stream",
       "stream": "stdout",
       "text": [
        "\n",
        "(6225) 174412,[OrderedDict([(u'title', u'Thomas Dulorme vs. Francisco \"El Gato\" Figueroa'), (u'start', datetime.datetime(2013, 8, 18, 2, 12, 39)), (u'id', 174412)])]"
       ]
      },
      {
       "output_type": "stream",
       "stream": "stdout",
       "text": [
        "\n",
        "(6224) 174311,[OrderedDict([(u'title', u'Egypt Protest'), (u'start', datetime.datetime(2013, 8, 17, 21, 29, 20)), (u'id', 174311)])]"
       ]
      },
      {
       "output_type": "stream",
       "stream": "stdout",
       "text": [
        "\n",
        "(6223) 174284,[OrderedDict([(u'title', u'P-LSC-FR-20130816-UC-Division 1 Provinciale Namur - Journ\\xe9e 1'), (u'start', datetime.datetime(2013, 8, 18, 18, 19, 2)), (u'id', 174284)])]"
       ]
      },
      {
       "output_type": "stream",
       "stream": "stdout",
       "text": [
        "\n",
        "(6222) 173770,[OrderedDict([(u'title', u'Live Fodbold L\\xf8rdag'), (u'start', datetime.datetime(2013, 8, 17, 13, 26, 25)), (u'id', 173770)])]"
       ]
      },
      {
       "output_type": "stream",
       "stream": "stdout",
       "text": [
        "\n",
        "(6222) 173442,[OrderedDict([(u'title', u'Fire Watch, Weekend of Friday, August 16, 2013'), (u'start', datetime.datetime(2013, 8, 17, 0, 17, 18)), (u'id', 173442)])]"
       ]
      },
      {
       "output_type": "stream",
       "stream": "stdout",
       "text": [
        "\n",
        "(6223) 173222,[OrderedDict([(u'title', u'Euclid house explosion'), (u'start', datetime.datetime(2013, 8, 16, 19, 12, 35)), (u'id', 173222)])]"
       ]
      },
      {
       "output_type": "stream",
       "stream": "stdout",
       "text": [
        "\n",
        "(6223) 173184,[OrderedDict([(u'title', u'Valladolid-Athletic'), (u'start', datetime.datetime(2013, 8, 17, 20, 30)), (u'id', 173184)])]"
       ]
      },
      {
       "output_type": "stream",
       "stream": "stdout",
       "text": [
        "\n",
        "(6222) 172928,[OrderedDict([(u'title', u'Le 4 x 400m en direct sur Sudpresse'), (u'start', datetime.datetime(2013, 8, 16, 15, 51, 31)), (u'id', 172928)])]"
       ]
      },
      {
       "output_type": "stream",
       "stream": "stdout",
       "text": [
        "\n",
        "(6223) 172892,[OrderedDict([(u'title', u'Norwich City v Everton'), (u'start', datetime.datetime(2013, 8, 17, 15, 30)), (u'id', 172892)])]"
       ]
      },
      {
       "output_type": "stream",
       "stream": "stdout",
       "text": [
        "\n",
        "(6224) 172725,[OrderedDict([(u'title', u'20130816-NEW EGYPTE DE'), (u'start', datetime.datetime(2013, 8, 16, 11, 53, 39)), (u'id', 172725)])]"
       ]
      },
      {
       "output_type": "stream",
       "stream": "stdout",
       "text": [
        "\n",
        "(6223) 172716,[OrderedDict([(u'title', u'P-LSC-NL-20130816-LC-MULTILIVE. Alle voetbalactie'), (u'start', datetime.datetime(2013, 8, 16, 0, 0)), (u'id', 172716)])]"
       ]
      },
      {
       "output_type": "stream",
       "stream": "stdout",
       "text": [
        "\n",
        "(6223) 172697,[OrderedDict([(u'title', u'P-LSC-NL-20130816-LC-Lokeren - Racing Genk (Speeldag 4)'), (u'start', datetime.datetime(2013, 8, 17, 16, 29, 18)), (u'id', 172697)])]"
       ]
      },
      {
       "output_type": "stream",
       "stream": "stdout",
       "text": [
        "\n",
        "(6223) 172693,[OrderedDict([(u'title', u'P-LSC-NL-20130816-LC-Cercle Brugge - Oostende (Speeldag 4)'), (u'start', datetime.datetime(2013, 8, 17, 18, 13, 55)), (u'id', 172693)])]"
       ]
      },
      {
       "output_type": "stream",
       "stream": "stdout",
       "text": [
        "\n",
        "(6223) 172445,[OrderedDict([(u'title', u'Earthquake August 16: Your reactions'), (u'start', datetime.datetime(2013, 8, 16, 4, 35, 46)), (u'id', 172445)])]"
       ]
      },
      {
       "output_type": "stream",
       "stream": "stdout",
       "text": [
        "\n",
        "(6222) 172103,[OrderedDict([(u'title', u'Calcio mercato Livorno, cosa ne pensi?'), (u'start', datetime.datetime(2013, 8, 18, 11, 6, 48)), (u'id', 172103)])]"
       ]
      },
      {
       "output_type": "stream",
       "stream": "stdout",
       "text": [
        "\n",
        "(6222) 171891,[OrderedDict([(u'title', u'Philly Folk Fest Fashion'), (u'start', datetime.datetime(2013, 8, 15, 18, 46, 13)), (u'id', 171891)])]"
       ]
      },
      {
       "output_type": "stream",
       "stream": "stdout",
       "text": [
        "\n",
        "(6223) 171849,[OrderedDict([(u'title', u'Live: Calgary Stampeders vs. B.C. Lions'), (u'start', datetime.datetime(2013, 8, 18, 2, 30)), (u'id', 171849)])]"
       ]
      },
      {
       "output_type": "stream",
       "stream": "stdout",
       "text": [
        "\n",
        "(6224) 171843,[OrderedDict([(u'title', u'Anti-Abortion Protest'), (u'start', datetime.datetime(2013, 8, 15, 18, 5, 48)), (u'id', 171843)])]"
       ]
      },
      {
       "output_type": "stream",
       "stream": "stdout",
       "text": [
        "\n",
        "(6224) 171740,[OrderedDict([(u'title', u'Celtic Live Aptitude Test'), (u'start', datetime.datetime(2013, 8, 15, 16, 39, 45)), (u'id', 171740)])]"
       ]
      },
      {
       "output_type": "stream",
       "stream": "stdout",
       "text": [
        "\n",
        "(6224) 171691,[OrderedDict([(u'title', u'P-LSC-FR-20130814-UC-Division 3 B - Journ\\xe9e 1'), (u'start', datetime.datetime(2013, 8, 14, 6, 0)), (u'id', 171691)])]"
       ]
      },
      {
       "output_type": "stream",
       "stream": "stdout",
       "text": [
        "\n",
        "(6224) 171684,[OrderedDict([(u'title', u'P-LSC-FR-20130814-UC-Division 3 B - Journ\\xe9e 1'), (u'start', datetime.datetime(2013, 8, 14, 0, 0)), (u'id', 171684)])]"
       ]
      },
      {
       "output_type": "stream",
       "stream": "stdout",
       "text": [
        "\n",
        "(6224) 171683,[OrderedDict([(u'title', u'P-LSC-FR-20130814-LC-Division 3 B - Journ\\xe9e 1'), (u'start', datetime.datetime(2013, 8, 14, 0, 0)), (u'id', 171683)])]"
       ]
      },
      {
       "output_type": "stream",
       "stream": "stdout",
       "text": [
        "\n",
        "(6223) 171667,[OrderedDict([(u'title', u'Gais-\\xc4ngelholm'), (u'start', datetime.datetime(2013, 8, 15, 19, 1, 14)), (u'id', 171667)])]"
       ]
      },
      {
       "output_type": "stream",
       "stream": "stdout",
       "text": [
        "\n",
        "(6223) 171558,[OrderedDict([(u'title', u'Brannen p\\xe5 Ranheim LIVE'), (u'start', datetime.datetime(2013, 8, 15, 11, 27, 40)), (u'id', 171558)])]"
       ]
      },
      {
       "output_type": "stream",
       "stream": "stdout",
       "text": [
        "\n",
        "(6226) 171379,[OrderedDict([(u'title', u'Wallabies Bledisloe Cup team announcement'), (u'start', datetime.datetime(2013, 8, 15, 7, 8, 42)), (u'id', 171379)])]"
       ]
      },
      {
       "output_type": "stream",
       "stream": "stdout",
       "text": [
        "\n",
        "(6225) 171347,[OrderedDict([(u'title', u'#f1'), (u'start', datetime.datetime(2013, 8, 15, 5, 39, 44)), (u'id', 171347)])]"
       ]
      },
      {
       "output_type": "stream",
       "stream": "stdout",
       "text": [
        "\n",
        "(6227) 171346,[OrderedDict([(u'title', u'Copy of Australia Votes'), (u'start', datetime.datetime(2013, 8, 15, 4, 37, 28)), (u'id', 171346)])]"
       ]
      },
      {
       "output_type": "stream",
       "stream": "stdout",
       "text": [
        "\n",
        "(6228) 171190,[OrderedDict([(u'title', u'EWU sports live chat'), (u'start', datetime.datetime(2013, 8, 15, 20, 45)), (u'id', 171190)])]"
       ]
      },
      {
       "output_type": "stream",
       "stream": "stdout",
       "text": [
        "\n",
        "(6227) 171161,[OrderedDict([(u'title', u'Engaging Stakeholders in Governance: Risks and Rewards'), (u'start', datetime.datetime(2013, 8, 21, 18, 48, 30)), (u'id', 171161)])]"
       ]
      },
      {
       "output_type": "stream",
       "stream": "stdout",
       "text": [
        "\n",
        "(6227) 171152,[OrderedDict([(u'title', u'Live Blog; Elliot Lake Inquiry Day 86'), (u'start', datetime.datetime(2013, 8, 15, 14, 54, 11)), (u'id', 171152)])]"
       ]
      },
      {
       "output_type": "stream",
       "stream": "stdout",
       "text": [
        "\n",
        "(6227) 171141,[OrderedDict([(u'title', u'Live chat with UW athletic director Scott Woodward'), (u'start', datetime.datetime(2013, 8, 15, 21, 0)), (u'id', 171141)])]"
       ]
      },
      {
       "output_type": "stream",
       "stream": "stdout",
       "text": [
        "\n",
        "(6226) 171015,[OrderedDict([(u'title', u'Federal election - Thursday August 15'), (u'start', datetime.datetime(2013, 8, 14, 22, 0)), (u'id', 171015)])]"
       ]
      },
      {
       "output_type": "stream",
       "stream": "stdout",
       "text": [
        "\n",
        "(6226) 170827,[OrderedDict([(u'title', u\"VMA's\"), (u'start', datetime.datetime(2013, 8, 20, 20, 6, 1)), (u'id', 170827)])]"
       ]
      },
      {
       "output_type": "stream",
       "stream": "stdout",
       "text": [
        "\n",
        "(6226) 170794,[OrderedDict([(u'title', u'\\u03a6\\u03b9\\u03bb\\u03b9\\u03ba\\u03cc: \\u0391\\u03c5\\u03c3\\u03c4\\u03c1\\u03af\\u03b1-\\u0395\\u03bb\\u03bb\\u03ac\\u03b4\\u03b1'), (u'start', datetime.datetime(2013, 8, 14, 19, 43, 38)), (u'id', 170794)])]"
       ]
      },
      {
       "output_type": "stream",
       "stream": "stdout",
       "text": [
        "\n",
        "(6227) 170758,[OrderedDict([(u'title', u'Amistoso: Chiclana CF - C\\xe1diz CF'), (u'start', datetime.datetime(2013, 8, 14, 18, 58, 7)), (u'id', 170758)])]"
       ]
      },
      {
       "output_type": "stream",
       "stream": "stdout",
       "text": [
        "\n",
        "(6227) 170720,[OrderedDict([(u'title', u'2013 Preseason Game 2: Seattle Seahawks vs Denver Broncos'), (u'start', datetime.datetime(2013, 8, 18, 2, 28, 42)), (u'id', 170720)])]"
       ]
      },
      {
       "output_type": "stream",
       "stream": "stdout",
       "text": [
        "\n",
        "(6226) 170441,[OrderedDict([(u'title', u'Suivez Belgique - France en direct sur Sudpresse'), (u'start', datetime.datetime(2013, 8, 14, 14, 53, 13)), (u'id', 170441)])]"
       ]
      },
      {
       "output_type": "stream",
       "stream": "stdout",
       "text": [
        "\n",
        "(6226) 170123,[OrderedDict([(u'title', u\"Rock'N'Heim\"), (u'start', datetime.datetime(2013, 8, 14, 10, 6, 19)), (u'id', 170123)])]"
       ]
      },
      {
       "output_type": "stream",
       "stream": "stdout",
       "text": [
        "\n",
        "(6227) 170104,[OrderedDict([(u'title', u'Egypt forces move to clear Morsi supporter camps'), (u'start', datetime.datetime(2013, 8, 14, 9, 44, 2)), (u'id', 170104)])]"
       ]
      },
      {
       "output_type": "stream",
       "stream": "stdout",
       "text": [
        "\n",
        "(6227) 169932,[OrderedDict([(u'title', u'Offspring - Live chat'), (u'start', datetime.datetime(2013, 8, 22, 3, 51, 9)), (u'id', 169932)])]"
       ]
      },
      {
       "output_type": "stream",
       "stream": "stdout",
       "text": [
        "\n",
        "(6227) 169836,[OrderedDict([(u'title', u'nrl blog prep'), (u'start', datetime.datetime(2013, 8, 14, 5, 12, 27)), (u'id', 169836)])]"
       ]
      },
      {
       "output_type": "stream",
       "stream": "stdout",
       "text": [
        "\n",
        "(6227) 169752,[OrderedDict([(u'title', u'8-14-13: York Revs vs. Camden Riversharks'), (u'start', datetime.datetime(2013, 8, 15, 0, 0)), (u'id', 169752)])]"
       ]
      },
      {
       "output_type": "stream",
       "stream": "stdout",
       "text": [
        "\n",
        "(6227) 169715,[OrderedDict([(u'title', u'New Orleans 2014 Budget Meeting: District B, Aug. 28, 2013'), (u'start', datetime.datetime(2013, 8, 29, 0, 45)), (u'id', 169715)])]"
       ]
      },
      {
       "output_type": "stream",
       "stream": "stdout",
       "text": [
        "\n",
        "(6229) 169679,[OrderedDict([(u'title', u'Fatal TTC bus crash'), (u'start', datetime.datetime(2013, 8, 13, 19, 1, 8)), (u'id', 169679)])]"
       ]
      },
      {
       "output_type": "stream",
       "stream": "stdout",
       "text": [
        "\n",
        "(6228) 169635,[OrderedDict([(u'title', u'Twitter Chat: Preparing for Retirement'), (u'start', datetime.datetime(2013, 8, 15, 6, 45)), (u'id', 169635)])]"
       ]
      },
      {
       "output_type": "stream",
       "stream": "stdout",
       "text": [
        "\n",
        "(6227) 169544,[OrderedDict([(u'title', u'Aug. 13 Greater Sudbury city council meeting'), (u'start', datetime.datetime(2013, 8, 13, 19, 45)), (u'id', 169544)])]"
       ]
      },
      {
       "output_type": "stream",
       "stream": "stdout",
       "text": [
        "\n",
        "(6227) 169389,[OrderedDict([(u'title', u'Stephanie Miller Live Chat - 8/13'), (u'start', datetime.datetime(2013, 8, 13, 18, 0, 25)), (u'id', 169389)])]"
       ]
      },
      {
       "output_type": "stream",
       "stream": "stdout",
       "text": [
        "\n",
        "(6228) 169367,[OrderedDict([(u'title', u'Mercato 13 ao\\xfbt'), (u'start', datetime.datetime(2013, 8, 13, 10, 33, 18)), (u'id', 169367)])]"
       ]
      },
      {
       "output_type": "stream",
       "stream": "stdout",
       "text": [
        "\n",
        "(6229) 169331,[OrderedDict([(u'title', u'The F365 Transfer Blog - Tuesday August 13'), (u'start', datetime.datetime(2013, 8, 13, 9, 22, 38)), (u'id', 169331)])]"
       ]
      },
      {
       "output_type": "stream",
       "stream": "stdout",
       "text": [
        "\n",
        "(6229) 169264,[OrderedDict([(u'title', u'Federal Election - Wednesday August 14'), (u'start', datetime.datetime(2013, 8, 13, 22, 0)), (u'id', 169264)])]"
       ]
      },
      {
       "output_type": "stream",
       "stream": "stdout",
       "text": [
        "\n",
        "(6228) 169099,[OrderedDict([(u'title', u'Live Blog; Elliot Lake Inquiry Day 85'), (u'start', datetime.datetime(2013, 8, 13, 14, 47, 14)), (u'id', 169099)])]"
       ]
      },
      {
       "output_type": "stream",
       "stream": "stdout",
       "text": [
        "\n",
        "(6228) 168998,[OrderedDict([(u'title', u'Live chat: Peter Lineham'), (u'start', datetime.datetime(2013, 8, 12, 23, 2, 40)), (u'id', 168998)])]"
       ]
      },
      {
       "output_type": "stream",
       "stream": "stdout",
       "text": [
        "\n",
        "(6227) 168858,[OrderedDict([(u'title', u'CU Buffs football chat with Kyle Ringo (Aug. 12)'), (u'start', datetime.datetime(2013, 8, 12, 20, 15)), (u'id', 168858)])]"
       ]
      },
      {
       "output_type": "stream",
       "stream": "stdout",
       "text": [
        "\n",
        "(6226) 168627,[OrderedDict([(u'title', u'Jays vs. As'), (u'start', datetime.datetime(2013, 8, 12, 18, 30)), (u'id', 168627)])]"
       ]
      },
      {
       "output_type": "stream",
       "stream": "stdout",
       "text": [
        "\n",
        "(6229) 168584,[OrderedDict([(u'title', u'Holyday on Ford'), (u'start', datetime.datetime(2013, 8, 12, 17, 42, 46)), (u'id', 168584)])]"
       ]
      },
      {
       "output_type": "stream",
       "stream": "stdout",
       "text": [
        "\n",
        "(6228) 168508,[OrderedDict([(u'title', u'Sunnan\\xe5'), (u'start', datetime.datetime(2013, 8, 12, 16, 53, 51)), (u'id', 168508)])]"
       ]
      },
      {
       "output_type": "stream",
       "stream": "stdout",
       "text": [
        "\n",
        "(6229) 168439,[OrderedDict([(u'title', u'Transfer Window Special'), (u'start', datetime.datetime(2013, 8, 13, 13, 0)), (u'id', 168439)])]"
       ]
      },
      {
       "output_type": "stream",
       "stream": "stdout",
       "text": [
        "\n",
        "(6228) 168353,[OrderedDict([(u'title', u'Neue Wochenfrage'), (u'start', datetime.datetime(2013, 8, 23, 9, 34, 4)), (u'id', 168353)])]"
       ]
      },
      {
       "output_type": "stream",
       "stream": "stdout",
       "text": [
        "\n",
        "(6229) 168108,[OrderedDict([(u'title', u'Stephanie Miller Live Chat - 8/12'), (u'start', datetime.datetime(2013, 8, 12, 14, 45)), (u'id', 168108)])]"
       ]
      },
      {
       "output_type": "stream",
       "stream": "stdout",
       "text": [
        "\n",
        "(6228) 168081,[OrderedDict([(u'title', u'Live web chat - Ipsich Town v Millwall'), (u'start', datetime.datetime(2013, 8, 13, 13, 45)), (u'id', 168081)])]"
       ]
      },
      {
       "output_type": "stream",
       "stream": "stdout",
       "text": [
        "\n",
        "(6227) 168021,[OrderedDict([(u'title', u'Craig Lowndes Live Chat with Speed'), (u'start', datetime.datetime(2013, 8, 13, 5, 49, 39)), (u'id', 168021)])]"
       ]
      },
      {
       "output_type": "stream",
       "stream": "stdout",
       "text": [
        "\n",
        "(6229) 167916,[OrderedDict([(u'title', u'Live Chat: ICC umpires manager Simon Taufel'), (u'start', datetime.datetime(2013, 8, 12, 4, 26, 40)), (u'id', 167916)])]"
       ]
      },
      {
       "output_type": "stream",
       "stream": "stdout",
       "text": [
        "\n",
        "(6228) 167880,[OrderedDict([(u'title', u'TCA 2013'), (u'start', datetime.datetime(2013, 8, 12, 0, 48, 9)), (u'id', 167880)])]"
       ]
      },
      {
       "output_type": "stream",
       "stream": "stdout",
       "text": [
        "\n",
        "(6227) 167502,[OrderedDict([(u'title', u'\\u067e\\u0648\\u0634\\u0634 \\u0632\\u0646\\u062f\\u0647 \\u062c\\u0644\\u0633\\u0647 \\u0627\\u062e\\u0630 \\u0631\\u0627\\u06cc \\u0627\\u0639\\u062a\\u0645\\u0627\\u062f \\u0648\\u0632\\u06cc\\u0631 \\u0627\\u0631\\u062a\\u0628\\u0627\\u0637\\u0627\\u062a \\u062f\\u0648\\u0644\\u062a \\u06cc\\u0627\\u0632\\u062f\\u0647\\u0645 \\u0627\\u0632 \\u0645\\u062c\\u0644\\u0633 \\u0634\\u0648\\u0631\\u0627\\u06cc \\u0627\\u0633\\u0644\\u0627\\u0645\\u06cc'), (u'start', datetime.datetime(2013, 8, 13, 6, 52, 40)), (u'id', 167502)])]"
       ]
      },
      {
       "output_type": "stream",
       "stream": "stdout",
       "text": [
        "\n",
        "(6226) 167493,[OrderedDict([(u'title', u'Rogers Cup Live Blog - Sunday'), (u'start', datetime.datetime(2013, 8, 11, 20, 45, 44)), (u'id', 167493)])]"
       ]
      },
      {
       "output_type": "stream",
       "stream": "stdout",
       "text": [
        "\n",
        "(6226) 167343,[OrderedDict([(u'title', u'Laurent Text raw feed - Dubai Expo'), (u'start', datetime.datetime(2013, 8, 11, 14, 30)), (u'id', 167343)])]"
       ]
      },
      {
       "output_type": "stream",
       "stream": "stdout",
       "text": [
        "\n",
        "(6225) 167296,[OrderedDict([(u'title', u'La JPL en direct sur Sudpresse'), (u'start', datetime.datetime(2013, 8, 11, 22, 52, 54)), (u'id', 167296)])]"
       ]
      },
      {
       "output_type": "stream",
       "stream": "stdout",
       "text": [
        "\n",
        "(6224) 167126,[OrderedDict([(u'title', u'Live Blog: FIBA Asia Championship Day 9'), (u'start', datetime.datetime(2013, 8, 11, 11, 9, 49)), (u'id', 167126)])]"
       ]
      },
      {
       "output_type": "stream",
       "stream": "stdout",
       "text": [
        "\n",
        "(6223) 166892,[OrderedDict([(u'title', u'P-LSC-FR-20130810-LC-Mons - Charleroi (Journ\\xe9e 3)'), (u'start', datetime.datetime(2013, 8, 10, 18, 0)), (u'id', 166892)])]"
       ]
      },
      {
       "output_type": "stream",
       "stream": "stdout",
       "text": [
        "\n",
        "(6222) 166482,[OrderedDict([(u'title', u'New England Regional Little League Championship'), (u'start', datetime.datetime(2013, 8, 11, 0, 22, 47)), (u'id', 166482)])]"
       ]
      },
      {
       "output_type": "stream",
       "stream": "stdout",
       "text": [
        "\n",
        "(6222) 165980,[OrderedDict([(u'title', u'Altetik-VM'), (u'start', datetime.datetime(2013, 8, 10, 0, 48, 12)), (u'id', 165980)])]"
       ]
      },
      {
       "output_type": "stream",
       "stream": "stdout",
       "text": [
        "\n",
        "(6223) 165979,[OrderedDict([(u'title', u'Gameday Central: Texans-Vikings'), (u'start', datetime.datetime(2013, 8, 10, 0, 34, 19)), (u'id', 165979)])]"
       ]
      },
      {
       "output_type": "stream",
       "stream": "stdout",
       "text": [
        "\n",
        "(6226) 165634,[OrderedDict([(u'title', u'D2 : Virton - Saint-Trond'), (u'start', datetime.datetime(2013, 8, 10, 19, 39, 52)), (u'id', 165634)])]"
       ]
      },
      {
       "output_type": "stream",
       "stream": "stdout",
       "text": [
        "\n",
        "(6226) 165399,[OrderedDict([(u'title', u'P-LSC-NL-20130810-LC-Club Brugge - Zulte Waregem (Speeldag 3)'), (u'start', datetime.datetime(2013, 8, 11, 14, 8, 44)), (u'id', 165399)])]"
       ]
      },
      {
       "output_type": "stream",
       "stream": "stdout",
       "text": [
        "\n",
        "(6227) 165397,[OrderedDict([(u'title', u'P-LSC-NL-20130809-LC-Bergen - Charleroi (Speeldag 3)'), (u'start', datetime.datetime(2013, 8, 9, 0, 0)), (u'id', 165397)])]"
       ]
      },
      {
       "output_type": "stream",
       "stream": "stdout",
       "text": [
        "\n",
        "(6229) 165088,[OrderedDict([(u'title', u'Nettm\\xf8te - test'), (u'start', datetime.datetime(2013, 8, 9, 14, 3, 9)), (u'id', 165088)])]"
       ]
      },
      {
       "output_type": "stream",
       "stream": "stdout",
       "text": [
        "\n",
        "(6228) 164900,[OrderedDict([(u'title', u'Seahawks-Chargers live chat'), (u'start', datetime.datetime(2013, 8, 9, 2, 15)), (u'id', 164900)])]"
       ]
      },
      {
       "output_type": "stream",
       "stream": "stdout",
       "text": [
        "\n",
        "(6229) 164676,[OrderedDict([(u'title', u'Penn State football media day live coverage'), (u'start', datetime.datetime(2013, 8, 8, 15, 45)), (u'id', 164676)])]"
       ]
      },
      {
       "output_type": "stream",
       "stream": "stdout",
       "text": [
        "\n",
        "(6230) 164382,[OrderedDict([(u'title', u\"What's really behind the U.S. embassy closures?\"), (u'start', datetime.datetime(2013, 8, 9, 18, 40, 13)), (u'id', 164382)])]"
       ]
      },
      {
       "output_type": "stream",
       "stream": "stdout",
       "text": [
        "\n",
        "(6229) 164210,[OrderedDict([(u'title', u'Zenit - FC Nordsj\\xe6lland'), (u'start', datetime.datetime(2013, 8, 7, 17, 26, 25)), (u'id', 164210)])]"
       ]
      },
      {
       "output_type": "stream",
       "stream": "stdout",
       "text": [
        "\n",
        "(6228) 164185,[OrderedDict([(u'title', u'Pas de midi sans info - 7 ao\\xfbt 2013'), (u'start', datetime.datetime(2013, 8, 7, 14, 15)), (u'id', 164185)])]"
       ]
      },
      {
       "output_type": "stream",
       "stream": "stdout",
       "text": [
        "\n",
        "(6227) 164112,[OrderedDict([(u'title', u'#MoveLeyte 2'), (u'start', datetime.datetime(2013, 8, 9, 7, 13, 11)), (u'id', 164112)])]"
       ]
      },
      {
       "output_type": "stream",
       "stream": "stdout",
       "text": [
        "\n",
        "(6226) 164060,[OrderedDict([(u'title', u'Die MDR-Sommertour 2013 in Thale'), (u'start', datetime.datetime(2013, 8, 10, 16, 51, 43)), (u'id', 164060)])]"
       ]
      },
      {
       "output_type": "stream",
       "stream": "stdout",
       "text": [
        "\n",
        "(6225) 163960,[OrderedDict([(u'title', u'Test - Please ignore'), (u'start', datetime.datetime(2013, 8, 7, 6, 18, 26)), (u'id', 163960)])]"
       ]
      },
      {
       "output_type": "stream",
       "stream": "stdout",
       "text": [
        "\n",
        "(6225) 163932,[OrderedDict([(u'title', u'NRL 360 blog prep 7/8/2013'), (u'start', datetime.datetime(2013, 8, 7, 4, 44, 14)), (u'id', 163932)])]"
       ]
      },
      {
       "output_type": "stream",
       "stream": "stdout",
       "text": [
        "\n",
        "(6225) 163899,[OrderedDict([(u'title', u'Recipe vote: Sweet Potato Chard Tacos'), (u'start', datetime.datetime(2013, 8, 7, 1, 56, 43)), (u'id', 163899)])]"
       ]
      },
      {
       "output_type": "stream",
       "stream": "stdout",
       "text": [
        "\n",
        "(6224) 163894,[OrderedDict([(u'title', u'Recipe vote: French Toast Fruit Salad'), (u'start', datetime.datetime(2013, 8, 7, 1, 45, 33)), (u'id', 163894)])]"
       ]
      },
      {
       "output_type": "stream",
       "stream": "stdout",
       "text": [
        "\n",
        "(6223) 163853,[OrderedDict([(u'title', u\"Allendria's Test Event\"), (u'start', datetime.datetime(2013, 8, 7, 0, 4, 12)), (u'id', 163853)])]"
       ]
      },
      {
       "output_type": "stream",
       "stream": "stdout",
       "text": [
        "\n",
        "(6222) 163804,[OrderedDict([(u'title', u'LPS First Day of School \\u2014 August 13, 2013'), (u'start', datetime.datetime(2013, 8, 7, 15, 6, 11)), (u'id', 163804)])]"
       ]
      },
      {
       "output_type": "stream",
       "stream": "stdout",
       "text": [
        "\n",
        "(6221) 163784,[OrderedDict([(u'title', u'Election results - Gratiot and Clare - Live'), (u'start', datetime.datetime(2013, 8, 7, 2, 39, 39)), (u'id', 163784)])]"
       ]
      },
      {
       "output_type": "stream",
       "stream": "stdout",
       "text": [
        "\n",
        "(6221) 163676,[OrderedDict([(u'title', u'Test'), (u'start', datetime.datetime(2013, 8, 12, 9, 45)), (u'id', 163676)])]"
       ]
      },
      {
       "output_type": "stream",
       "stream": "stdout",
       "text": [
        "\n",
        "(6220) 163615,[OrderedDict([(u'title', u'Ken Fidlin Baseball Chat'), (u'start', datetime.datetime(2013, 8, 6, 17, 59, 5)), (u'id', 163615)])]"
       ]
      },
      {
       "output_type": "stream",
       "stream": "stdout",
       "text": [
        "\n",
        "(6219) 163490,[OrderedDict([(u'title', u'The X Factor - Live chat'), (u'start', datetime.datetime(2013, 8, 6, 6, 44, 10)), (u'id', 163490)])]"
       ]
      },
      {
       "output_type": "stream",
       "stream": "stdout",
       "text": [
        "\n",
        "(6220) 163378,[OrderedDict([(u'title', u'Live Blog: ABC Health The New Rules of Cancer'), (u'start', datetime.datetime(2013, 8, 6, 6, 45)), (u'id', 163378)])]"
       ]
      },
      {
       "output_type": "stream",
       "stream": "stdout",
       "text": [
        "\n",
        "(6220) 163324,[OrderedDict([(u'title', u'Heavy rain in Tyne and Wear'), (u'start', datetime.datetime(2013, 8, 5, 18, 11, 7)), (u'id', 163324)])]"
       ]
      },
      {
       "output_type": "stream",
       "stream": "stdout",
       "text": [
        "\n",
        "(6222) 163312,[OrderedDict([(u'title', u'Eure Meinung zu #Jobs und Arbeitsmarkt'), (u'start', datetime.datetime(2013, 8, 5, 17, 45)), (u'id', 163312)])]"
       ]
      },
      {
       "output_type": "stream",
       "stream": "stdout",
       "text": [
        "\n",
        "(6222) 163280,[OrderedDict([(u'title', u'nuevo ensayo con roles'), (u'start', datetime.datetime(2013, 8, 5, 16, 30)), (u'id', 163280)])]"
       ]
      },
      {
       "output_type": "stream",
       "stream": "stdout",
       "text": [
        "\n",
        "(6222) 163230,[OrderedDict([(u'title', u'Shrewsbury Town v Bolton - LIVE match updates'), (u'start', datetime.datetime(2013, 8, 6, 19, 45)), (u'id', 163230)])]"
       ]
      },
      {
       "output_type": "stream",
       "stream": "stdout",
       "text": [
        "\n",
        "(6221) 163225,[OrderedDict([(u'title', u'Saturday football action - LIVE match updates'), (u'start', datetime.datetime(2013, 8, 10, 15, 0)), (u'id', 163225)])]"
       ]
      },
      {
       "output_type": "stream",
       "stream": "stdout",
       "text": [
        "\n",
        "(6222) 162992,[OrderedDict([(u'title', u'Lotta p\\xe5 Liseberg 5/8'), (u'start', datetime.datetime(2013, 8, 5, 20, 0)), (u'id', 162992)])]"
       ]
      },
      {
       "output_type": "stream",
       "stream": "stdout",
       "text": [
        "\n",
        "(6224) 162964,[OrderedDict([(u'title', u'Huddersfield Town fan webchat 05/08/13'), (u'start', datetime.datetime(2013, 8, 5, 13, 30, 2)), (u'id', 162964)])]"
       ]
      },
      {
       "output_type": "stream",
       "stream": "stdout",
       "text": [
        "\n",
        "(6223) 162860,[OrderedDict([(u'title', u'Live chat with Bob Condotta -- Do not publish'), (u'start', datetime.datetime(2013, 8, 5, 6, 15)), (u'id', 162860)])]"
       ]
      },
      {
       "output_type": "stream",
       "stream": "stdout",
       "text": [
        "\n",
        "(6223) 162305,[OrderedDict([(u'title', u'@CBCNS Only'), (u'start', datetime.datetime(2013, 8, 3, 23, 19, 37)), (u'id', 162305)])]"
       ]
      },
      {
       "output_type": "stream",
       "stream": "stdout",
       "text": [
        "\n",
        "(6222) 161934,[OrderedDict([(u'title', u'\\u03a6\\u03b9\\u03bb\\u03b9\\u03ba\\u03cc: \\u039b\\u03af\\u03b2\\u03b5\\u03c1\\u03c0\\u03bf\\u03c5\\u03bb-\\u039f\\u03bb\\u03c5\\u03bc\\u03c0\\u03b9\\u03b1\\u03ba\\u03cc\\u03c2'), (u'start', datetime.datetime(2013, 8, 3, 13, 6, 18)), (u'id', 161934)])]"
       ]
      },
      {
       "output_type": "stream",
       "stream": "stdout",
       "text": [
        "\n",
        "(6223) 161271,[OrderedDict([(u'title', u'First Friday Art Walk'), (u'start', datetime.datetime(2013, 8, 2, 22, 33, 54)), (u'id', 161271)])]"
       ]
      },
      {
       "output_type": "stream",
       "stream": "stdout",
       "text": [
        "\n",
        "(6225) 161245,[OrderedDict([(u'title', u'Aug. 8, 2013'), (u'start', datetime.datetime(2013, 8, 2, 21, 37, 30)), (u'id', 161245)])]"
       ]
      },
      {
       "output_type": "stream",
       "stream": "stdout",
       "text": [
        "\n",
        "(6225) 161227,[OrderedDict([(u'title', u'Rogers Cup Coverage - Monday, Aug. 5'), (u'start', datetime.datetime(2013, 8, 6, 16, 23, 12)), (u'id', 161227)])]"
       ]
      },
      {
       "output_type": "stream",
       "stream": "stdout",
       "text": [
        "\n",
        "(6225) 160939,[OrderedDict([(u'title', u'Ashes Third Test, Day 3, Old Trafford'), (u'start', datetime.datetime(2013, 8, 3, 11, 0)), (u'id', 160939)])]"
       ]
      },
      {
       "output_type": "stream",
       "stream": "stdout",
       "text": [
        "\n",
        "(6224) 160934,[OrderedDict([(u'title', u'P-LSC-FR-20130802-UC-Cercle Brugge - Anderlecht (Journ\\xe9e 2)'), (u'start', datetime.datetime(2013, 8, 2, 18, 0)), (u'id', 160934)])]"
       ]
      },
      {
       "output_type": "stream",
       "stream": "stdout",
       "text": [
        "\n",
        "(6224) 160867,[OrderedDict([(u'title', u'Founders Day 2013: Auburn honors Harriet Tubman'), (u'start', datetime.datetime(2013, 8, 2, 22, 0)), (u'id', 160867)])]"
       ]
      },
      {
       "output_type": "stream",
       "stream": "stdout",
       "text": [
        "\n",
        "(6226) 160698,[OrderedDict([(u'title', u'Doppelmord - vorab'), (u'start', datetime.datetime(2013, 8, 4, 0, 45)), (u'id', 160698)])]"
       ]
      },
      {
       "output_type": "stream",
       "stream": "stdout",
       "text": [
        "\n",
        "(6226) 160255,[OrderedDict([(u'title', u'Regional Council \\u2014 Aug. 1, 2013'), (u'start', datetime.datetime(2013, 8, 2, 0, 19, 42)), (u'id', 160255)])]"
       ]
      },
      {
       "output_type": "stream",
       "stream": "stdout",
       "text": [
        "\n",
        "(6227) 160237,[OrderedDict([(u'title', u'ESPN Twitter Image Slideshow Investigation'), (u'start', datetime.datetime(2013, 8, 1, 22, 1, 48)), (u'id', 160237)])]"
       ]
      },
      {
       "output_type": "stream",
       "stream": "stdout",
       "text": [
        "\n",
        "(6227) 160140,[OrderedDict([(u'title', u'WDR 2 LigaLive, 3. Spieltag'), (u'start', datetime.datetime(2013, 8, 24, 13, 47, 58)), (u'id', 160140)])]"
       ]
      },
      {
       "output_type": "stream",
       "stream": "stdout",
       "text": [
        "\n",
        "(6227) 160135,[OrderedDict([(u'title', u'Stanley Cup parade'), (u'start', datetime.datetime(2013, 8, 1, 19, 33, 35)), (u'id', 160135)])]"
       ]
      },
      {
       "output_type": "stream",
       "stream": "stdout",
       "text": [
        "\n",
        "(6227) 160064,[OrderedDict([(u'title', u'Test 2'), (u'start', datetime.datetime(2013, 8, 1, 19, 0)), (u'id', 160064)])]"
       ]
      },
      {
       "output_type": "stream",
       "stream": "stdout",
       "text": [
        "\n",
        "(6226) 159898,[OrderedDict([(u'title', u'CF.C Recruiting Chat #3'), (u'start', datetime.datetime(2013, 8, 1, 18, 0, 47)), (u'id', 159898)])]"
       ]
      },
      {
       "output_type": "stream",
       "stream": "stdout",
       "text": [
        "\n",
        "(6226) 159785,[OrderedDict([(u'title', u'Naturv\\xe4ktarnas bildblogg 1.8.2013'), (u'start', datetime.datetime(2013, 8, 1, 17, 17, 33)), (u'id', 159785)])]"
       ]
      },
      {
       "output_type": "stream",
       "stream": "stdout",
       "text": [
        "\n",
        "(6228) 159750,[OrderedDict([(u'title', u'Live coverage: Police press conference - Body found in UEA lake'), (u'start', datetime.datetime(2013, 8, 1, 17, 3, 7)), (u'id', 159750)])]"
       ]
      },
      {
       "output_type": "stream",
       "stream": "stdout",
       "text": [
        "\n",
        "(6227) 159695,[OrderedDict([(u'title', u'2013 USPGA Championship'), (u'start', datetime.datetime(2013, 8, 8, 10, 53, 37)), (u'id', 159695)])]"
       ]
      },
      {
       "output_type": "stream",
       "stream": "stdout",
       "text": [
        "\n",
        "(6226) 159651,[OrderedDict([(u'title', u'P-LSC-NL-20130731-LC-Slask Wroclaw - Club Brugge (Speeldag 1)'), (u'start', datetime.datetime(2013, 7, 31, 0, 0)), (u'id', 159651)])]"
       ]
      },
      {
       "output_type": "stream",
       "stream": "stdout",
       "text": [
        "\n",
        "(6225) 159612,[OrderedDict([(u'title', u'Sammy Yatim funeral'), (u'start', datetime.datetime(2013, 8, 1, 15, 57, 54)), (u'id', 159612)])]"
       ]
      },
      {
       "output_type": "stream",
       "stream": "stdout",
       "text": [
        "\n",
        "(6226) 159480,[OrderedDict([(u'title', u'Skoda Xanthi - Standard de Li\\xe8ge'), (u'start', datetime.datetime(2013, 8, 1, 19, 21, 58)), (u'id', 159480)])]"
       ]
      },
      {
       "output_type": "stream",
       "stream": "stdout",
       "text": [
        "\n",
        "(6227) 159372,[OrderedDict([(u'title', u'test for email notifier'), (u'start', datetime.datetime(2013, 8, 7, 11, 8, 32)), (u'id', 159372)])]"
       ]
      },
      {
       "output_type": "stream",
       "stream": "stdout",
       "text": [
        "\n",
        "(6226) 158980,[OrderedDict([(u'title', u'OLYMPIACOS.ORG: \\u0392\\u0391\\u039b\\u0395\\u039d\\u0398\\u0399\\u0391 - \\u039f\\u039b\\u03a5\\u039c\\u03a0\\u0399\\u0391\\u039a\\u039f\\u03a3'), (u'start', datetime.datetime(2013, 8, 10, 17, 0)), (u'id', 158980)])]"
       ]
      },
      {
       "output_type": "stream",
       "stream": "stdout",
       "text": [
        "\n",
        "(6225) 158979,[OrderedDict([(u'title', u'OLYMPIACOS.ORG: \\u039f\\u039b\\u03a5\\u039c\\u03a0\\u0399\\u0391\\u039a\\u039f\\u03a3 - \\u0391\\u039d\\u03a4\\u0395\\u03a1\\u039b\\u0395\\u03a7\\u03a4'), (u'start', datetime.datetime(2013, 8, 7, 18, 0)), (u'id', 158979)])]"
       ]
      },
      {
       "output_type": "stream",
       "stream": "stdout",
       "text": [
        "\n",
        "(6225) 158970,[OrderedDict([(u'title', u'Test lm'), (u'start', datetime.datetime(2013, 8, 1, 7, 6)), (u'id', 158970)])]"
       ]
      },
      {
       "output_type": "stream",
       "stream": "stdout",
       "text": [
        "\n",
        "(6227) 158846,[OrderedDict([(u'title', u'pope dead'), (u'start', datetime.datetime(2013, 7, 31, 20, 4, 24)), (u'id', 158846)])]"
       ]
      },
      {
       "output_type": "stream",
       "stream": "stdout",
       "text": [
        "\n",
        "(6227) 158820,[OrderedDict([(u'title', u'CF.C Chat'), (u'start', datetime.datetime(2013, 7, 31, 20, 58, 18)), (u'id', 158820)])]"
       ]
      },
      {
       "output_type": "stream",
       "stream": "stdout",
       "text": [
        "\n",
        "(6228) 158736,[OrderedDict([(u'title', u'Jimenez-Acosta sentencing hearing'), (u'start', datetime.datetime(2013, 7, 31, 16, 15, 55)), (u'id', 158736)])]"
       ]
      },
      {
       "output_type": "stream",
       "stream": "stdout",
       "text": [
        "\n",
        "(6229) 158625,[OrderedDict([(u'title', u'Helene Fischer - Das Sommer-Open-Air 2013'), (u'start', datetime.datetime(2013, 8, 10, 19, 30, 28)), (u'id', 158625)])]"
       ]
      },
      {
       "output_type": "stream",
       "stream": "stdout",
       "text": [
        "\n",
        "(6228) 158621,[OrderedDict([(u'title', u'Chat avec R\\xe9gine Salens'), (u'start', datetime.datetime(2013, 7, 31, 11, 18, 9)), (u'id', 158621)])]"
       ]
      },
      {
       "output_type": "stream",
       "stream": "stdout",
       "text": [
        "\n",
        "(6229) 158238,[OrderedDict([(u'title', u\"VIDEO: Southern gentleman in 'Frack the North' claim\"), (u'start', datetime.datetime(2013, 7, 30, 18, 15)), (u'id', 158238)])]"
       ]
      },
      {
       "output_type": "stream",
       "stream": "stdout",
       "text": [
        "\n",
        "(6228) 158043,[OrderedDict([(u'title', u'Test-Event zur freien Nutzung'), (u'start', datetime.datetime(2013, 7, 30, 13, 0)), (u'id', 158043)])]"
       ]
      },
      {
       "output_type": "stream",
       "stream": "stdout",
       "text": [
        "\n",
        "(6228) 157998,[OrderedDict([(u'title', u'News sport Test'), (u'start', datetime.datetime(2013, 7, 30, 11, 30, 5)), (u'id', 157998)])]"
       ]
      },
      {
       "output_type": "stream",
       "stream": "stdout",
       "text": [
        "\n",
        "(6227) 157943,[OrderedDict([(u'title', u'WOOP.GR: \\u03a0\\u0391\\u039f\\u039a - \\u039c\\u0395\\u03a4\\u0391\\u039b\\u0399\\u03a3\\u03a4'), (u'start', datetime.datetime(2013, 7, 30, 19, 7, 56)), (u'id', 157943)])]"
       ]
      },
      {
       "output_type": "stream",
       "stream": "stdout",
       "text": [
        "\n",
        "(6226) 157927,[OrderedDict([(u'title', u'Live chat No. 5 summer 2013'), (u'start', datetime.datetime(2013, 7, 30, 4, 0)), (u'id', 157927)])]"
       ]
      },
      {
       "output_type": "stream",
       "stream": "stdout",
       "text": [
        "\n",
        "(6227) 157924,[OrderedDict([(u'title', u'Serie Final BSN: sexto juego Piratas vs. Leones'), (u'start', datetime.datetime(2013, 7, 30, 2, 30)), (u'id', 157924)])]"
       ]
      },
      {
       "output_type": "stream",
       "stream": "stdout",
       "text": [
        "\n",
        "(6227) 157914,[OrderedDict([(u'title', u'High Speed Chase'), (u'start', datetime.datetime(2013, 7, 29, 23, 58, 30)), (u'id', 157914)])]"
       ]
      },
      {
       "output_type": "stream",
       "stream": "stdout",
       "text": [
        "\n",
        "(6226) 157820,[OrderedDict([(u'title', u'P-LSC-NL-20130729-LC-PSV - Zulte Waregem (Speeldag 1)'), (u'start', datetime.datetime(2013, 7, 30, 17, 24, 8)), (u'id', 157820)])]"
       ]
      },
      {
       "output_type": "stream",
       "stream": "stdout",
       "text": [
        "\n",
        "(6226) 157787,[OrderedDict([(u'title', u'CU Buffs football chat with Kyle Ringo (July 29)'), (u'start', datetime.datetime(2013, 7, 29, 19, 52)), (u'id', 157787)])]"
       ]
      },
      {
       "output_type": "stream",
       "stream": "stdout",
       "text": [
        "\n",
        "(6226) 157699,[OrderedDict([(u'title', u'LIVEBROK: EfB-AaB'), (u'start', datetime.datetime(2013, 7, 29, 18, 15, 39)), (u'id', 157699)])]"
       ]
      },
      {
       "output_type": "stream",
       "stream": "stdout",
       "text": [
        "\n",
        "(6225) 157600,[OrderedDict([(u'title', u'scribbletest'), (u'start', datetime.datetime(2013, 7, 29, 16, 13, 46)), (u'id', 157600)])]"
       ]
      },
      {
       "output_type": "stream",
       "stream": "stdout",
       "text": [
        "\n",
        "(6228) 157568,[OrderedDict([(u'title', u'Live coverage of Chicago Bears training camp'), (u'start', datetime.datetime(2013, 7, 29, 15, 0)), (u'id', 157568)])]"
       ]
      },
      {
       "output_type": "stream",
       "stream": "stdout",
       "text": [
        "\n",
        "(6228) 168071,[OrderedDict([(u'title', u'Mercato 12 ao\\xfbt'), (u'start', datetime.datetime(2013, 8, 12, 10, 36, 45)), (u'id', 168071)])]"
       ]
      },
      {
       "output_type": "stream",
       "stream": "stdout",
       "text": [
        "\n",
        "(6228) 157561,[OrderedDict([(u'title', u'Former Penn State officials ordered to trial'), (u'start', datetime.datetime(2013, 7, 30, 14, 0)), (u'id', 157561)])]"
       ]
      },
      {
       "output_type": "stream",
       "stream": "stdout",
       "text": [
        "\n",
        "(6228) 157478,[OrderedDict([(u'title', u'The F365 Transfer Blog - Monday July 29'), (u'start', datetime.datetime(2013, 7, 29, 9, 17, 49)), (u'id', 157478)])]"
       ]
      },
      {
       "output_type": "stream",
       "stream": "stdout",
       "text": [
        "\n",
        "(6228) 157465,[OrderedDict([(u'title', u'tester blog'), (u'start', datetime.datetime(2013, 7, 29, 7, 18, 50)), (u'id', 157465)])]"
       ]
      },
      {
       "output_type": "stream",
       "stream": "stdout",
       "text": [
        "\n",
        "(6228) 157292,[OrderedDict([(u'title', u'MINUTO A MINUTO: La Fiesta de la Patria'), (u'start', datetime.datetime(2013, 7, 28, 13, 59, 7)), (u'id', 157292)])]"
       ]
      },
      {
       "output_type": "stream",
       "stream": "stdout",
       "text": [
        "\n",
        "(6227) 157012,[OrderedDict([(u'title', u'looking for work'), (u'start', datetime.datetime(2013, 7, 27, 14, 52, 15)), (u'id', 157012)])]"
       ]
      },
      {
       "output_type": "stream",
       "stream": "stdout",
       "text": [
        "\n",
        "(6228) 157005,[OrderedDict([(u'title', u'NFC east twitter 7-27'), (u'start', datetime.datetime(2013, 7, 27, 14, 40, 2)), (u'id', 157005)])]"
       ]
      },
      {
       "output_type": "stream",
       "stream": "stdout",
       "text": [
        "\n",
        "(6228) 156902,[OrderedDict([(u'title', u\"Lowestoft Town v King's Lynn\"), (u'start', datetime.datetime(2013, 7, 27, 10, 39, 46)), (u'id', 156902)])]"
       ]
      },
      {
       "output_type": "stream",
       "stream": "stdout",
       "text": [
        "\n",
        "(6227) 156814,[OrderedDict([(u'title', u'test2 sachin'), (u'start', datetime.datetime(2013, 7, 27, 8, 1, 50)), (u'id', 156814)])]"
       ]
      },
      {
       "output_type": "stream",
       "stream": "stdout",
       "text": [
        "\n",
        "(6228) 156795,[OrderedDict([(u'title', u'Test for iPod'), (u'start', datetime.datetime(2013, 7, 27, 0, 24, 51)), (u'id', 156795)])]"
       ]
      },
      {
       "output_type": "stream",
       "stream": "stdout",
       "text": [
        "\n",
        "(6230) 156658,[OrderedDict([(u'title', u'Emergency Urban Issues Summit'), (u'start', datetime.datetime(2013, 7, 26, 19, 46, 38)), (u'id', 156658)])]"
       ]
      },
      {
       "output_type": "stream",
       "stream": "stdout",
       "text": [
        "\n",
        "(6230) 156584,[OrderedDict([(u'title', u'corelio test event'), (u'start', datetime.datetime(2013, 7, 26, 16, 59, 22)), (u'id', 156584)])]"
       ]
      },
      {
       "output_type": "stream",
       "stream": "stdout",
       "text": [
        "\n",
        "(6230) 156555,[OrderedDict([(u'title', u'Stephanie Miller Live Chat - 8/02'), (u'start', datetime.datetime(2013, 8, 2, 14, 45)), (u'id', 156555)])]"
       ]
      },
      {
       "output_type": "stream",
       "stream": "stdout",
       "text": [
        "\n",
        "(6230) 156540,[OrderedDict([(u'title', u'test2 sachin'), (u'start', datetime.datetime(2013, 7, 26, 15, 46, 15)), (u'id', 156540)])]"
       ]
      },
      {
       "output_type": "stream",
       "stream": "stdout",
       "text": [
        "\n",
        "(6231) 156536,[OrderedDict([(u'title', u'Bill Press Live Chat - 8/02'), (u'start', datetime.datetime(2013, 8, 2, 11, 30)), (u'id', 156536)])]"
       ]
      },
      {
       "output_type": "stream",
       "stream": "stdout",
       "text": [
        "\n",
        "(6231) 156439,[OrderedDict([(u'title', u'P-LSC-NL-20130726-LC-Racing Genk - Oostende (Speeldag 1)'), (u'start', datetime.datetime(2013, 7, 27, 16, 51, 16)), (u'id', 156439)])]"
       ]
      },
      {
       "output_type": "stream",
       "stream": "stdout",
       "text": [
        "\n",
        "(6231) 156402,[OrderedDict([(u'title', u'A-LSC-FR-20130725-LC-Club Brugeois - Charleroi (Journ\\xe9e 1)'), (u'start', datetime.datetime(2013, 7, 25, 0, 0)), (u'id', 156402)])]"
       ]
      },
      {
       "output_type": "stream",
       "stream": "stdout",
       "text": [
        "\n",
        "(6230) 156393,[OrderedDict([(u'title', u'Friday football action - LIVE match updates'), (u'start', datetime.datetime(2013, 7, 26, 19, 30)), (u'id', 156393)])]"
       ]
      },
      {
       "output_type": "stream",
       "stream": "stdout",
       "text": [
        "\n",
        "(6230) 156377,[OrderedDict([(u'title', u'The F365 Transfer Blog - Friday July 26'), (u'start', datetime.datetime(2013, 7, 26, 9, 19, 48)), (u'id', 156377)])]"
       ]
      },
      {
       "output_type": "stream",
       "stream": "stdout",
       "text": [
        "\n",
        "(6229) 156373,[OrderedDict([(u'title', u'Zimbabwe v India, 2nd ODI, Harare'), (u'start', datetime.datetime(2013, 7, 26, 8, 18, 18)), (u'id', 156373)])]"
       ]
      },
      {
       "output_type": "stream",
       "stream": "stdout",
       "text": [
        "\n",
        "(6230) 156346,[OrderedDict([(u'title', u'Testing Chrome'), (u'start', datetime.datetime(2013, 7, 26, 20, 23, 52)), (u'id', 156346)])]"
       ]
      },
      {
       "output_type": "stream",
       "stream": "stdout",
       "text": [
        "\n",
        "(6231) 156294,[OrderedDict([(u'title', u'Bieber at the ACC'), (u'start', datetime.datetime(2013, 7, 26, 0, 46, 56)), (u'id', 156294)])]"
       ]
      },
      {
       "output_type": "stream",
       "stream": "stdout",
       "text": [
        "\n",
        "(6230) 156279,[OrderedDict([(u'title', u'Test'), (u'start', datetime.datetime(2013, 7, 26, 0, 18, 12)), (u'id', 156279)])]"
       ]
      },
      {
       "output_type": "stream",
       "stream": "stdout",
       "text": [
        "\n",
        "(6231) 156260,[OrderedDict([(u'title', u'Serie Final BSN: Leones de Ponce vs Piratas de Quebradillas'), (u'start', datetime.datetime(2013, 7, 26, 0, 30)), (u'id', 156260)])]"
       ]
      },
      {
       "output_type": "stream",
       "stream": "stdout",
       "text": [
        "\n",
        "(6231) 156031,[OrderedDict([(u'title', u'7-26-13: York Revs vs. Sugar Land Skeeters'), (u'start', datetime.datetime(2013, 7, 27, 0, 0)), (u'id', 156031)])]"
       ]
      },
      {
       "output_type": "stream",
       "stream": "stdout",
       "text": [
        "\n",
        "(6232) 155895,[OrderedDict([(u'title', u'P-LSC-FR-20130724-UC-Standard Li\\xe8ge - KR (Journ\\xe9e 2)'), (u'start', datetime.datetime(2013, 7, 24, 20, 0)), (u'id', 155895)])]"
       ]
      },
      {
       "output_type": "stream",
       "stream": "stdout",
       "text": [
        "\n",
        "(6233) 178612,[OrderedDict([(u'title', u'Naturv\\xe4ktarna den 22 augusti'), (u'start', datetime.datetime(2013, 8, 22, 18, 13, 18)), (u'id', 178612)])]"
       ]
      },
      {
       "output_type": "stream",
       "stream": "stdout",
       "text": [
        "\n",
        "(6232) 155894,[OrderedDict([(u'title', u'P-LSC-FR-20130724-LC-Standard Li\\xe8ge - KR (Journ\\xe9e 2)'), (u'start', datetime.datetime(2013, 7, 24, 20, 0)), (u'id', 155894)])]"
       ]
      },
      {
       "output_type": "stream",
       "stream": "stdout",
       "text": [
        "\n",
        "(6232) 155892,[OrderedDict([(u'title', u'LIVE: Halifax Pride Parade'), (u'start', datetime.datetime(2013, 7, 27, 18, 0)), (u'id', 155892)])]"
       ]
      },
      {
       "output_type": "stream",
       "stream": "stdout",
       "text": [
        "\n",
        "(6233) 155824,[OrderedDict([(u'title', u'TT Live: EM-final'), (u'start', datetime.datetime(2013, 7, 28, 15, 30)), (u'id', 155824)])]"
       ]
      },
      {
       "output_type": "stream",
       "stream": "stdout",
       "text": [
        "\n",
        "(6233) 155789,[OrderedDict([(u'title', u'RBC Canadian Open - Round 1'), (u'start', datetime.datetime(2013, 7, 25, 17, 12, 25)), (u'id', 155789)])]"
       ]
      },
      {
       "output_type": "stream",
       "stream": "stdout",
       "text": [
        "\n",
        "(6232) 155516,[OrderedDict([(u'title', u'Pas de midi sans info - 25 juillet 2013'), (u'start', datetime.datetime(2013, 7, 25, 14, 15)), (u'id', 155516)])]"
       ]
      },
      {
       "output_type": "stream",
       "stream": "stdout",
       "text": [
        "\n",
        "(6233) 155480,[OrderedDict([(u'title', u'test3'), (u'start', datetime.datetime(2013, 7, 25, 11, 30)), (u'id', 155480)])]"
       ]
      },
      {
       "output_type": "stream",
       "stream": "stdout",
       "text": [
        "\n",
        "(6232) 155316,[OrderedDict([(u'title', u'Newsroom meeting for July 24'), (u'start', datetime.datetime(2013, 7, 24, 21, 37, 53)), (u'id', 155316)])]"
       ]
      },
      {
       "output_type": "stream",
       "stream": "stdout",
       "text": [
        "\n",
        "(6231) 155263,[OrderedDict([(u'title', u'Juramentaci\\xf3n de nuevos ministros'), (u'start', datetime.datetime(2013, 7, 24, 18, 45)), (u'id', 155263)])]"
       ]
      },
      {
       "output_type": "stream",
       "stream": "stdout",
       "text": [
        "\n",
        "(6230) 155135,[OrderedDict([(u'title', u'Ihr Vormittag, 25.07.2013'), (u'start', datetime.datetime(2013, 7, 25, 10, 0)), (u'id', 155135)])]"
       ]
      },
      {
       "output_type": "stream",
       "stream": "stdout",
       "text": [
        "\n",
        "(6230) 155116,[OrderedDict([(u'title', u'TEST LOCAL WORLD'), (u'start', datetime.datetime(2013, 8, 22, 16, 55, 32)), (u'id', 155116)])]"
       ]
      },
      {
       "output_type": "stream",
       "stream": "stdout",
       "text": [
        "\n",
        "(6229) 155110,[OrderedDict([(u'title', u'ARVAMUSFESTIVAL - LUGEJATE KOMMENTAARID'), (u'start', datetime.datetime(2013, 7, 23, 23, 0)), (u'id', 155110)])]"
       ]
      },
      {
       "output_type": "stream",
       "stream": "stdout",
       "text": [
        "\n",
        "(6230) 155094,[OrderedDict([(u'title', u\"What's happening at the York County commissioners' meeting?\"), (u'start', datetime.datetime(2013, 7, 24, 15, 3, 55)), (u'id', 155094)])]"
       ]
      },
      {
       "output_type": "stream",
       "stream": "stdout",
       "text": [
        "\n",
        "(6231) 154913,[OrderedDict([(u'title', u'The F365 Transfer Blog - Wednesday July 24'), (u'start', datetime.datetime(2013, 7, 24, 9, 22, 7)), (u'id', 154913)])]"
       ]
      },
      {
       "output_type": "stream",
       "stream": "stdout",
       "text": [
        "\n",
        "(6231) 154881,[OrderedDict([(u'title', u'News conference on levee authority lawsuit against oil and gas companies for coastal loss'), (u'start', datetime.datetime(2013, 7, 24, 18, 48, 39)), (u'id', 154881)])]"
       ]
      },
      {
       "output_type": "stream",
       "stream": "stdout",
       "text": [
        "\n",
        "(6230) 154863,[OrderedDict([(u'title', u\"Live blog: Federal court hearing on Sheriff Marlin Gusman's budget\"), (u'start', datetime.datetime(2013, 7, 24, 15, 15)), (u'id', 154863)])]"
       ]
      },
      {
       "output_type": "stream",
       "stream": "stdout",
       "text": [
        "\n",
        "(6230) 154857,[OrderedDict([(u'title', u'Prince of Cambrdge sets social media alight'), (u'start', datetime.datetime(2013, 7, 24, 0, 0)), (u'id', 154857)])]"
       ]
      },
      {
       "output_type": "stream",
       "stream": "stdout",
       "text": [
        "\n",
        "(6230) 154855,[OrderedDict([(u'title', u'Live chat: Jackie Thomas'), (u'start', datetime.datetime(2013, 7, 23, 23, 54, 3)), (u'id', 154855)])]"
       ]
      },
      {
       "output_type": "stream",
       "stream": "stdout",
       "text": [
        "\n",
        "(6232) 154845,[OrderedDict([(u'title', u'asdgf'), (u'start', datetime.datetime(2013, 7, 23, 23, 5, 19)), (u'id', 154845)])]"
       ]
      },
      {
       "output_type": "stream",
       "stream": "stdout",
       "text": [
        "\n",
        "(6232) 154837,[OrderedDict([(u'title', u'Paul McCartney en direct sur les Plaines - 23 juillet 2013'), (u'start', datetime.datetime(2013, 7, 23, 14, 30)), (u'id', 154837)])]"
       ]
      },
      {
       "output_type": "stream",
       "stream": "stdout",
       "text": [
        "\n",
        "(6232) 154662,[OrderedDict([(u'title', u'Words of encouragement for Mack A. Simpreux'), (u'start', datetime.datetime(2013, 7, 23, 22, 42, 8)), (u'id', 154662)])]"
       ]
      },
      {
       "output_type": "stream",
       "stream": "stdout",
       "text": [
        "\n",
        "(6232) 154414,[OrderedDict([(u'title', u'Anglia Square premiere of Alan Partridge: Alpha Papa'), (u'start', datetime.datetime(2013, 7, 24, 10, 28, 40)), (u'id', 154414)])]"
       ]
      },
      {
       "output_type": "stream",
       "stream": "stdout",
       "text": [
        "\n",
        "(6233) 154057,[OrderedDict([(u'title', u'LIVE: Her er den nye royale baby'), (u'start', datetime.datetime(2013, 7, 23, 9, 51, 48)), (u'id', 154057)])]"
       ]
      },
      {
       "output_type": "stream",
       "stream": "stdout",
       "text": [
        "\n",
        "(6234) 153666,[OrderedDict([(u'title', u'Newsroom meeting for July 22, 2013'), (u'start', datetime.datetime(2013, 7, 22, 20, 5, 26)), (u'id', 153666)])]"
       ]
      },
      {
       "output_type": "stream",
       "stream": "stdout",
       "text": [
        "\n",
        "(6236) 153656,[OrderedDict([(u'title', u'CU Buffs football chat with Kyle Ringo (July 22)'), (u'start', datetime.datetime(2013, 7, 22, 19, 49, 19)), (u'id', 153656)])]"
       ]
      },
      {
       "output_type": "stream",
       "stream": "stdout",
       "text": [
        "\n",
        "(6236) 153519,[OrderedDict([(u'title', u'Futbol Picante nueva edici\\xf3n'), (u'start', datetime.datetime(2013, 7, 22, 19, 0)), (u'id', 153519)])]"
       ]
      },
      {
       "output_type": "stream",
       "stream": "stdout",
       "text": [
        "\n",
        "(6236) 153465,[OrderedDict([(u'title', u'Big 12 Media Days'), (u'start', datetime.datetime(2013, 7, 23, 15, 58, 40)), (u'id', 153465)])]"
       ]
      },
      {
       "output_type": "stream",
       "stream": "stdout",
       "text": [
        "\n",
        "(6238) 153453,[OrderedDict([(u'title', u'Promotional URL'), (u'start', datetime.datetime(2013, 7, 22, 16, 0)), (u'id', 153453)])]"
       ]
      },
      {
       "output_type": "stream",
       "stream": "stdout",
       "text": [
        "\n",
        "(6238) 153227,[OrderedDict([(u'title', u'P-LSC-NL-20130905-LC-Memorial Van Damme'), (u'start', datetime.datetime(2013, 7, 22, 12, 56, 1)), (u'id', 153227)])]"
       ]
      },
      {
       "output_type": "stream",
       "stream": "stdout",
       "text": [
        "\n",
        "(6237) 153224,[OrderedDict([(u'title', u'P-LSC-NL-20130725-LC-Club Brugge - Charleroi (Speeldag 1)'), (u'start', datetime.datetime(2013, 8, 7, 17, 49, 55)), (u'id', 153224)])]"
       ]
      },
      {
       "output_type": "stream",
       "stream": "stdout",
       "text": [
        "\n",
        "(6237) 153021,[OrderedDict([(u'title', u'PSG: discutez avec un de nos journalistes'), (u'start', datetime.datetime(2013, 7, 21, 23, 38, 23)), (u'id', 153021)])]"
       ]
      },
      {
       "output_type": "stream",
       "stream": "stdout",
       "text": [
        "\n",
        "(6239) 152199,[OrderedDict([(u'title', u'Red Bull U.S. Grand Prix'), (u'start', datetime.datetime(2013, 7, 21, 3, 59, 3)), (u'id', 152199)])]"
       ]
      },
      {
       "output_type": "stream",
       "stream": "stdout",
       "text": [
        "\n",
        "(6240) 152189,[OrderedDict([(u'title', u'francofolies de spa 2013'), (u'start', datetime.datetime(2013, 7, 21, 14, 41, 15)), (u'id', 152189)])]"
       ]
      },
      {
       "output_type": "stream",
       "stream": "stdout",
       "text": [
        "\n",
        "(6239) 175325,[OrderedDict([(u'title', u'The Norwich City Debate - Monday, August 19'), (u'start', datetime.datetime(2013, 8, 19, 14, 1, 34)), (u'id', 175325)])]"
       ]
      },
      {
       "output_type": "stream",
       "stream": "stdout",
       "text": [
        "\n",
        "(6239) 151303,[OrderedDict([(u'title', u'Ontario storm'), (u'start', datetime.datetime(2013, 7, 20, 1, 11, 40)), (u'id', 151303)])]"
       ]
      },
      {
       "output_type": "stream",
       "stream": "stdout",
       "text": [
        "\n",
        "(6241) 151260,[OrderedDict([(u'title', u'Anka Turk'), (u'start', datetime.datetime(2013, 7, 23, 6, 0)), (u'id', 151260)])]"
       ]
      },
      {
       "output_type": "stream",
       "stream": "stdout",
       "text": [
        "\n",
        "(6242) 150799,[OrderedDict([(u'title', u'Brantford gas prices'), (u'start', datetime.datetime(2013, 7, 19, 17, 15)), (u'id', 150799)])]"
       ]
      },
      {
       "output_type": "stream",
       "stream": "stdout",
       "text": [
        "\n",
        "(6242) 150677,[OrderedDict([(u'title', u'BT chat med kyllingen 20. juli'), (u'start', datetime.datetime(2013, 7, 20, 7, 32, 12)), (u'id', 150677)])]"
       ]
      },
      {
       "output_type": "stream",
       "stream": "stdout",
       "text": [
        "\n",
        "(6241) 150569,[OrderedDict([(u'title', u'Live updates: Little League Softball Western Regional in San Bernardino'), (u'start', datetime.datetime(2013, 7, 26, 16, 0)), (u'id', 150569)])]"
       ]
      },
      {
       "output_type": "stream",
       "stream": "stdout",
       "text": [
        "\n",
        "(6241) 150411,[OrderedDict([(u'title', u'Tour de France stage 19 Live'), (u'start', datetime.datetime(2013, 7, 19, 15, 9, 40)), (u'id', 150411)])]"
       ]
      },
      {
       "output_type": "stream",
       "stream": "stdout",
       "text": [
        "\n",
        "(6240) 150374,[OrderedDict([(u'title', u'live streaming ON THE SITE!'), (u'start', datetime.datetime(2013, 7, 19, 14, 57, 43)), (u'id', 150374)])]"
       ]
      },
      {
       "output_type": "stream",
       "stream": "stdout",
       "text": [
        "\n",
        "(6241) 150368,[OrderedDict([(u'title', u'test2'), (u'start', datetime.datetime(2013, 7, 19, 14, 55, 38)), (u'id', 150368)])]"
       ]
      },
      {
       "output_type": "stream",
       "stream": "stdout",
       "text": [
        "\n",
        "(6240) 179428,[OrderedDict([(u'title', u'RUNDE 6 OB - FC NORDSJ\\xc6LLAND'), (u'start', datetime.datetime(2013, 8, 23, 12, 58, 5)), (u'id', 179428)])]"
       ]
      },
      {
       "output_type": "stream",
       "stream": "stdout",
       "text": [
        "\n",
        "(6241) 150327,[OrderedDict([(u'title', u'Test'), (u'start', datetime.datetime(2013, 7, 24, 20, 0)), (u'id', 150327)])]"
       ]
      },
      {
       "output_type": "stream",
       "stream": "stdout",
       "text": [
        "\n",
        "(6240) 155430,[OrderedDict([(u'title', u'The F365 Transfer Blog - Thursday July 25'), (u'start', datetime.datetime(2013, 7, 25, 9, 16, 6)), (u'id', 155430)])]"
       ]
      },
      {
       "output_type": "stream",
       "stream": "stdout",
       "text": [
        "\n",
        "(6240) 149959,[OrderedDict([(u'title', u'BT chat med kyllingen 19. juli'), (u'start', datetime.datetime(2013, 7, 19, 14, 55, 51)), (u'id', 149959)])]"
       ]
      },
      {
       "output_type": "stream",
       "stream": "stdout",
       "text": [
        "\n",
        "(6241) 149892,[OrderedDict([(u'title', u'Die Raver erobern Z\\xfcrich'), (u'start', datetime.datetime(2013, 8, 10, 12, 0)), (u'id', 149892)])]"
       ]
      },
      {
       "output_type": "stream",
       "stream": "stdout",
       "text": [
        "\n",
        "(6242) 149865,[OrderedDict([(u'title', u'Bundespressekonferenz mit Kanzlerin Merkel'), (u'start', datetime.datetime(2013, 7, 19, 9, 2, 24)), (u'id', 149865)])]"
       ]
      },
      {
       "output_type": "stream",
       "stream": "stdout",
       "text": [
        "\n",
        "(6241) 149864,[OrderedDict([(u'title', u'Contempopranea 2013 Viernes'), (u'start', datetime.datetime(2013, 7, 19, 21, 0)), (u'id', 149864)])]"
       ]
      },
      {
       "output_type": "stream",
       "stream": "stdout",
       "text": [
        "\n",
        "(6241) 149832,[OrderedDict([(u'title', u'Minnemarkering etter 22. juli'), (u'start', datetime.datetime(2013, 7, 22, 12, 24, 37)), (u'id', 149832)])]"
       ]
      },
      {
       "output_type": "stream",
       "stream": "stdout",
       "text": [
        "\n",
        "(6241) 149814,[OrderedDict([(u'title', u'Quake reactions: 19 July 2013'), (u'start', datetime.datetime(2013, 7, 19, 0, 23, 24)), (u'id', 149814)])]"
       ]
      },
      {
       "output_type": "stream",
       "stream": "stdout",
       "text": [
        "\n",
        "(6242) 149501,[OrderedDict([(u'title', u'Halifax Public Gardens street vendors'), (u'start', datetime.datetime(2013, 7, 21, 22, 11, 38)), (u'id', 149501)])]"
       ]
      },
      {
       "output_type": "stream",
       "stream": "stdout",
       "text": [
        "\n",
        "(6242) 149338,[OrderedDict([(u'title', u'Live chat No. 2 summer 2013'), (u'start', datetime.datetime(2013, 7, 18, 17, 0)), (u'id', 149338)])]"
       ]
      },
      {
       "output_type": "stream",
       "stream": "stdout",
       "text": [
        "\n",
        "(6241) 149326,[OrderedDict([(u'title', u\"L'Europa League en direct\"), (u'start', datetime.datetime(2013, 7, 18, 16, 28, 1)), (u'id', 149326)])]"
       ]
      },
      {
       "output_type": "stream",
       "stream": "stdout",
       "text": [
        "\n",
        "(6240) 149164,[OrderedDict([(u'title', u'British Open - Round 1'), (u'start', datetime.datetime(2013, 7, 18, 15, 15, 11)), (u'id', 149164)])]"
       ]
      },
      {
       "output_type": "stream",
       "stream": "stdout",
       "text": [
        "\n",
        "(6239) 149150,[OrderedDict([(u'title', u'Emmys Chat'), (u'start', datetime.datetime(2013, 7, 18, 15, 6, 17)), (u'id', 149150)])]"
       ]
      },
      {
       "output_type": "stream",
       "stream": "stdout",
       "text": [
        "\n",
        "(6238) 149111,[OrderedDict([(u'title', u'P-LSC-FR-20130710-UC-Vojvodina Novi Sad - Hibernians (Journ\\xe9e 2)'), (u'start', datetime.datetime(2013, 7, 10, 0, 0)), (u'id', 149111)])]"
       ]
      },
      {
       "output_type": "stream",
       "stream": "stdout",
       "text": [
        "\n",
        "(6237) 149035,[OrderedDict([(u'title', u'Latitude 2013'), (u'start', datetime.datetime(2013, 7, 19, 11, 30)), (u'id', 149035)])]"
       ]
      },
      {
       "output_type": "stream",
       "stream": "stdout",
       "text": [
        "\n",
        "(6236) 149020,[OrderedDict([(u'title', u'Expertenrunde 20.7.13'), (u'start', datetime.datetime(2013, 7, 20, 9, 36, 46)), (u'id', 149020)])]"
       ]
      },
      {
       "output_type": "stream",
       "stream": "stdout",
       "text": [
        "\n",
        "(6236) 148764,[OrderedDict([(u'title', u'Mercato 18 juillet'), (u'start', datetime.datetime(2013, 7, 18, 10, 31, 20)), (u'id', 148764)])]"
       ]
      },
      {
       "output_type": "stream",
       "stream": "stdout",
       "text": [
        "\n",
        "(6235) 148726,[OrderedDict([(u'title', u'The F365 Transfer Blog - Thursday July 18'), (u'start', datetime.datetime(2013, 7, 18, 9, 29, 18)), (u'id', 148726)])]"
       ]
      },
      {
       "output_type": "stream",
       "stream": "stdout",
       "text": [
        "\n",
        "(6235) 148716,[OrderedDict([(u'title', u'BT chat med Michael Rasmussen 18. juli'), (u'start', datetime.datetime(2013, 7, 18, 12, 0)), (u'id', 148716)])]"
       ]
      },
      {
       "output_type": "stream",
       "stream": "stdout",
       "text": [
        "\n",
        "(6235) 148666,[OrderedDict([(u'title', u'The Lens discusses its reporting on standardized testing problems at New Orleans public schools'), (u'start', datetime.datetime(2013, 7, 18, 18, 15)), (u'id', 148666)])]"
       ]
      },
      {
       "output_type": "stream",
       "stream": "stdout",
       "text": [
        "\n",
        "(6235) 148634,[OrderedDict([(u'title', u'Test  Futbol Picante'), (u'start', datetime.datetime(2013, 7, 17, 22, 23, 36)), (u'id', 148634)])]"
       ]
      },
      {
       "output_type": "stream",
       "stream": "stdout",
       "text": [
        "\n",
        "(6234) 148514,[OrderedDict([(u'title', u'KT: First Trust Raw Feed'), (u'start', datetime.datetime(2013, 7, 17, 19, 16, 36)), (u'id', 148514)])]"
       ]
      },
      {
       "output_type": "stream",
       "stream": "stdout",
       "text": [
        "\n",
        "(6235) 148483,[OrderedDict([(u'title', u'Emmys Live Blog'), (u'start', datetime.datetime(2013, 7, 18, 13, 0)), (u'id', 148483)])]"
       ]
      },
      {
       "output_type": "stream",
       "stream": "stdout",
       "text": [
        "\n",
        "(6236) 148293,[OrderedDict([(u'title', u'Metra hearing'), (u'start', datetime.datetime(2013, 7, 17, 16, 33, 45)), (u'id', 148293)])]"
       ]
      },
      {
       "output_type": "stream",
       "stream": "stdout",
       "text": [
        "\n",
        "(6235) 148277,[OrderedDict([(u'title', u'Cop cooks cookies in car'), (u'start', datetime.datetime(2013, 7, 17, 16, 23, 23)), (u'id', 148277)])]"
       ]
      },
      {
       "output_type": "stream",
       "stream": "stdout",
       "text": [
        "\n",
        "(6235) 148249,[OrderedDict([(u'title', u'Tour de France Stage 17 live'), (u'start', datetime.datetime(2013, 7, 17, 15, 51, 42)), (u'id', 148249)])]"
       ]
      },
      {
       "output_type": "stream",
       "stream": "stdout",
       "text": [
        "\n",
        "(6237) 148191,[OrderedDict([(u'title', u'IG Day #4'), (u'start', datetime.datetime(2013, 7, 17, 14, 57, 34)), (u'id', 148191)])]"
       ]
      },
      {
       "output_type": "stream",
       "stream": "stdout",
       "text": [
        "\n",
        "(6239) 148019,[OrderedDict([(u'title', u'Gyllene tider'), (u'start', datetime.datetime(2013, 7, 17, 11, 59, 49)), (u'id', 148019)])]"
       ]
      },
      {
       "output_type": "stream",
       "stream": "stdout",
       "text": [
        "\n",
        "(6238) 147964,[OrderedDict([(u'title', u'Suivez le Tour de France en direct'), (u'start', datetime.datetime(2013, 7, 17, 11, 4, 10)), (u'id', 147964)])]"
       ]
      },
      {
       "output_type": "stream",
       "stream": "stdout",
       "text": [
        "\n",
        "(6241) 147858,[OrderedDict([(u'title', u'Kingston city council, July 16'), (u'start', datetime.datetime(2013, 7, 17, 1, 10, 43)), (u'id', 147858)])]"
       ]
      },
      {
       "output_type": "stream",
       "stream": "stdout",
       "text": [
        "\n",
        "(6241) 157185,[OrderedDict([(u'title', u'Statehouse Alternate 3'), (u'start', datetime.datetime(2013, 7, 28, 18, 0)), (u'id', 157185)])]"
       ]
      },
      {
       "output_type": "stream",
       "stream": "stdout",
       "text": [
        "\n",
        "(6241) 147808,[OrderedDict([(u'title', u\"KT: Horizons ETF's raw feed\"), (u'start', datetime.datetime(2013, 7, 16, 22, 21, 41)), (u'id', 147808)])]"
       ]
      },
      {
       "output_type": "stream",
       "stream": "stdout",
       "text": [
        "\n",
        "(6241) 147691,[OrderedDict([(u'title', u'Pleno extraordinario en el Ayuntamiento de Gij\\xf3n'), (u'start', datetime.datetime(2013, 7, 17, 11, 0)), (u'id', 147691)])]"
       ]
      },
      {
       "output_type": "stream",
       "stream": "stdout",
       "text": [
        "\n",
        "(6242) 147660,[OrderedDict([(u'title', u'A-LSC-FR-20130715-UC-Virton - La Louvi\\xe8re'), (u'start', datetime.datetime(2013, 7, 15, 0, 0)), (u'id', 147660)])]"
       ]
      },
      {
       "output_type": "stream",
       "stream": "stdout",
       "text": [
        "\n",
        "(6242) 157898,[OrderedDict([(u'title', u'The Road Crew'), (u'start', datetime.datetime(2013, 7, 31, 12, 0)), (u'id', 157898)])]"
       ]
      },
      {
       "output_type": "stream",
       "stream": "stdout",
       "text": [
        "\n",
        "(6241) 147544,[OrderedDict([(u'title', u'Portland Timbers v Norwich City'), (u'start', datetime.datetime(2013, 7, 25, 4, 30)), (u'id', 147544)])]"
       ]
      },
      {
       "output_type": "stream",
       "stream": "stdout",
       "text": [
        "\n",
        "(6242) 147535,[OrderedDict([(u'title', u'Francofolies de Spa en direct ce jeudi'), (u'start', datetime.datetime(2013, 7, 18, 21, 54, 13)), (u'id', 147535)])]"
       ]
      },
      {
       "output_type": "stream",
       "stream": "stdout",
       "text": [
        "\n",
        "(6241) 147521,[OrderedDict([(u'title', u'A-LSC-FR-20130715-LC-\\xc9tape 16: Vaison-la-Romaine - Gap'), (u'start', datetime.datetime(2013, 7, 15, 0, 0)), (u'id', 147521)])]"
       ]
      },
      {
       "output_type": "stream",
       "stream": "stdout",
       "text": [
        "\n",
        "(6241) 147489,[OrderedDict([(u'title', u'Best albums of 2013 (so far)'), (u'start', datetime.datetime(2013, 7, 16, 19, 30)), (u'id', 147489)])]"
       ]
      },
      {
       "output_type": "stream",
       "stream": "stdout",
       "text": [
        "\n",
        "(6242) 147432,[OrderedDict([(u'title', u'Wolves and Walsall football friendlies - live blog'), (u'start', datetime.datetime(2013, 7, 16, 19, 30)), (u'id', 147432)])]"
       ]
      },
      {
       "output_type": "stream",
       "stream": "stdout",
       "text": [
        "\n",
        "(6241) 152559,[OrderedDict([(u'title', u'Kopia av Sverige - Island direkt'), (u'start', datetime.datetime(2013, 7, 21, 13, 46, 6)), (u'id', 152559)])]"
       ]
      },
      {
       "output_type": "stream",
       "stream": "stdout",
       "text": [
        "\n",
        "(6242) 147203,[OrderedDict([(u'title', u'Ask the Expert - Sian Parry'), (u'start', datetime.datetime(2013, 7, 16, 9, 59, 26)), (u'id', 147203)])]"
       ]
      },
      {
       "output_type": "stream",
       "stream": "stdout",
       "text": [
        "\n",
        "(6242) 147173,[OrderedDict([(u'title', u'RAW FEED'), (u'start', datetime.datetime(2013, 8, 19, 20, 0)), (u'id', 147173)])]"
       ]
      },
      {
       "output_type": "stream",
       "stream": "stdout",
       "text": [
        "\n",
        "(6242) 147116,[OrderedDict([(u'title', u'test'), (u'start', datetime.datetime(2013, 7, 15, 22, 35, 27)), (u'id', 147116)])]"
       ]
      },
      {
       "output_type": "stream",
       "stream": "stdout",
       "text": [
        "\n",
        "(6242) 147115,[OrderedDict([(u'title', u'MLB Home Run Derby'), (u'start', datetime.datetime(2013, 7, 15, 22, 26, 29)), (u'id', 147115)])]"
       ]
      },
      {
       "output_type": "stream",
       "stream": "stdout",
       "text": [
        "\n",
        "(6242) 146922,[OrderedDict([(u'title', u'How to beat the summer heat'), (u'start', datetime.datetime(2013, 7, 15, 17, 30)), (u'id', 146922)])]"
       ]
      },
      {
       "output_type": "stream",
       "stream": "stdout",
       "text": [
        "\n",
        "(6241) 146838,[OrderedDict([(u'title', u'Loblaws, Shoppers presser'), (u'start', datetime.datetime(2013, 7, 15, 16, 4, 34)), (u'id', 146838)])]"
       ]
      },
      {
       "output_type": "stream",
       "stream": "stdout",
       "text": [
        "\n",
        "(6243) 146825,[OrderedDict([(u'title', u'Convention 2013 SU 25th Anniversary'), (u'start', datetime.datetime(2013, 7, 15, 15, 30)), (u'id', 146825)])]"
       ]
      },
      {
       "output_type": "stream",
       "stream": "stdout",
       "text": [
        "\n",
        "(6245) 146787,[OrderedDict([(u'title', u'A-LSC-FR-20130710-UC-FC Astra - BST Domzale (Journ\\xe9e 2)'), (u'start', datetime.datetime(2013, 7, 10, 0, 0)), (u'id', 146787)])]"
       ]
      },
      {
       "output_type": "stream",
       "stream": "stdout",
       "text": [
        "\n",
        "(6246) 146785,[OrderedDict([(u'title', u'A-LSC-FR-20130710-LC-FC Astra - BST Domzale (Journ\\xe9e 2)'), (u'start', datetime.datetime(2013, 7, 10, 0, 0)), (u'id', 146785)])]"
       ]
      },
      {
       "output_type": "stream",
       "stream": "stdout",
       "text": [
        "\n",
        "(6247) 146741,[OrderedDict([(u'title', u'Pas de midi sans info - 15 juillet 2013'), (u'start', datetime.datetime(2013, 7, 15, 14, 15)), (u'id', 146741)])]"
       ]
      },
      {
       "output_type": "stream",
       "stream": "stdout",
       "text": [
        "\n",
        "(6246) 146725,[OrderedDict([(u'title', u'Exakt - So leben wir! \"Verkehr\"'), (u'start', datetime.datetime(2013, 7, 18, 12, 29, 41)), (u'id', 146725)])]"
       ]
      },
      {
       "output_type": "stream",
       "stream": "stdout",
       "text": [
        "\n",
        "(6246) 146685,[OrderedDict([(u'title', u'The F365 Transfer Blog - Monday July 15'), (u'start', datetime.datetime(2013, 7, 15, 9, 5, 36)), (u'id', 146685)])]"
       ]
      },
      {
       "output_type": "stream",
       "stream": "stdout",
       "text": [
        "\n",
        "(6248) 145859,[OrderedDict([(u'title', u'Toronto Indy, Saturday'), (u'start', datetime.datetime(2013, 7, 13, 19, 0)), (u'id', 145859)])]"
       ]
      },
      {
       "output_type": "stream",
       "stream": "stdout",
       "text": [
        "\n",
        "(6247) 145803,[OrderedDict([(u'title', u'RUNDE 2 - FC Midtjylland\\t -\\tFC K\\xf8benhavn'), (u'start', datetime.datetime(2013, 7, 13, 15, 31, 43)), (u'id', 145803)])]"
       ]
      },
      {
       "output_type": "stream",
       "stream": "stdout",
       "text": [
        "\n",
        "(6247) 145689,[OrderedDict([(u'title', u'Tour de France - 14e \\xe9tape'), (u'start', datetime.datetime(2013, 7, 13, 14, 0)), (u'id', 145689)])]"
       ]
      },
      {
       "output_type": "stream",
       "stream": "stdout",
       "text": [
        "\n",
        "(6248) 145280,[OrderedDict([(u'title', u'Young Entrepreneurs Night in Montreal'), (u'start', datetime.datetime(2013, 7, 13, 0, 1, 36)), (u'id', 145280)])]"
       ]
      },
      {
       "output_type": "stream",
       "stream": "stdout",
       "text": [
        "\n",
        "(6247) 145173,[OrderedDict([(u'title', u'Send Us Your Travel Photos'), (u'start', datetime.datetime(2013, 8, 23, 13, 58, 47)), (u'id', 145173)])]"
       ]
      },
      {
       "output_type": "stream",
       "stream": "stdout",
       "text": [
        "\n",
        "(6246) 145042,[OrderedDict([(u'title', u'Tours - Saint-Amand-Montrond en direct'), (u'start', datetime.datetime(2013, 7, 12, 14, 14, 8)), (u'id', 145042)])]"
       ]
      },
      {
       "output_type": "stream",
       "stream": "stdout",
       "text": [
        "\n",
        "(6245) 144744,[OrderedDict([(u'title', u'Live chat: Latest on the Colorado theater shooting'), (u'start', datetime.datetime(2013, 7, 12, 18, 45)), (u'id', 144744)])]"
       ]
      },
      {
       "output_type": "stream",
       "stream": "stdout",
       "text": [
        "\n",
        "(6246) 144539,[OrderedDict([(u'title', u'App created event '), (u'start', datetime.datetime(2013, 7, 11, 17, 33, 10)), (u'id', 144539)])]"
       ]
      },
      {
       "output_type": "stream",
       "stream": "stdout",
       "text": [
        "\n",
        "(6245) 144427,[OrderedDict([(u'title', u'TestEvent-1'), (u'start', datetime.datetime(2013, 7, 11, 16, 15)), (u'id', 144427)])]"
       ]
      },
      {
       "output_type": "stream",
       "stream": "stdout",
       "text": [
        "\n",
        "(6245) 144259,[OrderedDict([(u'title', u'Greve Geral'), (u'start', datetime.datetime(2013, 7, 11, 14, 15, 58)), (u'id', 144259)])]"
       ]
      },
      {
       "output_type": "stream",
       "stream": "stdout",
       "text": [
        "\n",
        "(6245) 163606,[OrderedDict([(u'title', u'Landshold live'), (u'start', datetime.datetime(2013, 8, 6, 13, 3, 27)), (u'id', 163606)])]"
       ]
      },
      {
       "output_type": "stream",
       "stream": "stdout",
       "text": [
        "\n",
        "(6245) 153015,[OrderedDict([(u'title', u'Earthquake live chat with GNS seismologist'), (u'start', datetime.datetime(2013, 7, 29, 5, 42, 12)), (u'id', 153015)])]"
       ]
      },
      {
       "output_type": "stream",
       "stream": "stdout",
       "text": [
        "\n",
        "(6244) 144110,[OrderedDict([(u'title', u'Fotbolls-EM: Sverige-Italien'), (u'start', datetime.datetime(2013, 7, 16, 20, 0)), (u'id', 144110)])]"
       ]
      },
      {
       "output_type": "stream",
       "stream": "stdout",
       "text": [
        "\n",
        "(6243) 144086,[OrderedDict([(u'title', u'\\u0420\\u043c\\u0438'), (u'start', datetime.datetime(2013, 7, 11, 10, 22, 3)), (u'id', 144086)])]"
       ]
      },
      {
       "output_type": "stream",
       "stream": "stdout",
       "text": [
        "\n",
        "(6242) 144073,[OrderedDict([(u'title', u'Tour de France 2013 - Etappe 16'), (u'start', datetime.datetime(2013, 7, 16, 9, 45)), (u'id', 144073)])]"
       ]
      },
      {
       "output_type": "stream",
       "stream": "stdout",
       "text": [
        "\n",
        "(6242) 144056,[OrderedDict([(u'title', u'Greve geral'), (u'start', datetime.datetime(2013, 7, 11, 19, 25, 38)), (u'id', 144056)])]"
       ]
      },
      {
       "output_type": "stream",
       "stream": "stdout",
       "text": [
        "\n",
        "(6243) 144030,[OrderedDict([(u'title', u'Shuffle raw feed'), (u'start', datetime.datetime(2013, 7, 15, 16, 0, 2)), (u'id', 144030)])]"
       ]
      },
      {
       "output_type": "stream",
       "stream": "stdout",
       "text": [
        "\n",
        "(6243) 143954,[OrderedDict([(u'title', u'Experts talk about the royal baby'), (u'start', datetime.datetime(2013, 7, 10, 20, 34, 48)), (u'id', 143954)])]"
       ]
      },
      {
       "output_type": "stream",
       "stream": "stdout",
       "text": [
        "\n",
        "(6242) 143941,[OrderedDict([(u'title', u'T-Mobile Jump Event'), (u'start', datetime.datetime(2013, 7, 10, 20, 2, 29)), (u'id', 143941)])]"
       ]
      },
      {
       "output_type": "stream",
       "stream": "stdout",
       "text": [
        "\n",
        "(6243) 143789,[OrderedDict([(u'title', u'Telling Stories with Digital Tools'), (u'start', datetime.datetime(2013, 7, 10, 18, 41, 5)), (u'id', 143789)])]"
       ]
      },
      {
       "output_type": "stream",
       "stream": "stdout",
       "text": [
        "\n",
        "(6243) 143723,[OrderedDict([(u'title', u'Dzokhar Tsarnaev Arraignment'), (u'start', datetime.datetime(2013, 7, 10, 19, 36, 19)), (u'id', 143723)])]"
       ]
      },
      {
       "output_type": "stream",
       "stream": "stdout",
       "text": [
        "\n",
        "(6243) 143486,[OrderedDict([(u'title', u'Saturday football action - LIVE match updates'), (u'start', datetime.datetime(2013, 7, 13, 14, 0)), (u'id', 143486)])]"
       ]
      },
      {
       "output_type": "stream",
       "stream": "stdout",
       "text": [
        "\n",
        "(6245) 143388,[OrderedDict([(u'title', u'Pas de midi sans info - 10 juillet 2013'), (u'start', datetime.datetime(2013, 7, 10, 14, 15)), (u'id', 143388)])]"
       ]
      },
      {
       "output_type": "stream",
       "stream": "stdout",
       "text": [
        "\n",
        "(6244) 143368,[OrderedDict([(u'title', u'Openair Frauenfeld Livestream'), (u'start', datetime.datetime(2013, 7, 14, 15, 30)), (u'id', 143368)])]"
       ]
      },
      {
       "output_type": "stream",
       "stream": "stdout",
       "text": [
        "\n",
        "(6243) 143360,[OrderedDict([(u'title', u'Ashes Ticker'), (u'start', datetime.datetime(2013, 7, 10, 12, 37, 26)), (u'id', 143360)])]"
       ]
      },
      {
       "output_type": "stream",
       "stream": "stdout",
       "text": [
        "\n",
        "(6243) 143184,[OrderedDict([(u'title', u'Bay Bridge Authority discusses delay on bridge opening'), (u'start', datetime.datetime(2013, 7, 10, 19, 0)), (u'id', 143184)])]"
       ]
      },
      {
       "output_type": "stream",
       "stream": "stdout",
       "text": [
        "\n",
        "(6242) 143140,[OrderedDict([(u'title', u'Testing slideshows'), (u'start', datetime.datetime(2013, 7, 9, 22, 35, 24)), (u'id', 143140)])]"
       ]
      },
      {
       "output_type": "stream",
       "stream": "stdout",
       "text": [
        "\n",
        "(6242) 142938,[OrderedDict([(u'title', u'A-LSC-NL-20130615-LC-Etappe 4: Mersch - Luxemburg'), (u'start', datetime.datetime(2013, 6, 15, 0, 0)), (u'id', 142938)])]"
       ]
      },
      {
       "output_type": "stream",
       "stream": "stdout",
       "text": [
        "\n",
        "(6243) 142937,[OrderedDict([(u'title', u'Travel experts share road trip tips'), (u'start', datetime.datetime(2013, 7, 9, 18, 45)), (u'id', 142937)])]"
       ]
      },
      {
       "output_type": "stream",
       "stream": "stdout",
       "text": [
        "\n",
        "(6242) 142683,[OrderedDict([(u'title', u'Oxfordshire armed siege'), (u'start', datetime.datetime(2013, 7, 9, 12, 10, 20)), (u'id', 142683)])]"
       ]
      },
      {
       "output_type": "stream",
       "stream": "stdout",
       "text": [
        "\n",
        "(6242) 142670,[OrderedDict([(u'title', u'A-LSC-NL-20130708-LC-Etappe 10: Saint-Gildas-des-Bois - Saint-Malo'), (u'start', datetime.datetime(2013, 7, 8, 0, 0)), (u'id', 142670)])]"
       ]
      },
      {
       "output_type": "stream",
       "stream": "stdout",
       "text": [
        "\n",
        "(6244) 142662,[OrderedDict([(u'title', u'Bill Press Live Chat - 7/10'), (u'start', datetime.datetime(2013, 7, 10, 11, 45)), (u'id', 142662)])]"
       ]
      },
      {
       "output_type": "stream",
       "stream": "stdout",
       "text": [
        "\n",
        "(6243) 163836,[OrderedDict([(u'title', u'chris brown poll'), (u'start', datetime.datetime(2013, 8, 6, 23, 17, 34)), (u'id', 163836)])]"
       ]
      },
      {
       "output_type": "stream",
       "stream": "stdout",
       "text": [
        "\n",
        "(6242) 142622,[OrderedDict([(u'title', u'Ask the Expert - Ashley James'), (u'start', datetime.datetime(2013, 7, 9, 9, 53, 8)), (u'id', 142622)])]"
       ]
      },
      {
       "output_type": "stream",
       "stream": "stdout",
       "text": [
        "\n",
        "(6241) 142620,[OrderedDict([(u'title', u'Testtest'), (u'start', datetime.datetime(2013, 7, 9, 9, 55)), (u'id', 142620)])]"
       ]
      },
      {
       "output_type": "stream",
       "stream": "stdout",
       "text": [
        "\n",
        "(6241) 142615,[OrderedDict([(u'title', u'Juve Summer Village'), (u'start', datetime.datetime(2013, 7, 23, 10, 5, 35)), (u'id', 142615)])]"
       ]
      },
      {
       "output_type": "stream",
       "stream": "stdout",
       "text": [
        "\n",
        "(6242) 142553,[OrderedDict([(u'title', u'St. Catharines City Council - 13-07-08'), (u'start', datetime.datetime(2013, 7, 9, 0, 23, 12)), (u'id', 142553)])]"
       ]
      },
      {
       "output_type": "stream",
       "stream": "stdout",
       "text": [
        "\n",
        "(6241) 155274,[OrderedDict([(u'title', u'Gathering of the Vibes'), (u'start', datetime.datetime(2013, 7, 24, 19, 15)), (u'id', 155274)])]"
       ]
      },
      {
       "output_type": "stream",
       "stream": "stdout",
       "text": [
        "\n",
        "(6240) 142534,[OrderedDict([(u'title', u'Headed Home'), (u'start', datetime.datetime(2013, 7, 8, 22, 48, 55)), (u'id', 142534)])]"
       ]
      },
      {
       "output_type": "stream",
       "stream": "stdout",
       "text": [
        "\n",
        "(6239) 142531,[OrderedDict([(u'title', u\"Maclean's Live: Stephen Harper's cabinet shuffles\"), (u'start', datetime.datetime(2013, 7, 15, 20, 8, 33)), (u'id', 142531)])]"
       ]
      },
      {
       "output_type": "stream",
       "stream": "stdout",
       "text": [
        "\n",
        "(6239) 142523,[OrderedDict([(u'title', u'Collingwood Town Council - July 8'), (u'start', datetime.datetime(2013, 7, 9, 1, 41, 28)), (u'id', 142523)])]"
       ]
      },
      {
       "output_type": "stream",
       "stream": "stdout",
       "text": [
        "\n",
        "(6240) 142491,[OrderedDict([(u'title', u'RUNDE 1 Superliga - fredag - AGF - FC Midtjylland'), (u'start', datetime.datetime(2013, 7, 8, 20, 15)), (u'id', 142491)])]"
       ]
      },
      {
       "output_type": "stream",
       "stream": "stdout",
       "text": [
        "\n",
        "(6239) 172158,[OrderedDict([(u'title', u'Day 12 - The Australian - Election 2013 Live Coverage'), (u'start', datetime.datetime(2013, 8, 16, 0, 44, 21)), (u'id', 172158)])]"
       ]
      },
      {
       "output_type": "stream",
       "stream": "stdout",
       "text": [
        "\n",
        "(6239) 142480,[OrderedDict([(u'title', u\"'The Bachelorette' live chat: Week 7\"), (u'start', datetime.datetime(2013, 7, 9, 12, 50, 58)), (u'id', 142480)])]"
       ]
      },
      {
       "output_type": "stream",
       "stream": "stdout",
       "text": [
        "\n",
        "(6238) 142271,[OrderedDict([(u'title', u'Helsingborg-IFK G\\xf6teborg'), (u'start', datetime.datetime(2013, 7, 8, 18, 30)), (u'id', 142271)])]"
       ]
      },
      {
       "output_type": "stream",
       "stream": "stdout",
       "text": [
        "\n",
        "(6238) 142192,[OrderedDict([(u'title', u'Tour de France 2013 - Etappe 15'), (u'start', datetime.datetime(2013, 7, 14, 14, 8, 10)), (u'id', 142192)])]"
       ]
      },
      {
       "output_type": "stream",
       "stream": "stdout",
       "text": [
        "\n",
        "(6237) 142059,[OrderedDict([(u'title', u'Microsoft WPC 2013 Keynote: Steve Ballmer'), (u'start', datetime.datetime(2013, 7, 8, 15, 15)), (u'id', 142059)])]"
       ]
      },
      {
       "output_type": "stream",
       "stream": "stdout",
       "text": [
        "\n",
        "(6237) 142040,[OrderedDict([(u'title', u'Michigan Community Engagement Workshops'), (u'start', datetime.datetime(2013, 7, 9, 17, 52, 57)), (u'id', 142040)])]"
       ]
      },
      {
       "output_type": "stream",
       "stream": "stdout",
       "text": [
        "\n",
        "(6239) 142031,[OrderedDict([(u'title', u'SDCC 2013: Sherlock Panel '), (u'start', datetime.datetime(2014, 7, 18, 22, 10)), (u'id', 142031)])]"
       ]
      },
      {
       "output_type": "stream",
       "stream": "stdout",
       "text": [
        "\n",
        "(6238) 142008,[OrderedDict([(u'title', u'Monday, July 8 - Live news updates'), (u'start', datetime.datetime(2013, 7, 7, 20, 25, 33)), (u'id', 142008)])]"
       ]
      },
      {
       "output_type": "stream",
       "stream": "stdout",
       "text": [
        "\n",
        "(6237) 141644,[OrderedDict([(u'title', u'West Indies v Sri Lanka, Tri-series, Port of Spain'), (u'start', datetime.datetime(2013, 7, 7, 14, 31, 23)), (u'id', 141644)])]"
       ]
      },
      {
       "output_type": "stream",
       "stream": "stdout",
       "text": [
        "\n",
        "(6237) 141595,[OrderedDict([(u'title', u'Superpokal Slovenija 2013'), (u'start', datetime.datetime(2013, 7, 7, 13, 8, 20)), (u'id', 141595)])]"
       ]
      },
      {
       "output_type": "stream",
       "stream": "stdout",
       "text": [
        "\n",
        "(6237) 140294,[OrderedDict([(u'title', u'Globe&Mail Demo'), (u'start', datetime.datetime(2013, 7, 7, 5, 15, 29)), (u'id', 140294)])]"
       ]
      },
      {
       "output_type": "stream",
       "stream": "stdout",
       "text": [
        "\n",
        "(6236) 140176,[OrderedDict([(u'title', u'Royal Baby Live'), (u'start', datetime.datetime(2013, 7, 24, 15, 4, 39)), (u'id', 140176)])]"
       ]
      },
      {
       "output_type": "stream",
       "stream": "stdout",
       "text": [
        "\n",
        "(6238) 140010,[OrderedDict([(u'title', u'Replay: NHL free agency rumor mill'), (u'start', datetime.datetime(2013, 7, 8, 5, 0)), (u'id', 140010)])]"
       ]
      },
      {
       "output_type": "stream",
       "stream": "stdout",
       "text": [
        "\n",
        "(6237) 139836,[OrderedDict([(u'title', u'Live: Calgary Stampede Parade'), (u'start', datetime.datetime(2013, 7, 5, 19, 22, 1)), (u'id', 139836)])]"
       ]
      },
      {
       "output_type": "stream",
       "stream": "stdout",
       "text": [
        "\n",
        "(6238) 139333,[OrderedDict([(u'title', u'Tour de France Stage 7 Live'), (u'start', datetime.datetime(2013, 7, 5, 13, 21, 42)), (u'id', 139333)])]"
       ]
      },
      {
       "output_type": "stream",
       "stream": "stdout",
       "text": [
        "\n",
        "(6238) 154711,[OrderedDict([(u'title', u'test 2'), (u'start', datetime.datetime(2013, 7, 23, 20, 7, 34)), (u'id', 154711)])]"
       ]
      },
      {
       "output_type": "stream",
       "stream": "stdout",
       "text": [
        "\n",
        "(6238) 139120,[OrderedDict([(u'title', u'The F365 Transfer Blog - Friday July 5'), (u'start', datetime.datetime(2013, 7, 5, 9, 13, 4)), (u'id', 139120)])]"
       ]
      },
      {
       "output_type": "stream",
       "stream": "stdout",
       "text": [
        "\n",
        "(6239) 139088,[OrderedDict([(u'title', u'Photographer Joe'), (u'start', datetime.datetime(2013, 8, 1, 1, 45, 28)), (u'id', 139088)])]"
       ]
      },
      {
       "output_type": "stream",
       "stream": "stdout",
       "text": [
        "\n",
        "(6240) 139062,[OrderedDict([(u'title', u'Manifesta\\xe7\\xf5es pelo Brasil - 04/07/2013'), (u'start', datetime.datetime(2013, 7, 4, 22, 36, 10)), (u'id', 139062)])]"
       ]
      },
      {
       "output_type": "stream",
       "stream": "stdout",
       "text": [
        "\n",
        "(6239) 139048,[OrderedDict([(u'title', u'Manifesta\\xe7\\xf5es pelo pa\\xeds - 04/07/2013'), (u'start', datetime.datetime(2013, 7, 4, 21, 59, 36)), (u'id', 139048)])]"
       ]
      },
      {
       "output_type": "stream",
       "stream": "stdout",
       "text": [
        "\n",
        "(6243) 138909,[OrderedDict([(u'title', u'Marketing jur\\xeddico'), (u'start', datetime.datetime(2013, 7, 5, 19, 15, 56)), (u'id', 138909)])]"
       ]
      },
      {
       "output_type": "stream",
       "stream": "stdout",
       "text": [
        "\n",
        "(6242) 138838,[OrderedDict([(u'title', u'Openair Frauenfeld Foto-Blog'), (u'start', datetime.datetime(2013, 7, 4, 17, 30)), (u'id', 138838)])]"
       ]
      },
      {
       "output_type": "stream",
       "stream": "stdout",
       "text": [
        "\n",
        "(6242) 138633,[OrderedDict([(u'title', u'YleX Ruisrockissa 2013'), (u'start', datetime.datetime(2013, 7, 4, 8, 0)), (u'id', 138633)])]"
       ]
      },
      {
       "output_type": "stream",
       "stream": "stdout",
       "text": [
        "\n",
        "(6241) 138615,[OrderedDict([(u'title', u'Tour de France : \\xe9tape 19'), (u'start', datetime.datetime(2013, 7, 19, 10, 30, 45)), (u'id', 138615)])]"
       ]
      },
      {
       "output_type": "stream",
       "stream": "stdout",
       "text": [
        "\n",
        "(6240) 138606,[OrderedDict([(u'title', u'Tour de France : \\xe9tape 15'), (u'start', datetime.datetime(2013, 7, 14, 13, 54, 10)), (u'id', 138606)])]"
       ]
      },
      {
       "output_type": "stream",
       "stream": "stdout",
       "text": [
        "\n",
        "(6240) 138601,[OrderedDict([(u'title', u'Tour de France : \\xe9tape 13'), (u'start', datetime.datetime(2013, 7, 12, 17, 6, 12)), (u'id', 138601)])]"
       ]
      },
      {
       "output_type": "stream",
       "stream": "stdout",
       "text": [
        "\n",
        "(6239) 138600,[OrderedDict([(u'title', u'Tour de France : \\xe9tape 12'), (u'start', datetime.datetime(2013, 7, 11, 16, 49, 13)), (u'id', 138600)])]"
       ]
      },
      {
       "output_type": "stream",
       "stream": "stdout",
       "text": [
        "\n",
        "(6238) 138599,[OrderedDict([(u'title', u'Tour de France : \\xe9tape 11'), (u'start', datetime.datetime(2013, 7, 10, 16, 25, 43)), (u'id', 138599)])]"
       ]
      },
      {
       "output_type": "stream",
       "stream": "stdout",
       "text": [
        "\n",
        "(6238) 138499,[OrderedDict([(u'title', u'Expertenrunde6.7.13'), (u'start', datetime.datetime(2013, 7, 11, 14, 29, 43)), (u'id', 138499)])]"
       ]
      },
      {
       "output_type": "stream",
       "stream": "stdout",
       "text": [
        "\n",
        "(6239) 138457,[OrderedDict([(u'title', u'Sorteo de grupos de Euroliga 2013-14'), (u'start', datetime.datetime(2013, 7, 4, 12, 6, 59)), (u'id', 138457)])]"
       ]
      },
      {
       "output_type": "stream",
       "stream": "stdout",
       "text": [
        "\n",
        "(6238) 163541,[OrderedDict([(u'title', u'Landsholdsudtagelse til venskabskampen mod Polen'), (u'start', datetime.datetime(2013, 8, 9, 9, 1, 11)), (u'id', 163541)])]"
       ]
      },
      {
       "output_type": "stream",
       "stream": "stdout",
       "text": [
        "\n",
        "(6239) 138449,[OrderedDict([(u'title', u'Festival automobile de Mulhouse'), (u'start', datetime.datetime(2013, 7, 8, 8, 54, 42)), (u'id', 138449)])]"
       ]
      },
      {
       "output_type": "stream",
       "stream": "stdout",
       "text": [
        "\n",
        "(6239) 138448,[OrderedDict([(u'title', u'A-LSC-NL-20130703-LC-Marion Bartoli - Kirsten Flipkens (Halve finale)'), (u'start', datetime.datetime(2013, 7, 3, 0, 0)), (u'id', 138448)])]"
       ]
      },
      {
       "output_type": "stream",
       "stream": "stdout",
       "text": [
        "\n",
        "(6240) 138411,[OrderedDict([(u'title', u'Chat avec Christophe Franken (stage Anderlecht)'), (u'start', datetime.datetime(2013, 7, 4, 9, 50, 54)), (u'id', 138411)])]"
       ]
      },
      {
       "output_type": "stream",
       "stream": "stdout",
       "text": [
        "\n",
        "(6239) 138386,[OrderedDict([(u'title', u'Andrea Berg im Live-Chat'), (u'start', datetime.datetime(2013, 7, 4, 7, 42, 53)), (u'id', 138386)])]"
       ]
      },
      {
       "output_type": "stream",
       "stream": "stdout",
       "text": [
        "\n",
        "(6238) 138370,[OrderedDict([(u'title', u'Test'), (u'start', datetime.datetime(2013, 7, 4, 3, 24)), (u'id', 138370)])]"
       ]
      },
      {
       "output_type": "stream",
       "stream": "stdout",
       "text": [
        "\n",
        "(6238) 138163,[OrderedDict([(u'title', u'Revolusjon i Egypt'), (u'start', datetime.datetime(2013, 7, 3, 19, 47, 4)), (u'id', 138163)])]"
       ]
      },
      {
       "output_type": "stream",
       "stream": "stdout",
       "text": [
        "\n",
        "(6238) 138098,[OrderedDict([(u'title', u\"How MDA's new Licensing Regime will affect YOU on 4 July 2013\"), (u'start', datetime.datetime(2013, 7, 4, 12, 30)), (u'id', 138098)])]"
       ]
      },
      {
       "output_type": "stream",
       "stream": "stdout",
       "text": [
        "\n",
        "(6237) 137634,[OrderedDict([(u'title', u'Gettysburg 150th: Live coverage from the battlefield for July 3'), (u'start', datetime.datetime(2013, 7, 3, 14, 29, 10)), (u'id', 137634)])]"
       ]
      },
      {
       "output_type": "stream",
       "stream": "stdout",
       "text": [
        "\n",
        "(6237) 137625,[OrderedDict([(u'title', u'Korrespondenter fra Kairo'), (u'start', datetime.datetime(2013, 7, 4, 9, 41, 57)), (u'id', 137625)])]"
       ]
      },
      {
       "output_type": "stream",
       "stream": "stdout",
       "text": [
        "\n",
        "(6238) 137441,[OrderedDict([(u'title', u'mercato 3 juillet'), (u'start', datetime.datetime(2013, 7, 3, 11, 16, 51)), (u'id', 137441)])]"
       ]
      },
      {
       "output_type": "stream",
       "stream": "stdout",
       "text": [
        "\n",
        "(6240) 137394,[OrderedDict([(u'title', u'Tesco Holmfirth planning appeal Day 2'), (u'start', datetime.datetime(2013, 7, 3, 10, 30, 25)), (u'id', 137394)])]"
       ]
      },
      {
       "output_type": "stream",
       "stream": "stdout",
       "text": [
        "\n",
        "(6239) 137385,[OrderedDict([(u'title', u'Testblogg 3'), (u'start', datetime.datetime(2013, 7, 5, 10, 44, 38)), (u'id', 137385)])]"
       ]
      },
      {
       "output_type": "stream",
       "stream": "stdout",
       "text": [
        "\n",
        "(6239) 137089,[OrderedDict([(u'title', u'Le 11h02: que vient faire le politique dans le football?'), (u'start', datetime.datetime(2013, 7, 2, 16, 54, 26)), (u'id', 137089)])]"
       ]
      },
      {
       "output_type": "stream",
       "stream": "stdout",
       "text": [
        "\n",
        "(6241) 137010,[OrderedDict([(u'title', u'Testing iFrame'), (u'start', datetime.datetime(2013, 7, 3, 16, 44, 48)), (u'id', 137010)])]"
       ]
      },
      {
       "output_type": "stream",
       "stream": "stdout",
       "text": [
        "\n",
        "(6241) 136920,[OrderedDict([(u'title', u'test_Hinz'), (u'start', datetime.datetime(2013, 7, 2, 14, 46, 15)), (u'id', 136920)])]"
       ]
      },
      {
       "output_type": "stream",
       "stream": "stdout",
       "text": [
        "\n",
        "(6244) 136917,[OrderedDict([(u'title', u'A-LSC-NL-20130701-UC-Etappe 4: Nice - Nice'), (u'start', datetime.datetime(2013, 7, 1, 0, 0)), (u'id', 136917)])]"
       ]
      },
      {
       "output_type": "stream",
       "stream": "stdout",
       "text": [
        "\n",
        "(6243) 136894,[OrderedDict([(u'title', u'Gettysburg 150th: Live coverage from the battlefield for July 2'), (u'start', datetime.datetime(2013, 7, 11, 19, 25, 8)), (u'id', 136894)])]"
       ]
      },
      {
       "output_type": "stream",
       "stream": "stdout",
       "text": [
        "\n",
        "(6242) 136876,[OrderedDict([(u'title', u'A-LSC-NL-20130701-LC-Etappe 4: Nice - Nice'), (u'start', datetime.datetime(2013, 7, 1, 0, 0)), (u'id', 136876)])]"
       ]
      },
      {
       "output_type": "stream",
       "stream": "stdout",
       "text": [
        "\n",
        "(6242) 136855,[OrderedDict([(u'title', u'person B'), (u'start', datetime.datetime(2013, 7, 2, 13, 35, 53)), (u'id', 136855)])]"
       ]
      },
      {
       "output_type": "stream",
       "stream": "stdout",
       "text": [
        "\n",
        "(6242) 136840,[OrderedDict([(u'title', u'report M\\xfcnchen am 9. Juli 2013'), (u'start', datetime.datetime(2013, 7, 9, 21, 30)), (u'id', 136840)])]"
       ]
      },
      {
       "output_type": "stream",
       "stream": "stdout",
       "text": [
        "\n",
        "(6242) 136836,[OrderedDict([(u'title', u'Pas de midi sans info - 2 juillet 2013'), (u'start', datetime.datetime(2013, 7, 2, 14, 15)), (u'id', 136836)])]"
       ]
      },
      {
       "output_type": "stream",
       "stream": "stdout",
       "text": [
        "\n",
        "(6247) 151375,[OrderedDict([(u'title', u'2. krog Prve lige Telekom Slovenije 2013/14'), (u'start', datetime.datetime(2013, 7, 20, 9, 14, 22)), (u'id', 151375)])]"
       ]
      },
      {
       "output_type": "stream",
       "stream": "stdout",
       "text": [
        "\n",
        "(6246) 172073,[OrderedDict([(u'title', u'Federal election - Friday August 16'), (u'start', datetime.datetime(2013, 8, 16, 10, 52, 28)), (u'id', 172073)])]"
       ]
      },
      {
       "output_type": "stream",
       "stream": "stdout",
       "text": [
        "\n",
        "(6248) 136710,[OrderedDict([(u'title', u'The F365 Transfer Blog - Tuesday July 2'), (u'start', datetime.datetime(2013, 7, 2, 9, 15, 57)), (u'id', 136710)])]"
       ]
      },
      {
       "output_type": "stream",
       "stream": "stdout",
       "text": [
        "\n",
        "(6247) 136660,[OrderedDict([(u'title', u'Penn State football chat, 8 p.m., July 1'), (u'start', datetime.datetime(2013, 7, 2, 1, 45)), (u'id', 136660)])]"
       ]
      },
      {
       "output_type": "stream",
       "stream": "stdout",
       "text": [
        "\n",
        "(6246) 136637,[OrderedDict([(u'title', u'Newsroom Meeting for July 1'), (u'start', datetime.datetime(2013, 7, 1, 21, 50, 57)), (u'id', 136637)])]"
       ]
      },
      {
       "output_type": "stream",
       "stream": "stdout",
       "text": [
        "\n",
        "(6245) 136616,[OrderedDict([(u'title', u'Wheeler, Harvey and Syndergaard Conference Call'), (u'start', datetime.datetime(2013, 7, 1, 20, 21, 49)), (u'id', 136616)])]"
       ]
      },
      {
       "output_type": "stream",
       "stream": "stdout",
       "text": [
        "\n",
        "(6246) 136516,[OrderedDict([(u'title', u'test for joanne 01/07/13'), (u'start', datetime.datetime(2013, 7, 1, 18, 13, 19)), (u'id', 136516)])]"
       ]
      },
      {
       "output_type": "stream",
       "stream": "stdout",
       "text": [
        "\n",
        "(6245) 136442,[OrderedDict([(u'title', u'Live coverage of Canada Day on Parliament Hill'), (u'start', datetime.datetime(2013, 7, 1, 16, 53, 28)), (u'id', 136442)])]"
       ]
      },
      {
       "output_type": "stream",
       "stream": "stdout",
       "text": [
        "\n",
        "(6244) 136412,[OrderedDict([(u'title', u'Tour de France 2013 - Etappe 9'), (u'start', datetime.datetime(2013, 7, 7, 9, 30)), (u'id', 136412)])]"
       ]
      },
      {
       "output_type": "stream",
       "stream": "stdout",
       "text": [
        "\n",
        "(6245) 136369,[OrderedDict([(u'title', u'CanadaDay'), (u'start', datetime.datetime(2013, 7, 1, 17, 45)), (u'id', 136369)])]"
       ]
      },
      {
       "output_type": "stream",
       "stream": "stdout",
       "text": [
        "\n",
        "(6245) 136301,[OrderedDict([(u'title', u'Transfer Window Special'), (u'start', datetime.datetime(2013, 7, 4, 14, 32, 7)), (u'id', 136301)])]"
       ]
      },
      {
       "output_type": "stream",
       "stream": "stdout",
       "text": [
        "\n",
        "(6247) 136244,[OrderedDict([(u'title', u'David Moyes starts work at Manchester United'), (u'start', datetime.datetime(2013, 7, 1, 14, 54, 18)), (u'id', 136244)])]"
       ]
      },
      {
       "output_type": "stream",
       "stream": "stdout",
       "text": [
        "\n",
        "(6246) 136148,[OrderedDict([(u'title', u'Test Event'), (u'start', datetime.datetime(2013, 7, 1, 13, 44, 59)), (u'id', 136148)])]"
       ]
      },
      {
       "output_type": "stream",
       "stream": "stdout",
       "text": [
        "\n",
        "(6246) 136125,[OrderedDict([(u'title', u'A-LSC-NL-20130630-UC-Kirsten Flipkens - Flavia Pennetta (Ronde 4)'), (u'start', datetime.datetime(2013, 6, 30, 0, 0)), (u'id', 136125)])]"
       ]
      },
      {
       "output_type": "stream",
       "stream": "stdout",
       "text": [
        "\n",
        "(6245) 136109,[OrderedDict([(u'title', u'Norfolk School Games - Summer 2013'), (u'start', datetime.datetime(2013, 7, 2, 17, 15)), (u'id', 136109)])]"
       ]
      },
      {
       "output_type": "stream",
       "stream": "stdout",
       "text": [
        "\n",
        "(6247) 136106,[OrderedDict([(u'title', u'Norfolk School Games - Summer 2013'), (u'start', datetime.datetime(2013, 7, 1, 12, 58, 42)), (u'id', 136106)])]"
       ]
      },
      {
       "output_type": "stream",
       "stream": "stdout",
       "text": [
        "\n",
        "(6248) 136064,[OrderedDict([(u'title', u'Tour de France 2013 - Etappe 4'), (u'start', datetime.datetime(2013, 7, 2, 17, 52, 5)), (u'id', 136064)])]"
       ]
      },
      {
       "output_type": "stream",
       "stream": "stdout",
       "text": [
        "\n",
        "(6247) 136059,[OrderedDict([(u'title', u'Stephanie Miller Live Chat - 7/02'), (u'start', datetime.datetime(2013, 7, 2, 14, 45)), (u'id', 136059)])]"
       ]
      },
      {
       "output_type": "stream",
       "stream": "stdout",
       "text": [
        "\n",
        "(6248) 135670,[OrderedDict([(u'title', u'Go Gos'), (u'start', datetime.datetime(2013, 6, 30, 22, 11, 54)), (u'id', 135670)])]"
       ]
      },
      {
       "output_type": "stream",
       "stream": "stdout",
       "text": [
        "\n",
        "(6248) 135669,[OrderedDict([(u'title', u'LIVE CHAT: True Blood, HBO 9 p.m. ET'), (u'start', datetime.datetime(2013, 7, 1, 2, 42, 31)), (u'id', 135669)])]"
       ]
      },
      {
       "output_type": "stream",
       "stream": "stdout",
       "text": [
        "\n",
        "(6248) 135636,[OrderedDict([(u'title', u'Lianne Dalziel July 1'), (u'start', datetime.datetime(2013, 6, 30, 21, 4, 17)), (u'id', 135636)])]"
       ]
      },
      {
       "output_type": "stream",
       "stream": "stdout",
       "text": [
        "\n",
        "(6249) 135623,[OrderedDict([(u'title', u'Monday, July 1 - Live news updates'), (u'start', datetime.datetime(2013, 6, 30, 20, 23, 18)), (u'id', 135623)])]"
       ]
      },
      {
       "output_type": "stream",
       "stream": "stdout",
       "text": [
        "\n",
        "(6250) 135533,[OrderedDict([(u'title', u'\\u0422\\u0440\\u0430\\u043d\\u0441\\u043b\\u044f\\u0446\\u0438\\u044f \\u0423\\u0440\\u0443\\u0433\\u0432\\u0430\\u0439 - \\u0418\\u0442\\u0430\\u043b\\u0438\\u044f'), (u'start', datetime.datetime(2013, 6, 30, 16, 34, 52)), (u'id', 135533)])]"
       ]
      },
      {
       "output_type": "stream",
       "stream": "stdout",
       "text": [
        "\n",
        "(6250) 135479,[OrderedDict([(u'title', u'\\u0411\\u0410\\u0422\\u042d - \\u041d\\u0435\\u043c\\u0430\\u043d. \\u041e\\u043d\\u043b\\u0430\\u0439\\u043d'), (u'start', datetime.datetime(2013, 6, 30, 15, 40, 22)), (u'id', 135479)])]"
       ]
      },
      {
       "output_type": "stream",
       "stream": "stdout",
       "text": [
        "\n",
        "(6252) 135356,[OrderedDict([(u'title', u'Bastia-Ajaccio en direct'), (u'start', datetime.datetime(2013, 6, 30, 7, 52, 17)), (u'id', 135356)])]"
       ]
      },
      {
       "output_type": "stream",
       "stream": "stdout",
       "text": [
        "\n",
        "(6251) 135343,[OrderedDict([(u'title', u'Why do you love Canada?'), (u'start', datetime.datetime(2013, 6, 30, 5, 30)), (u'id', 135343)])]"
       ]
      },
      {
       "output_type": "stream",
       "stream": "stdout",
       "text": [
        "\n",
        "(6251) 135330,[OrderedDict([(u'title', u'City and Colour and more in Niagara-on-the-Lake'), (u'start', datetime.datetime(2013, 6, 30, 4, 13, 47)), (u'id', 135330)])]"
       ]
      },
      {
       "output_type": "stream",
       "stream": "stdout",
       "text": [
        "\n",
        "(6253) 135141,[OrderedDict([(u'title', u'Twitter mail 6-29-13'), (u'start', datetime.datetime(2013, 6, 29, 16, 14, 32)), (u'id', 135141)])]"
       ]
      },
      {
       "output_type": "stream",
       "stream": "stdout",
       "text": [
        "\n",
        "(6252) 157644,[OrderedDict([(u'title', u'\\u0397 \\u03a3\\u03c5\\u03bd\\u03ad\\u03bd\\u03c4\\u03b5\\u03c5\\u03be\\u03b7 \\u03a4\\u03cd\\u03c0\\u03bf\\u03c5 \\u03c4\\u03bf\\u03c5 \\u03a3\\u03c4\\u03ad\\u03c6\\u03b5\\u03bd\\u03c2 (live)'), (u'start', datetime.datetime(2013, 7, 29, 17, 8, 29)), (u'id', 157644)])]"
       ]
      },
      {
       "output_type": "stream",
       "stream": "stdout",
       "text": [
        "\n",
        "(6253) 134702,[OrderedDict([(u'title', u'Australia v British & Irish Lions'), (u'start', datetime.datetime(2013, 6, 29, 11, 20, 49)), (u'id', 134702)])]"
       ]
      },
      {
       "output_type": "stream",
       "stream": "stdout",
       "text": [
        "\n",
        "(6253) 134656,[OrderedDict([(u'title', u'UAAP Season 76 Opening'), (u'start', datetime.datetime(2013, 6, 29, 4, 30, 27)), (u'id', 134656)])]"
       ]
      },
      {
       "output_type": "stream",
       "stream": "stdout",
       "text": [
        "\n",
        "(6252) 134646,[OrderedDict([(u'title', u'Test'), (u'start', datetime.datetime(2013, 7, 18, 1, 32, 57)), (u'id', 134646)])]"
       ]
      },
      {
       "output_type": "stream",
       "stream": "stdout",
       "text": [
        "\n",
        "(6252) 134551,[OrderedDict([(u'title', u'test2'), (u'start', datetime.datetime(2013, 6, 28, 23, 0, 53)), (u'id', 134551)])]"
       ]
      },
      {
       "output_type": "stream",
       "stream": "stdout",
       "text": [
        "\n",
        "(6253) 134542,[OrderedDict([(u'title', u'test'), (u'start', datetime.datetime(2013, 6, 28, 22, 47, 56)), (u'id', 134542)])]"
       ]
      },
      {
       "output_type": "stream",
       "stream": "stdout",
       "text": [
        "\n",
        "(6253) 134494,[OrderedDict([(u'title', u'Test event'), (u'start', datetime.datetime(2013, 6, 28, 21, 52, 58)), (u'id', 134494)])]"
       ]
      },
      {
       "output_type": "stream",
       "stream": "stdout",
       "text": [
        "\n",
        "(6252) 134349,[OrderedDict([(u'title', u'Argos home opener vs. Ticats'), (u'start', datetime.datetime(2013, 6, 29, 0, 45)), (u'id', 134349)])]"
       ]
      },
      {
       "output_type": "stream",
       "stream": "stdout",
       "text": [
        "\n",
        "(6252) 134208,[OrderedDict([(u'title', u'Cashtag test'), (u'start', datetime.datetime(2013, 6, 28, 18, 3, 43)), (u'id', 134208)])]"
       ]
      },
      {
       "output_type": "stream",
       "stream": "stdout",
       "text": [
        "\n",
        "(6252) 134188,[OrderedDict([(u'title', u'Transmitem Live de la Train Delivery'), (u'start', datetime.datetime(2013, 6, 28, 17, 18, 17)), (u'id', 134188)])]"
       ]
      },
      {
       "output_type": "stream",
       "stream": "stdout",
       "text": [
        "\n",
        "(6250) 134170,[OrderedDict([(u'title', u'Tour de France : Foug\\xe8res - Tours en direct sur France Bleu'), (u'start', datetime.datetime(2013, 7, 11, 10, 45)), (u'id', 134170)])]"
       ]
      },
      {
       "output_type": "stream",
       "stream": "stdout",
       "text": [
        "\n",
        "(6249) 134001,[OrderedDict([(u'title', u'SOE13 - Elchesheim Illingen'), (u'start', datetime.datetime(2013, 8, 5, 14, 52, 18)), (u'id', 134001)])]"
       ]
      },
      {
       "output_type": "stream",
       "stream": "stdout",
       "text": [
        "\n",
        "(6248) 133995,[OrderedDict([(u'title', u'SOE13 - Sternenfels'), (u'start', datetime.datetime(2013, 8, 12, 13, 14)), (u'id', 133995)])]"
       ]
      },
      {
       "output_type": "stream",
       "stream": "stdout",
       "text": [
        "\n",
        "(6247) 133981,[OrderedDict([(u'title', u'SOE13 - Durmersheim'), (u'start', datetime.datetime(2013, 6, 27, 10, 30)), (u'id', 133981)])]"
       ]
      },
      {
       "output_type": "stream",
       "stream": "stdout",
       "text": [
        "\n",
        "(6246) 133945,[OrderedDict([(u'title', u'Tour de France : Ajaccio - Calvi en direct sur France Bleu'), (u'start', datetime.datetime(2013, 7, 1, 12, 15)), (u'id', 133945)])]"
       ]
      },
      {
       "output_type": "stream",
       "stream": "stdout",
       "text": [
        "\n",
        "(6247) 133886,[OrderedDict([(u'title', u'Die Expertenrunde zum Thema \"Einmal um die Welt\"'), (u'start', datetime.datetime(2013, 6, 29, 9, 30)), (u'id', 133886)])]"
       ]
      },
      {
       "output_type": "stream",
       "stream": "stdout",
       "text": [
        "\n",
        "(6246) 133885,[OrderedDict([(u'title', u'Die Expertenrunde zum Thema \"Einmal um die Welt\"'), (u'start', datetime.datetime(2013, 6, 28, 9, 57, 47)), (u'id', 133885)])]"
       ]
      },
      {
       "output_type": "stream",
       "stream": "stdout",
       "text": [
        "\n",
        "(6247) 133865,[OrderedDict([(u'title', u'radioberlin-Kieztour, 01. Juli 2013'), (u'start', datetime.datetime(2013, 7, 1, 7, 0)), (u'id', 133865)])]"
       ]
      },
      {
       "output_type": "stream",
       "stream": "stdout",
       "text": [
        "\n",
        "(6247) 133862,[OrderedDict([(u'title', u'The Florida Roundup: gay marriage'), (u'start', datetime.datetime(2013, 6, 28, 19, 43, 3)), (u'id', 133862)])]"
       ]
      },
      {
       "output_type": "stream",
       "stream": "stdout",
       "text": [
        "\n",
        "(6249) 133754,[OrderedDict([(u'title', u'Calgary Flames draft weekend chat'), (u'start', datetime.datetime(2013, 6, 27, 22, 15)), (u'id', 133754)])]"
       ]
      },
      {
       "output_type": "stream",
       "stream": "stdout",
       "text": [
        "\n",
        "(6248) 133660,[OrderedDict([(u'title', u'Live Chat With Ken Whyte'), (u'start', datetime.datetime(2013, 8, 1, 17, 18, 23)), (u'id', 133660)])]"
       ]
      },
      {
       "output_type": "stream",
       "stream": "stdout",
       "text": [
        "\n",
        "(6248) 133554,[OrderedDict([(u'title', u'Kingston Mayor Shayne Gallo outline BEAT initiative'), (u'start', datetime.datetime(2013, 6, 27, 17, 24, 46)), (u'id', 133554)])]"
       ]
      },
      {
       "output_type": "stream",
       "stream": "stdout",
       "text": [
        "\n",
        "(6248) 161069,[OrderedDict([(u'title', u'Bill Press Live Chat - 8/08'), (u'start', datetime.datetime(2013, 8, 8, 11, 30)), (u'id', 161069)])]"
       ]
      },
      {
       "output_type": "stream",
       "stream": "stdout",
       "text": [
        "\n",
        "(6247) 133515,[OrderedDict([(u'title', u'Aandeelhoudersvergadering Imtech'), (u'start', datetime.datetime(2013, 6, 28, 9, 36, 3)), (u'id', 133515)])]"
       ]
      },
      {
       "output_type": "stream",
       "stream": "stdout",
       "text": [
        "\n",
        "(6247) 133480,[OrderedDict([(u'title', u'Bonnybrook rail bridge on verge of collapse'), (u'start', datetime.datetime(2013, 6, 27, 15, 24, 24)), (u'id', 133480)])]"
       ]
      },
      {
       "output_type": "stream",
       "stream": "stdout",
       "text": [
        "\n",
        "(6247) 133478,[OrderedDict([(u'title', u'Celtic Live Aptitude Test 4'), (u'start', datetime.datetime(2013, 7, 8, 14, 9, 59)), (u'id', 133478)])]"
       ]
      },
      {
       "output_type": "stream",
       "stream": "stdout",
       "text": [
        "\n",
        "(6246) 133476,[OrderedDict([(u'title', u'Celtic Live Aptitude Test 3'), (u'start', datetime.datetime(2013, 7, 5, 17, 26, 34)), (u'id', 133476)])]"
       ]
      },
      {
       "output_type": "stream",
       "stream": "stdout",
       "text": [
        "\n",
        "(6247) 133382,[OrderedDict([(u'title', u'WOOP.GR: \\u0395\\u039b\\u039b\\u0391\\u0394\\u0391 - \\u03a0\\u0391\\u03a1\\u0391\\u0393\\u039f\\u03a5\\u0391\\u0397'), (u'start', datetime.datetime(2013, 6, 28, 16, 48, 13)), (u'id', 133382)])]"
       ]
      },
      {
       "output_type": "stream",
       "stream": "stdout",
       "text": [
        "\n",
        "(6247) 157920,[OrderedDict([(u'title', u'Celebration of Light: Thailand'), (u'start', datetime.datetime(2013, 8, 3, 6, 0)), (u'id', 157920)])]"
       ]
      },
      {
       "output_type": "stream",
       "stream": "stdout",
       "text": [
        "\n",
        "(6247) 133375,[OrderedDict([(u'title', u'H'), (u'start', datetime.datetime(2013, 6, 27, 12, 11, 40)), (u'id', 133375)])]"
       ]
      },
      {
       "output_type": "stream",
       "stream": "stdout",
       "text": [
        "\n",
        "(6248) 133357,[OrderedDict([(u'title', u'Tour de France 2013'), (u'start', datetime.datetime(2013, 6, 20, 6, 45)), (u'id', 133357)])]"
       ]
      },
      {
       "output_type": "stream",
       "stream": "stdout",
       "text": [
        "\n",
        "(6249) 133353,[OrderedDict([(u'title', u'Mercato 27 juin'), (u'start', datetime.datetime(2013, 6, 27, 11, 29, 13)), (u'id', 133353)])]"
       ]
      },
      {
       "output_type": "stream",
       "stream": "stdout",
       "text": [
        "\n",
        "(6249) 153474,[OrderedDict([(u'title', u'Test'), (u'start', datetime.datetime(2013, 7, 22, 16, 30)), (u'id', 153474)])]"
       ]
      },
      {
       "output_type": "stream",
       "stream": "stdout",
       "text": [
        "\n",
        "(6249) 133327,[OrderedDict([(u'title', u'Nelson Mandela (paid content)'), (u'start', datetime.datetime(2013, 6, 27, 9, 45)), (u'id', 133327)])]"
       ]
      },
      {
       "output_type": "stream",
       "stream": "stdout",
       "text": [
        "\n",
        "(6248) 133295,[OrderedDict([(u'title', u'json in dev2'), (u'start', datetime.datetime(2013, 8, 20, 7, 42, 21)), (u'id', 133295)])]"
       ]
      },
      {
       "output_type": "stream",
       "stream": "stdout",
       "text": [
        "\n",
        "(6247) 133270,[OrderedDict([(u'title', u'World watches: Nelson Mandela'), (u'start', datetime.datetime(2013, 6, 27, 1, 14, 54)), (u'id', 133270)])]"
       ]
      },
      {
       "output_type": "stream",
       "stream": "stdout",
       "text": [
        "\n",
        "(6247) 133265,[OrderedDict([(u'title', u'Lions vs. Stampeders: Pre-game live chat with CFL writer Lowell Ullrich'), (u'start', datetime.datetime(2013, 6, 29, 0, 45)), (u'id', 133265)])]"
       ]
      },
      {
       "output_type": "stream",
       "stream": "stdout",
       "text": [
        "\n",
        "(6249) 133240,[OrderedDict([(u'title', u'Weekend Playlist 6/27/13'), (u'start', datetime.datetime(2013, 6, 27, 20, 0)), (u'id', 133240)])]"
       ]
      },
      {
       "output_type": "stream",
       "stream": "stdout",
       "text": [
        "\n",
        "(6249) 133164,[OrderedDict([(u'title', u'Test for Kelly'), (u'start', datetime.datetime(2013, 6, 26, 21, 2, 53)), (u'id', 133164)])]"
       ]
      },
      {
       "output_type": "stream",
       "stream": "stdout",
       "text": [
        "\n",
        "(6249) 133144,[OrderedDict([(u'title', u'Time Delayed test'), (u'start', datetime.datetime(2013, 6, 26, 20, 47, 13)), (u'id', 133144)])]"
       ]
      },
      {
       "output_type": "stream",
       "stream": "stdout",
       "text": [
        "\n",
        "(6249) 132919,[OrderedDict([(u'title', u\"Live from Microsoft's Build Conference\"), (u'start', datetime.datetime(2013, 6, 26, 17, 56, 46)), (u'id', 132919)])]"
       ]
      },
      {
       "output_type": "stream",
       "stream": "stdout",
       "text": [
        "\n",
        "(6248) 132889,[OrderedDict([(u'title', u'Tweets from BART press conference'), (u'start', datetime.datetime(2013, 6, 26, 17, 43, 53)), (u'id', 132889)])]"
       ]
      },
      {
       "output_type": "stream",
       "stream": "stdout",
       "text": [
        "\n",
        "(6248) 132843,[OrderedDict([(u'title', u'JCAMP-Bush'), (u'start', datetime.datetime(2013, 6, 26, 17, 30)), (u'id', 132843)])]"
       ]
      },
      {
       "output_type": "stream",
       "stream": "stdout",
       "text": [
        "\n",
        "(6247) 132576,[OrderedDict([(u'title', u'T-LSC-FR-20130625-LC-Br\\xe9sil - Uruguay (Journ\\xe9e 1)'), (u'start', datetime.datetime(2013, 6, 25, 0, 0)), (u'id', 132576)])]"
       ]
      },
      {
       "output_type": "stream",
       "stream": "stdout",
       "text": [
        "\n",
        "(6247) 132311,[OrderedDict([(u'title', u'Spending Review 2013'), (u'start', datetime.datetime(2013, 6, 26, 10, 34, 44)), (u'id', 132311)])]"
       ]
      },
      {
       "output_type": "stream",
       "stream": "stdout",
       "text": [
        "\n",
        "(6247) 132305,[OrderedDict([(u'title', u'PMQs And Spending Review June 26 2013'), (u'start', datetime.datetime(2013, 6, 26, 12, 30)), (u'id', 132305)])]"
       ]
      },
      {
       "output_type": "stream",
       "stream": "stdout",
       "text": [
        "\n",
        "(6247) 132304,[OrderedDict([(u'title', u'Tod Marc Rich'), (u'start', datetime.datetime(2013, 6, 26, 10, 15)), (u'id', 132304)])]"
       ]
      },
      {
       "output_type": "stream",
       "stream": "stdout",
       "text": [
        "\n",
        "(6249) 132246,[OrderedDict([(u'title', u'Live coverage of Wainfleet council'), (u'start', datetime.datetime(2013, 6, 26, 0, 45)), (u'id', 132246)])]"
       ]
      },
      {
       "output_type": "stream",
       "stream": "stdout",
       "text": [
        "\n",
        "(6249) 132236,[OrderedDict([(u'title', u'M\\xf3nica Puig vs Silvia Soler en el Wimbledon'), (u'start', datetime.datetime(2013, 6, 26, 12, 0)), (u'id', 132236)])]"
       ]
      },
      {
       "output_type": "stream",
       "stream": "stdout",
       "text": [
        "\n",
        "(6249) 132156,[OrderedDict([(u'title', u'Wednesday, June 26 - Live news updates'), (u'start', datetime.datetime(2013, 6, 25, 20, 32, 29)), (u'id', 132156)])]"
       ]
      },
      {
       "output_type": "stream",
       "stream": "stdout",
       "text": [
        "\n",
        "(6250) 132122,[OrderedDict([(u'title', u'World Cup U20: \\u039c\\u03ac\\u03bb\\u03b9 - \\u0395\\u03bb\\u03bb\\u03ac\\u03b4\\u03b1'), (u'start', datetime.datetime(2013, 6, 25, 19, 24, 13)), (u'id', 132122)])]"
       ]
      },
      {
       "output_type": "stream",
       "stream": "stdout",
       "text": [
        "\n",
        "(6249) 131979,[OrderedDict([(u'title', u'Vivez le d\\xe9part du Tour de France 2013 sur France Bleu'), (u'start', datetime.datetime(2013, 6, 25, 17, 45, 46)), (u'id', 131979)])]"
       ]
      },
      {
       "output_type": "stream",
       "stream": "stdout",
       "text": [
        "\n",
        "(6249) 131533,[OrderedDict([(u'title', u'Human'), (u'start', datetime.datetime(2013, 6, 25, 15, 6, 13)), (u'id', 131533)])]"
       ]
      },
      {
       "output_type": "stream",
       "stream": "stdout",
       "text": [
        "\n",
        "(6250) 131489,[OrderedDict([(u'title', u'Niinist\\xf6s och Putins presskonferens'), (u'start', datetime.datetime(2013, 6, 25, 17, 1, 12)), (u'id', 131489)])]"
       ]
      },
      {
       "output_type": "stream",
       "stream": "stdout",
       "text": [
        "\n",
        "(6252) 131386,[OrderedDict([(u'title', u'T-LSC-FR-20130626-UC-Espagne - Italie (Journ\\xe9e 1)'), (u'start', datetime.datetime(2013, 6, 26, 0, 0)), (u'id', 131386)])]"
       ]
      },
      {
       "output_type": "stream",
       "stream": "stdout",
       "text": [
        "\n",
        "(6253) 131381,[OrderedDict([(u'title', u'Tour de France live!'), (u'start', datetime.datetime(2013, 6, 29, 1, 0)), (u'id', 131381)])]"
       ]
      },
      {
       "output_type": "stream",
       "stream": "stdout",
       "text": [
        "\n",
        "(6252) 144233,[OrderedDict([(u'title', u'sada'), (u'start', datetime.datetime(2013, 7, 11, 13, 34, 3)), (u'id', 144233)])]"
       ]
      },
      {
       "output_type": "stream",
       "stream": "stdout",
       "text": [
        "\n",
        "(6252) 131361,[OrderedDict([(u'title', u'T-LSC-FR-20130625-UC-Br\\xe9sil - Uruguay (Journ\\xe9e 1)'), (u'start', datetime.datetime(2013, 6, 25, 0, 0)), (u'id', 131361)])]"
       ]
      },
      {
       "output_type": "stream",
       "stream": "stdout",
       "text": [
        "\n",
        "(6255) 132108,[OrderedDict([(u'title', u'McGuinty testifies'), (u'start', datetime.datetime(2013, 6, 25, 19, 4, 10)), (u'id', 132108)])]"
       ]
      },
      {
       "output_type": "stream",
       "stream": "stdout",
       "text": [
        "\n",
        "(6254) 179884,[OrderedDict([(u'title', u'SWAT Team incident'), (u'start', datetime.datetime(2013, 8, 23, 18, 37, 29)), (u'id', 179884)])]"
       ]
      },
      {
       "output_type": "stream",
       "stream": "stdout",
       "text": [
        "\n",
        "(6254) 131295,[OrderedDict([(u'title', u'TEST TOBAGI'), (u'start', datetime.datetime(2013, 7, 5, 9, 16, 52)), (u'id', 131295)])]"
       ]
      },
      {
       "output_type": "stream",
       "stream": "stdout",
       "text": [
        "\n",
        "(6255) 131198,[OrderedDict([(u'title', u'Pas de midi sans info - 25 juin 2013'), (u'start', datetime.datetime(2013, 6, 25, 14, 15)), (u'id', 131198)])]"
       ]
      },
      {
       "output_type": "stream",
       "stream": "stdout",
       "text": [
        "\n",
        "(6257) 131142,[OrderedDict([(u'title', u'PFU behandler Slottets klage'), (u'start', datetime.datetime(2013, 6, 25, 7, 31, 37)), (u'id', 131142)])]"
       ]
      },
      {
       "output_type": "stream",
       "stream": "stdout",
       "text": [
        "\n",
        "(6257) 130931,[OrderedDict([(u'title', u'Test Event'), (u'start', datetime.datetime(2013, 6, 24, 22, 50, 19)), (u'id', 130931)])]"
       ]
      },
      {
       "output_type": "stream",
       "stream": "stdout",
       "text": [
        "\n",
        "(6260) 130885,[OrderedDict([(u'title', u'OPP costing meeting'), (u'start', datetime.datetime(2013, 6, 24, 23, 0)), (u'id', 130885)])]"
       ]
      },
      {
       "output_type": "stream",
       "stream": "stdout",
       "text": [
        "\n",
        "(6261) 130731,[OrderedDict([(u'title', u'Royal Norfolk Show 2013'), (u'start', datetime.datetime(2013, 6, 24, 18, 30)), (u'id', 130731)])]"
       ]
      },
      {
       "output_type": "stream",
       "stream": "stdout",
       "text": [
        "\n",
        "(6260) 130516,[OrderedDict([(u'title', u'Ihr Vormittag, 25.06.2013'), (u'start', datetime.datetime(2013, 6, 25, 10, 0)), (u'id', 130516)])]"
       ]
      },
      {
       "output_type": "stream",
       "stream": "stdout",
       "text": [
        "\n",
        "(6259) 130515,[OrderedDict([(u'title', u'twitter'), (u'start', datetime.datetime(2013, 6, 24, 15, 12, 53)), (u'id', 130515)])]"
       ]
      },
      {
       "output_type": "stream",
       "stream": "stdout",
       "text": [
        "\n",
        "(6260) 130498,[OrderedDict([(u'title', u'T-LSC-FR-20130624-UC-Maldives - Qatar'), (u'start', datetime.datetime(2013, 6, 24, 0, 0)), (u'id', 130498)])]"
       ]
      },
      {
       "output_type": "stream",
       "stream": "stdout",
       "text": [
        "\n",
        "(6259) 130491,[OrderedDict([(u'title', u'T-LSC-FR-20130623-LC-Yanina Wickmayer - Vesna Dolonc (Tour 1)'), (u'start', datetime.datetime(2013, 6, 23, 0, 0)), (u'id', 130491)])]"
       ]
      },
      {
       "output_type": "stream",
       "stream": "stdout",
       "text": [
        "\n",
        "(6260) 130483,[OrderedDict([(u'title', u'T-LSC-FR-20130623-LC-Yanina Wickmayer - Vesna Dolonc (Tour 1)'), (u'start', datetime.datetime(2013, 6, 23, 0, 0)), (u'id', 130483)])]"
       ]
      },
      {
       "output_type": "stream",
       "stream": "stdout",
       "text": [
        "\n",
        "(6260) 133987,[OrderedDict([(u'title', u'SOE13 - Karlsruhe Wolfartsweier'), (u'start', datetime.datetime(2013, 6, 27, 10, 30)), (u'id', 133987)])]"
       ]
      },
      {
       "output_type": "stream",
       "stream": "stdout",
       "text": [
        "\n",
        "(6260) 130480,[OrderedDict([(u'title', u'T-LSC-FR-20130623-LC-Yanina Wickmayer - Vesna Dolonc (Tour 1)'), (u'start', datetime.datetime(2013, 6, 23, 0, 0)), (u'id', 130480)])]"
       ]
      },
      {
       "output_type": "stream",
       "stream": "stdout",
       "text": [
        "\n",
        "(6260) 130447,[OrderedDict([(u'title', u'T-LSC-FR-20130623-LC-Fernando Verdasco - Xavier Malisse (Tour 1)'), (u'start', datetime.datetime(2013, 6, 23, 0, 0)), (u'id', 130447)])]"
       ]
      },
      {
       "output_type": "stream",
       "stream": "stdout",
       "text": [
        "\n",
        "(6260) 130444,[OrderedDict([(u'title', u'T-LSC-FR-20130623-UC-Fernando Verdasco - Xavier Malisse (Tour 1)'), (u'start', datetime.datetime(2013, 6, 23, 6, 0)), (u'id', 130444)])]"
       ]
      },
      {
       "output_type": "stream",
       "stream": "stdout",
       "text": [
        "\n",
        "(6260) 130427,[OrderedDict([(u'title', u'T-LSC-FR-20130623-UC-Jo-Wilfried Tsonga - David Goffin (Tour 1)'), (u'start', datetime.datetime(2013, 6, 23, 0, 0)), (u'id', 130427)])]"
       ]
      },
      {
       "output_type": "stream",
       "stream": "stdout",
       "text": [
        "\n",
        "(6262) 138469,[OrderedDict([(u'title', u'Pas de midi sans info - 4 juillet 2013'), (u'start', datetime.datetime(2013, 7, 4, 14, 15)), (u'id', 138469)])]"
       ]
      },
      {
       "output_type": "stream",
       "stream": "stdout",
       "text": [
        "\n",
        "(6265) 130423,[OrderedDict([(u'title', u'Copie de T-LSC-FR-20130623-LC-Jo-Wilfried Tsonga - David Goffin (Tour 1) '), (u'start', datetime.datetime(2013, 6, 23, 0, 0)), (u'id', 130423)])]"
       ]
      },
      {
       "output_type": "stream",
       "stream": "stdout",
       "text": [
        "\n",
        "(6265) 146644,[OrderedDict([(u'title', u'Live chat No. 1 summer 2013'), (u'start', datetime.datetime(2013, 7, 16, 4, 1, 16)), (u'id', 146644)])]"
       ]
      },
      {
       "output_type": "stream",
       "stream": "stdout",
       "text": [
        "\n",
        "(6264) 130401,[OrderedDict([(u'title', u'British Grand Prix'), (u'start', datetime.datetime(2013, 6, 30, 13, 0)), (u'id', 130401)])]"
       ]
      },
      {
       "output_type": "stream",
       "stream": "stdout",
       "text": [
        "\n",
        "(6267) 130345,[OrderedDict([(u'title', u'Mandela'), (u'start', datetime.datetime(2013, 6, 24, 8, 40, 34)), (u'id', 130345)])]"
       ]
      },
      {
       "output_type": "stream",
       "stream": "stdout",
       "text": [
        "\n",
        "(6268) 130181,[OrderedDict([(u'title', u'Monday, June 24 - Live news updates'), (u'start', datetime.datetime(2013, 6, 23, 20, 21, 48)), (u'id', 130181)])]"
       ]
      },
      {
       "output_type": "stream",
       "stream": "stdout",
       "text": [
        "\n",
        "(6267) 129955,[OrderedDict([(u'title', u'India v Pakistan, Champions Trophy, Edgbaston'), (u'start', datetime.datetime(2013, 6, 23, 13, 34, 58)), (u'id', 129955)])]"
       ]
      },
      {
       "output_type": "stream",
       "stream": "stdout",
       "text": [
        "\n",
        "(6267) 129954,[OrderedDict([(u'title', u'Championnats de Belgique de cyclisme'), (u'start', datetime.datetime(2013, 6, 23, 13, 32, 17)), (u'id', 129954)])]"
       ]
      },
      {
       "output_type": "stream",
       "stream": "stdout",
       "text": [
        "\n",
        "(6266) 129462,[OrderedDict([(u'title', u'Paul Newman test'), (u'start', datetime.datetime(2013, 6, 22, 10, 24, 51)), (u'id', 129462)])]"
       ]
      },
      {
       "output_type": "stream",
       "stream": "stdout",
       "text": [
        "\n",
        "(6265) 129329,[OrderedDict([(u'title', u'Online chat with Mayor Tim Kabat'), (u'start', datetime.datetime(2013, 7, 19, 18, 44, 14)), (u'id', 129329)])]"
       ]
      },
      {
       "output_type": "stream",
       "stream": "stdout",
       "text": [
        "\n",
        "(6265) 129129,[OrderedDict([(u'title', u'Register Citizen newsroom meeting for June 21, 2013'), (u'start', datetime.datetime(2013, 6, 21, 22, 4, 28)), (u'id', 129129)])]"
       ]
      },
      {
       "output_type": "stream",
       "stream": "stdout",
       "text": [
        "\n",
        "(6264) 128989,[OrderedDict([(u'title', u'Wimbledon live'), (u'start', datetime.datetime(2013, 7, 7, 14, 15)), (u'id', 128989)])]"
       ]
      },
      {
       "output_type": "stream",
       "stream": "stdout",
       "text": [
        "\n",
        "(6263) 128952,[OrderedDict([(u'title', u'Expertenrunde zum Thema \"Auto und Verkehr\"'), (u'start', datetime.datetime(2013, 6, 22, 9, 30)), (u'id', 128952)])]"
       ]
      },
      {
       "output_type": "stream",
       "stream": "stdout",
       "text": [
        "\n",
        "(6264) 128889,[OrderedDict([(u'title', u'Test Event'), (u'start', datetime.datetime(2013, 6, 21, 11, 50, 10)), (u'id', 128889)])]"
       ]
      },
      {
       "output_type": "stream",
       "stream": "stdout",
       "text": [
        "\n",
        "(6263) 128865,[OrderedDict([(u'title', u'Aktuelle Stunde Event 002'), (u'start', datetime.datetime(2013, 8, 22, 15, 51, 17)), (u'id', 128865)])]"
       ]
      },
      {
       "output_type": "stream",
       "stream": "stdout",
       "text": [
        "\n",
        "(6262) 128858,[OrderedDict([(u'title', u'Aktuelle Stunde Event 001'), (u'start', datetime.datetime(2013, 8, 22, 15, 47, 33)), (u'id', 128858)])]"
       ]
      },
      {
       "output_type": "stream",
       "stream": "stdout",
       "text": [
        "\n",
        "(6263) 128856,[OrderedDict([(u'title', u'WDR Event 108'), (u'start', datetime.datetime(2013, 6, 21, 11, 20, 50)), (u'id', 128856)])]"
       ]
      },
      {
       "output_type": "stream",
       "stream": "stdout",
       "text": [
        "\n",
        "(6262) 128797,[OrderedDict([(u'title', u'El Baskonia presenta a Sergio Scariolo'), (u'start', datetime.datetime(2013, 6, 21, 10, 7, 9)), (u'id', 128797)])]"
       ]
      },
      {
       "output_type": "stream",
       "stream": "stdout",
       "text": [
        "\n",
        "(6261) 128555,[OrderedDict([(u'title', u'Pre-Midterm Stress'), (u'start', datetime.datetime(2013, 6, 20, 22, 55, 4)), (u'id', 128555)])]"
       ]
      },
      {
       "output_type": "stream",
       "stream": "stdout",
       "text": [
        "\n",
        "(6260) 128414,[OrderedDict([(u'title', u'Protestos pelo pa\\xeds'), (u'start', datetime.datetime(2013, 6, 20, 21, 49, 59)), (u'id', 128414)])]"
       ]
      },
      {
       "output_type": "stream",
       "stream": "stdout",
       "text": [
        "\n",
        "(6259) 128354,[OrderedDict([(u'title', u'France Bleu f\\xeate la musique'), (u'start', datetime.datetime(2013, 6, 21, 9, 0)), (u'id', 128354)])]"
       ]
      },
      {
       "output_type": "stream",
       "stream": "stdout",
       "text": [
        "\n",
        "(6259) 128272,[OrderedDict([(u'title', u'Samsung Galaxy and Ativ live blog'), (u'start', datetime.datetime(2013, 6, 20, 16, 0)), (u'id', 128272)])]"
       ]
      },
      {
       "output_type": "stream",
       "stream": "stdout",
       "text": [
        "\n",
        "(6259) 128235,[OrderedDict([(u'title', u'Supreme Court decision on RoFo'), (u'start', datetime.datetime(2013, 6, 20, 15, 3, 48)), (u'id', 128235)])]"
       ]
      },
      {
       "output_type": "stream",
       "stream": "stdout",
       "text": [
        "\n",
        "(6260) 128225,[OrderedDict([(u'title', u'Flooding in Southern Alberta'), (u'start', datetime.datetime(2013, 6, 22, 3, 45)), (u'id', 128225)])]"
       ]
      },
      {
       "output_type": "stream",
       "stream": "stdout",
       "text": [
        "\n",
        "(6261) 128130,[OrderedDict([(u'title', u'Samsung Premiere 2013: Galaxy- und ATIV-Event in London'), (u'start', datetime.datetime(2013, 6, 20, 19, 43, 34)), (u'id', 128130)])]"
       ]
      },
      {
       "output_type": "stream",
       "stream": "stdout",
       "text": [
        "\n",
        "(6261) 134141,[OrderedDict([(u'title', u'Live Chat with Nadir - July 2013'), (u'start', datetime.datetime(2013, 6, 28, 15, 45)), (u'id', 134141)])]"
       ]
      },
      {
       "output_type": "stream",
       "stream": "stdout",
       "text": [
        "\n",
        "(6260) 128081,[OrderedDict([(u'title', u'test'), (u'start', datetime.datetime(2013, 6, 20, 10, 32, 37)), (u'id', 128081)])]"
       ]
      },
      {
       "output_type": "stream",
       "stream": "stdout",
       "text": [
        "\n",
        "(6260) 128017,[OrderedDict([(u'title', u'Question Time'), (u'start', datetime.datetime(2013, 6, 20, 6, 15)), (u'id', 128017)])]"
       ]
      },
      {
       "output_type": "stream",
       "stream": "stdout",
       "text": [
        "\n",
        "(6259) 128009,[OrderedDict([(u'title', u'LIVE Counties council'), (u'start', datetime.datetime(2013, 6, 20, 14, 30)), (u'id', 128009)])]"
       ]
      },
      {
       "output_type": "stream",
       "stream": "stdout",
       "text": [
        "\n",
        "(6260) 127966,[OrderedDict([(u'title', u'Live chat: Philip Duncan'), (u'start', datetime.datetime(2013, 6, 20, 2, 10, 21)), (u'id', 127966)])]"
       ]
      },
      {
       "output_type": "stream",
       "stream": "stdout",
       "text": [
        "\n",
        "(6259) 127915,[OrderedDict([(u'title', u'6-19-13: York Revs vs. Southern Maryland Blue Crabs'), (u'start', datetime.datetime(2013, 6, 20, 0, 0)), (u'id', 127915)])]"
       ]
      },
      {
       "output_type": "stream",
       "stream": "stdout",
       "text": [
        "\n",
        "(6258) 127898,[OrderedDict([(u'title', u'Solid Sound Festival 2013'), (u'start', datetime.datetime(2013, 6, 21, 22, 13, 55)), (u'id', 127898)])]"
       ]
      },
      {
       "output_type": "stream",
       "stream": "stdout",
       "text": [
        "\n",
        "(6258) 127633,[OrderedDict([(u'title', u'Les orages pr\\xe9vus ce mercredi soir'), (u'start', datetime.datetime(2013, 6, 19, 15, 51, 31)), (u'id', 127633)])]"
       ]
      },
      {
       "output_type": "stream",
       "stream": "stdout",
       "text": [
        "\n",
        "(6257) 127573,[OrderedDict([(u'title', u'Miles demo for Colleen'), (u'start', datetime.datetime(2013, 6, 19, 15, 20, 45)), (u'id', 127573)])]"
       ]
      },
      {
       "output_type": "stream",
       "stream": "stdout",
       "text": [
        "\n",
        "(6256) 127518,[OrderedDict([(u'title', u'n'), (u'start', datetime.datetime(2013, 6, 19, 14, 35, 12)), (u'id', 127518)])]"
       ]
      },
      {
       "output_type": "stream",
       "stream": "stdout",
       "text": [
        "\n",
        "(6255) 127501,[OrderedDict([(u'title', u'Midsommartrafiken p\\xe5 E22'), (u'start', datetime.datetime(2013, 6, 20, 9, 37, 16)), (u'id', 127501)])]"
       ]
      },
      {
       "output_type": "stream",
       "stream": "stdout",
       "text": [
        "\n",
        "(6255) 127376,[OrderedDict([(u'title', u'T-LSC-NL-20130618-LC-Halle - Ingooigem'), (u'start', datetime.datetime(2013, 6, 18, 0, 0)), (u'id', 127376)])]"
       ]
      },
      {
       "output_type": "stream",
       "stream": "stdout",
       "text": [
        "\n",
        "(6257) 127297,[OrderedDict([(u'title', u'Stoltenbergs pressekonferanse'), (u'start', datetime.datetime(2013, 6, 20, 8, 33, 25)), (u'id', 127297)])]"
       ]
      },
      {
       "output_type": "stream",
       "stream": "stdout",
       "text": [
        "\n",
        "(6256) 127283,[OrderedDict([(u'title', u'Mercato 19 juin'), (u'start', datetime.datetime(2013, 6, 19, 11, 8, 25)), (u'id', 127283)])]"
       ]
      },
      {
       "output_type": "stream",
       "stream": "stdout",
       "text": [
        "\n",
        "(6255) 127265,[OrderedDict([(u'title', u'F\\xf6lj l\\xe4get i midsommartrafiken'), (u'start', datetime.datetime(2013, 6, 20, 6, 30)), (u'id', 127265)])]"
       ]
      },
      {
       "output_type": "stream",
       "stream": "stdout",
       "text": [
        "\n",
        "(6254) 127247,[OrderedDict([(u'title', u'\\u039f\\u03bb\\u03c5\\u03bc\\u03c0\\u03b9\\u03b1\\u03ba\\u03cc\\u03c2 \\u0392\\u03cc\\u03bb\\u03bf\\u03c5-\\u03a0\\u03b1\\u03bd\\u03b1\\u03b9\\u03c4\\u03c9\\u03bb\\u03b9\\u03ba\\u03cc\\u03c2'), (u'start', datetime.datetime(2013, 6, 19, 14, 40, 10)), (u'id', 127247)])]"
       ]
      },
      {
       "output_type": "stream",
       "stream": "stdout",
       "text": [
        "\n",
        "(6253) 127243,[OrderedDict([(u'title', u'Sommererlebnis 2013'), (u'start', datetime.datetime(2013, 6, 27, 10, 24, 41)), (u'id', 127243)])]"
       ]
      },
      {
       "output_type": "stream",
       "stream": "stdout",
       "text": [
        "\n",
        "(6252) 127228,[OrderedDict([(u'title', u'Corren p\\xe5 Almedalsveckan'), (u'start', datetime.datetime(2013, 6, 28, 17, 24, 58)), (u'id', 127228)])]"
       ]
      },
      {
       "output_type": "stream",
       "stream": "stdout",
       "text": [
        "\n",
        "(6252) 127139,[OrderedDict([(u'title', u'Live blog: NBA Finals game six'), (u'start', datetime.datetime(2013, 6, 19, 1, 15)), (u'id', 127139)])]"
       ]
      },
      {
       "output_type": "stream",
       "stream": "stdout",
       "text": [
        "\n",
        "(6251) 160914,[OrderedDict([(u'title', u'Jury may start deliberating in Bulger trial'), (u'start', datetime.datetime(2013, 8, 6, 15, 56, 1)), (u'id', 160914)])]"
       ]
      },
      {
       "output_type": "stream",
       "stream": "stdout",
       "text": [
        "\n",
        "(6250) 127112,[OrderedDict([(u'title', u'City Council June 18'), (u'start', datetime.datetime(2013, 6, 18, 23, 45)), (u'id', 127112)])]"
       ]
      },
      {
       "output_type": "stream",
       "stream": "stdout",
       "text": [
        "\n",
        "(6251) 127096,[OrderedDict([(u'title', u'Rentebesluit Fed'), (u'start', datetime.datetime(2013, 6, 19, 21, 32, 48)), (u'id', 127096)])]"
       ]
      },
      {
       "output_type": "stream",
       "stream": "stdout",
       "text": [
        "\n",
        "(6250) 127091,[OrderedDict([(u'title', u'chat Nele'), (u'start', datetime.datetime(2013, 6, 20, 11, 56, 28)), (u'id', 127091)])]"
       ]
      },
      {
       "output_type": "stream",
       "stream": "stdout",
       "text": [
        "\n",
        "(6251) 127084,[OrderedDict([(u'title', u'North of England Athletics Championships'), (u'start', datetime.datetime(2013, 6, 22, 11, 53, 55)), (u'id', 127084)])]"
       ]
      },
      {
       "output_type": "stream",
       "stream": "stdout",
       "text": [
        "\n",
        "(6253) 127044,[OrderedDict([(u'title', u'LIRR Evening Commute 6/18'), (u'start', datetime.datetime(2013, 6, 18, 21, 16, 49)), (u'id', 127044)])]"
       ]
      },
      {
       "output_type": "stream",
       "stream": "stdout",
       "text": [
        "\n",
        "(6252) 126982,[OrderedDict([(u'title', u'FINAL BELL: The Last Day of School'), (u'start', datetime.datetime(2013, 6, 24, 15, 37, 14)), (u'id', 126982)])]"
       ]
      },
      {
       "output_type": "stream",
       "stream": "stdout",
       "text": [
        "\n",
        "(6253) 126934,[OrderedDict([(u'title', u'How A Strong Nonprofit Brand Can Boost Fundraising'), (u'start', datetime.datetime(2013, 6, 25, 18, 46, 27)), (u'id', 126934)])]"
       ]
      },
      {
       "output_type": "stream",
       "stream": "stdout",
       "text": [
        "\n",
        "(6253) 126819,[OrderedDict([(u'title', u'LIRR Commute Updates'), (u'start', datetime.datetime(2013, 6, 18, 21, 21, 2)), (u'id', 126819)])]"
       ]
      },
      {
       "output_type": "stream",
       "stream": "stdout",
       "text": [
        "\n",
        "(6253) 126737,[OrderedDict([(u'title', u'DASDING SOUTHSIDE LIVESTREAM KOMMENTARE'), (u'start', datetime.datetime(2013, 6, 25, 15, 29, 17)), (u'id', 126737)])]"
       ]
      },
      {
       "output_type": "stream",
       "stream": "stdout",
       "text": [
        "\n",
        "(6254) 126639,[OrderedDict([(u'title', u'Flair Midsummer Night'), (u'start', datetime.datetime(2013, 6, 18, 12, 37, 25)), (u'id', 126639)])]"
       ]
      },
      {
       "output_type": "stream",
       "stream": "stdout",
       "text": [
        "\n",
        "(6255) 126612,[OrderedDict([(u'title', u'India vs Australia live score'), (u'start', datetime.datetime(2013, 6, 18, 12, 26, 57)), (u'id', 126612)])]"
       ]
      },
      {
       "output_type": "stream",
       "stream": "stdout",
       "text": [
        "\n",
        "(6254) 126586,[OrderedDict([(u'title', u'#Temperaturen'), (u'start', datetime.datetime(2013, 6, 18, 16, 15)), (u'id', 126586)])]"
       ]
      },
      {
       "output_type": "stream",
       "stream": "stdout",
       "text": [
        "\n",
        "(6255) 126553,[OrderedDict([(u'title', u'midsommarBAKGRUND'), (u'start', datetime.datetime(2013, 6, 20, 8, 20, 5)), (u'id', 126553)])]"
       ]
      },
      {
       "output_type": "stream",
       "stream": "stdout",
       "text": [
        "\n",
        "(6255) 161242,[OrderedDict([(u'title', u'Federal hearing on funding needs for Orleans Parish Prison'), (u'start', datetime.datetime(2013, 8, 5, 15, 15)), (u'id', 161242)])]"
       ]
      },
      {
       "output_type": "stream",
       "stream": "stdout",
       "text": [
        "\n",
        "(6254) 163464,[OrderedDict([(u'title', u\"RBA's interest rates announcement with Business Reporter Stephen McMahon\"), (u'start', datetime.datetime(2013, 8, 6, 5, 30)), (u'id', 163464)])]"
       ]
      },
      {
       "output_type": "stream",
       "stream": "stdout",
       "text": [
        "\n",
        "(6253) 126461,[OrderedDict([(u'title', u'Aktuelle Stunde - Obama in Berlin'), (u'start', datetime.datetime(2013, 6, 19, 8, 30)), (u'id', 126461)])]"
       ]
      },
      {
       "output_type": "stream",
       "stream": "stdout",
       "text": [
        "\n",
        "(6252) 126443,[OrderedDict([(u'title', u'Brumbies v British & Irish Lions'), (u'start', datetime.datetime(2013, 6, 18, 11, 23, 7)), (u'id', 126443)])]"
       ]
      },
      {
       "output_type": "stream",
       "stream": "stdout",
       "text": [
        "\n",
        "(6253) 126338,[OrderedDict([(u'title', u'Register Citizen Newsroom Meeting for June 17, 2013'), (u'start', datetime.datetime(2013, 6, 17, 21, 17, 11)), (u'id', 126338)])]"
       ]
      },
      {
       "output_type": "stream",
       "stream": "stdout",
       "text": [
        "\n",
        "(6254) 126329,[OrderedDict([(u'title', u'Is Big Brother watching you?'), (u'start', datetime.datetime(2013, 6, 19, 21, 0)), (u'id', 126329)])]"
       ]
      },
      {
       "output_type": "stream",
       "stream": "stdout",
       "text": [
        "\n",
        "(6254) 126324,[OrderedDict([(u'title', u'Test'), (u'start', datetime.datetime(2013, 6, 17, 20, 29, 36)), (u'id', 126324)])]"
       ]
      },
      {
       "output_type": "stream",
       "stream": "stdout",
       "text": [
        "\n",
        "(6254) 126304,[OrderedDict([(u'title', u'Bachelorette - Desiree- Episode 4'), (u'start', datetime.datetime(2013, 6, 18, 1, 30)), (u'id', 126304)])]"
       ]
      },
      {
       "output_type": "stream",
       "stream": "stdout",
       "text": [
        "\n",
        "(6254) 126236,[OrderedDict([(u'title', u'WGBH Senate Debate - 6/18/13'), (u'start', datetime.datetime(2013, 6, 18, 23, 30)), (u'id', 126236)])]"
       ]
      },
      {
       "output_type": "stream",
       "stream": "stdout",
       "text": [
        "\n",
        "(6254) 126215,[OrderedDict([(u'title', u'Florida Roundup June 21'), (u'start', datetime.datetime(2013, 6, 17, 15, 3, 18)), (u'id', 126215)])]"
       ]
      },
      {
       "output_type": "stream",
       "stream": "stdout",
       "text": [
        "\n",
        "(6255) 126207,[OrderedDict([(u'title', u'El primer d\\xeda del AVE'), (u'start', datetime.datetime(2013, 6, 18, 7, 45)), (u'id', 126207)])]"
       ]
      },
      {
       "output_type": "stream",
       "stream": "stdout",
       "text": [
        "\n",
        "(6255) 126173,[OrderedDict([(u'title', u'Hockey : Belgique - Espagne'), (u'start', datetime.datetime(2013, 6, 17, 13, 33, 22)), (u'id', 126173)])]"
       ]
      },
      {
       "output_type": "stream",
       "stream": "stdout",
       "text": [
        "\n",
        "(6255) 178674,[OrderedDict([(u'title', u'F\\xf8lg Esbjerg og FCN i Europa League'), (u'start', datetime.datetime(2013, 8, 22, 15, 30)), (u'id', 178674)])]"
       ]
      },
      {
       "output_type": "stream",
       "stream": "stdout",
       "text": [
        "\n",
        "(6257) 126123,[OrderedDict([(u'title', u'New event'), (u'start', datetime.datetime(2013, 6, 17, 11, 34, 46)), (u'id', 126123)])]"
       ]
      },
      {
       "output_type": "stream",
       "stream": "stdout",
       "text": [
        "\n",
        "(6258) 126102,[OrderedDict([(u'title', u'NatWest Island Games 2013'), (u'start', datetime.datetime(2013, 7, 12, 15, 57)), (u'id', 126102)])]"
       ]
      },
      {
       "output_type": "stream",
       "stream": "stdout",
       "text": [
        "\n",
        "(6258) 136910,[OrderedDict([(u'title', u'A-LSC-FR-20130701-LC-Petra Kvitov\\xe1 - Kirsten Flipkens (Quart de finale)'), (u'start', datetime.datetime(2013, 7, 1, 0, 0)), (u'id', 136910)])]"
       ]
      },
      {
       "output_type": "stream",
       "stream": "stdout",
       "text": [
        "\n",
        "(6257) 126075,[OrderedDict([(u'title', u'The F365 Transfer Blog - Monday June 17'), (u'start', datetime.datetime(2013, 6, 17, 9, 16, 27)), (u'id', 126075)])]"
       ]
      },
      {
       "output_type": "stream",
       "stream": "stdout",
       "text": [
        "\n",
        "(6256) 126062,[OrderedDict([(u'title', u'Postmedia Mock'), (u'start', datetime.datetime(2013, 6, 17, 6, 45)), (u'id', 126062)])]"
       ]
      },
      {
       "output_type": "stream",
       "stream": "stdout",
       "text": [
        "\n",
        "(6255) 125931,[OrderedDict([(u'title', u'T-LSC-FR-20130616-UC-Espagne - Uruguay (Journ\\xe9e 1)'), (u'start', datetime.datetime(2013, 6, 16, 0, 0)), (u'id', 125931)])]"
       ]
      },
      {
       "output_type": "stream",
       "stream": "stdout",
       "text": [
        "\n",
        "(6254) 125732,[OrderedDict([(u'title', u'NBA Finals Game 5'), (u'start', datetime.datetime(2013, 6, 16, 19, 35, 40)), (u'id', 125732)])]"
       ]
      },
      {
       "output_type": "stream",
       "stream": "stdout",
       "text": [
        "\n",
        "(6254) 125547,[OrderedDict([(u'title', u'Alexis Davis UFC fight'), (u'start', datetime.datetime(2013, 6, 16, 3, 27, 7)), (u'id', 125547)])]"
       ]
      },
      {
       "output_type": "stream",
       "stream": "stdout",
       "text": [
        "\n",
        "(6255) 125532,[OrderedDict([(u'title', u'Juanma L\\xf3pez vs Mikey Garc\\xeda'), (u'start', datetime.datetime(2013, 6, 16, 4, 0)), (u'id', 125532)])]"
       ]
      },
      {
       "output_type": "stream",
       "stream": "stdout",
       "text": [
        "\n",
        "(6256) 124949,[OrderedDict([(u'title', u'Brooks and Coulson face trial'), (u'start', datetime.datetime(2013, 9, 9, 5, 0)), (u'id', 124949)])]"
       ]
      },
      {
       "output_type": "stream",
       "stream": "stdout",
       "text": [
        "\n",
        "(6256) 124936,[OrderedDict([(u'title', u'Labour Party Conference'), (u'start', datetime.datetime(2013, 9, 22, 3, 30)), (u'id', 124936)])]"
       ]
      },
      {
       "output_type": "stream",
       "stream": "stdout",
       "text": [
        "\n",
        "(6255) 133738,[OrderedDict([(u'title', u'Calgary Stampeders pre-season chat'), (u'start', datetime.datetime(2013, 6, 28, 22, 0)), (u'id', 133738)])]"
       ]
      },
      {
       "output_type": "stream",
       "stream": "stdout",
       "text": [
        "\n",
        "(6255) 124934,[OrderedDict([(u'title', u'test'), (u'start', datetime.datetime(2013, 6, 15, 3, 0, 9)), (u'id', 124934)])]"
       ]
      },
      {
       "output_type": "stream",
       "stream": "stdout",
       "text": [
        "\n",
        "(6255) 124933,[OrderedDict([(u'title', u'Liberal Democrat Party Conference'), (u'start', datetime.datetime(2013, 9, 14, 4, 45)), (u'id', 124933)])]"
       ]
      },
      {
       "output_type": "stream",
       "stream": "stdout",
       "text": [
        "\n",
        "(6254) 124890,[OrderedDict([(u'title', u'Anniversary of Assange embassy refuge'), (u'start', datetime.datetime(2013, 6, 19, 3, 30)), (u'id', 124890)])]"
       ]
      },
      {
       "output_type": "stream",
       "stream": "stdout",
       "text": [
        "\n",
        "(6254) 124854,[OrderedDict([(u'title', u'NBA Finals Game 5'), (u'start', datetime.datetime(2013, 6, 18, 23, 13, 30)), (u'id', 124854)])]"
       ]
      },
      {
       "output_type": "stream",
       "stream": "stdout",
       "text": [
        "\n",
        "(6255) 124792,[OrderedDict([(u'title', u'Baile de apresenta\\xe7\\xe3o das candidatas a rainha da Festa da Uva'), (u'start', datetime.datetime(2013, 6, 14, 22, 39, 24)), (u'id', 124792)])]"
       ]
      },
      {
       "output_type": "stream",
       "stream": "stdout",
       "text": [
        "\n",
        "(6254) 124720,[OrderedDict([(u'title', u'NFCE Twitter Mailbag 06/15/2013'), (u'start', datetime.datetime(2013, 6, 14, 21, 6, 52)), (u'id', 124720)])]"
       ]
      },
      {
       "output_type": "stream",
       "stream": "stdout",
       "text": [
        "\n",
        "(6253) 124709,[OrderedDict([(u'title', u'Girl Rising'), (u'start', datetime.datetime(2013, 6, 17, 2, 0)), (u'id', 124709)])]"
       ]
      },
      {
       "output_type": "stream",
       "stream": "stdout",
       "text": [
        "\n",
        "(6253) 124686,[OrderedDict([(u'title', u'AEK LIVE RADIO 14/6/2013'), (u'start', datetime.datetime(2013, 6, 14, 19, 54, 22)), (u'id', 124686)])]"
       ]
      },
      {
       "output_type": "stream",
       "stream": "stdout",
       "text": [
        "\n",
        "(6252) 124646,[OrderedDict([(u'title', u'Buoys for Sale'), (u'start', datetime.datetime(2013, 6, 14, 19, 4, 52)), (u'id', 124646)])]"
       ]
      },
      {
       "output_type": "stream",
       "stream": "stdout",
       "text": [
        "\n",
        "(6253) 124585,[OrderedDict([(u'title', u\"Allendria's twitter raw feed\"), (u'start', datetime.datetime(2013, 6, 14, 16, 39, 19)), (u'id', 124585)])]"
       ]
      },
      {
       "output_type": "stream",
       "stream": "stdout",
       "text": [
        "\n",
        "(6252) 124537,[OrderedDict([(u'title', u'Taylor Swift @ Rogers Centre'), (u'start', datetime.datetime(2013, 6, 17, 16, 49, 7)), (u'id', 124537)])]"
       ]
      },
      {
       "output_type": "stream",
       "stream": "stdout",
       "text": [
        "\n",
        "(6254) 124413,[OrderedDict([(u'title', u'Qvortrup m\\xf8der Thorning p\\xe5 Folkem\\xf8det'), (u'start', datetime.datetime(2013, 6, 14, 13, 59, 23)), (u'id', 124413)])]"
       ]
      },
      {
       "output_type": "stream",
       "stream": "stdout",
       "text": [
        "\n",
        "(6255) 124352,[OrderedDict([(u'title', u'T-LSC-NL-20130613-LC-Etappe 7: Meilen - La Punt'), (u'start', datetime.datetime(2013, 6, 13, 0, 0)), (u'id', 124352)])]"
       ]
      },
      {
       "output_type": "stream",
       "stream": "stdout",
       "text": [
        "\n",
        "(6257) 124286,[OrderedDict([(u'title', u'Mercato 14 juin'), (u'start', datetime.datetime(2013, 6, 14, 10, 7, 3)), (u'id', 124286)])]"
       ]
      },
      {
       "output_type": "stream",
       "stream": "stdout",
       "text": [
        "\n",
        "(6257) 132337,[OrderedDict([(u'title', u'Stephanie Miller Live Chat - 6/27'), (u'start', datetime.datetime(2013, 6, 27, 14, 45)), (u'id', 132337)])]"
       ]
      },
      {
       "output_type": "stream",
       "stream": "stdout",
       "text": [
        "\n",
        "(6256) 124266,[OrderedDict([(u'title', u'Hockey : Belgique - Australie'), (u'start', datetime.datetime(2013, 6, 14, 9, 12, 8)), (u'id', 124266)])]"
       ]
      },
      {
       "output_type": "stream",
       "stream": "stdout",
       "text": [
        "\n",
        "(6256) 124264,[OrderedDict([(u'title', u'11h02: Faut-il encourager les heures suppl\\xe9mentaires?'), (u'start', datetime.datetime(2013, 6, 14, 9, 10, 8)), (u'id', 124264)])]"
       ]
      },
      {
       "output_type": "stream",
       "stream": "stdout",
       "text": [
        "\n",
        "(6259) 161053,[OrderedDict([(u'title', u'Boots and Hearts 2013'), (u'start', datetime.datetime(2013, 8, 2, 18, 15, 19)), (u'id', 161053)])]"
       ]
      },
      {
       "output_type": "stream",
       "stream": "stdout",
       "text": [
        "\n",
        "(6260) 124251,[OrderedDict([(u'title', u'Incidents as they happen, Friday, June 14, 2013'), (u'start', datetime.datetime(2013, 6, 14, 9, 0)), (u'id', 124251)])]"
       ]
      },
      {
       "output_type": "stream",
       "stream": "stdout",
       "text": [
        "\n",
        "(6259) 123991,[OrderedDict([(u'title', u'Register Citizen Newsroom Meeting for June 14, 2013'), (u'start', datetime.datetime(2013, 6, 13, 20, 44, 25)), (u'id', 123991)])]"
       ]
      },
      {
       "output_type": "stream",
       "stream": "stdout",
       "text": [
        "\n",
        "(6259) 123938,[OrderedDict([(u'title', u'U.S. Open golf'), (u'start', datetime.datetime(2013, 6, 13, 20, 6, 27)), (u'id', 123938)])]"
       ]
      },
      {
       "output_type": "stream",
       "stream": "stdout",
       "text": [
        "\n",
        "(6259) 123931,[OrderedDict([(u'title', u\"Maclean's Live: Question Period\"), (u'start', datetime.datetime(2013, 6, 13, 20, 4, 5)), (u'id', 123931)])]"
       ]
      },
      {
       "output_type": "stream",
       "stream": "stdout",
       "text": [
        "\n",
        "(6258) 123814,[OrderedDict([(u'title', u'Stephanie Miller Live Chat - 6/14'), (u'start', datetime.datetime(2013, 6, 14, 14, 45)), (u'id', 123814)])]"
       ]
      },
      {
       "output_type": "stream",
       "stream": "stdout",
       "text": [
        "\n",
        "(6258) 123804,[OrderedDict([(u'title', u'Medlemsm\\xf8te Brann'), (u'start', datetime.datetime(2013, 6, 14, 7, 24, 43)), (u'id', 123804)])]"
       ]
      },
      {
       "output_type": "stream",
       "stream": "stdout",
       "text": [
        "\n",
        "(6259) 123663,[OrderedDict([(u'title', u'Elements Proc\\xe8s MPT'), (u'start', datetime.datetime(2013, 7, 9, 17, 58, 36)), (u'id', 123663)])]"
       ]
      },
      {
       "output_type": "stream",
       "stream": "stdout",
       "text": [
        "\n",
        "(6258) 123636,[OrderedDict([(u'title', u'Bill Press Live Chat - 6/18'), (u'start', datetime.datetime(2013, 6, 18, 11, 45)), (u'id', 123636)])]"
       ]
      },
      {
       "output_type": "stream",
       "stream": "stdout",
       "text": [
        "\n",
        "(6258) 123589,[OrderedDict([(u'title', u'Obs debatt fackf\\xf6reningar'), (u'start', datetime.datetime(2013, 6, 13, 14, 30)), (u'id', 123589)])]"
       ]
      },
      {
       "output_type": "stream",
       "stream": "stdout",
       "text": [
        "\n",
        "(6258) 126343,[OrderedDict([(u'title', u'T-LSC-FR-20130616-UC-Tahiti - Nigeria (Journ\\xe9e 1)'), (u'start', datetime.datetime(2013, 6, 16, 6, 0)), (u'id', 126343)])]"
       ]
      },
      {
       "output_type": "stream",
       "stream": "stdout",
       "text": [
        "\n",
        "(6258) 144387,[OrderedDict([(u'title', u'Tour de France Stage 12 Live'), (u'start', datetime.datetime(2013, 7, 11, 16, 1, 43)), (u'id', 144387)])]"
       ]
      },
      {
       "output_type": "stream",
       "stream": "stdout",
       "text": [
        "\n",
        "(6261) 123542,[OrderedDict([(u'title', u'Anna Zischka'), (u'start', datetime.datetime(2013, 6, 13, 13, 58, 31)), (u'id', 123542)])]"
       ]
      },
      {
       "output_type": "stream",
       "stream": "stdout",
       "text": [
        "\n",
        "(6260) 123522,[OrderedDict([(u'title', u'Sagen Sie Danke mit den \"Hits f\\xfcr Helfer\"'), (u'start', datetime.datetime(2013, 6, 18, 9, 45)), (u'id', 123522)])]"
       ]
      },
      {
       "output_type": "stream",
       "stream": "stdout",
       "text": [
        "\n",
        "(6261) 123405,[OrderedDict([(u'title', u'T-LSC-NL-20130606-UC-Etappe 6: La L\\xe9ch\\xe8re - Grenoble'), (u'start', datetime.datetime(2013, 6, 6, 0, 0)), (u'id', 123405)])]"
       ]
      },
      {
       "output_type": "stream",
       "stream": "stdout",
       "text": [
        "\n",
        "(6263) 123354,[OrderedDict([(u'title', u'Follow The Voice Twitter'), (u'start', datetime.datetime(2013, 6, 14, 0, 45)), (u'id', 123354)])]"
       ]
      },
      {
       "output_type": "stream",
       "stream": "stdout",
       "text": [
        "\n",
        "(6265) 123351,[OrderedDict([(u'title', u'Follow ricky_martin JoelMadden seal Tweets'), (u'start', datetime.datetime(2013, 6, 14, 0, 45)), (u'id', 123351)])]"
       ]
      },
      {
       "output_type": "stream",
       "stream": "stdout",
       "text": [
        "\n",
        "(6266) 160144,[OrderedDict([(u'title', u'WDR 2 LigaLive, 4. Spieltag'), (u'start', datetime.datetime(2013, 8, 31, 14, 0)), (u'id', 160144)])]"
       ]
      },
      {
       "output_type": "stream",
       "stream": "stdout",
       "text": [
        "\n",
        "(6265) 123341,[OrderedDict([(u'title', u'Ph\\u1ecfng v\\u1ea5n tr\\u1ef1c tuy\\u1ebfn'), (u'start', datetime.datetime(2013, 6, 13, 3, 30)), (u'id', 123341)])]"
       ]
      },
      {
       "output_type": "stream",
       "stream": "stdout",
       "text": [
        "\n",
        "(6264) 123295,[OrderedDict([(u'title', u'Minister for Primary Industries Nathan Guy'), (u'start', datetime.datetime(2013, 6, 13, 1, 30)), (u'id', 123295)])]"
       ]
      },
      {
       "output_type": "stream",
       "stream": "stdout",
       "text": [
        "\n",
        "(6265) 123132,[OrderedDict([(u'title', u'Ed Sheeran Live'), (u'start', datetime.datetime(2013, 6, 14, 15, 5, 40)), (u'id', 123132)])]"
       ]
      },
      {
       "output_type": "stream",
       "stream": "stdout",
       "text": [
        "\n",
        "(6264) 123102,[OrderedDict([(u'title', u'Image Event'), (u'start', datetime.datetime(2013, 6, 12, 19, 28, 5)), (u'id', 123102)])]"
       ]
      },
      {
       "output_type": "stream",
       "stream": "stdout",
       "text": [
        "\n",
        "(6263) 123070,[OrderedDict([(u'title', u'News1130 Traffic'), (u'start', datetime.datetime(2013, 6, 12, 18, 45)), (u'id', 123070)])]"
       ]
      },
      {
       "output_type": "stream",
       "stream": "stdout",
       "text": [
        "\n",
        "(6265) 122984,[OrderedDict([(u'title', u'UofT turf debate'), (u'start', datetime.datetime(2013, 6, 12, 16, 32, 49)), (u'id', 122984)])]"
       ]
      },
      {
       "output_type": "stream",
       "stream": "stdout",
       "text": [
        "\n",
        "(6264) 122953,[OrderedDict([(u'title', u'Guanella - Prova Confederations Cup'), (u'start', datetime.datetime(2013, 6, 12, 15, 57, 41)), (u'id', 122953)])]"
       ]
      },
      {
       "output_type": "stream",
       "stream": "stdout",
       "text": [
        "\n",
        "(6265) 122784,[OrderedDict([(u'title', u'Bill Press Live Chat - 6/12'), (u'start', datetime.datetime(2013, 6, 12, 11, 45)), (u'id', 122784)])]"
       ]
      },
      {
       "output_type": "stream",
       "stream": "stdout",
       "text": [
        "\n",
        "(6267) 122453,[OrderedDict([(u'title', u'trip'), (u'start', datetime.datetime(2013, 6, 27, 14, 59, 46)), (u'id', 122453)])]"
       ]
      },
      {
       "output_type": "stream",
       "stream": "stdout",
       "text": [
        "\n",
        "(6267) 122409,[OrderedDict([(u'title', u'LIVE COVERAGE: Brockville city council'), (u'start', datetime.datetime(2013, 6, 12, 1, 0)), (u'id', 122409)])]"
       ]
      },
      {
       "output_type": "stream",
       "stream": "stdout",
       "text": [
        "\n",
        "(6266) 126814,[OrderedDict([(u'title', u'T-LSC-NL-20130622-LC-Nigeria - Spanje (Speeldag 3)'), (u'start', datetime.datetime(2013, 6, 22, 0, 0)), (u'id', 126814)])]"
       ]
      },
      {
       "output_type": "stream",
       "stream": "stdout",
       "text": [
        "\n",
        "(6266) 122405,[OrderedDict([(u'title', u\"Giving USA: What's Ahead for Fundraising?\"), (u'start', datetime.datetime(2013, 6, 18, 18, 44, 55)), (u'id', 122405)])]"
       ]
      },
      {
       "output_type": "stream",
       "stream": "stdout",
       "text": [
        "\n",
        "(6267) 122379,[OrderedDict([(u'title', u'Eliminatorias Fecha 14'), (u'start', datetime.datetime(2013, 6, 11, 20, 4, 8)), (u'id', 122379)])]"
       ]
      },
      {
       "output_type": "stream",
       "stream": "stdout",
       "text": [
        "\n",
        "(6266) 154505,[OrderedDict([(u'title', u'Lituania-Espa\\xf1a, en directo'), (u'start', datetime.datetime(2013, 7, 23, 17, 31, 28)), (u'id', 154505)])]"
       ]
      },
      {
       "output_type": "stream",
       "stream": "stdout",
       "text": [
        "\n",
        "(6266) 122372,[OrderedDict([(u'title', u'Colombia  Per\\xfa'), (u'start', datetime.datetime(2013, 6, 11, 19, 41, 8)), (u'id', 122372)])]"
       ]
      },
      {
       "output_type": "stream",
       "stream": "stdout",
       "text": [
        "\n",
        "(6265) 122363,[OrderedDict([(u'title', u'AEK LIVE RADIO 11/6/2013'), (u'start', datetime.datetime(2013, 6, 11, 19, 2, 21)), (u'id', 122363)])]"
       ]
      },
      {
       "output_type": "stream",
       "stream": "stdout",
       "text": [
        "\n",
        "(6265) 122326,[OrderedDict([(u'title', u\"Maclean's Live: Question Period, June 11\"), (u'start', datetime.datetime(2013, 6, 12, 3, 18, 55)), (u'id', 122326)])]"
       ]
      },
      {
       "output_type": "stream",
       "stream": "stdout",
       "text": [
        "\n",
        "(6267) 122322,[OrderedDict([(u'title', u'#BanlieueLaNuit'), (u'start', datetime.datetime(2013, 6, 12, 17, 30)), (u'id', 122322)])]"
       ]
      },
      {
       "output_type": "stream",
       "stream": "stdout",
       "text": [
        "\n",
        "(6267) 122292,[OrderedDict([(u'title', u'Tchatez en direct avec notre journaliste Faten Hayed de retour du Mali'), (u'start', datetime.datetime(2013, 6, 12, 15, 55, 18)), (u'id', 122292)])]"
       ]
      },
      {
       "output_type": "stream",
       "stream": "stdout",
       "text": [
        "\n",
        "(6266) 122219,[OrderedDict([(u'title', u'Event title LIVE'), (u'start', datetime.datetime(2013, 6, 11, 15, 16, 13)), (u'id', 122219)])]"
       ]
      },
      {
       "output_type": "stream",
       "stream": "stdout",
       "text": [
        "\n",
        "(6266) 122186,[OrderedDict([(u'title', u'Stephanie Miller Live Chat - 6/11'), (u'start', datetime.datetime(2013, 6, 11, 14, 45)), (u'id', 122186)])]"
       ]
      },
      {
       "output_type": "stream",
       "stream": "stdout",
       "text": [
        "\n",
        "(6265) 147137,[OrderedDict([(u'title', u'MLB All-Star Week: Twitter updates'), (u'start', datetime.datetime(2013, 7, 16, 0, 17, 11)), (u'id', 147137)])]"
       ]
      },
      {
       "output_type": "stream",
       "stream": "stdout",
       "text": [
        "\n",
        "(6265) 122171,[OrderedDict([(u'title', u'Nelson Mandela'), (u'start', datetime.datetime(2013, 6, 23, 22, 0)), (u'id', 122171)])]"
       ]
      },
      {
       "output_type": "stream",
       "stream": "stdout",
       "text": [
        "\n",
        "(6265) 122125,[OrderedDict([(u'title', u'test nachrichten'), (u'start', datetime.datetime(2013, 6, 11, 13, 8, 51)), (u'id', 122125)])]"
       ]
      },
      {
       "output_type": "stream",
       "stream": "stdout",
       "text": [
        "\n",
        "(6266) 122044,[OrderedDict([(u'title', u'T-LSC-NL-20130610-UC-Etappe 4: Innertkirchen - Buochs'), (u'start', datetime.datetime(2013, 6, 10, 0, 0)), (u'id', 122044)])]"
       ]
      },
      {
       "output_type": "stream",
       "stream": "stdout",
       "text": [
        "\n",
        "(6266) 121922,[OrderedDict([(u'title', u'K\\xf6ln Gestank'), (u'start', datetime.datetime(2013, 6, 11, 10, 45)), (u'id', 121922)])]"
       ]
      },
      {
       "output_type": "stream",
       "stream": "stdout",
       "text": [
        "\n",
        "(6266) 121865,[OrderedDict([(u'title', u'Mandela - bakgrund'), (u'start', datetime.datetime(2013, 7, 9, 16, 2, 29)), (u'id', 121865)])]"
       ]
      },
      {
       "output_type": "stream",
       "stream": "stdout",
       "text": [
        "\n",
        "(6265) 121703,[OrderedDict([(u'title', u'E3 2013 - En directo: Conferencia de Sony'), (u'start', datetime.datetime(2013, 6, 11, 2, 52, 57)), (u'id', 121703)])]"
       ]
      },
      {
       "output_type": "stream",
       "stream": "stdout",
       "text": [
        "\n",
        "(6264) 121702,[OrderedDict([(u'title', u'Conferencia Sony E3'), (u'start', datetime.datetime(2013, 6, 11, 2, 50, 31)), (u'id', 121702)])]"
       ]
      },
      {
       "output_type": "stream",
       "stream": "stdout",
       "text": [
        "\n",
        "(6263) 121695,[OrderedDict([(u'title', u'Walk through test'), (u'start', datetime.datetime(2013, 6, 11, 2, 29, 36)), (u'id', 121695)])]"
       ]
      },
      {
       "output_type": "stream",
       "stream": "stdout",
       "text": [
        "\n",
        "(6262) 121652,[OrderedDict([(u'title', u'Live from Fieldays 2013'), (u'start', datetime.datetime(2013, 6, 24, 22, 22, 5)), (u'id', 121652)])]"
       ]
      },
      {
       "output_type": "stream",
       "stream": "stdout",
       "text": [
        "\n",
        "(6262) 121584,[OrderedDict([(u'title', u'E3 2013 - Conf\\xe9rence Sony - www.ffring.com'), (u'start', datetime.datetime(2013, 6, 11, 2, 38, 6)), (u'id', 121584)])]"
       ]
      },
      {
       "output_type": "stream",
       "stream": "stdout",
       "text": [
        "\n",
        "(6261) 121527,[OrderedDict([(u'title', u'Virtual town hall with Santa Cruz County Supervisors'), (u'start', datetime.datetime(2013, 6, 10, 21, 0)), (u'id', 121527)])]"
       ]
      },
      {
       "output_type": "stream",
       "stream": "stdout",
       "text": [
        "\n",
        "(6260) 121508,[OrderedDict([(u'title', u'LIVE: Belleville council, June 10'), (u'start', datetime.datetime(2013, 6, 10, 21, 56, 47)), (u'id', 121508)])]"
       ]
      },
      {
       "output_type": "stream",
       "stream": "stdout",
       "text": [
        "\n",
        "(6260) 121449,[OrderedDict([(u'title', u'Collingwood Town Council \\u2014 June 10'), (u'start', datetime.datetime(2013, 6, 10, 22, 45)), (u'id', 121449)])]"
       ]
      },
      {
       "output_type": "stream",
       "stream": "stdout",
       "text": [
        "\n",
        "(6260) 121137,[OrderedDict([(u'title', u'EA @E3 Live Blog at 1PM PT/4PM ET'), (u'start', datetime.datetime(2013, 6, 10, 21, 45)), (u'id', 121137)])]"
       ]
      },
      {
       "output_type": "stream",
       "stream": "stdout",
       "text": [
        "\n",
        "(6260) 121019,[OrderedDict([(u'title', u\"Sony's PS4 press conference at E3\"), (u'start', datetime.datetime(2013, 6, 10, 20, 9, 16)), (u'id', 121019)])]"
       ]
      },
      {
       "output_type": "stream",
       "stream": "stdout",
       "text": [
        "\n",
        "(6260) 120880,[OrderedDict([(u'title', u'CU Buffs football chat with Kyle Ringo, June 10, 2013'), (u'start', datetime.datetime(2013, 6, 10, 20, 0)), (u'id', 120880)])]"
       ]
      },
      {
       "output_type": "stream",
       "stream": "stdout",
       "text": [
        "\n",
        "(6260) 175888,[OrderedDict([(u'title', u'#RealaEuropara'), (u'start', datetime.datetime(2013, 8, 20, 10, 40, 52)), (u'id', 175888)])]"
       ]
      },
      {
       "output_type": "stream",
       "stream": "stdout",
       "text": [
        "\n",
        "(6261) 120554,[OrderedDict([(u'title', u'\\u0395\\u03c0\\u03b9-\\u03b8\\u03b5\\u03c4\\u03b9\\u03ba\\u03ac'), (u'start', datetime.datetime(2013, 6, 10, 18, 53, 53)), (u'id', 120554)])]"
       ]
      },
      {
       "output_type": "stream",
       "stream": "stdout",
       "text": [
        "\n",
        "(6261) 120506,[OrderedDict([(u'title', u'Apple WWDC 2013 Keynote RingHK.com'), (u'start', datetime.datetime(2013, 6, 10, 6, 30)), (u'id', 120506)])]"
       ]
      },
      {
       "output_type": "stream",
       "stream": "stdout",
       "text": [
        "\n",
        "(6262) 120504,[OrderedDict([(u'title', u'e3 2013 | Xbox'), (u'start', datetime.datetime(2013, 6, 10, 18, 37, 50)), (u'id', 120504)])]"
       ]
      },
      {
       "output_type": "stream",
       "stream": "stdout",
       "text": [
        "\n",
        "(6262) 120454,[OrderedDict([(u'title', u'Microsoft and Apple Live Chats'), (u'start', datetime.datetime(2013, 6, 10, 18, 17, 17)), (u'id', 120454)])]"
       ]
      },
      {
       "output_type": "stream",
       "stream": "stdout",
       "text": [
        "\n",
        "(6262) 120371,[OrderedDict([(u'title', u\"Live From Apple's WWDC 2013 Keynote\"), (u'start', datetime.datetime(2013, 6, 10, 19, 0)), (u'id', 120371)])]"
       ]
      },
      {
       "output_type": "stream",
       "stream": "stdout",
       "text": [
        "\n",
        "(6261) 120221,[OrderedDict([(u'title', u'Partiledardebatt i riksdagen'), (u'start', datetime.datetime(2013, 6, 12, 8, 45)), (u'id', 120221)])]"
       ]
      },
      {
       "output_type": "stream",
       "stream": "stdout",
       "text": [
        "\n",
        "(6263) 120213,[OrderedDict([(u'title', u'WWDC 2013 Keynote'), (u'start', datetime.datetime(2013, 6, 10, 15, 0)), (u'id', 120213)])]"
       ]
      },
      {
       "output_type": "stream",
       "stream": "stdout",
       "text": [
        "\n",
        "(6262) 120199,[OrderedDict([(u'title', u'Robin with Translate Media Real Event'), (u'start', datetime.datetime(2013, 6, 10, 14, 53, 44)), (u'id', 120199)])]"
       ]
      },
      {
       "output_type": "stream",
       "stream": "stdout",
       "text": [
        "\n",
        "(6261) 120113,[OrderedDict([(u'title', u'Evento Especial da Apple \\u2014 WWDC'), (u'start', datetime.datetime(2013, 6, 10, 14, 12, 5)), (u'id', 120113)])]"
       ]
      },
      {
       "output_type": "stream",
       "stream": "stdout",
       "text": [
        "\n",
        "(6261) 120093,[OrderedDict([(u'title', u'WWDC 2013'), (u'start', datetime.datetime(2013, 6, 10, 14, 3, 5)), (u'id', 120093)])]"
       ]
      },
      {
       "output_type": "stream",
       "stream": "stdout",
       "text": [
        "\n",
        "(6261) 120068,[OrderedDict([(u'title', u'Partiledardebatten'), (u'start', datetime.datetime(2013, 6, 12, 8, 45)), (u'id', 120068)])]"
       ]
      },
      {
       "output_type": "stream",
       "stream": "stdout",
       "text": [
        "\n",
        "(6261) 120062,[OrderedDict([(u'title', u'T-LSC-NL-20130611-LC-Etappe 5: Buochs - Leuggern'), (u'start', datetime.datetime(2013, 6, 11, 0, 0)), (u'id', 120062)])]"
       ]
      },
      {
       "output_type": "stream",
       "stream": "stdout",
       "text": [
        "\n",
        "(6260) 120060,[OrderedDict([(u'title', u'T-LSC-NL-20130609-LC-Etappe 3: Montreux - Meiringen'), (u'start', datetime.datetime(2013, 6, 9, 0, 0)), (u'id', 120060)])]"
       ]
      },
      {
       "output_type": "stream",
       "stream": "stdout",
       "text": [
        "\n",
        "(6259) 120038,[OrderedDict([(u'title', u'Ihr Vormittag, 12.06.2013'), (u'start', datetime.datetime(2013, 6, 12, 10, 11, 57)), (u'id', 120038)])]"
       ]
      },
      {
       "output_type": "stream",
       "stream": "stdout",
       "text": [
        "\n",
        "(6259) 120025,[OrderedDict([(u'title', u'Best of RaR'), (u'start', datetime.datetime(2013, 6, 17, 14, 22, 15)), (u'id', 120025)])]"
       ]
      },
      {
       "output_type": "stream",
       "stream": "stdout",
       "text": [
        "\n",
        "(6258) 138568,[OrderedDict([(u'title', u'Gettysburg 150th: Live coverage from the battlefield for July 4'), (u'start', datetime.datetime(2013, 7, 4, 14, 19, 7)), (u'id', 138568)])]"
       ]
      },
      {
       "output_type": "stream",
       "stream": "stdout",
       "text": [
        "\n",
        "(6260) 120012,[OrderedDict([(u'title', u'TT Live Sverige mot F\\xe4r\\xf6arna'), (u'start', datetime.datetime(2013, 6, 10, 12, 43, 29)), (u'id', 120012)])]"
       ]
      },
      {
       "output_type": "stream",
       "stream": "stdout",
       "text": [
        "\n",
        "(6260) 137891,[OrderedDict([(u'title', u'Chat Elise'), (u'start', datetime.datetime(2013, 7, 24, 19, 33, 38)), (u'id', 137891)])]"
       ]
      },
      {
       "output_type": "stream",
       "stream": "stdout",
       "text": [
        "\n",
        "(6262) 119870,[OrderedDict([(u'title', u'test 2'), (u'start', datetime.datetime(2013, 6, 10, 8, 35, 13)), (u'id', 119870)])]"
       ]
      },
      {
       "output_type": "stream",
       "stream": "stdout",
       "text": [
        "\n",
        "(6263) 119868,[OrderedDict([(u'title', u\"'The Bachelorette' live chat: Week 3\"), (u'start', datetime.datetime(2013, 6, 11, 1, 56, 20)), (u'id', 119868)])]"
       ]
      },
      {
       "output_type": "stream",
       "stream": "stdout",
       "text": [
        "\n",
        "(6263) 119867,[OrderedDict([(u'title', u'Json on 10th june(119867)'), (u'start', datetime.datetime(2013, 6, 11, 9, 25, 5)), (u'id', 119867)])]"
       ]
      },
      {
       "output_type": "stream",
       "stream": "stdout",
       "text": [
        "\n",
        "(6265) 119777,[OrderedDict([(u'title', u'Bula 2013'), (u'start', datetime.datetime(2013, 6, 9, 23, 33, 18)), (u'id', 119777)])]"
       ]
      },
      {
       "output_type": "stream",
       "stream": "stdout",
       "text": [
        "\n",
        "(6264) 119748,[OrderedDict([(u'title', u'Xbox One at E3 - Begins at 12:30P ET'), (u'start', datetime.datetime(2013, 6, 10, 16, 15)), (u'id', 119748)])]"
       ]
      },
      {
       "output_type": "stream",
       "stream": "stdout",
       "text": [
        "\n",
        "(6264) 119738,[OrderedDict([(u'title', u'NBA Finals Game 2'), (u'start', datetime.datetime(2013, 6, 13, 23, 1, 26)), (u'id', 119738)])]"
       ]
      },
      {
       "output_type": "stream",
       "stream": "stdout",
       "text": [
        "\n",
        "(6263) 119564,[OrderedDict([(u'title', u'Test 32'), (u'start', datetime.datetime(2013, 6, 10, 11, 8, 59)), (u'id', 119564)])]"
       ]
      },
      {
       "output_type": "stream",
       "stream": "stdout",
       "text": [
        "\n",
        "(6264) 119462,[OrderedDict([(u'title', u'Kings vs. Blackhawks, June 8'), (u'start', datetime.datetime(2013, 6, 9, 1, 45)), (u'id', 119462)])]"
       ]
      },
      {
       "output_type": "stream",
       "stream": "stdout",
       "text": [
        "\n",
        "(6263) 119436,[OrderedDict([(u'title', u'Caminata Da vida de Raymond Arrieta - D\\xeda 4'), (u'start', datetime.datetime(2013, 6, 9, 14, 0)), (u'id', 119436)])]"
       ]
      },
      {
       "output_type": "stream",
       "stream": "stdout",
       "text": [
        "\n",
        "(6265) 119421,[OrderedDict([(u'title', u'AskCrofty'), (u'start', datetime.datetime(2013, 7, 7, 12, 11, 36)), (u'id', 119421)])]"
       ]
      },
      {
       "output_type": "stream",
       "stream": "stdout",
       "text": [
        "\n",
        "(6265) 119347,[OrderedDict([(u'title', u'Caudal - Hospitalet'), (u'start', datetime.datetime(2013, 6, 8, 18, 0)), (u'id', 119347)])]"
       ]
      },
      {
       "output_type": "stream",
       "stream": "stdout",
       "text": [
        "\n",
        "(6264) 119263,[OrderedDict([(u'title', u'T-LSC-NL-20130607-LC-Serena Williams - Maria Sharapova (Finale)'), (u'start', datetime.datetime(2013, 6, 7, 0, 0)), (u'id', 119263)])]"
       ]
      },
      {
       "output_type": "stream",
       "stream": "stdout",
       "text": [
        "\n",
        "(6267) 118977,[OrderedDict([(u'title', u'Apple WWDC 2013 \\u73fe\\u5834\\u5716\\u6587\\u8f49\\u64ad\\uff01'), (u'start', datetime.datetime(2013, 6, 8, 10, 45)), (u'id', 118977)])]"
       ]
      },
      {
       "output_type": "stream",
       "stream": "stdout",
       "text": [
        "\n",
        "(6266) 127145,[OrderedDict([(u'title', u'Live chat with former UW guard Will Conroy'), (u'start', datetime.datetime(2013, 6, 19, 19, 30, 47)), (u'id', 127145)])]"
       ]
      },
      {
       "output_type": "stream",
       "stream": "stdout",
       "text": [
        "\n",
        "(6265) 118939,[OrderedDict([(u'title', u'F\\xf8lg Raumerrittet live!'), (u'start', datetime.datetime(2013, 6, 8, 7, 15)), (u'id', 118939)])]"
       ]
      },
      {
       "output_type": "stream",
       "stream": "stdout",
       "text": [
        "\n",
        "(6265) 118831,[OrderedDict([(u'title', u'Northeastern PIAA final live chat'), (u'start', datetime.datetime(2013, 6, 8, 14, 57, 8)), (u'id', 118831)])]"
       ]
      },
      {
       "output_type": "stream",
       "stream": "stdout",
       "text": [
        "\n",
        "(6265) 118752,[OrderedDict([(u'title', u\"OPP consent decree hearing: Sheriff's budget, day 1\"), (u'start', datetime.datetime(2013, 6, 10, 15, 15)), (u'id', 118752)])]"
       ]
      },
      {
       "output_type": "stream",
       "stream": "stdout",
       "text": [
        "\n",
        "(6264) 118631,[OrderedDict([(u'title', u'E3 2013 - Conf\\xe9rence Electronic Arts - Staff'), (u'start', datetime.datetime(2013, 6, 7, 20, 26, 45)), (u'id', 118631)])]"
       ]
      },
      {
       "output_type": "stream",
       "stream": "stdout",
       "text": [
        "\n",
        "(6264) 118623,[OrderedDict([(u'title', u'E3 2013 - Conf\\xe9rence Ubisoft - Staff'), (u'start', datetime.datetime(2013, 6, 7, 20, 23, 7)), (u'id', 118623)])]"
       ]
      },
      {
       "output_type": "stream",
       "stream": "stdout",
       "text": [
        "\n",
        "(6265) 118615,[OrderedDict([(u'title', u'E3 2013 - Conf\\xe9rence Microsoft - Staff'), (u'start', datetime.datetime(2013, 6, 7, 20, 15)), (u'id', 118615)])]"
       ]
      },
      {
       "output_type": "stream",
       "stream": "stdout",
       "text": [
        "\n",
        "(6265) 118608,[OrderedDict([(u'title', u'E3 2013 - Conf\\xe9rence Sony - Staff'), (u'start', datetime.datetime(2013, 6, 7, 20, 15)), (u'id', 118608)])]"
       ]
      },
      {
       "output_type": "stream",
       "stream": "stdout",
       "text": [
        "\n",
        "(6265) 118603,[OrderedDict([(u'title', u'WWDC 2013 - Conf\\xe9rence Apple - Staff'), (u'start', datetime.datetime(2013, 6, 7, 20, 16, 8)), (u'id', 118603)])]"
       ]
      },
      {
       "output_type": "stream",
       "stream": "stdout",
       "text": [
        "\n",
        "(6266) 118597,[OrderedDict([(u'title', u'WWDC 2013 - Conf\\xe9rence Apple - Commentaires'), (u'start', datetime.datetime(2013, 6, 7, 20, 11, 32)), (u'id', 118597)])]"
       ]
      },
      {
       "output_type": "stream",
       "stream": "stdout",
       "text": [
        "\n",
        "(6266) 118557,[OrderedDict([(u'title', u'FIFA Confederations Cup'), (u'start', datetime.datetime(2013, 6, 11, 17, 30)), (u'id', 118557)])]"
       ]
      },
      {
       "output_type": "stream",
       "stream": "stdout",
       "text": [
        "\n",
        "(6267) 118508,[OrderedDict([(u'title', u'\\u0394\\u03c5\\u03bd\\u03b1\\u03bc\\u03b7 \\u03c3\\u03bf\\u03c5 7/6/2013'), (u'start', datetime.datetime(2013, 6, 7, 18, 16, 47)), (u'id', 118508)])]"
       ]
      },
      {
       "output_type": "stream",
       "stream": "stdout",
       "text": [
        "\n",
        "(6266) 118492,[OrderedDict([(u'title', u'Mirja Hirvonen'), (u'start', datetime.datetime(2013, 6, 7, 18, 3, 57)), (u'id', 118492)])]"
       ]
      },
      {
       "output_type": "stream",
       "stream": "stdout",
       "text": [
        "\n",
        "(6265) 118487,[OrderedDict([(u'title', u'Maliha Mahmood'), (u'start', datetime.datetime(2013, 6, 7, 18, 1, 51)), (u'id', 118487)])]"
       ]
      },
      {
       "output_type": "stream",
       "stream": "stdout",
       "text": [
        "\n",
        "(6266) 118474,[OrderedDict([(u'title', u'Lisa Bredenbals'), (u'start', datetime.datetime(2013, 6, 7, 17, 49, 43)), (u'id', 118474)])]"
       ]
      },
      {
       "output_type": "stream",
       "stream": "stdout",
       "text": [
        "\n",
        "(6266) 118471,[OrderedDict([(u'title', u'Kevin Schubert'), (u'start', datetime.datetime(2013, 6, 7, 17, 47, 45)), (u'id', 118471)])]"
       ]
      },
      {
       "output_type": "stream",
       "stream": "stdout",
       "text": [
        "\n",
        "(6265) 118465,[OrderedDict([(u'title', u'Jasmin Ziegler'), (u'start', datetime.datetime(2013, 6, 7, 17, 46, 13)), (u'id', 118465)])]"
       ]
      },
      {
       "output_type": "stream",
       "stream": "stdout",
       "text": [
        "\n",
        "(6266) 118455,[OrderedDict([(u'title', u'Fabian Sell'), (u'start', datetime.datetime(2013, 6, 7, 17, 42, 13)), (u'id', 118455)])]"
       ]
      },
      {
       "output_type": "stream",
       "stream": "stdout",
       "text": [
        "\n",
        "(6265) 118452,[OrderedDict([(u'title', u'Eva-Marie Meyer'), (u'start', datetime.datetime(2013, 6, 7, 17, 41, 6)), (u'id', 118452)])]"
       ]
      },
      {
       "output_type": "stream",
       "stream": "stdout",
       "text": [
        "\n",
        "(6266) 118451,[OrderedDict([(u'title', u'Anne Sch\\xfc\\xdfler'), (u'start', datetime.datetime(2013, 6, 7, 17, 39, 48)), (u'id', 118451)])]"
       ]
      },
      {
       "output_type": "stream",
       "stream": "stdout",
       "text": [
        "\n",
        "(6266) 118450,[OrderedDict([(u'title', u'Anna-Lena Seipp'), (u'start', datetime.datetime(2013, 6, 7, 17, 38, 27)), (u'id', 118450)])]"
       ]
      },
      {
       "output_type": "stream",
       "stream": "stdout",
       "text": [
        "\n",
        "(6269) 118425,[OrderedDict([(u'title', u'Super League live!'), (u'start', datetime.datetime(2013, 6, 7, 19, 57, 54)), (u'id', 118425)])]"
       ]
      },
      {
       "output_type": "stream",
       "stream": "stdout",
       "text": [
        "\n",
        "(6269) 163415,[OrderedDict([(u'title', u'Federal Hearing On Funding Needs For Orleans Parish Prison, Day 2'), (u'start', datetime.datetime(2013, 8, 6, 15, 15)), (u'id', 163415)])]"
       ]
      },
      {
       "output_type": "stream",
       "stream": "stdout",
       "text": [
        "\n",
        "(6270) 118416,[OrderedDict([(u'title', u'E3 2013 - Conf\\xe9rence Microsoft - www.ffring.com'), (u'start', datetime.datetime(2013, 6, 10, 18, 19, 20)), (u'id', 118416)])]"
       ]
      },
      {
       "output_type": "stream",
       "stream": "stdout",
       "text": [
        "\n",
        "(6270) 118400,[OrderedDict([(u'title', u'Station Conversation: StationConnect'), (u'start', datetime.datetime(2013, 6, 19, 18, 45)), (u'id', 118400)])]"
       ]
      },
      {
       "output_type": "stream",
       "stream": "stdout",
       "text": [
        "\n",
        "(6270) 118366,[OrderedDict([(u'title', u\"Chris' Live Event\"), (u'start', datetime.datetime(2013, 6, 7, 16, 0)), (u'id', 118366)])]"
       ]
      },
      {
       "output_type": "stream",
       "stream": "stdout",
       "text": [
        "\n",
        "(6272) 118339,[OrderedDict([(u'title', u'Gp del Canada - La cronaca delle Libere 1'), (u'start', datetime.datetime(2013, 6, 7, 15, 30)), (u'id', 118339)])]"
       ]
      },
      {
       "output_type": "stream",
       "stream": "stdout",
       "text": [
        "\n",
        "(6273) 161072,[OrderedDict([(u'title', u'Bill Press Live Chat - 8/09'), (u'start', datetime.datetime(2013, 8, 9, 11, 30)), (u'id', 161072)])]"
       ]
      },
      {
       "output_type": "stream",
       "stream": "stdout",
       "text": [
        "\n",
        "(6276) 118333,[OrderedDict([(u'title', u'\\xd6\\xd6P\\xc4EV POSTIMEHEGA- lugejate kommentaarid'), (u'start', datetime.datetime(2013, 6, 7, 15, 15)), (u'id', 118333)])]"
       ]
      },
      {
       "output_type": "stream",
       "stream": "stdout",
       "text": [
        "\n",
        "(6276) 118303,[OrderedDict([(u'title', u'Roland Garros'), (u'start', datetime.datetime(2013, 6, 7, 14, 45)), (u'id', 118303)])]"
       ]
      },
      {
       "output_type": "stream",
       "stream": "stdout",
       "text": [
        "\n",
        "(6278) 118292,[OrderedDict([(u'title', u'Canadian GP - Friday Practice Live!'), (u'start', datetime.datetime(2013, 6, 7, 14, 43, 19)), (u'id', 118292)])]"
       ]
      },
      {
       "output_type": "stream",
       "stream": "stdout",
       "text": [
        "\n",
        "(6278) 144886,[OrderedDict([(u'title', u'T-LSC-NL-20130711-LC-Etappe 13: Tours - Saint-Amand-Montrond'), (u'start', datetime.datetime(2013, 7, 11, 0, 0)), (u'id', 144886)])]"
       ]
      },
      {
       "output_type": "stream",
       "stream": "stdout",
       "text": [
        "\n",
        "(6278) 118256,[OrderedDict([(u'title', u'Derbychatt'), (u'start', datetime.datetime(2013, 6, 13, 18, 45)), (u'id', 118256)])]"
       ]
      },
      {
       "output_type": "stream",
       "stream": "stdout",
       "text": [
        "\n",
        "(6277) 118239,[OrderedDict([(u'title', u'Maclife WWC 2013 Comment'), (u'start', datetime.datetime(2013, 6, 10, 17, 30)), (u'id', 118239)])]"
       ]
      },
      {
       "output_type": "stream",
       "stream": "stdout",
       "text": [
        "\n",
        "(6276) 118235,[OrderedDict([(u'title', u'Suomi - Valko-Ven\\xe4j\\xe4'), (u'start', datetime.datetime(2013, 6, 7, 17, 48, 25)), (u'id', 118235)])]"
       ]
      },
      {
       "output_type": "stream",
       "stream": "stdout",
       "text": [
        "\n",
        "(6275) 118174,[OrderedDict([(u'title', u'Ihr Vormittag, 10.06.2013'), (u'start', datetime.datetime(2013, 6, 10, 10, 7, 41)), (u'id', 118174)])]"
       ]
      },
      {
       "output_type": "stream",
       "stream": "stdout",
       "text": [
        "\n",
        "(6274) 118157,[OrderedDict([(u'title', u'Mercato 7 juin'), (u'start', datetime.datetime(2013, 6, 7, 11, 6, 11)), (u'id', 118157)])]"
       ]
      },
      {
       "output_type": "stream",
       "stream": "stdout",
       "text": [
        "\n",
        "(6276) 156538,[OrderedDict([(u'title', u'test2 sachin'), (u'start', datetime.datetime(2013, 7, 26, 15, 43, 12)), (u'id', 156538)])]"
       ]
      },
      {
       "output_type": "stream",
       "stream": "stdout",
       "text": [
        "\n",
        "(6276) 117924,[OrderedDict([(u'title', u'Test'), (u'start', datetime.datetime(2013, 8, 16, 18, 35, 49)), (u'id', 117924)])]"
       ]
      },
      {
       "output_type": "stream",
       "stream": "stdout",
       "text": [
        "\n",
        "(6276) 117892,[OrderedDict([(u'title', u'BSCADC'), (u'start', datetime.datetime(2013, 6, 6, 20, 0, 14)), (u'id', 117892)])]"
       ]
      },
      {
       "output_type": "stream",
       "stream": "stdout",
       "text": [
        "\n",
        "(6278) 117808,[OrderedDict([(u'title', u'Updates from Sentinel staff'), (u'start', datetime.datetime(2013, 6, 6, 17, 45)), (u'id', 117808)])]"
       ]
      },
      {
       "output_type": "stream",
       "stream": "stdout",
       "text": [
        "\n",
        "(6277) 117695,[OrderedDict([(u'title', u'Live MLB Twitter Tracker'), (u'start', datetime.datetime(2013, 6, 6, 15, 23, 9)), (u'id', 117695)])]"
       ]
      },
      {
       "output_type": "stream",
       "stream": "stdout",
       "text": [
        "\n",
        "(6277) 117615,[OrderedDict([(u'title', u'Anne Neukirchner'), (u'start', datetime.datetime(2013, 6, 6, 13, 21, 50)), (u'id', 117615)])]"
       ]
      },
      {
       "output_type": "stream",
       "stream": "stdout",
       "text": [
        "\n",
        "(6276) 117562,[OrderedDict([(u'title', u'Mercato 6 juin'), (u'start', datetime.datetime(2013, 6, 6, 11, 7, 5)), (u'id', 117562)])]"
       ]
      },
      {
       "output_type": "stream",
       "stream": "stdout",
       "text": [
        "\n",
        "(6276) 117549,[OrderedDict([(u'title', u'Live Graham Cunningham chat'), (u'start', datetime.datetime(2013, 6, 6, 10, 30)), (u'id', 117549)])]"
       ]
      },
      {
       "output_type": "stream",
       "stream": "stdout",
       "text": [
        "\n",
        "(6276) 117548,[OrderedDict([(u'title', u'BTC 4'), (u'start', datetime.datetime(2013, 5, 1, 4, 30)), (u'id', 117548)])]"
       ]
      },
      {
       "output_type": "stream",
       "stream": "stdout",
       "text": [
        "\n",
        "(6276) 117363,[OrderedDict([(u'title', u'Live: Police Board Meeting'), (u'start', datetime.datetime(2013, 6, 6, 16, 45)), (u'id', 117363)])]"
       ]
      },
      {
       "output_type": "stream",
       "stream": "stdout",
       "text": [
        "\n",
        "(6276) 117328,[OrderedDict([(u'title', u'Thursday, June 6 - Live news updates'), (u'start', datetime.datetime(2013, 6, 5, 20, 27, 33)), (u'id', 117328)])]"
       ]
      },
      {
       "output_type": "stream",
       "stream": "stdout",
       "text": [
        "\n",
        "(6276) 117212,[OrderedDict([(u'title', u'Fluthilfe Dresden'), (u'start', datetime.datetime(2013, 6, 5, 17, 45)), (u'id', 117212)])]"
       ]
      },
      {
       "output_type": "stream",
       "stream": "stdout",
       "text": [
        "\n",
        "(6276) 117174,[OrderedDict([(u'title', u'Another test 1'), (u'start', datetime.datetime(2013, 6, 5, 17, 16, 8)), (u'id', 117174)])]"
       ]
      },
      {
       "output_type": "stream",
       "stream": "stdout",
       "text": [
        "\n",
        "(6276) 117155,[OrderedDict([(u'title', u'E3'), (u'start', datetime.datetime(2013, 6, 5, 17, 5, 2)), (u'id', 117155)])]"
       ]
      },
      {
       "output_type": "stream",
       "stream": "stdout",
       "text": [
        "\n",
        "(6277) 117150,[OrderedDict([(u'title', u\"Maclean's Live: Question Period, June 5\"), (u'start', datetime.datetime(2013, 6, 5, 21, 50, 19)), (u'id', 117150)])]"
       ]
      },
      {
       "output_type": "stream",
       "stream": "stdout",
       "text": [
        "\n",
        "(6276) 117146,[OrderedDict([(u'title', u'Colombia-Congo'), (u'start', datetime.datetime(2013, 6, 5, 16, 50, 59)), (u'id', 117146)])]"
       ]
      },
      {
       "output_type": "stream",
       "stream": "stdout",
       "text": [
        "\n",
        "(6275) 117111,[OrderedDict([(u'title', u'Hop'), (u'start', datetime.datetime(2013, 6, 5, 16, 2, 25)), (u'id', 117111)])]"
       ]
      },
      {
       "output_type": "stream",
       "stream": "stdout",
       "text": [
        "\n",
        "(6274) 116957,[OrderedDict([(u'title', u'10 Jahre rbb - Das Fest'), (u'start', datetime.datetime(2013, 6, 5, 15, 35, 39)), (u'id', 116957)])]"
       ]
      },
      {
       "output_type": "stream",
       "stream": "stdout",
       "text": [
        "\n",
        "(6273) 116879,[OrderedDict([(u'title', u'\\u03a0\\u0391\\u039d\\u0391\\u0399\\u03a4\\u03a9\\u039b\\u0399\\u039a\\u039f\\u03a3-\\u0397\\u03a1\\u0391\\u039a\\u039b\\u0397\\u03a3'), (u'start', datetime.datetime(2013, 6, 5, 17, 14, 31)), (u'id', 116879)])]"
       ]
      },
      {
       "output_type": "stream",
       "stream": "stdout",
       "text": [
        "\n",
        "(6275) 116802,[OrderedDict([(u'title', u'VM-kval \\xd6sterrike-Sverige'), (u'start', datetime.datetime(2013, 6, 7, 20, 0, 14)), (u'id', 116802)])]"
       ]
      },
      {
       "output_type": "stream",
       "stream": "stdout",
       "text": [
        "\n",
        "(6275) 116753,[OrderedDict([(u'title', u'6-6-13: York Revs vs. Sugar Land Skeeters'), (u'start', datetime.datetime(2013, 6, 7, 0, 0)), (u'id', 116753)])]"
       ]
      },
      {
       "output_type": "stream",
       "stream": "stdout",
       "text": [
        "\n",
        "(6278) 116751,[OrderedDict([(u'title', u'6-5-13: York Revs vs. Sugar Land Skeeters'), (u'start', datetime.datetime(2013, 6, 6, 0, 0)), (u'id', 116751)])]"
       ]
      },
      {
       "output_type": "stream",
       "stream": "stdout",
       "text": [
        "\n",
        "(6279) 157970,[OrderedDict([(u'title', u'scribbletest'), (u'start', datetime.datetime(2013, 7, 30, 9, 27, 40)), (u'id', 157970)])]"
       ]
      },
      {
       "output_type": "stream",
       "stream": "stdout",
       "text": [
        "\n",
        "(6279) 127075,[OrderedDict([(u'title', u'STING: You be the critic'), (u'start', datetime.datetime(2013, 6, 18, 22, 15)), (u'id', 127075)])]"
       ]
      },
      {
       "output_type": "stream",
       "stream": "stdout",
       "text": [
        "\n",
        "(6279) 130440,[OrderedDict([(u'title', u'Stephanie Miller Live Chat - 6/24'), (u'start', datetime.datetime(2013, 6, 24, 14, 49, 9)), (u'id', 130440)])]"
       ]
      },
      {
       "output_type": "stream",
       "stream": "stdout",
       "text": [
        "\n",
        "(6278) 116725,[OrderedDict([(u'title', u'LIVE COVERAGE: City council, June 4'), (u'start', datetime.datetime(2013, 6, 5, 1, 15)), (u'id', 116725)])]"
       ]
      },
      {
       "output_type": "stream",
       "stream": "stdout",
       "text": [
        "\n",
        "(6278) 116617,[OrderedDict([(u'title', u'Glastonbury Festival Live Blog'), (u'start', datetime.datetime(2013, 6, 28, 1, 0)), (u'id', 116617)])]"
       ]
      },
      {
       "output_type": "stream",
       "stream": "stdout",
       "text": [
        "\n",
        "(6277) 116607,[OrderedDict([(u'title', u'EN DIRECT : Suivez le Criterium cycliste du Dauphin\\xe9 - ETAPE 4'), (u'start', datetime.datetime(2013, 6, 5, 16, 45)), (u'id', 116607)])]"
       ]
      },
      {
       "output_type": "stream",
       "stream": "stdout",
       "text": [
        "\n",
        "(6276) 116435,[OrderedDict([(u'title', u'OLYMPIACOS24.GR: \\u03a0\\u0391\\u039d\\u0391\\u0398\\u0397\\u039d\\u0391\\u03aa\\u039a\\u039f\\u03a3 - \\u039f\\u039b\\u03a5\\u039c\\u03a0\\u0399\\u0391\\u039a\\u039f\\u03a3 09/06/2013'), (u'start', datetime.datetime(2013, 6, 9, 19, 8, 56)), (u'id', 116435)])]"
       ]
      },
      {
       "output_type": "stream",
       "stream": "stdout",
       "text": [
        "\n",
        "(6278) 116397,[OrderedDict([(u'title', u'Rock im Park 2013'), (u'start', datetime.datetime(2013, 6, 7, 11, 45)), (u'id', 116397)])]"
       ]
      },
      {
       "output_type": "stream",
       "stream": "stdout",
       "text": [
        "\n",
        "(6277) 116135,[OrderedDict([(u'title', u'Blaming rape victims'), (u'start', datetime.datetime(2013, 6, 5, 17, 45)), (u'id', 116135)])]"
       ]
      },
      {
       "output_type": "stream",
       "stream": "stdout",
       "text": [
        "\n",
        "(6276) 116103,[OrderedDict([(u'title', u'SVP & Russillo Live Chat'), (u'start', datetime.datetime(2013, 6, 3, 20, 7, 6)), (u'id', 116103)])]"
       ]
      },
      {
       "output_type": "stream",
       "stream": "stdout",
       "text": [
        "\n",
        "(6276) 116081,[OrderedDict([(u'title', u'Whitey Bulger Trial'), (u'start', datetime.datetime(2013, 6, 12, 20, 30)), (u'id', 116081)])]"
       ]
      },
      {
       "output_type": "stream",
       "stream": "stdout",
       "text": [
        "\n",
        "(6276) 116063,[OrderedDict([(u'title', u'Fredrik Skavlan, Raakel Lignell, Redrama och Bettina chattar'), (u'start', datetime.datetime(2013, 6, 4, 8, 26, 54)), (u'id', 116063)])]"
       ]
      },
      {
       "output_type": "stream",
       "stream": "stdout",
       "text": [
        "\n",
        "(6277) 116036,[OrderedDict([(u'title', u'Saras test'), (u'start', datetime.datetime(2013, 6, 3, 17, 9, 18)), (u'id', 116036)])]"
       ]
      },
      {
       "output_type": "stream",
       "stream": "stdout",
       "text": [
        "\n",
        "(6276) 116007,[OrderedDict([(u'title', u'Ihr Vormittag, 07.06.2013'), (u'start', datetime.datetime(2013, 6, 6, 15, 11, 2)), (u'id', 116007)])]"
       ]
      },
      {
       "output_type": "stream",
       "stream": "stdout",
       "text": [
        "\n",
        "(6278) 147619,[OrderedDict([(u'title', u'Much ado about Sharknado'), (u'start', datetime.datetime(2013, 7, 16, 18, 25, 46)), (u'id', 147619)])]"
       ]
      },
      {
       "output_type": "stream",
       "stream": "stdout",
       "text": [
        "\n",
        "(6278) 134240,[OrderedDict([(u'title', u'Super League live - round 20'), (u'start', datetime.datetime(2013, 6, 28, 20, 19, 22)), (u'id', 134240)])]"
       ]
      },
      {
       "output_type": "stream",
       "stream": "stdout",
       "text": [
        "\n",
        "(6277) 115928,[OrderedDict([(u'title', u'Bill Press Live Chat - 6/5'), (u'start', datetime.datetime(2013, 6, 5, 11, 45)), (u'id', 115928)])]"
       ]
      },
      {
       "output_type": "stream",
       "stream": "stdout",
       "text": [
        "\n",
        "(6277) 115925,[OrderedDict([(u'title', u'LIVE: Feds kick off new Anti-Bullying Campaign in Ottawa'), (u'start', datetime.datetime(2013, 6, 3, 16, 30)), (u'id', 115925)])]"
       ]
      },
      {
       "output_type": "stream",
       "stream": "stdout",
       "text": [
        "\n",
        "(6277) 115884,[OrderedDict([(u'title', u'Ciao Capitano! Ein Fu\\xdfball-Abend mit Weltklasse'), (u'start', datetime.datetime(2013, 6, 5, 12, 30)), (u'id', 115884)])]"
       ]
      },
      {
       "output_type": "stream",
       "stream": "stdout",
       "text": [
        "\n",
        "(6276) 115833,[OrderedDict([(u'title', u'Pressekonferanse om Fisketorget'), (u'start', datetime.datetime(2013, 6, 3, 11, 0)), (u'id', 115833)])]"
       ]
      },
      {
       "output_type": "stream",
       "stream": "stdout",
       "text": [
        "\n",
        "(6276) 115830,[OrderedDict([(u'title', u'Mercato 3 juin'), (u'start', datetime.datetime(2013, 6, 3, 11, 7, 56)), (u'id', 115830)])]"
       ]
      },
      {
       "output_type": "stream",
       "stream": "stdout",
       "text": [
        "\n",
        "(6276) 115757,[OrderedDict([(u'title', u\"Maclean's Live: Question Period, June 3\"), (u'start', datetime.datetime(2013, 6, 3, 22, 23, 17)), (u'id', 115757)])]"
       ]
      },
      {
       "output_type": "stream",
       "stream": "stdout",
       "text": [
        "\n",
        "(6275) 115755,[OrderedDict([(u'title', u'Register Citizen Newsroom Meeting for June 3'), (u'start', datetime.datetime(2013, 6, 3, 22, 6, 7)), (u'id', 115755)])]"
       ]
      },
      {
       "output_type": "stream",
       "stream": "stdout",
       "text": [
        "\n",
        "(6275) 115745,[OrderedDict([(u'title', u'The Sunshine Economy Part Four On June 3: Tourism'), (u'start', datetime.datetime(2013, 6, 3, 14, 30)), (u'id', 115745)])]"
       ]
      },
      {
       "output_type": "stream",
       "stream": "stdout",
       "text": [
        "\n",
        "(6274) 116813,[OrderedDict([(u'title', u'\\u038c\\u03c3\\u03b1 \\u03b4\\u03b5\\u03bd \\u03b5\\u03af\\u03b4\\u03b1\\u03c4\\u03b5 5/6/13'), (u'start', datetime.datetime(2013, 6, 5, 18, 40, 19)), (u'id', 116813)])]"
       ]
      },
      {
       "output_type": "stream",
       "stream": "stdout",
       "text": [
        "\n",
        "(6274) 115672,[OrderedDict([(u'title', u'EN DIRECT : Suivez le Criterium cycliste du Dauphin\\xe9 - ETAPE 2'), (u'start', datetime.datetime(2013, 6, 4, 13, 32, 1)), (u'id', 115672)])]"
       ]
      },
      {
       "output_type": "stream",
       "stream": "stdout",
       "text": [
        "\n",
        "(6274) 115365,[OrderedDict([(u'title', u'LIVE CHAT: Game of Thrones, Season 3, Episode 9, Sunday, June 2, 9 p.m. ET'), (u'start', datetime.datetime(2013, 6, 3, 2, 54, 54)), (u'id', 115365)])]"
       ]
      },
      {
       "output_type": "stream",
       "stream": "stdout",
       "text": [
        "\n",
        "(6274) 115359,[OrderedDict([(u'title', u'OU summer camp 2013 -- Day Two'), (u'start', datetime.datetime(2013, 6, 2, 15, 0)), (u'id', 115359)])]"
       ]
      },
      {
       "output_type": "stream",
       "stream": "stdout",
       "text": [
        "\n",
        "(6273) 115338,[OrderedDict([(u'title', u'San Jose great for newlyweds?'), (u'start', datetime.datetime(2013, 6, 1, 22, 54, 56)), (u'id', 115338)])]"
       ]
      },
      {
       "output_type": "stream",
       "stream": "stdout",
       "text": [
        "\n",
        "(6273) 115083,[OrderedDict([(u'title', u'British & Irish Lions v Barbarians'), (u'start', datetime.datetime(2013, 6, 1, 13, 0)), (u'id', 115083)])]"
       ]
      },
      {
       "output_type": "stream",
       "stream": "stdout",
       "text": [
        "\n",
        "(6272) 114992,[OrderedDict([(u'title', u'Schoolboy Regatta'), (u'start', datetime.datetime(2013, 6, 2, 16, 0)), (u'id', 114992)])]"
       ]
      },
      {
       "output_type": "stream",
       "stream": "stdout",
       "text": [
        "\n",
        "(6272) 114890,[OrderedDict([(u'title', u'Sporting-Recreativo'), (u'start', datetime.datetime(2013, 6, 2, 17, 0)), (u'id', 114890)])]"
       ]
      },
      {
       "output_type": "stream",
       "stream": "stdout",
       "text": [
        "\n",
        "(6272) 114796,[OrderedDict([(u'title', u'Rayo Vallecano - Athletic'), (u'start', datetime.datetime(2013, 6, 1, 20, 45)), (u'id', 114796)])]"
       ]
      },
      {
       "output_type": "stream",
       "stream": "stdout",
       "text": [
        "\n",
        "(6271) 114765,[OrderedDict([(u'title', u'hy! Berlin Juni 2013'), (u'start', datetime.datetime(2013, 6, 2, 15, 0)), (u'id', 114765)])]"
       ]
      },
      {
       "output_type": "stream",
       "stream": "stdout",
       "text": [
        "\n",
        "(6272) 114625,[OrderedDict([(u'title', u'WWDC 2013 - Conf\\xe9rence Apple - Staff'), (u'start', datetime.datetime(2013, 5, 31, 10, 0)), (u'id', 114625)])]"
       ]
      },
      {
       "output_type": "stream",
       "stream": "stdout",
       "text": [
        "\n",
        "(6271) 114620,[OrderedDict([(u'title', u'Test'), (u'start', datetime.datetime(2013, 5, 31, 14, 7, 12)), (u'id', 114620)])]"
       ]
      },
      {
       "output_type": "stream",
       "stream": "stdout",
       "text": [
        "\n",
        "(6270) 114606,[OrderedDict([(u'title', u'Testing JSON - HTML 31st May'), (u'start', datetime.datetime(2013, 6, 17, 7, 35, 33)), (u'id', 114606)])]"
       ]
      },
      {
       "output_type": "stream",
       "stream": "stdout",
       "text": [
        "\n",
        "(6269) 114544,[OrderedDict([(u'title', u'Finnish news'), (u'start', datetime.datetime(2013, 5, 31, 12, 31, 59)), (u'id', 114544)])]"
       ]
      },
      {
       "output_type": "stream",
       "stream": "stdout",
       "text": [
        "\n",
        "(6268) 114478,[OrderedDict([(u'title', u'E3 2013 - Conf\\xe9rence Microsoft - Commentaires'), (u'start', datetime.datetime(2013, 5, 31, 10, 0)), (u'id', 114478)])]"
       ]
      },
      {
       "output_type": "stream",
       "stream": "stdout",
       "text": [
        "\n",
        "(6268) 114468,[OrderedDict([(u'title', u'E3 2013 - Conf\\xe9rence Sony - Staff'), (u'start', datetime.datetime(2013, 5, 31, 10, 0)), (u'id', 114468)])]"
       ]
      },
      {
       "output_type": "stream",
       "stream": "stdout",
       "text": [
        "\n",
        "(6269) 127468,[OrderedDict([(u'title', u'#Cupre: Periodismo responsable'), (u'start', datetime.datetime(2013, 6, 19, 13, 44, 44)), (u'id', 127468)])]"
       ]
      },
      {
       "output_type": "stream",
       "stream": "stdout",
       "text": [
        "\n",
        "(6268) 114427,[OrderedDict([(u'title', u'Live Blog of Mets-Yankees'), (u'start', datetime.datetime(2013, 5, 31, 2, 32)), (u'id', 114427)])]"
       ]
      },
      {
       "output_type": "stream",
       "stream": "stdout",
       "text": [
        "\n",
        "(6269) 114316,[OrderedDict([(u'title', u'Live Graham Cunningham chat!'), (u'start', datetime.datetime(2013, 5, 31, 11, 23, 5)), (u'id', 114316)])]"
       ]
      },
      {
       "output_type": "stream",
       "stream": "stdout",
       "text": [
        "\n",
        "(6270) 114313,[OrderedDict([(u'title', u'LIve: Pink i Herning'), (u'start', datetime.datetime(2013, 5, 30, 18, 41, 43)), (u'id', 114313)])]"
       ]
      },
      {
       "output_type": "stream",
       "stream": "stdout",
       "text": [
        "\n",
        "(6270) 114304,[OrderedDict([(u'title', u'Rob Ford live updates'), (u'start', datetime.datetime(2013, 5, 30, 18, 0, 35)), (u'id', 114304)])]"
       ]
      },
      {
       "output_type": "stream",
       "stream": "stdout",
       "text": [
        "\n",
        "(6269) 114232,[OrderedDict([(u'title', u'Obs debatt om take away-vin'), (u'start', datetime.datetime(2013, 5, 30, 19, 55, 18)), (u'id', 114232)])]"
       ]
      },
      {
       "output_type": "stream",
       "stream": "stdout",
       "text": [
        "\n",
        "(6269) 114229,[OrderedDict([(u'title', u'Boxing | Ringside Extra NEW'), (u'start', datetime.datetime(2013, 6, 20, 19, 3, 20)), (u'id', 114229)])]"
       ]
      },
      {
       "output_type": "stream",
       "stream": "stdout",
       "text": [
        "\n",
        "(6268) 114069,[OrderedDict([(u'title', u'Chat sp\\xe9cial supporters Rouches !'), (u'start', datetime.datetime(2013, 5, 30, 10, 49, 39)), (u'id', 114069)])]"
       ]
      },
      {
       "output_type": "stream",
       "stream": "stdout",
       "text": [
        "\n",
        "(6269) 114002,[OrderedDict([(u'title', u'Firarsv\\xe4ngen 30 maj'), (u'start', datetime.datetime(2013, 5, 30, 8, 0)), (u'id', 114002)])]"
       ]
      },
      {
       "output_type": "stream",
       "stream": "stdout",
       "text": [
        "\n",
        "(6268) 113918,[OrderedDict([(u'title', u'WWDC 2013'), (u'start', datetime.datetime(2013, 6, 6, 15, 59, 8)), (u'id', 113918)])]"
       ]
      },
      {
       "output_type": "stream",
       "stream": "stdout",
       "text": [
        "\n",
        "(6267) 113895,[OrderedDict([(u'title', u\"I'm learning how ScribbleLIVE works.\"), (u'start', datetime.datetime(2013, 5, 29, 21, 2, 52)), (u'id', 113895)])]"
       ]
      },
      {
       "output_type": "stream",
       "stream": "stdout",
       "text": [
        "\n",
        "(6269) 113833,[OrderedDict([(u'title', u'IJNet Live with Dr. Heidi Larson: Tips for health journalists'), (u'start', datetime.datetime(2013, 6, 6, 16, 49, 24)), (u'id', 113833)])]"
       ]
      },
      {
       "output_type": "stream",
       "stream": "stdout",
       "text": [
        "\n",
        "(6272) 113815,[OrderedDict([(u'title', u'Live chat with Blackhawks beat writer Mark Lazerus'), (u'start', datetime.datetime(2013, 5, 29, 23, 7)), (u'id', 113815)])]"
       ]
      },
      {
       "output_type": "stream",
       "stream": "stdout",
       "text": [
        "\n",
        "(6271) 127255,[OrderedDict([(u'title', u'Derek Llambias quits as Newcastle United managing director'), (u'start', datetime.datetime(2013, 6, 19, 10, 15)), (u'id', 127255)])]"
       ]
      },
      {
       "output_type": "stream",
       "stream": "stdout",
       "text": [
        "\n",
        "(6270) 113810,[OrderedDict([(u'title', u'Canada Day on Parliament Hill lineup'), (u'start', datetime.datetime(2013, 5, 29, 20, 32, 28)), (u'id', 113810)])]"
       ]
      },
      {
       "output_type": "stream",
       "stream": "stdout",
       "text": [
        "\n",
        "(6270) 113794,[OrderedDict([(u'title', u'market test c'), (u'start', datetime.datetime(2013, 7, 31, 19, 11, 23)), (u'id', 113794)])]"
       ]
      },
      {
       "output_type": "stream",
       "stream": "stdout",
       "text": [
        "\n",
        "(6270) 113792,[OrderedDict([(u'title', u'market test b'), (u'start', datetime.datetime(2013, 8, 8, 20, 45, 4)), (u'id', 113792)])]"
       ]
      },
      {
       "output_type": "stream",
       "stream": "stdout",
       "text": [
        "\n",
        "(6271) 113791,[OrderedDict([(u'title', u'market test a'), (u'start', datetime.datetime(2013, 8, 15, 22, 33, 38)), (u'id', 113791)])]"
       ]
      },
      {
       "output_type": "stream",
       "stream": "stdout",
       "text": [
        "\n",
        "(6271) 113737,[OrderedDict([(u'title', u'Test'), (u'start', datetime.datetime(2013, 5, 29, 16, 15)), (u'id', 113737)])]"
       ]
      },
      {
       "output_type": "stream",
       "stream": "stdout",
       "text": [
        "\n",
        "(6272) 113719,[OrderedDict([(u'title', u'Live \\u0391\\u0395\\u039a - \\u0394\\u03b9\\u03bf\\u03bc\\u03ae\\u03b4\\u03b7\\u03c2'), (u'start', datetime.datetime(2013, 5, 29, 15, 42, 50)), (u'id', 113719)])]"
       ]
      },
      {
       "output_type": "stream",
       "stream": "stdout",
       "text": [
        "\n",
        "(6272) 113586,[OrderedDict([(u'title', u'VL Maulwurf'), (u'start', datetime.datetime(2013, 5, 29, 9, 30)), (u'id', 113586)])]"
       ]
      },
      {
       "output_type": "stream",
       "stream": "stdout",
       "text": [
        "\n",
        "(6273) 113584,[OrderedDict([(u'title', u'N\\xe4thatdemo'), (u'start', datetime.datetime(2013, 5, 29, 9, 35, 42)), (u'id', 113584)])]"
       ]
      },
      {
       "output_type": "stream",
       "stream": "stdout",
       "text": [
        "\n",
        "(6273) 113567,[OrderedDict([(u'title', u'Tweetstock 8 - Speakers'), (u'start', datetime.datetime(2013, 5, 29, 15, 0)), (u'id', 113567)])]"
       ]
      },
      {
       "output_type": "stream",
       "stream": "stdout",
       "text": [
        "\n",
        "(6274) 113536,[OrderedDict([(u'title', u'Live coverage: District 3 baseball and softball'), (u'start', datetime.datetime(2013, 5, 30, 21, 30)), (u'id', 113536)])]"
       ]
      },
      {
       "output_type": "stream",
       "stream": "stdout",
       "text": [
        "\n",
        "(6273) 120195,[OrderedDict([(u'title', u'Brennpunkt: Flut, Zerst\\xf6rung und kein Ende'), (u'start', datetime.datetime(2013, 6, 10, 20, 0)), (u'id', 120195)])]"
       ]
      },
      {
       "output_type": "stream",
       "stream": "stdout",
       "text": [
        "\n",
        "(6272) 113482,[OrderedDict([(u'title', u'Roadshow live chat, May 29 at noon'), (u'start', datetime.datetime(2013, 5, 29, 20, 46, 40)), (u'id', 113482)])]"
       ]
      },
      {
       "output_type": "stream",
       "stream": "stdout",
       "text": [
        "\n",
        "(6274) 113438,[OrderedDict([(u'title', u'May 28 Greater Sudbury council meeting'), (u'start', datetime.datetime(2013, 5, 28, 23, 45)), (u'id', 113438)])]"
       ]
      },
      {
       "output_type": "stream",
       "stream": "stdout",
       "text": [
        "\n",
        "(6276) 113409,[OrderedDict([(u'title', u'Live tweets from Amarjeet Sohi announcement'), (u'start', datetime.datetime(2013, 5, 28, 18, 43, 41)), (u'id', 113409)])]"
       ]
      },
      {
       "output_type": "stream",
       "stream": "stdout",
       "text": [
        "\n",
        "(6275) 113408,[OrderedDict([(u'title', u'SVP & Russillo Live Chat'), (u'start', datetime.datetime(2013, 5, 28, 18, 39, 34)), (u'id', 113408)])]"
       ]
      },
      {
       "output_type": "stream",
       "stream": "stdout",
       "text": [
        "\n",
        "(6277) 163331,[OrderedDict([(u'title', u'Test Live Event'), (u'start', datetime.datetime(2013, 8, 5, 18, 27, 53)), (u'id', 163331)])]"
       ]
      },
      {
       "output_type": "stream",
       "stream": "stdout",
       "text": [
        "\n",
        "(6277) 113328,[OrderedDict([(u'title', u'Brandon Warrington murder trial'), (u'start', datetime.datetime(2013, 6, 11, 16, 0, 46)), (u'id', 113328)])]"
       ]
      },
      {
       "output_type": "stream",
       "stream": "stdout",
       "text": [
        "\n",
        "(6277) 113320,[OrderedDict([(u'title', u'Adrienne Batra chat'), (u'start', datetime.datetime(2013, 5, 28, 18, 0)), (u'id', 113320)])]"
       ]
      },
      {
       "output_type": "stream",
       "stream": "stdout",
       "text": [
        "\n",
        "(6277) 113218,[OrderedDict([(u'title', u'T-LSC-NL-20130525-LC-Etappe 21: Riese Pio X - Brescia'), (u'start', datetime.datetime(2013, 5, 25, 0, 0)), (u'id', 113218)])]"
       ]
      },
      {
       "output_type": "stream",
       "stream": "stdout",
       "text": [
        "\n",
        "(6277) 113198,[OrderedDict([(u'title', u'Pleno Ayuntamiento San Sebasti\\xe1n'), (u'start', datetime.datetime(2013, 5, 29, 12, 45)), (u'id', 113198)])]"
       ]
      },
      {
       "output_type": "stream",
       "stream": "stdout",
       "text": [
        "\n",
        "(6276) 113169,[OrderedDict([(u'title', u'Summer movie preview with critic Lights Camera Jackson'), (u'start', datetime.datetime(2013, 5, 29, 23, 45, 53)), (u'id', 113169)])]"
       ]
      },
      {
       "output_type": "stream",
       "stream": "stdout",
       "text": [
        "\n",
        "(6277) 113065,[OrderedDict([(u'title', u'Martin Tyler webchat'), (u'start', datetime.datetime(2013, 5, 28, 11, 35, 29)), (u'id', 113065)])]"
       ]
      },
      {
       "output_type": "stream",
       "stream": "stdout",
       "text": [
        "\n",
        "(6276) 113054,[OrderedDict([(u'title', u'Deportivo - Real Sociedad'), (u'start', datetime.datetime(2013, 6, 1, 14, 37, 2)), (u'id', 113054)])]"
       ]
      },
      {
       "output_type": "stream",
       "stream": "stdout",
       "text": [
        "\n",
        "(6275) 113003,[OrderedDict([(u'title', u'Barom\\xe8tre : Francis Van de Woestyne'), (u'start', datetime.datetime(2013, 5, 28, 9, 34, 21)), (u'id', 113003)])]"
       ]
      },
      {
       "output_type": "stream",
       "stream": "stdout",
       "text": [
        "\n",
        "(6274) 112968,[OrderedDict([(u'title', u'Testing Translation Workflow'), (u'start', datetime.datetime(2013, 5, 28, 5, 14, 18)), (u'id', 112968)])]"
       ]
      },
      {
       "output_type": "stream",
       "stream": "stdout",
       "text": [
        "\n",
        "(6277) 112922,[OrderedDict([(u'title', u'Timmins City Council, Live Blog - May 27, 2013'), (u'start', datetime.datetime(2013, 5, 27, 22, 46)), (u'id', 112922)])]"
       ]
      },
      {
       "output_type": "stream",
       "stream": "stdout",
       "text": [
        "\n",
        "(6277) 114990,[OrderedDict([(u'title', u\"Live coverage: PIAA girls' lacrosse tournament\"), (u'start', datetime.datetime(2013, 6, 1, 16, 30)), (u'id', 114990)])]"
       ]
      },
      {
       "output_type": "stream",
       "stream": "stdout",
       "text": [
        "\n",
        "(6276) 112698,[OrderedDict([(u'title', u'TV Ch5 - THE FINAL 1'), (u'start', datetime.datetime(2013, 5, 27, 15, 30)), (u'id', 112698)])]"
       ]
      },
      {
       "output_type": "stream",
       "stream": "stdout",
       "text": [
        "\n",
        "(6276) 112696,[OrderedDict([(u'title', u'Bettinachatt 27.5'), (u'start', datetime.datetime(2013, 5, 27, 20, 0)), (u'id', 112696)])]"
       ]
      },
      {
       "output_type": "stream",
       "stream": "stdout",
       "text": [
        "\n",
        "(6276) 112681,[OrderedDict([(u'title', u'test'), (u'start', datetime.datetime(2013, 5, 27, 14, 30)), (u'id', 112681)])]"
       ]
      },
      {
       "output_type": "stream",
       "stream": "stdout",
       "text": [
        "\n",
        "(6276) 178576,[OrderedDict([(u'title', u'Test'), (u'start', datetime.datetime(2013, 8, 22, 13, 34, 28)), (u'id', 178576)])]"
       ]
      },
      {
       "output_type": "stream",
       "stream": "stdout",
       "text": [
        "\n",
        "(6277) 112637,[OrderedDict([(u'title', u'L\\xe4nderspiel Deutschland - Ecuador'), (u'start', datetime.datetime(2013, 5, 29, 20, 0, 53)), (u'id', 112637)])]"
       ]
      },
      {
       "output_type": "stream",
       "stream": "stdout",
       "text": [
        "\n",
        "(6279) 112580,[OrderedDict([(u'title', u'Mercato 27 mai'), (u'start', datetime.datetime(2013, 5, 27, 11, 12, 15)), (u'id', 112580)])]"
       ]
      },
      {
       "output_type": "stream",
       "stream": "stdout",
       "text": [
        "\n",
        "(6278) 142770,[OrderedDict([(u'title', u'LIVE: Melnyk takes casino concerns to Ottawa City Hall'), (u'start', datetime.datetime(2013, 7, 9, 14, 30)), (u'id', 142770)])]"
       ]
      },
      {
       "output_type": "stream",
       "stream": "stdout",
       "text": [
        "\n",
        "(6277) 112549,[OrderedDict([(u'title', u'Cannes: le bilan avec Fernand Denis'), (u'start', datetime.datetime(2013, 5, 27, 9, 0)), (u'id', 112549)])]"
       ]
      },
      {
       "output_type": "stream",
       "stream": "stdout",
       "text": [
        "\n",
        "(6277) 112499,[OrderedDict([(u'title', u'Halifax vs. Portland'), (u'start', datetime.datetime(2013, 5, 27, 0, 45)), (u'id', 112499)])]"
       ]
      },
      {
       "output_type": "stream",
       "stream": "stdout",
       "text": [
        "\n",
        "(6276) 112380,[OrderedDict([(u'title', u'DVSC-Ftc'), (u'start', datetime.datetime(2013, 5, 26, 16, 12, 56)), (u'id', 112380)])]"
       ]
      },
      {
       "output_type": "stream",
       "stream": "stdout",
       "text": [
        "\n",
        "(6275) 112280,[OrderedDict([(u'title', u'Israel at the World Economic Forum'), (u'start', datetime.datetime(2013, 5, 26, 11, 8, 50)), (u'id', 112280)])]"
       ]
      },
      {
       "output_type": "stream",
       "stream": "stdout",
       "text": [
        "\n",
        "(6276) 112271,[OrderedDict([(u'title', u'#\\u0645\\u0644\\u062a\\u0642\\u0649_\\u0627\\u0644\\u0645\\u063a\\u0631\\u062f\\u064a\\u0646_\\u0627\\u0644\\u0623\\u0648\\u0644'), (u'start', datetime.datetime(2013, 5, 26, 10, 5, 18)), (u'id', 112271)])]"
       ]
      },
      {
       "output_type": "stream",
       "stream": "stdout",
       "text": [
        "\n",
        "(6276) 112179,[OrderedDict([(u'title', u'\\u0397\\u03c1\\u03b1\\u03ba\\u03bb\\u03ae\\u03c2-\\u03a0\\u03b1\\u03bd\\u03b1\\u03b9\\u03c4\\u03c9\\u03bb\\u03b9\\u03ba\\u03cc\\u03c2'), (u'start', datetime.datetime(2013, 5, 26, 15, 32, 19)), (u'id', 112179)])]"
       ]
      },
      {
       "output_type": "stream",
       "stream": "stdout",
       "text": [
        "\n",
        "(6275) 112038,[OrderedDict([(u'title', u\"Women's U19: Semifinal- Janakpur Vs Biratnagar\"), (u'start', datetime.datetime(2013, 5, 25, 23, 45, 16)), (u'id', 112038)])]"
       ]
      },
      {
       "output_type": "stream",
       "stream": "stdout",
       "text": [
        "\n",
        "(6276) 111562,[OrderedDict([(u'title', u'Amy Test'), (u'start', datetime.datetime(2013, 7, 26, 14, 14, 14)), (u'id', 111562)])]"
       ]
      },
      {
       "output_type": "stream",
       "stream": "stdout",
       "text": [
        "\n",
        "(6275) 111208,[OrderedDict([(u'title', u'Continuum live chat with star Lexa Doig'), (u'start', datetime.datetime(2013, 5, 27, 18, 44, 35)), (u'id', 111208)])]"
       ]
      },
      {
       "output_type": "stream",
       "stream": "stdout",
       "text": [
        "\n",
        "(6275) 111185,[OrderedDict([(u'title', u'NFCE Twitter Mailbag 05/25/13'), (u'start', datetime.datetime(2013, 5, 24, 21, 47, 45)), (u'id', 111185)])]"
       ]
      },
      {
       "output_type": "stream",
       "stream": "stdout",
       "text": [
        "\n",
        "(6275) 145567,[OrderedDict([(u'title', u'Summer has arrived!'), (u'start', datetime.datetime(2013, 7, 13, 0, 6, 26)), (u'id', 145567)])]"
       ]
      },
      {
       "output_type": "stream",
       "stream": "stdout",
       "text": [
        "\n",
        "(6275) 111180,[OrderedDict([(u'title', u'MacQuebec-wwdc-test'), (u'start', datetime.datetime(2013, 5, 26, 21, 10, 20)), (u'id', 111180)])]"
       ]
      },
      {
       "output_type": "stream",
       "stream": "stdout",
       "text": [
        "\n",
        "(6275) 111126,[OrderedDict([(u'title', u'What are your fitness tips?'), (u'start', datetime.datetime(2013, 5, 24, 19, 15)), (u'id', 111126)])]"
       ]
      },
      {
       "output_type": "stream",
       "stream": "stdout",
       "text": [
        "\n",
        "(6275) 110983,[OrderedDict([(u'title', u'City Hall May 24'), (u'start', datetime.datetime(2013, 5, 24, 15, 20, 16)), (u'id', 110983)])]"
       ]
      },
      {
       "output_type": "stream",
       "stream": "stdout",
       "text": [
        "\n",
        "(6276) 110968,[OrderedDict([(u'title', u'LIVE: Ottawa Senators vs. Pittsburgh Penguins, Game 5'), (u'start', datetime.datetime(2013, 5, 25, 0, 42)), (u'id', 110968)])]"
       ]
      },
      {
       "output_type": "stream",
       "stream": "stdout",
       "text": [
        "\n",
        "(6278) 110950,[OrderedDict([(u'title', u'Oviedo - Albacete'), (u'start', datetime.datetime(2013, 5, 26, 16, 0)), (u'id', 110950)])]"
       ]
      },
      {
       "output_type": "stream",
       "stream": "stdout",
       "text": [
        "\n",
        "(6279) 110948,[OrderedDict([(u'title', u'Caudal - Cartagena'), (u'start', datetime.datetime(2013, 5, 25, 12, 30)), (u'id', 110948)])]"
       ]
      },
      {
       "output_type": "stream",
       "stream": "stdout",
       "text": [
        "\n",
        "(6279) 110930,[OrderedDict([(u'title', u'Knarrholmen 2013'), (u'start', datetime.datetime(2013, 5, 24, 16, 0)), (u'id', 110930)])]"
       ]
      },
      {
       "output_type": "stream",
       "stream": "stdout",
       "text": [
        "\n",
        "(6279) 110828,[OrderedDict([(u'title', u'Stephanie Miller Live Chat - 5/24'), (u'start', datetime.datetime(2013, 5, 24, 14, 45)), (u'id', 110828)])]"
       ]
      },
      {
       "output_type": "stream",
       "stream": "stdout",
       "text": [
        "\n",
        "(6279) 172710,[OrderedDict([(u'title', u'Aamb\\xf8 g\\xe5r av'), (u'start', datetime.datetime(2013, 8, 16, 11, 30, 39)), (u'id', 172710)])]"
       ]
      },
      {
       "output_type": "stream",
       "stream": "stdout",
       "text": [
        "\n",
        "(6280) 110825,[OrderedDict([(u'title', u'Bill Press Live Chat - 5/24'), (u'start', datetime.datetime(2013, 5, 24, 11, 45)), (u'id', 110825)])]"
       ]
      },
      {
       "output_type": "stream",
       "stream": "stdout",
       "text": [
        "\n",
        "(6281) 110823,[OrderedDict([(u'title', u'England v New Zealand, 2nd Test, Headingley'), (u'start', datetime.datetime(2013, 5, 24, 11, 15)), (u'id', 110823)])]"
       ]
      },
      {
       "output_type": "stream",
       "stream": "stdout",
       "text": [
        "\n",
        "(6281) 115669,[OrderedDict([(u'title', u'\\u03a0\\u0391\\u03a3 \\u0393\\u03b9\\u03ac\\u03bd\\u03bd\\u03b9\\u03bd\\u03b1 - \\u03a0\\u0391\\u039f\\u039a LIVE'), (u'start', datetime.datetime(2013, 6, 2, 18, 42, 37)), (u'id', 115669)])]"
       ]
      },
      {
       "output_type": "stream",
       "stream": "stdout",
       "text": [
        "\n",
        "(6281) 160304,[OrderedDict([(u'title', u'TEDxAuckland - Live blog'), (u'start', datetime.datetime(2013, 8, 3, 0, 3, 12)), (u'id', 160304)])]"
       ]
      },
      {
       "output_type": "stream",
       "stream": "stdout",
       "text": [
        "\n",
        "(6282) 110811,[OrderedDict([(u'title', u'Mercato 24 mai'), (u'start', datetime.datetime(2013, 5, 24, 11, 0)), (u'id', 110811)])]"
       ]
      },
      {
       "output_type": "stream",
       "stream": "stdout",
       "text": [
        "\n",
        "(6281) 110738,[OrderedDict([(u'title', u'Champions League Finale d. 25/05/13 Dortmund vs Bayern Munchen.'), (u'start', datetime.datetime(2013, 5, 25, 20, 15)), (u'id', 110738)])]"
       ]
      },
      {
       "output_type": "stream",
       "stream": "stdout",
       "text": [
        "\n",
        "(6280) 110560,[OrderedDict([(u'title', u\"Live chat: Just how deadly can cyber warfare be? Find out from the GlobalPost's Jeb Boone\"), (u'start', datetime.datetime(2013, 5, 29, 19, 15)), (u'id', 110560)])]"
       ]
      },
      {
       "output_type": "stream",
       "stream": "stdout",
       "text": [
        "\n",
        "(6280) 110557,[OrderedDict([(u'title', u'2013 Memorial Cup: London Knights vs. Saskatoon Blades livechat, Thurs., May 23, 8 p.m. ET/6 p.m. MT'), (u'start', datetime.datetime(2013, 5, 24, 2, 0)), (u'id', 110557)])]"
       ]
      },
      {
       "output_type": "stream",
       "stream": "stdout",
       "text": [
        "\n",
        "(6279) 110395,[OrderedDict([(u'title', u\"Maclean's Live: Question Period, May 23\"), (u'start', datetime.datetime(2013, 5, 23, 20, 0)), (u'id', 110395)])]"
       ]
      },
      {
       "output_type": "stream",
       "stream": "stdout",
       "text": [
        "\n",
        "(6278) 171690,[OrderedDict([(u'title', u'P-LSC-FR-20130814-LC-Division 3 B - Journ\\xe9e 1'), (u'start', datetime.datetime(2013, 8, 14, 0, 0)), (u'id', 171690)])]"
       ]
      },
      {
       "output_type": "stream",
       "stream": "stdout",
       "text": [
        "\n",
        "(6278) 110283,[OrderedDict([(u'title', u'Black 505  Kuala Terengganu'), (u'start', datetime.datetime(2013, 5, 23, 15, 6, 47)), (u'id', 110283)])]"
       ]
      },
      {
       "output_type": "stream",
       "stream": "stdout",
       "text": [
        "\n",
        "(6277) 110222,[OrderedDict([(u'title', u\"Giro d'Italia - 18e \\xe9tape\"), (u'start', datetime.datetime(2013, 5, 23, 13, 24, 40)), (u'id', 110222)])]"
       ]
      },
      {
       "output_type": "stream",
       "stream": "stdout",
       "text": [
        "\n",
        "(6277) 110198,[OrderedDict([(u'title', u'Jamie Redknapp webchat'), (u'start', datetime.datetime(2013, 5, 23, 12, 15)), (u'id', 110198)])]"
       ]
      },
      {
       "output_type": "stream",
       "stream": "stdout",
       "text": [
        "\n",
        "(6278) 110187,[OrderedDict([(u'title', u'Positive Design Day'), (u'start', datetime.datetime(2013, 5, 23, 11, 52, 39)), (u'id', 110187)])]"
       ]
      },
      {
       "output_type": "stream",
       "stream": "stdout",
       "text": [
        "\n",
        "(6277) 110159,[OrderedDict([(u'title', u'Philipp Poisel entdeckt Dein Hessen'), (u'start', datetime.datetime(2013, 5, 26, 7, 0)), (u'id', 110159)])]"
       ]
      },
      {
       "output_type": "stream",
       "stream": "stdout",
       "text": [
        "\n",
        "(6279) 110151,[OrderedDict([(u'title', u'Samling Gustaf Adolfs torg'), (u'start', datetime.datetime(2013, 5, 23, 14, 0)), (u'id', 110151)])]"
       ]
      },
      {
       "output_type": "stream",
       "stream": "stdout",
       "text": [
        "\n",
        "(6278) 110127,[OrderedDict([(u'title', u'Ford Content Capture 3'), (u'start', datetime.datetime(2013, 5, 23, 9, 58, 29)), (u'id', 110127)])]"
       ]
      },
      {
       "output_type": "stream",
       "stream": "stdout",
       "text": [
        "\n",
        "(6278) 110113,[OrderedDict([(u'title', u'calciomercato trattative giornata  23 maggio'), (u'start', datetime.datetime(2013, 5, 23, 9, 33, 15)), (u'id', 110113)])]"
       ]
      },
      {
       "output_type": "stream",
       "stream": "stdout",
       "text": [
        "\n",
        "(6277) 110028,[OrderedDict([(u'title', u'Memorial Cup 2013: Portland Winterhawks vs. Saskatoon Blades livechat, Weds.,May 22, 8 p.m. ET/6 p.m. MT'), (u'start', datetime.datetime(2013, 5, 23, 2, 0)), (u'id', 110028)])]"
       ]
      },
      {
       "output_type": "stream",
       "stream": "stdout",
       "text": [
        "\n",
        "(6277) 109958,[OrderedDict([(u'title', u'Tim Bosma investigation update LIVE'), (u'start', datetime.datetime(2013, 5, 22, 20, 13, 33)), (u'id', 109958)])]"
       ]
      },
      {
       "output_type": "stream",
       "stream": "stdout",
       "text": [
        "\n",
        "(6276) 109856,[OrderedDict([(u'title', u'testing testing'), (u'start', datetime.datetime(2013, 5, 22, 17, 0)), (u'id', 109856)])]"
       ]
      },
      {
       "output_type": "stream",
       "stream": "stdout",
       "text": [
        "\n",
        "(6279) 109854,[OrderedDict([(u'title', u'Man killed in London street'), (u'start', datetime.datetime(2013, 5, 22, 17, 0)), (u'id', 109854)])]"
       ]
      },
      {
       "output_type": "stream",
       "stream": "stdout",
       "text": [
        "\n",
        "(6279) 109845,[OrderedDict([(u'title', u'Live: Trafford full council meeting'), (u'start', datetime.datetime(2013, 5, 22, 18, 45)), (u'id', 109845)])]"
       ]
      },
      {
       "output_type": "stream",
       "stream": "stdout",
       "text": [
        "\n",
        "(6278) 134040,[OrderedDict([(u'title', u'Tour de France : Castres - Ax 3 Domaines en direct sur France Bleu'), (u'start', datetime.datetime(2013, 7, 6, 10, 30)), (u'id', 134040)])]"
       ]
      },
      {
       "output_type": "stream",
       "stream": "stdout",
       "text": [
        "\n",
        "(6279) 109838,[OrderedDict([(u'title', u'LIVE \\u0394\\u03cc\\u03be\\u03b1 \\u0394\\u03c1\\u03ac\\u03bc\\u03b1\\u03c2-\\u0391\\u0395\\u039b'), (u'start', datetime.datetime(2013, 5, 22, 16, 51, 41)), (u'id', 109838)])]"
       ]
      },
      {
       "output_type": "stream",
       "stream": "stdout",
       "text": [
        "\n",
        "(6278) 109746,[OrderedDict([(u'title', u'Bon Jovi p\\xe5 Koengen'), (u'start', datetime.datetime(2013, 5, 22, 23, 9, 2)), (u'id', 109746)])]"
       ]
      },
      {
       "output_type": "stream",
       "stream": "stdout",
       "text": [
        "\n",
        "(6280) 109741,[OrderedDict([(u'title', u'LIVE: Ottawa Senators vs. Pittsburgh Penguins, Game 4'), (u'start', datetime.datetime(2013, 5, 23, 0, 45)), (u'id', 109741)])]"
       ]
      },
      {
       "output_type": "stream",
       "stream": "stdout",
       "text": [
        "\n",
        "(6282) 109702,[OrderedDict([(u'title', u'TEST'), (u'start', datetime.datetime(2013, 5, 22, 14, 12, 14)), (u'id', 109702)])]"
       ]
      },
      {
       "output_type": "stream",
       "stream": "stdout",
       "text": [
        "\n",
        "(6281) 142066,[OrderedDict([(u'title', u'Stephanie Miller Live Chat - 7/08'), (u'start', datetime.datetime(2013, 7, 8, 14, 45)), (u'id', 142066)])]"
       ]
      },
      {
       "output_type": "stream",
       "stream": "stdout",
       "text": [
        "\n",
        "(6280) 109684,[OrderedDict([(u'title', u'Test'), (u'start', datetime.datetime(2013, 5, 22, 13, 51, 38)), (u'id', 109684)])]"
       ]
      },
      {
       "output_type": "stream",
       "stream": "stdout",
       "text": [
        "\n",
        "(6281) 109649,[OrderedDict([(u'title', u'Ford Twitter'), (u'start', datetime.datetime(2013, 5, 22, 12, 30)), (u'id', 109649)])]"
       ]
      },
      {
       "output_type": "stream",
       "stream": "stdout",
       "text": [
        "\n",
        "(6280) 109598,[OrderedDict([(u'title', u'Scribble-kurs'), (u'start', datetime.datetime(2013, 5, 22, 11, 25, 36)), (u'id', 109598)])]"
       ]
      },
      {
       "output_type": "stream",
       "stream": "stdout",
       "text": [
        "\n",
        "(6281) 109597,[OrderedDict([(u'title', u'Scribble-kurs'), (u'start', datetime.datetime(2013, 5, 22, 12, 9, 54)), (u'id', 109597)])]"
       ]
      },
      {
       "output_type": "stream",
       "stream": "stdout",
       "text": [
        "\n",
        "(6280) 109566,[OrderedDict([(u'title', u'Calciomercato: le trattative del 22 maggio 2013'), (u'start', datetime.datetime(2013, 5, 22, 9, 45)), (u'id', 109566)])]"
       ]
      },
      {
       "output_type": "stream",
       "stream": "stdout",
       "text": [
        "\n",
        "(6280) 109437,[OrderedDict([(u'title', u'New Orleans City Council criminal justice committee meeting, May 22, 2013'), (u'start', datetime.datetime(2013, 5, 22, 20, 48, 43)), (u'id', 109437)])]"
       ]
      },
      {
       "output_type": "stream",
       "stream": "stdout",
       "text": [
        "\n",
        "(6281) 109392,[OrderedDict([(u'title', u'Wednesday, May 22 - Live news updates'), (u'start', datetime.datetime(2013, 5, 21, 20, 31, 2)), (u'id', 109392)])]"
       ]
      },
      {
       "output_type": "stream",
       "stream": "stdout",
       "text": [
        "\n",
        "(6280) 109364,[OrderedDict([(u'title', u'arnoldpoll'), (u'start', datetime.datetime(2013, 5, 21, 20, 5, 40)), (u'id', 109364)])]"
       ]
      },
      {
       "output_type": "stream",
       "stream": "stdout",
       "text": [
        "\n",
        "(6279) 109359,[OrderedDict([(u'title', u'NCAA college football opening weekend'), (u'start', datetime.datetime(2013, 8, 29, 6, 0)), (u'id', 109359)])]"
       ]
      },
      {
       "output_type": "stream",
       "stream": "stdout",
       "text": [
        "\n",
        "(6279) 109333,[OrderedDict([(u'title', u\"Women's U19: Region no. 1 Vs Region no. 6\"), (u'start', datetime.datetime(2013, 5, 21, 19, 11, 9)), (u'id', 109333)])]"
       ]
      },
      {
       "output_type": "stream",
       "stream": "stdout",
       "text": [
        "\n",
        "(6278) 109286,[OrderedDict([(u'title', u'AEK LIVE RADIO 21/5/2013'), (u'start', datetime.datetime(2013, 5, 21, 18, 0, 38)), (u'id', 109286)])]"
       ]
      },
      {
       "output_type": "stream",
       "stream": "stdout",
       "text": [
        "\n",
        "(6277) 109274,[OrderedDict([(u'title', u'Mayor Mandel announces election intentions'), (u'start', datetime.datetime(2013, 5, 21, 17, 45)), (u'id', 109274)])]"
       ]
      },
      {
       "output_type": "stream",
       "stream": "stdout",
       "text": [
        "\n",
        "(6277) 109249,[OrderedDict([(u'title', u'Suffolk Show 2013'), (u'start', datetime.datetime(2013, 5, 28, 13, 0)), (u'id', 109249)])]"
       ]
      },
      {
       "output_type": "stream",
       "stream": "stdout",
       "text": [
        "\n",
        "(6277) 109074,[OrderedDict([(u'title', u'Tierischer Besuch'), (u'start', datetime.datetime(2013, 5, 21, 15, 15)), (u'id', 109074)])]"
       ]
      },
      {
       "output_type": "stream",
       "stream": "stdout",
       "text": [
        "\n",
        "(6276) 108961,[OrderedDict([(u'title', u'Oklahoma tornado'), (u'start', datetime.datetime(2013, 5, 21, 7, 20, 49)), (u'id', 108961)])]"
       ]
      },
      {
       "output_type": "stream",
       "stream": "stdout",
       "text": [
        "\n",
        "(6277) 108894,[OrderedDict([(u'title', u'Welcome Text'), (u'start', datetime.datetime(2013, 5, 24, 1, 20)), (u'id', 108894)])]"
       ]
      },
      {
       "output_type": "stream",
       "stream": "stdout",
       "text": [
        "\n",
        "(6279) 108876,[OrderedDict([(u'title', u'Live Blog: 2013 MasterCard Memorial Cup \\u2013 Portland Winterhawks vs London Knights'), (u'start', datetime.datetime(2013, 5, 21, 1, 30)), (u'id', 108876)])]"
       ]
      },
      {
       "output_type": "stream",
       "stream": "stdout",
       "text": [
        "\n",
        "(6279) 108591,[OrderedDict([(u'title', u'OLYMPIACOS24.GR: \\u039d\\u03a4\\u039f\\u03a1\\u03a4\\u039c\\u039f\\u03a5\\u039d\\u03a4 - \\u039c\\u03a0\\u0391\\u0393\\u0395\\u03a1\\u039d \\u039c\\u039f\\u039d\\u0391\\u03a7\\u039f\\u03a5'), (u'start', datetime.datetime(2013, 5, 25, 20, 33, 46)), (u'id', 108591)])]"
       ]
      },
      {
       "output_type": "stream",
       "stream": "stdout",
       "text": [
        "\n",
        "(6280) 108589,[OrderedDict([(u'title', u'OLYMPIACOS24.GR: \\u039f\\u039b\\u03a5\\u039c\\u03a0\\u0399\\u0391\\u039a\\u039f\\u03a3 - \\u0392\\u039f\\u03a5\\u039b\\u0399\\u0391\\u0393\\u039c\\u0395\\u039d\\u0397 (\\u03a0\\u039f\\u039b\\u039f \\u0391\\u039d\\u0394\\u03a1\\u03a9\\u039d)'), (u'start', datetime.datetime(2013, 5, 22, 16, 39, 12)), (u'id', 108589)])]"
       ]
      },
      {
       "output_type": "stream",
       "stream": "stdout",
       "text": [
        "\n",
        "(6280) 108573,[OrderedDict([(u'title', u'DEL - bakgrund'), (u'start', datetime.datetime(2013, 6, 10, 14, 57, 18)), (u'id', 108573)])]"
       ]
      },
      {
       "output_type": "stream",
       "stream": "stdout",
       "text": [
        "\n",
        "(6281) 108554,[OrderedDict([(u'title', u'WOOP.GR: \\u0391\\u03a4\\u03a1\\u039f\\u039c\\u0397\\u03a4\\u039f\\u03a3 \\u0391\\u0398. - \\u03a0\\u0391\\u03a3 \\u0393\\u0399\\u0391\\u039d\\u039d\\u0399\\u039d\\u0391'), (u'start', datetime.datetime(2013, 5, 26, 19, 30)), (u'id', 108554)])]"
       ]
      },
      {
       "output_type": "stream",
       "stream": "stdout",
       "text": [
        "\n",
        "(6280) 108443,[OrderedDict([(u'title', u'UEFA Champions League final: Borussia Dortmund vs Bayern Munich'), (u'start', datetime.datetime(2013, 5, 20, 15, 45, 25)), (u'id', 108443)])]"
       ]
      },
      {
       "output_type": "stream",
       "stream": "stdout",
       "text": [
        "\n",
        "(6281) 108424,[OrderedDict([(u'title', u'19.5. pronssipeli suomi usa'), (u'start', datetime.datetime(2013, 5, 19, 15, 15)), (u'id', 108424)])]"
       ]
      },
      {
       "output_type": "stream",
       "stream": "stdout",
       "text": [
        "\n",
        "(6281) 146924,[OrderedDict([(u'title', u\"Man Utd's transfer business\"), (u'start', datetime.datetime(2013, 7, 15, 20, 46, 58)), (u'id', 146924)])]"
       ]
      },
      {
       "output_type": "stream",
       "stream": "stdout",
       "text": [
        "\n",
        "(6280) 108305,[OrderedDict([(u'title', u'Test'), (u'start', datetime.datetime(2013, 6, 26, 8, 1, 49)), (u'id', 108305)])]"
       ]
      },
      {
       "output_type": "stream",
       "stream": "stdout",
       "text": [
        "\n",
        "(6282) 108304,[OrderedDict([(u'title', u'IPL spot-fixing - Live updates, 19th May'), (u'start', datetime.datetime(2013, 5, 19, 9, 0)), (u'id', 108304)])]"
       ]
      },
      {
       "output_type": "stream",
       "stream": "stdout",
       "text": [
        "\n",
        "(6283) 108150,[OrderedDict([(u'title', u'Portland vs. Halifax'), (u'start', datetime.datetime(2013, 5, 19, 0, 45)), (u'id', 108150)])]"
       ]
      },
      {
       "output_type": "stream",
       "stream": "stdout",
       "text": [
        "\n",
        "(6285) 108109,[OrderedDict([(u'title', u'\\u03a6\\u03c9\\u03ba\\u03b9\\u03ba\\u03cc\\u03c2 - \\u0391\\u0395\\u039b'), (u'start', datetime.datetime(2013, 5, 19, 16, 33, 43)), (u'id', 108109)])]"
       ]
      },
      {
       "output_type": "stream",
       "stream": "stdout",
       "text": [
        "\n",
        "(6284) 107952,[OrderedDict([(u'title', u'Pandas make debut to the public'), (u'start', datetime.datetime(2013, 5, 18, 17, 40, 53)), (u'id', 107952)])]"
       ]
      },
      {
       "output_type": "stream",
       "stream": "stdout",
       "text": [
        "\n",
        "(6283) 107884,[OrderedDict([(u'title', u'State Track: Day 3'), (u'start', datetime.datetime(2013, 5, 18, 14, 29, 42)), (u'id', 107884)])]"
       ]
      },
      {
       "output_type": "stream",
       "stream": "stdout",
       "text": [
        "\n",
        "(6284) 165133,[OrderedDict([(u'title', u'Live-Chat 9. August: Sind die Bayern in der Bundesliga zu stoppen?'), (u'start', datetime.datetime(2013, 8, 9, 3, 0)), (u'id', 165133)])]"
       ]
      },
      {
       "output_type": "stream",
       "stream": "stdout",
       "text": [
        "\n",
        "(6285) 107808,[OrderedDict([(u'title', u\"2013 Giro d' Italia - Stage 14 - Cervere to Bardonecchia, 168km\"), (u'start', datetime.datetime(2013, 5, 18, 12, 0)), (u'id', 107808)])]"
       ]
      },
      {
       "output_type": "stream",
       "stream": "stdout",
       "text": [
        "\n",
        "(6285) 107735,[OrderedDict([(u'title', u'AO VIVO: acompanhe o \\xfaltimo cap\\xedtulo de Salve Jorge'), (u'start', datetime.datetime(2013, 5, 18, 2, 0)), (u'id', 107735)])]"
       ]
      },
      {
       "output_type": "stream",
       "stream": "stdout",
       "text": [
        "\n",
        "(6285) 107728,[OrderedDict([(u'title', u'Live chat with Bob Marshall: Is it too late to save the Louisiana coast?'), (u'start', datetime.datetime(2013, 5, 21, 19, 44, 20)), (u'id', 107728)])]"
       ]
      },
      {
       "output_type": "stream",
       "stream": "stdout",
       "text": [
        "\n",
        "(6284) 107693,[OrderedDict([(u'title', u'Knights vs. Blades'), (u'start', datetime.datetime(2013, 5, 18, 1, 30)), (u'id', 107693)])]"
       ]
      },
      {
       "output_type": "stream",
       "stream": "stdout",
       "text": [
        "\n",
        "(6283) 107583,[OrderedDict([(u'title', u'BT Send en hilsen til Emmelie'), (u'start', datetime.datetime(2013, 5, 17, 19, 27, 15)), (u'id', 107583)])]"
       ]
      },
      {
       "output_type": "stream",
       "stream": "stdout",
       "text": [
        "\n",
        "(6282) 107545,[OrderedDict([(u'title', u'Xerez CD - Sporting'), (u'start', datetime.datetime(2013, 5, 18, 17, 30)), (u'id', 107545)])]"
       ]
      },
      {
       "output_type": "stream",
       "stream": "stdout",
       "text": [
        "\n",
        "(6282) 107484,[OrderedDict([(u'title', u'Social Radio: Champions League Finale 2013'), (u'start', datetime.datetime(2013, 5, 24, 18, 47, 55)), (u'id', 107484)])]"
       ]
      },
      {
       "output_type": "stream",
       "stream": "stdout",
       "text": [
        "\n",
        "(6281) 172623,[OrderedDict([(u'title', u'P-LSC-FR-20130817-UC-Division 1 Provinciale Li\\xe8ge - Journ\\xe9e 1'), (u'start', datetime.datetime(2013, 8, 16, 9, 28, 54)), (u'id', 172623)])]"
       ]
      },
      {
       "output_type": "stream",
       "stream": "stdout",
       "text": [
        "\n",
        "(6280) 107473,[OrderedDict([(u'title', u'Leinster v Stade Francais'), (u'start', datetime.datetime(2013, 5, 17, 20, 40, 41)), (u'id', 107473)])]"
       ]
      },
      {
       "output_type": "stream",
       "stream": "stdout",
       "text": [
        "\n",
        "(6283) 107399,[OrderedDict([(u'title', u'Fontana court case May 17'), (u'start', datetime.datetime(2013, 5, 17, 15, 30, 56)), (u'id', 107399)])]"
       ]
      },
      {
       "output_type": "stream",
       "stream": "stdout",
       "text": [
        "\n",
        "(6281) 179539,[OrderedDict([(u'title', u'Ford vs. Hogan'), (u'start', datetime.datetime(2013, 8, 23, 14, 15, 15)), (u'id', 179539)])]"
       ]
      },
      {
       "output_type": "stream",
       "stream": "stdout",
       "text": [
        "\n",
        "(6280) 107294,[OrderedDict([(u'title', u'Pressem\\xf8de: Olsen udtager sin landsholdstrup'), (u'start', datetime.datetime(2013, 5, 17, 13, 2, 3)), (u'id', 107294)])]"
       ]
      },
      {
       "output_type": "stream",
       "stream": "stdout",
       "text": [
        "\n",
        "(6280) 107285,[OrderedDict([(u'title', u'Copa del Rey : Atletico-Real'), (u'start', datetime.datetime(2013, 5, 17, 21, 27, 35)), (u'id', 107285)])]"
       ]
      },
      {
       "output_type": "stream",
       "stream": "stdout",
       "text": [
        "\n",
        "(6280) 107214,[OrderedDict([(u'title', u'Expertenrunde vom 18. Mai 2013'), (u'start', datetime.datetime(2013, 5, 18, 9, 30)), (u'id', 107214)])]"
       ]
      },
      {
       "output_type": "stream",
       "stream": "stdout",
       "text": [
        "\n",
        "(6279) 107185,[OrderedDict([(u'title', u'Tre kronors slutspel'), (u'start', datetime.datetime(2013, 5, 19, 16, 31, 35)), (u'id', 107185)])]"
       ]
      },
      {
       "output_type": "stream",
       "stream": "stdout",
       "text": [
        "\n",
        "(6279) 107174,[OrderedDict([(u'title', u'Heritage in Penang'), (u'start', datetime.datetime(2013, 5, 17, 9, 52, 38)), (u'id', 107174)])]"
       ]
      },
      {
       "output_type": "stream",
       "stream": "stdout",
       "text": [
        "\n",
        "(6278) 171506,[OrderedDict([(u'title', u'The F365 Transfer Blog - Thursday August 15'), (u'start', datetime.datetime(2013, 8, 15, 9, 18, 6)), (u'id', 171506)])]"
       ]
      },
      {
       "output_type": "stream",
       "stream": "stdout",
       "text": [
        "\n",
        "(6280) 107170,[OrderedDict([(u'title', u'IPL spot-fixing crisis - live updates'), (u'start', datetime.datetime(2013, 5, 17, 9, 30)), (u'id', 107170)])]"
       ]
      },
      {
       "output_type": "stream",
       "stream": "stdout",
       "text": [
        "\n",
        "(6279) 107098,[OrderedDict([(u'title', u'WLSFA Conference'), (u'start', datetime.datetime(2013, 5, 17, 17, 45)), (u'id', 107098)])]"
       ]
      },
      {
       "output_type": "stream",
       "stream": "stdout",
       "text": [
        "\n",
        "(6280) 106886,[OrderedDict([(u'title', u'Live Blog: Discussing The 2013 MasterCard Memorial Cup'), (u'start', datetime.datetime(2013, 5, 17, 4, 16, 51)), (u'id', 106886)])]"
       ]
      },
      {
       "output_type": "stream",
       "stream": "stdout",
       "text": [
        "\n",
        "(6281) 106885,[OrderedDict([(u'title', u'School votes'), (u'start', datetime.datetime(2013, 5, 22, 1, 36, 18)), (u'id', 106885)])]"
       ]
      },
      {
       "output_type": "stream",
       "stream": "stdout",
       "text": [
        "\n",
        "(6281) 164613,[OrderedDict([(u'title', u'MNF Preview Show'), (u'start', datetime.datetime(2013, 8, 8, 14, 56, 4)), (u'id', 164613)])]"
       ]
      },
      {
       "output_type": "stream",
       "stream": "stdout",
       "text": [
        "\n",
        "(6282) 106578,[OrderedDict([(u'title', u'T-LSC-FR-20130515-LC-Zulte Waregem - Club Brugeois (Journ\\xe9e 9)'), (u'start', datetime.datetime(2013, 5, 15, 0, 0)), (u'id', 106578)])]"
       ]
      },
      {
       "output_type": "stream",
       "stream": "stdout",
       "text": [
        "\n",
        "(6288) 106572,[OrderedDict([(u'title', u'T-LSC-FR-20130504-LC-Anderlecht - Standard Li\\xe8ge (Journ\\xe9e 7)'), (u'start', datetime.datetime(2013, 5, 4, 0, 0)), (u'id', 106572)])]"
       ]
      },
      {
       "output_type": "stream",
       "stream": "stdout",
       "text": [
        "\n",
        "(6287) 179258,[OrderedDict([(u'title', u'Elche - Real Sociedad'), (u'start', datetime.datetime(2013, 8, 24, 18, 16, 4)), (u'id', 179258)])]"
       ]
      },
      {
       "output_type": "stream",
       "stream": "stdout",
       "text": [
        "\n",
        "(6286) 169788,[OrderedDict([(u'title', u'Flood Protection Authority appears before Louisiana legislative committees'), (u'start', datetime.datetime(2013, 8, 14, 16, 30)), (u'id', 169788)])]"
       ]
      },
      {
       "output_type": "stream",
       "stream": "stdout",
       "text": [
        "\n",
        "(6285) 134222,[OrderedDict([(u'title', u'Sddds'), (u'start', datetime.datetime(2013, 6, 28, 18, 26, 51)), (u'id', 134222)])]"
       ]
      },
      {
       "output_type": "stream",
       "stream": "stdout",
       "text": [
        "\n",
        "(6286) 106571,[OrderedDict([(u'title', u'T-LSC-FR-20130504-UC-Anderlecht - Standard Li\\xe8ge (Journ\\xe9e 7)'), (u'start', datetime.datetime(2013, 5, 4, 0, 0)), (u'id', 106571)])]"
       ]
      },
      {
       "output_type": "stream",
       "stream": "stdout",
       "text": [
        "\n",
        "(6285) 106570,[OrderedDict([(u'title', u'T-LSC-FR-20130504-LC-Anderlecht - Standard Li\\xe8ge (Journ\\xe9e 7)'), (u'start', datetime.datetime(2013, 5, 4, 0, 0)), (u'id', 106570)])]"
       ]
      },
      {
       "output_type": "stream",
       "stream": "stdout",
       "text": [
        "\n",
        "(6286) 106568,[OrderedDict([(u'title', u'ESC TT fredag'), (u'start', datetime.datetime(2013, 5, 17, 17, 0)), (u'id', 106568)])]"
       ]
      },
      {
       "output_type": "stream",
       "stream": "stdout",
       "text": [
        "\n",
        "(6285) 132231,[OrderedDict([(u'title', u'Live coverage U.S. Supreme Court decisions'), (u'start', datetime.datetime(2013, 6, 25, 23, 0)), (u'id', 132231)])]"
       ]
      },
      {
       "output_type": "stream",
       "stream": "stdout",
       "text": [
        "\n",
        "(6285) 106534,[OrderedDict([(u'title', u'T-LSC-NL-20130515-LC-Etappe 12: Longarone - Treviso'), (u'start', datetime.datetime(2013, 5, 15, 0, 0)), (u'id', 106534)])]"
       ]
      },
      {
       "output_type": "stream",
       "stream": "stdout",
       "text": [
        "\n",
        "(6284) 106487,[OrderedDict([(u'title', u'Attributed test event'), (u'start', datetime.datetime(2013, 5, 16, 13, 35, 1)), (u'id', 106487)])]"
       ]
      },
      {
       "output_type": "stream",
       "stream": "stdout",
       "text": [
        "\n",
        "(6283) 106472,[OrderedDict([(u'title', u'T-LSC-NL-20130524-UC-Borussia Dortmund - Bayern M\\xfcnchen (Speeldag 1)'), (u'start', datetime.datetime(2013, 5, 24, 0, 0)), (u'id', 106472)])]"
       ]
      },
      {
       "output_type": "stream",
       "stream": "stdout",
       "text": [
        "\n",
        "(6284) 106396,[OrderedDict([(u'title', u\"England v New Zealand, 1st Test, Lord's\"), (u'start', datetime.datetime(2013, 5, 17, 11, 30)), (u'id', 106396)])]"
       ]
      },
      {
       "output_type": "stream",
       "stream": "stdout",
       "text": [
        "\n",
        "(6284) 106371,[OrderedDict([(u'title', u'Liveblogg, Ann-Lis, Paret Kaleva'), (u'start', datetime.datetime(2013, 5, 16, 10, 6, 8)), (u'id', 106371)])]"
       ]
      },
      {
       "output_type": "stream",
       "stream": "stdout",
       "text": [
        "\n",
        "(6283) 106207,[OrderedDict([(u'title', u'Miguel Zenon Quartet: Live At The Village Vanguard'), (u'start', datetime.datetime(2013, 5, 16, 2, 15)), (u'id', 106207)])]"
       ]
      },
      {
       "output_type": "stream",
       "stream": "stdout",
       "text": [
        "\n",
        "(6282) 106046,[OrderedDict([(u'title', u'Superliga torsdag - AGF -AaB'), (u'start', datetime.datetime(2013, 5, 15, 20, 6, 26)), (u'id', 106046)])]"
       ]
      },
      {
       "output_type": "stream",
       "stream": "stdout",
       "text": [
        "\n",
        "(6282) 105815,[OrderedDict([(u'title', u'Europa League : Benfica-Chelsea'), (u'start', datetime.datetime(2013, 5, 15, 18, 26, 41)), (u'id', 105815)])]"
       ]
      },
      {
       "output_type": "stream",
       "stream": "stdout",
       "text": [
        "\n",
        "(6282) 105762,[OrderedDict([(u'title', u'\\u0391\\u03c4\\u03c1\\u03cc\\u03bc\\u03b7\\u03c4\\u03bf\\u03c2 - \\u03a0\\u0391\\u039f\\u039a LIVE'), (u'start', datetime.datetime(2013, 5, 15, 18, 11, 4)), (u'id', 105762)])]"
       ]
      },
      {
       "output_type": "stream",
       "stream": "stdout",
       "text": [
        "\n",
        "(6282) 105696,[OrderedDict([(u'title', u'\\u038c\\u03c3\\u03b1 \\u03b4\\u03b5\\u03bd \\u03b5\\u03af\\u03b4\\u03b1\\u03c4\\u03b5'), (u'start', datetime.datetime(2013, 5, 15, 15, 0)), (u'id', 105696)])]"
       ]
      },
      {
       "output_type": "stream",
       "stream": "stdout",
       "text": [
        "\n",
        "(6281) 105690,[OrderedDict([(u'title', u'LIVE COVERAGE: City of Missoula sexual assault response'), (u'start', datetime.datetime(2013, 5, 15, 18, 35, 53)), (u'id', 105690)])]"
       ]
      },
      {
       "output_type": "stream",
       "stream": "stdout",
       "text": [
        "\n",
        "(6282) 105571,[OrderedDict([(u'title', u'Wynne presser, May 15'), (u'start', datetime.datetime(2013, 5, 15, 16, 0, 40)), (u'id', 105571)])]"
       ]
      },
      {
       "output_type": "stream",
       "stream": "stdout",
       "text": [
        "\n",
        "(6281) 105478,[OrderedDict([(u'title', u'Lamki images'), (u'start', datetime.datetime(2013, 5, 15, 15, 13, 22)), (u'id', 105478)])]"
       ]
      },
      {
       "output_type": "stream",
       "stream": "stdout",
       "text": [
        "\n",
        "(6282) 105463,[OrderedDict([(u'title', u'Europa League finalen'), (u'start', datetime.datetime(2013, 5, 15, 14, 57, 45)), (u'id', 105463)])]"
       ]
      },
      {
       "output_type": "stream",
       "stream": "stdout",
       "text": [
        "\n",
        "(6281) 105371,[OrderedDict([(u'title', u'Google I/O 2013 Keynote'), (u'start', datetime.datetime(2013, 5, 15, 17, 15, 30)), (u'id', 105371)])]"
       ]
      },
      {
       "output_type": "stream",
       "stream": "stdout",
       "text": [
        "\n",
        "(6282) 105258,[OrderedDict([(u'title', u'Steer images'), (u'start', datetime.datetime(2013, 5, 15, 11, 25, 53)), (u'id', 105258)])]"
       ]
      },
      {
       "output_type": "stream",
       "stream": "stdout",
       "text": [
        "\n",
        "(6282) 105159,[OrderedDict([(u'title', u'Google I/O 2013 \\u5716\\u6587\\u76f4\\u64ad'), (u'start', datetime.datetime(2013, 5, 15, 8, 15)), (u'id', 105159)])]"
       ]
      },
      {
       "output_type": "stream",
       "stream": "stdout",
       "text": [
        "\n",
        "(6283) 105099,[OrderedDict([(u'title', u\"Gran Turismo's 15th Anniversary\"), (u'start', datetime.datetime(2013, 5, 15, 17, 0)), (u'id', 105099)])]"
       ]
      },
      {
       "output_type": "stream",
       "stream": "stdout",
       "text": [
        "\n",
        "(6283) 105060,[OrderedDict([(u'title', u'Placeholder: B.C. election day polls'), (u'start', datetime.datetime(2013, 5, 14, 22, 50, 2)), (u'id', 105060)])]"
       ]
      },
      {
       "output_type": "stream",
       "stream": "stdout",
       "text": [
        "\n",
        "(6283) 105034,[OrderedDict([(u'title', u'TYT 5/14 Live Show'), (u'start', datetime.datetime(2013, 5, 14, 21, 51, 38)), (u'id', 105034)])]"
       ]
      },
      {
       "output_type": "stream",
       "stream": "stdout",
       "text": [
        "\n",
        "(6284) 105028,[OrderedDict([(u'title', u'Buzzing the Net CHL Playoff chat: Thurs., May 16, at noon ET'), (u'start', datetime.datetime(2013, 5, 16, 18, 0)), (u'id', 105028)])]"
       ]
      },
      {
       "output_type": "stream",
       "stream": "stdout",
       "text": [
        "\n",
        "(6283) 104997,[OrderedDict([(u'title', u'Wednesday, May 15 - Live news updates'), (u'start', datetime.datetime(2013, 5, 14, 20, 31, 20)), (u'id', 104997)])]"
       ]
      },
      {
       "output_type": "stream",
       "stream": "stdout",
       "text": [
        "\n",
        "(6282) 104975,[OrderedDict([(u'title', u'\"The Prophets of Oak Ridge,\" with the Washington Post\\'s Dan Zak and David Beard'), (u'start', datetime.datetime(2013, 5, 16, 15, 1, 46)), (u'id', 104975)])]"
       ]
      },
      {
       "output_type": "stream",
       "stream": "stdout",
       "text": [
        "\n",
        "(6281) 104927,[OrderedDict([(u'title', u'BRCA1 and preventative mastectomies'), (u'start', datetime.datetime(2013, 5, 14, 18, 8, 5)), (u'id', 104927)])]"
       ]
      },
      {
       "output_type": "stream",
       "stream": "stdout",
       "text": [
        "\n",
        "(6282) 104674,[OrderedDict([(u'title', u'Blackberry Live in Orlando video stream'), (u'start', datetime.datetime(2013, 5, 14, 16, 0, 17)), (u'id', 104674)])]"
       ]
      },
      {
       "output_type": "stream",
       "stream": "stdout",
       "text": [
        "\n",
        "(6283) 104655,[OrderedDict([(u'title', u'Alexandra VH Images'), (u'start', datetime.datetime(2013, 5, 14, 15, 50, 17)), (u'id', 104655)])]"
       ]
      },
      {
       "output_type": "stream",
       "stream": "stdout",
       "text": [
        "\n",
        "(6282) 104606,[OrderedDict([(u'title', u'Condolences for Tim Bosma and Family'), (u'start', datetime.datetime(2013, 5, 14, 17, 0)), (u'id', 104606)])]"
       ]
      },
      {
       "output_type": "stream",
       "stream": "stdout",
       "text": [
        "\n",
        "(6281) 104591,[OrderedDict([(u'title', u'Tipps gegen Einbr\\xfcche'), (u'start', datetime.datetime(2013, 5, 14, 15, 19, 38)), (u'id', 104591)])]"
       ]
      },
      {
       "output_type": "stream",
       "stream": "stdout",
       "text": [
        "\n",
        "(6281) 104520,[OrderedDict([(u'title', u'Google I/O 2013'), (u'start', datetime.datetime(2013, 5, 15, 16, 12, 37)), (u'id', 104520)])]"
       ]
      },
      {
       "output_type": "stream",
       "stream": "stdout",
       "text": [
        "\n",
        "(6281) 104489,[OrderedDict([(u'title', u'Blackberry Live in Orlando'), (u'start', datetime.datetime(2013, 5, 14, 12, 59, 23)), (u'id', 104489)])]"
       ]
      },
      {
       "output_type": "stream",
       "stream": "stdout",
       "text": [
        "\n",
        "(6280) 104478,[OrderedDict([(u'title', u'test gerd'), (u'start', datetime.datetime(2013, 5, 14, 12, 35, 29)), (u'id', 104478)])]"
       ]
      },
      {
       "output_type": "stream",
       "stream": "stdout",
       "text": [
        "\n",
        "(6280) 104467,[OrderedDict([(u'title', u'Ingleby Barwick free school enquiry'), (u'start', datetime.datetime(2013, 5, 14, 11, 51, 30)), (u'id', 104467)])]"
       ]
      },
      {
       "output_type": "stream",
       "stream": "stdout",
       "text": [
        "\n",
        "(6282) 104464,[OrderedDict([(u'title', u\"2013 Giro d' Italia - Stage 10 - Cordenons to Altopiano del Montasio, 167km\"), (u'start', datetime.datetime(2013, 5, 14, 11, 30)), (u'id', 104464)])]"
       ]
      },
      {
       "output_type": "stream",
       "stream": "stdout",
       "text": [
        "\n",
        "(6283) 104451,[OrderedDict([(u'title', u'Stephanie Miller Live Chat - 5/14'), (u'start', datetime.datetime(2013, 5, 14, 14, 45)), (u'id', 104451)])]"
       ]
      },
      {
       "output_type": "stream",
       "stream": "stdout",
       "text": [
        "\n",
        "(6282) 104448,[OrderedDict([(u'title', u'England v Sri Lanka - Champions Trophy'), (u'start', datetime.datetime(2013, 6, 13, 13, 0)), (u'id', 104448)])]"
       ]
      },
      {
       "output_type": "stream",
       "stream": "stdout",
       "text": [
        "\n",
        "(6285) 104417,[OrderedDict([(u'title', u'Test-Socia-TV-Event'), (u'start', datetime.datetime(2013, 5, 14, 10, 20, 7)), (u'id', 104417)])]"
       ]
      },
      {
       "output_type": "stream",
       "stream": "stdout",
       "text": [
        "\n",
        "(6285) 104414,[OrderedDict([(u'title', u'Bury council live'), (u'start', datetime.datetime(2013, 5, 14, 14, 45)), (u'id', 104414)])]"
       ]
      },
      {
       "output_type": "stream",
       "stream": "stdout",
       "text": [
        "\n",
        "(6287) 104394,[OrderedDict([(u'title', u'April Jones Live Updates'), (u'start', datetime.datetime(2013, 5, 14, 9, 52, 4)), (u'id', 104394)])]"
       ]
      },
      {
       "output_type": "stream",
       "stream": "stdout",
       "text": [
        "\n",
        "(6288) 111038,[OrderedDict([(u'title', u'Repubblica.it - Evento appoggio Comizi Roma'), (u'start', datetime.datetime(2013, 5, 24, 16, 51, 25)), (u'id', 111038)])]"
       ]
      },
      {
       "output_type": "stream",
       "stream": "stdout",
       "text": [
        "\n",
        "(6289) 145811,[OrderedDict([(u'title', u'RUNDE 3 - OB\\t -\\tViborg FF'), (u'start', datetime.datetime(2013, 7, 13, 15, 35, 52)), (u'id', 145811)])]"
       ]
      },
      {
       "output_type": "stream",
       "stream": "stdout",
       "text": [
        "\n",
        "(6288) 104327,[OrderedDict([(u'title', u\"Boston.com's liveblog of Game 7: Toronto Maple Leafs vs. Boston Bruins\"), (u'start', datetime.datetime(2013, 5, 14, 2, 34, 35)), (u'id', 104327)])]"
       ]
      },
      {
       "output_type": "stream",
       "stream": "stdout",
       "text": [
        "\n",
        "(6288) 104282,[OrderedDict([(u'title', u'Tweets: California budget revision'), (u'start', datetime.datetime(2013, 5, 14, 19, 0)), (u'id', 104282)])]"
       ]
      },
      {
       "output_type": "stream",
       "stream": "stdout",
       "text": [
        "\n",
        "(6287) 104264,[OrderedDict([(u'title', u'Live chat: Astronomers talk comet ISON'), (u'start', datetime.datetime(2013, 11, 30, 6, 0)), (u'id', 104264)])]"
       ]
      },
      {
       "output_type": "stream",
       "stream": "stdout",
       "text": [
        "\n",
        "(6288) 104254,[OrderedDict([(u'title', u'TYT 5/13 Live Show'), (u'start', datetime.datetime(2013, 5, 13, 22, 12, 26)), (u'id', 104254)])]"
       ]
      },
      {
       "output_type": "stream",
       "stream": "stdout",
       "text": [
        "\n",
        "(6291) 104238,[OrderedDict([(u'title', u'Live chat: Parliament resumes'), (u'start', datetime.datetime(2013, 9, 30, 18, 0)), (u'id', 104238)])]"
       ]
      },
      {
       "output_type": "stream",
       "stream": "stdout",
       "text": [
        "\n",
        "(6292) 132711,[OrderedDict([(u'title', u'Erstes Bayern Training'), (u'start', datetime.datetime(2013, 6, 26, 16, 29, 34)), (u'id', 132711)])]"
       ]
      },
      {
       "output_type": "stream",
       "stream": "stdout",
       "text": [
        "\n",
        "(6294) 104196,[OrderedDict([(u'title', u'Melhores do Paranaense'), (u'start', datetime.datetime(2013, 5, 13, 22, 54, 59)), (u'id', 104196)])]"
       ]
      },
      {
       "output_type": "stream",
       "stream": "stdout",
       "text": [
        "\n",
        "(6295) 137310,[OrderedDict([(u'title', u'Fourth of July Photos'), (u'start', datetime.datetime(2013, 7, 2, 23, 51, 48)), (u'id', 137310)])]"
       ]
      },
      {
       "output_type": "stream",
       "stream": "stdout",
       "text": [
        "\n",
        "(6298) 104057,[OrderedDict([(u'title', u'\\u03a0\\u0391\\u039f\\u039a \\u039a17 - \\u039f\\u03bb\\u03c5\\u03bc\\u03c0\\u03b9\\u03b1\\u03ba\\u03cc\\u03c2 \\u039a17 LIVE'), (u'start', datetime.datetime(2013, 5, 13, 17, 51, 22)), (u'id', 104057)])]"
       ]
      },
      {
       "output_type": "stream",
       "stream": "stdout",
       "text": [
        "\n",
        "(6297) 103964,[OrderedDict([(u'title', u'Event #3: Audience Engagement'), (u'start', datetime.datetime(2013, 6, 3, 16, 15)), (u'id', 103964)])]"
       ]
      },
      {
       "output_type": "stream",
       "stream": "stdout",
       "text": [
        "\n",
        "(6297) 103921,[OrderedDict([(u'title', u'WOOP.GR: \\u0395\\u03a0\\u0399\\u03a3\\u03a4\\u03a1\\u039f\\u03a6\\u0397 \\u0395\\u03a1\\u03a5\\u0398\\u03a1\\u039f\\u039b\\u0395\\u03a5\\u039a\\u03a9\\u039d'), (u'start', datetime.datetime(2013, 5, 13, 17, 30)), (u'id', 103921)])]"
       ]
      },
      {
       "output_type": "stream",
       "stream": "stdout",
       "text": [
        "\n",
        "(6297) 103884,[OrderedDict([(u'title', u'WOOP.GR: EUROVISION'), (u'start', datetime.datetime(2013, 5, 18, 20, 2, 6)), (u'id', 103884)])]"
       ]
      },
      {
       "output_type": "stream",
       "stream": "stdout",
       "text": [
        "\n",
        "(6296) 103876,[OrderedDict([(u'title', u'Automobil Forum Stuttgart 2013 - Live-vor-Ort'), (u'start', datetime.datetime(2013, 5, 13, 11, 45)), (u'id', 103876)])]"
       ]
      },
      {
       "output_type": "stream",
       "stream": "stdout",
       "text": [
        "\n",
        "(6295) 103865,[OrderedDict([(u'title', u'Danmark-Sverige'), (u'start', datetime.datetime(2013, 5, 14, 19, 45)), (u'id', 103865)])]"
       ]
      },
      {
       "output_type": "stream",
       "stream": "stdout",
       "text": [
        "\n",
        "(6294) 103833,[OrderedDict([(u'title', u'Mumbai Indians v Sunrisers, Mumbai'), (u'start', datetime.datetime(2013, 5, 13, 15, 46, 13)), (u'id', 103833)])]"
       ]
      },
      {
       "output_type": "stream",
       "stream": "stdout",
       "text": [
        "\n",
        "(6297) 103789,[OrderedDict([(u'title', u\"Live chat with Orana Park's Aaron Gilmore\"), (u'start', datetime.datetime(2013, 5, 14, 1, 23, 57)), (u'id', 103789)])]"
       ]
      },
      {
       "output_type": "stream",
       "stream": "stdout",
       "text": [
        "\n",
        "(6297) 103782,[OrderedDict([(u'title', u'Nokia Lumia Event at London Live Blog'), (u'start', datetime.datetime(2013, 5, 14, 10, 0)), (u'id', 103782)])]"
       ]
      },
      {
       "output_type": "stream",
       "stream": "stdout",
       "text": [
        "\n",
        "(6298) 179052,[OrderedDict([(u'title', u'High school scoreboard test'), (u'start', datetime.datetime(2013, 8, 22, 21, 30)), (u'id', 179052)])]"
       ]
      },
      {
       "output_type": "stream",
       "stream": "stdout",
       "text": [
        "\n",
        "(6299) 114447,[OrderedDict([(u'title', u'New event test'), (u'start', datetime.datetime(2013, 5, 31, 9, 1, 33)), (u'id', 114447)])]"
       ]
      },
      {
       "output_type": "stream",
       "stream": "stdout",
       "text": [
        "\n",
        "(6298) 103781,[OrderedDict([(u'title', u'BlackBerry Live from Orlando Florida Live Blog'), (u'start', datetime.datetime(2013, 5, 14, 15, 0)), (u'id', 103781)])]"
       ]
      },
      {
       "output_type": "stream",
       "stream": "stdout",
       "text": [
        "\n",
        "(6298) 103374,[OrderedDict([(u'title', u'Tour final de D2: 2e journ\\xe9e'), (u'start', datetime.datetime(2013, 5, 12, 13, 30, 26)), (u'id', 103374)])]"
       ]
      },
      {
       "output_type": "stream",
       "stream": "stdout",
       "text": [
        "\n",
        "(6297) 103358,[OrderedDict([(u'title', u\"2013 Giro d' Italia - Stage 9 - San Sepolcro to Firenze, 170km\"), (u'start', datetime.datetime(2013, 5, 12, 11, 44, 2)), (u'id', 103358)])]"
       ]
      },
      {
       "output_type": "stream",
       "stream": "stdout",
       "text": [
        "\n",
        "(6297) 103345,[OrderedDict([(u'title', u'Royals v Super Kings, Jaipur'), (u'start', datetime.datetime(2013, 5, 12, 15, 45, 44)), (u'id', 103345)])]"
       ]
      },
      {
       "output_type": "stream",
       "stream": "stdout",
       "text": [
        "\n",
        "(6299) 103315,[OrderedDict([(u'title', u'LIVE CHAT: Game of Thrones, Season 3, Episode 7, \"The Bear and the Maiden Fair\"'), (u'start', datetime.datetime(2013, 5, 13, 2, 54, 45)), (u'id', 103315)])]"
       ]
      },
      {
       "output_type": "stream",
       "stream": "stdout",
       "text": [
        "\n",
        "(6298) 158971,[OrderedDict([(u'title', u'Super Rugby Final Special'), (u'start', datetime.datetime(2013, 8, 1, 7, 21, 28)), (u'id', 158971)])]"
       ]
      },
      {
       "output_type": "stream",
       "stream": "stdout",
       "text": [
        "\n",
        "(6298) 103228,[OrderedDict([(u'title', u'Leafs-Bruins post-Game 5 chat with Rob Longley'), (u'start', datetime.datetime(2013, 5, 11, 21, 0)), (u'id', 103228)])]"
       ]
      },
      {
       "output_type": "stream",
       "stream": "stdout",
       "text": [
        "\n",
        "(6297) 103087,[OrderedDict([(u'title', u'FA Cup Final Live Chat!'), (u'start', datetime.datetime(2013, 5, 11, 17, 4, 28)), (u'id', 103087)])]"
       ]
      },
      {
       "output_type": "stream",
       "stream": "stdout",
       "text": [
        "\n",
        "(6300) 103072,[OrderedDict([(u'title', u'FA Cup Final Live Chat!'), (u'start', datetime.datetime(2013, 5, 11, 16, 54, 1)), (u'id', 103072)])]"
       ]
      },
      {
       "output_type": "stream",
       "stream": "stdout",
       "text": [
        "\n",
        "(6299) 102946,[OrderedDict([(u'title', u\"2013 Giro d' Italia - Stage 8 - Gabicce Mare ti Saltara, (ITT), 54.8\"), (u'start', datetime.datetime(2013, 5, 11, 13, 27, 41)), (u'id', 102946)])]"
       ]
      },
      {
       "output_type": "stream",
       "stream": "stdout",
       "text": [
        "\n",
        "(6301) 102898,[OrderedDict([(u'title', u'Pune Warriors v Mumbai Indians, Pune'), (u'start', datetime.datetime(2013, 5, 11, 12, 0, 49)), (u'id', 102898)])]"
       ]
      },
      {
       "output_type": "stream",
       "stream": "stdout",
       "text": [
        "\n",
        "(6301) 102884,[OrderedDict([(u'title', u'GP Spagna - Libere 3'), (u'start', datetime.datetime(2013, 5, 11, 10, 39, 25)), (u'id', 102884)])]"
       ]
      },
      {
       "output_type": "stream",
       "stream": "stdout",
       "text": [
        "\n",
        "(6301) 102852,[OrderedDict([(u'title', u'Star Tweetalong'), (u'start', datetime.datetime(2013, 5, 12, 0, 32, 50)), (u'id', 102852)])]"
       ]
      },
      {
       "output_type": "stream",
       "stream": "stdout",
       "text": [
        "\n",
        "(6301) 102731,[OrderedDict([(u'title', u'Caption the photo - Lukaszuk and Redford'), (u'start', datetime.datetime(2013, 5, 10, 18, 38, 1)), (u'id', 102731)])]"
       ]
      },
      {
       "output_type": "stream",
       "stream": "stdout",
       "text": [
        "\n",
        "(6300) 102720,[OrderedDict([(u'title', u'Continuum live chat with star Roger Cross'), (u'start', datetime.datetime(2013, 5, 13, 19, 2, 49)), (u'id', 102720)])]"
       ]
      },
      {
       "output_type": "stream",
       "stream": "stdout",
       "text": [
        "\n",
        "(6301) 102693,[OrderedDict([(u'title', u'LIVE: Crystal Palace vs Brighton & Hove Albion'), (u'start', datetime.datetime(2013, 5, 10, 19, 46, 33)), (u'id', 102693)])]"
       ]
      },
      {
       "output_type": "stream",
       "stream": "stdout",
       "text": [
        "\n",
        "(6301) 102674,[OrderedDict([(u'title', u'Finale Cup : Man. City - Wigan'), (u'start', datetime.datetime(2013, 5, 11, 17, 57, 7)), (u'id', 102674)])]"
       ]
      },
      {
       "output_type": "stream",
       "stream": "stdout",
       "text": [
        "\n",
        "(6301) 149095,[OrderedDict([(u'title', u'2013 Primetime Emmy Nominations'), (u'start', datetime.datetime(2013, 7, 18, 14, 33, 5)), (u'id', 149095)])]"
       ]
      },
      {
       "output_type": "stream",
       "stream": "stdout",
       "text": [
        "\n",
        "(6301) 102670,[OrderedDict([(u'title', u'Tour final D2 : White Star - RMP'), (u'start', datetime.datetime(2013, 5, 12, 14, 47, 32)), (u'id', 102670)])]"
       ]
      },
      {
       "output_type": "stream",
       "stream": "stdout",
       "text": [
        "\n",
        "(6300) 172627,[OrderedDict([(u'title', u'\\u0627\\u062e\\u062a\\u062a\\u0627\\u0645\\u06cc\\u0647 \\u0627\\u0633\\u062a\\u0627\\u0631\\u062a\\u0627\\u067e \\u0648\\u06cc\\u06a9\\u0646\\u062f \\u0645\\u0648\\u0628\\u0627\\u06cc\\u0644 | Live'), (u'start', datetime.datetime(2013, 8, 16, 9, 36, 58)), (u'id', 172627)])]"
       ]
      },
      {
       "output_type": "stream",
       "stream": "stdout",
       "text": [
        "\n",
        "(6300) 102667,[OrderedDict([(u'title', u\"Maclean's Live: Question Period, May 10\"), (u'start', datetime.datetime(2013, 5, 10, 17, 0)), (u'id', 102667)])]"
       ]
      },
      {
       "output_type": "stream",
       "stream": "stdout",
       "text": [
        "\n",
        "(6299) 107371,[OrderedDict([(u'title', u'LIVE: Ottawa Senators vs. Pittsburgh Penguins, Game 2'), (u'start', datetime.datetime(2013, 5, 17, 16, 0)), (u'id', 107371)])]"
       ]
      },
      {
       "output_type": "stream",
       "stream": "stdout",
       "text": [
        "\n",
        "(6298) 102649,[OrderedDict([(u'title', u'Police Press Conference on Tim Bosma'), (u'start', datetime.datetime(2013, 5, 10, 17, 15)), (u'id', 102649)])]"
       ]
      },
      {
       "output_type": "stream",
       "stream": "stdout",
       "text": [
        "\n",
        "(6299) 102642,[OrderedDict([(u'title', u'Super Sunday - iPad - May 12 2013'), (u'start', datetime.datetime(2013, 5, 12, 11, 55, 38)), (u'id', 102642)])]"
       ]
      },
      {
       "output_type": "stream",
       "stream": "stdout",
       "text": [
        "\n",
        "(6299) 144829,[OrderedDict([(u'title', u'Cartella multimedia calciatori'), (u'start', datetime.datetime(2013, 7, 12, 15, 10, 49)), (u'id', 144829)])]"
       ]
      },
      {
       "output_type": "stream",
       "stream": "stdout",
       "text": [
        "\n",
        "(6298) 102543,[OrderedDict([(u'title', u'Marton Lefevre presentation images'), (u'start', datetime.datetime(2013, 5, 10, 14, 26, 7)), (u'id', 102543)])]"
       ]
      },
      {
       "output_type": "stream",
       "stream": "stdout",
       "text": [
        "\n",
        "(6299) 102542,[OrderedDict([(u'title', u'Marino de Luanco - Real Oviedo'), (u'start', datetime.datetime(2013, 5, 12, 15, 0)), (u'id', 102542)])]"
       ]
      },
      {
       "output_type": "stream",
       "stream": "stdout",
       "text": [
        "\n",
        "(6300) 102537,[OrderedDict([(u'title', u'Sporting - C\\xf3rdoba'), (u'start', datetime.datetime(2013, 5, 10, 14, 15)), (u'id', 102537)])]"
       ]
      },
      {
       "output_type": "stream",
       "stream": "stdout",
       "text": [
        "\n",
        "(6301) 102504,[OrderedDict([(u'title', u'Superliga fredag FC Nordsj\\xe6lland - OB'), (u'start', datetime.datetime(2013, 5, 10, 13, 2, 15)), (u'id', 102504)])]"
       ]
      },
      {
       "output_type": "stream",
       "stream": "stdout",
       "text": [
        "\n",
        "(6300) 120036,[OrderedDict([(u'title', u'Ihr Vormittag, 11.06.2013'), (u'start', datetime.datetime(2013, 6, 11, 10, 5, 5)), (u'id', 120036)])]"
       ]
      },
      {
       "output_type": "stream",
       "stream": "stdout",
       "text": [
        "\n",
        "(6300) 102501,[OrderedDict([(u'title', u'\\u03a0\\u03b1\\u03bd\\u03b1\\u03b9\\u03c4\\u03c9\\u03bb\\u03b9\\u03ba\\u03cc\\u03c2-\\u0395\\u03c1\\u03b3\\u03bf\\u03c4\\u03ad\\u03bb\\u03b7\\u03c2'), (u'start', datetime.datetime(2013, 5, 10, 12, 58, 47)), (u'id', 102501)])]"
       ]
      },
      {
       "output_type": "stream",
       "stream": "stdout",
       "text": [
        "\n",
        "(6300) 102476,[OrderedDict([(u'title', u'Divisional Play-offs'), (u'start', datetime.datetime(2013, 5, 10, 20, 0)), (u'id', 102476)])]"
       ]
      },
      {
       "output_type": "stream",
       "stream": "stdout",
       "text": [
        "\n",
        "(6299) 102430,[OrderedDict([(u'title', u'Alav\\xe9s - Tudelano'), (u'start', datetime.datetime(2013, 5, 10, 12, 1, 52)), (u'id', 102430)])]"
       ]
      },
      {
       "output_type": "stream",
       "stream": "stdout",
       "text": [
        "\n",
        "(6298) 102421,[OrderedDict([(u'title', u'Test andre'), (u'start', datetime.datetime(2013, 6, 5, 11, 2, 58)), (u'id', 102421)])]"
       ]
      },
      {
       "output_type": "stream",
       "stream": "stdout",
       "text": [
        "\n",
        "(6298) 102386,[OrderedDict([(u'title', u'Die Expertenrunde zum Thema Stress und Arbeit'), (u'start', datetime.datetime(2013, 5, 11, 9, 30)), (u'id', 102386)])]"
       ]
      },
      {
       "output_type": "stream",
       "stream": "stdout",
       "text": [
        "\n",
        "(6299) 102376,[OrderedDict([(u'title', u'Ihr Vormittag, 10.05.2013'), (u'start', datetime.datetime(2013, 5, 10, 10, 0)), (u'id', 102376)])]"
       ]
      },
      {
       "output_type": "stream",
       "stream": "stdout",
       "text": [
        "\n",
        "(6298) 120252,[OrderedDict([(u'title', u'Apple WWDC 2013'), (u'start', datetime.datetime(2013, 6, 10, 21, 28, 50)), (u'id', 120252)])]"
       ]
      },
      {
       "output_type": "stream",
       "stream": "stdout",
       "text": [
        "\n",
        "(6299) 102328,[OrderedDict([(u'title', u'CU-Boulder commencement -- May 10, 2013'), (u'start', datetime.datetime(2013, 5, 10, 15, 18, 6)), (u'id', 102328)])]"
       ]
      },
      {
       "output_type": "stream",
       "stream": "stdout",
       "text": [
        "\n",
        "(6299) 102257,[OrderedDict([(u'title', u'0509trebek'), (u'start', datetime.datetime(2013, 5, 9, 21, 21, 21)), (u'id', 102257)])]"
       ]
      },
      {
       "output_type": "stream",
       "stream": "stdout",
       "text": [
        "\n",
        "(6298) 102247,[OrderedDict([(u'title', u'Johan Rockstrom presentation images'), (u'start', datetime.datetime(2013, 5, 9, 21, 0)), (u'id', 102247)])]"
       ]
      },
      {
       "output_type": "stream",
       "stream": "stdout",
       "text": [
        "\n",
        "(6298) 102207,[OrderedDict([(u'title', u'Bitcoin'), (u'start', datetime.datetime(2013, 5, 9, 20, 13, 41)), (u'id', 102207)])]"
       ]
      },
      {
       "output_type": "stream",
       "stream": "stdout",
       "text": [
        "\n",
        "(6297) 101950,[OrderedDict([(u'title', u'Flickr stream'), (u'start', datetime.datetime(2013, 5, 9, 16, 19, 2)), (u'id', 101950)])]"
       ]
      },
      {
       "output_type": "stream",
       "stream": "stdout",
       "text": [
        "\n",
        "(6297) 101872,[OrderedDict([(u'title', u'Robin Obama'), (u'start', datetime.datetime(2013, 6, 14, 10, 55, 57)), (u'id', 101872)])]"
       ]
      },
      {
       "output_type": "stream",
       "stream": "stdout",
       "text": [
        "\n",
        "(6298) 101865,[OrderedDict([(u'title', u'LIVE: Star Wars, Identities exhibit preview in Ottawa'), (u'start', datetime.datetime(2013, 5, 9, 14, 27, 31)), (u'id', 101865)])]"
       ]
      },
      {
       "output_type": "stream",
       "stream": "stdout",
       "text": [
        "\n",
        "(6297) 178574,[OrderedDict([(u'title', u'P-LSC-NL-20130825-LC-Etappe 3: Vigo - Mirador de Lobeira'), (u'start', datetime.datetime(2013, 8, 25, 0, 0)), (u'id', 178574)])]"
       ]
      },
      {
       "output_type": "stream",
       "stream": "stdout",
       "text": [
        "\n",
        "(6297) 101826,[OrderedDict([(u'title', u'Live Blog April Jones'), (u'start', datetime.datetime(2013, 5, 9, 12, 39, 53)), (u'id', 101826)])]"
       ]
      },
      {
       "output_type": "stream",
       "stream": "stdout",
       "text": [
        "\n",
        "(6297) 101818,[OrderedDict([(u'title', u'F1 Twitter Belgian GP 2013'), (u'start', datetime.datetime(2013, 8, 24, 12, 29, 39)), (u'id', 101818)])]"
       ]
      },
      {
       "output_type": "stream",
       "stream": "stdout",
       "text": [
        "\n",
        "(6296) 156509,[OrderedDict([(u'title', u'Bachelorette - Final 3'), (u'start', datetime.datetime(2013, 7, 30, 2, 2, 57)), (u'id', 156509)])]"
       ]
      },
      {
       "output_type": "stream",
       "stream": "stdout",
       "text": [
        "\n",
        "(6295) 101725,[OrderedDict([(u'title', u'Warriors v Knight Riders, Pune'), (u'start', datetime.datetime(2013, 5, 9, 15, 46, 31)), (u'id', 101725)])]"
       ]
      },
      {
       "output_type": "stream",
       "stream": "stdout",
       "text": [
        "\n",
        "(6296) 101699,[OrderedDict([(u'title', u'BBA Cup: Thames Vs Campion'), (u'start', datetime.datetime(2013, 5, 9, 4, 32, 7)), (u'id', 101699)])]"
       ]
      },
      {
       "output_type": "stream",
       "stream": "stdout",
       "text": [
        "\n",
        "(6295) 101649,[OrderedDict([(u'title', u'Letting'), (u'start', datetime.datetime(2013, 5, 9, 0, 12, 57)), (u'id', 101649)])]"
       ]
      },
      {
       "output_type": "stream",
       "stream": "stdout",
       "text": [
        "\n",
        "(6294) 101630,[OrderedDict([(u'title', u'Grizzlies vs. Oklahoma City'), (u'start', datetime.datetime(2013, 5, 8, 23, 4, 3)), (u'id', 101630)])]"
       ]
      },
      {
       "output_type": "stream",
       "stream": "stdout",
       "text": [
        "\n",
        "(6294) 101414,[OrderedDict([(u'title', u'Stephanie Miller Live Chat - 5/09'), (u'start', datetime.datetime(2013, 5, 9, 14, 45)), (u'id', 101414)])]"
       ]
      },
      {
       "output_type": "stream",
       "stream": "stdout",
       "text": [
        "\n",
        "(6295) 105011,[OrderedDict([(u'title', u'City Council live blog'), (u'start', datetime.datetime(2013, 5, 14, 23, 39, 40)), (u'id', 105011)])]"
       ]
      },
      {
       "output_type": "stream",
       "stream": "stdout",
       "text": [
        "\n",
        "(6296) 101306,[OrderedDict([(u'title', u'Edmonton downtown arena decision day'), (u'start', datetime.datetime(2013, 5, 8, 16, 38, 34)), (u'id', 101306)])]"
       ]
      },
      {
       "output_type": "stream",
       "stream": "stdout",
       "text": [
        "\n",
        "(6299) 118403,[OrderedDict([(u'title', u'LIVE: Mark Hutt murder trial verdict'), (u'start', datetime.datetime(2013, 6, 7, 16, 54, 58)), (u'id', 118403)])]"
       ]
      },
      {
       "output_type": "stream",
       "stream": "stdout",
       "text": [
        "\n",
        "(6300) 126353,[OrderedDict([(u'title', u'Live chat: Daniel Walker'), (u'start', datetime.datetime(2013, 6, 17, 21, 41, 20)), (u'id', 126353)])]"
       ]
      },
      {
       "output_type": "stream",
       "stream": "stdout",
       "text": [
        "\n",
        "(6299) 109693,[OrderedDict([(u'title', u'Tim Bosma Funeral'), (u'start', datetime.datetime(2013, 5, 22, 14, 4, 20)), (u'id', 109693)])]"
       ]
      },
      {
       "output_type": "stream",
       "stream": "stdout",
       "text": [
        "\n",
        "(6299) 101261,[OrderedDict([(u'title', u'Police Press Conference on Tim Bosma'), (u'start', datetime.datetime(2013, 5, 8, 16, 45)), (u'id', 101261)])]"
       ]
      },
      {
       "output_type": "stream",
       "stream": "stdout",
       "text": [
        "\n",
        "(6300) 101245,[OrderedDict([(u'title', u'Perhimpunan Suara Rakyat Suara Keramat'), (u'start', datetime.datetime(2013, 5, 15, 13, 8, 28)), (u'id', 101245)])]"
       ]
      },
      {
       "output_type": "stream",
       "stream": "stdout",
       "text": [
        "\n",
        "(6301) 101095,[OrderedDict([(u'title', u'H\\xe4lsov\\xe5rdsreformen presenteras'), (u'start', datetime.datetime(2013, 5, 16, 10, 0, 31)), (u'id', 101095)])]"
       ]
      },
      {
       "output_type": "stream",
       "stream": "stdout",
       "text": [
        "\n",
        "(6300) 101065,[OrderedDict([(u'title', u\"The Queen's Speech 2013\"), (u'start', datetime.datetime(2013, 5, 8, 12, 27, 28)), (u'id', 101065)])]"
       ]
      },
      {
       "output_type": "stream",
       "stream": "stdout",
       "text": [
        "\n",
        "(6300) 101021,[OrderedDict([(u'title', u'Queen speaks at State opening of Parliament'), (u'start', datetime.datetime(2013, 5, 8, 11, 30)), (u'id', 101021)])]"
       ]
      },
      {
       "output_type": "stream",
       "stream": "stdout",
       "text": [
        "\n",
        "(6299) 101006,[OrderedDict([(u'title', u'OLYMPIACOS24.GR: \\u03a4\\u03a3\\u03a3\\u039a\\u0391 \\u039c\\u039f\\u03a3\\u03a7\\u0391\\u03a3-\\u039f\\u039b\\u03a5\\u039c\\u03a0\\u0399\\u0391\\u039a\\u039f\\u03a3'), (u'start', datetime.datetime(2013, 5, 10, 16, 54, 4)), (u'id', 101006)])]"
       ]
      },
      {
       "output_type": "stream",
       "stream": "stdout",
       "text": [
        "\n",
        "(6300) 100996,[OrderedDict([(u'title', u'WOOP.GR: \\u03a1\\u0395\\u0391\\u039b \\u039c\\u0391\\u0394\\u03a1\\u0399\\u03a4\\u0397\\u03a3 - \\u039c\\u03a0\\u0391\\u03a1\\u03a4\\u03a3\\u0395\\u039b\\u039f\\u039d\\u0391'), (u'start', datetime.datetime(2013, 5, 10, 20, 42, 13)), (u'id', 100996)])]"
       ]
      },
      {
       "output_type": "stream",
       "stream": "stdout",
       "text": [
        "\n",
        "(6300) 100993,[OrderedDict([(u'title', u'WOOP.GR: \\u03a4\\u03a3\\u03a3\\u039a\\u0391 - \\u039f\\u039b\\u03a5\\u039c\\u03a0\\u0399\\u0391\\u039a\\u039f\\u03a3'), (u'start', datetime.datetime(2013, 5, 10, 16, 51, 54)), (u'id', 100993)])]"
       ]
      },
      {
       "output_type": "stream",
       "stream": "stdout",
       "text": [
        "\n",
        "(6299) 100984,[OrderedDict([(u'title', u'Sir Alex Ferguson retirement'), (u'start', datetime.datetime(2013, 5, 8, 10, 37, 10)), (u'id', 100984)])]"
       ]
      },
      {
       "output_type": "stream",
       "stream": "stdout",
       "text": [
        "\n",
        "(6298) 100935,[OrderedDict([(u'title', u'Sunrisers v Super Kings, Hyderabad'), (u'start', datetime.datetime(2013, 5, 8, 15, 45)), (u'id', 100935)])]"
       ]
      },
      {
       "output_type": "stream",
       "stream": "stdout",
       "text": [
        "\n",
        "(6299) 100928,[OrderedDict([(u'title', u'This is a TEST'), (u'start', datetime.datetime(2013, 5, 8, 4, 16, 9)), (u'id', 100928)])]"
       ]
      },
      {
       "output_type": "stream",
       "stream": "stdout",
       "text": [
        "\n",
        "(6300) 132205,[OrderedDict([(u'title', u'0625power'), (u'start', datetime.datetime(2013, 6, 25, 22, 5, 9)), (u'id', 132205)])]"
       ]
      },
      {
       "output_type": "stream",
       "stream": "stdout",
       "text": [
        "\n",
        "(6300) 100875,[OrderedDict([(u'title', u'TYT 5/7 Live Show'), (u'start', datetime.datetime(2013, 5, 7, 22, 44, 19)), (u'id', 100875)])]"
       ]
      },
      {
       "output_type": "stream",
       "stream": "stdout",
       "text": [
        "\n",
        "(6299) 100863,[OrderedDict([(u'title', u'Wigan v Swansea Live Text Commentary'), (u'start', datetime.datetime(2013, 5, 7, 21, 46, 3)), (u'id', 100863)])]"
       ]
      },
      {
       "output_type": "stream",
       "stream": "stdout",
       "text": [
        "\n",
        "(6298) 100835,[OrderedDict([(u'title', u'Wednesday, May 8 - Live news updates'), (u'start', datetime.datetime(2013, 5, 7, 20, 32, 53)), (u'id', 100835)])]"
       ]
      },
      {
       "output_type": "stream",
       "stream": "stdout",
       "text": [
        "\n",
        "(6300) 100792,[OrderedDict([(u'title', u'Athletic-Mallorca, en directo'), (u'start', datetime.datetime(2013, 5, 11, 15, 15)), (u'id', 100792)])]"
       ]
      },
      {
       "output_type": "stream",
       "stream": "stdout",
       "text": [
        "\n",
        "(6301) 153840,[OrderedDict([(u'title', u'Royal baby watch'), (u'start', datetime.datetime(2013, 7, 22, 21, 58, 36)), (u'id', 153840)])]"
       ]
      },
      {
       "output_type": "stream",
       "stream": "stdout",
       "text": [
        "\n",
        "(6301) 144699,[OrderedDict([(u'title', u'Newsroom meeting for July 12'), (u'start', datetime.datetime(2013, 7, 11, 21, 52, 23)), (u'id', 144699)])]"
       ]
      },
      {
       "output_type": "stream",
       "stream": "stdout",
       "text": [
        "\n",
        "(6301) 121998,[OrderedDict([(u'title', u'Bill Press Live Chat - 6/11'), (u'start', datetime.datetime(2013, 6, 11, 11, 45)), (u'id', 121998)])]"
       ]
      },
      {
       "output_type": "stream",
       "stream": "stdout",
       "text": [
        "\n",
        "(6300) 100791,[OrderedDict([(u'title', u'Ihr Vormittag, 08.05.2013'), (u'start', datetime.datetime(2013, 5, 8, 10, 11, 53)), (u'id', 100791)])]"
       ]
      },
      {
       "output_type": "stream",
       "stream": "stdout",
       "text": [
        "\n",
        "(6300) 100780,[OrderedDict([(u'title', u'Lycee board interviews'), (u'start', datetime.datetime(2013, 5, 8, 0, 15)), (u'id', 100780)])]"
       ]
      },
      {
       "output_type": "stream",
       "stream": "stdout",
       "text": [
        "\n",
        "(6302) 100774,[OrderedDict([(u'title', u'Leafs skate, May 7'), (u'start', datetime.datetime(2013, 5, 7, 17, 49, 21)), (u'id', 100774)])]"
       ]
      },
      {
       "output_type": "stream",
       "stream": "stdout",
       "text": [
        "\n",
        "(6302) 100757,[OrderedDict([(u'title', u'Finale The Voice'), (u'start', datetime.datetime(2013, 5, 7, 17, 56, 33)), (u'id', 100757)])]"
       ]
      },
      {
       "output_type": "stream",
       "stream": "stdout",
       "text": [
        "\n",
        "(6301) 100665,[OrderedDict([(u'title', u'F1 Twitter_Barcelona_Test'), (u'start', datetime.datetime(2013, 5, 7, 15, 0, 4)), (u'id', 100665)])]"
       ]
      },
      {
       "output_type": "stream",
       "stream": "stdout",
       "text": [
        "\n",
        "(6301) 100631,[OrderedDict([(u'title', u'BT LIVE FRA CLEVELAND'), (u'start', datetime.datetime(2013, 5, 7, 14, 4, 31)), (u'id', 100631)])]"
       ]
      },
      {
       "output_type": "stream",
       "stream": "stdout",
       "text": [
        "\n",
        "(6303) 100611,[OrderedDict([(u'title', u'Citizens\\u2019 dialogue in Warsaw'), (u'start', datetime.datetime(2013, 5, 7, 13, 31, 55)), (u'id', 100611)])]"
       ]
      },
      {
       "output_type": "stream",
       "stream": "stdout",
       "text": [
        "\n",
        "(6302) 100588,[OrderedDict([(u'title', u'McGuinty at gas plant committee'), (u'start', datetime.datetime(2013, 5, 7, 14, 15)), (u'id', 100588)])]"
       ]
      },
      {
       "output_type": "stream",
       "stream": "stdout",
       "text": [
        "\n",
        "(6304) 100566,[OrderedDict([(u'title', u\"2013 Giro d' Italia - Stage 4 \\u2013 Policastro Bussentino to Serra San Bruno 246km\"), (u'start', datetime.datetime(2013, 5, 7, 12, 4, 41)), (u'id', 100566)])]"
       ]
      },
      {
       "output_type": "stream",
       "stream": "stdout",
       "text": [
        "\n",
        "(6304) 179228,[OrderedDict([(u'title', u'OLYMPIACOS24.GR: \\u039f\\u039b\\u03a5\\u039c\\u03a0\\u0399\\u0391\\u039a\\u039f\\u03a3 - \\u0391\\u03a4\\u03a1\\u039f\\u039c\\u0397\\u03a4\\u039f\\u03a3'), (u'start', datetime.datetime(2013, 8, 25, 20, 30)), (u'id', 179228)])]"
       ]
      },
      {
       "output_type": "stream",
       "stream": "stdout",
       "text": [
        "\n",
        "(6304) 142411,[OrderedDict([(u'title', u'test'), (u'start', datetime.datetime(2013, 7, 8, 17, 27, 3)), (u'id', 142411)])]"
       ]
      },
      {
       "output_type": "stream",
       "stream": "stdout",
       "text": [
        "\n",
        "(6303) 100560,[OrderedDict([(u'title', u'20130510_cine_de'), (u'start', datetime.datetime(2013, 5, 10, 21, 5, 26)), (u'id', 100560)])]"
       ]
      },
      {
       "output_type": "stream",
       "stream": "stdout",
       "text": [
        "\n",
        "(6302) 100553,[OrderedDict([(u'title', u'Cleveland kidnappings (paid content)'), (u'start', datetime.datetime(2013, 5, 7, 11, 45)), (u'id', 100553)])]"
       ]
      },
      {
       "output_type": "stream",
       "stream": "stdout",
       "text": [
        "\n",
        "(6302) 100532,[OrderedDict([(u'title', u'Dean Saunders sacked by Wolves - Live reaction'), (u'start', datetime.datetime(2013, 5, 7, 10, 49, 24)), (u'id', 100532)])]"
       ]
      },
      {
       "output_type": "stream",
       "stream": "stdout",
       "text": [
        "\n",
        "(6303) 100513,[OrderedDict([(u'title', u'TV Ch8 - The Joy Truck'), (u'start', datetime.datetime(2013, 5, 7, 9, 16, 31)), (u'id', 100513)])]"
       ]
      },
      {
       "output_type": "stream",
       "stream": "stdout",
       "text": [
        "\n",
        "(6303) 100408,[OrderedDict([(u'title', u'Roadshow live chat, May 8 at noon'), (u'start', datetime.datetime(2013, 5, 8, 20, 46, 49)), (u'id', 100408)])]"
       ]
      },
      {
       "output_type": "stream",
       "stream": "stdout",
       "text": [
        "\n",
        "(6304) 127110,[OrderedDict([(u'title', u\"Brant Community Foundation - Community Leaders' Breakfast\"), (u'start', datetime.datetime(2013, 6, 19, 14, 22, 22)), (u'id', 127110)])]"
       ]
      },
      {
       "output_type": "stream",
       "stream": "stdout",
       "text": [
        "\n",
        "(6303) 123747,[OrderedDict([(u'title', u'\\u03a4\\u03b1 \\u03ba\\u03bf\\u03c5\\u03c1\\u03ad\\u03bb\\u03b9\\u03b1 \\u03c4\\u03c1\\u03b1\\u03b3\\u03bf\\u03c5\\u03b4\\u03ac\\u03bd\\u03b5 \\u03b1\\u03ba\\u03cc\\u03bc\\u03b1'), (u'start', datetime.datetime(2013, 6, 13, 16, 29, 13)), (u'id', 123747)])]"
       ]
      },
      {
       "output_type": "stream",
       "stream": "stdout",
       "text": [
        "\n",
        "(6305) 100304,[OrderedDict([(u'title', u'Chat: le ch\\xf4mage \\xe0 Bruxelles, une fatalit\\xe9?'), (u'start', datetime.datetime(2013, 5, 7, 14, 48, 39)), (u'id', 100304)])]"
       ]
      },
      {
       "output_type": "stream",
       "stream": "stdout",
       "text": [
        "\n",
        "(6305) 100274,[OrderedDict([(u'title', u'Stephanie Miller Live Chat - 5/07'), (u'start', datetime.datetime(2013, 5, 7, 14, 45)), (u'id', 100274)])]"
       ]
      },
      {
       "output_type": "stream",
       "stream": "stdout",
       "text": [
        "\n",
        "(6305) 100227,[OrderedDict([(u'title', u'Ihr Vormittag, 07.05.2013'), (u'start', datetime.datetime(2013, 5, 7, 14, 26, 21)), (u'id', 100227)])]"
       ]
      },
      {
       "output_type": "stream",
       "stream": "stdout",
       "text": [
        "\n",
        "(6305) 100152,[OrderedDict([(u'title', u'Leafs - pre-game in the city'), (u'start', datetime.datetime(2013, 5, 6, 15, 41, 10)), (u'id', 100152)])]"
       ]
      },
      {
       "output_type": "stream",
       "stream": "stdout",
       "text": [
        "\n",
        "(6304) 100033,[OrderedDict([(u'title', u'Anne-Catherine Pouleur, cardiologie'), (u'start', datetime.datetime(2013, 5, 7, 9, 58, 1)), (u'id', 100033)])]"
       ]
      },
      {
       "output_type": "stream",
       "stream": "stdout",
       "text": [
        "\n",
        "(6304) 99948,[OrderedDict([(u'title', u'Penn State football chat, 8 p.m., May 6'), (u'start', datetime.datetime(2013, 5, 7, 1, 45)), (u'id', 99948)])]"
       ]
      },
      {
       "output_type": "stream",
       "stream": "stdout",
       "text": [
        "\n",
        "(6304) 133877,[OrderedDict([(u'title', u'The F365 Transfer Blog - Friday June 28'), (u'start', datetime.datetime(2013, 6, 28, 9, 24, 12)), (u'id', 133877)])]"
       ]
      },
      {
       "output_type": "stream",
       "stream": "stdout",
       "text": [
        "\n",
        "(6302) 163412,[OrderedDict([(u'title', u'Deloitte Fast 50 is back.'), (u'start', datetime.datetime(2013, 8, 6, 1, 30)), (u'id', 163412)])]"
       ]
      },
      {
       "output_type": "stream",
       "stream": "stdout",
       "text": [
        "\n",
        "(6304) 99698,[OrderedDict([(u'title', u'Game 3: Canadiens at Senators'), (u'start', datetime.datetime(2013, 5, 6, 0, 23, 2)), (u'id', 99698)])]"
       ]
      },
      {
       "output_type": "stream",
       "stream": "stdout",
       "text": [
        "\n",
        "(6303) 99502,[OrderedDict([(u'title', u'LIVE CHAT: Game of Thrones, Season 3, Episode 6, \"The Climb,\" Sunday, 9 p.m. ET'), (u'start', datetime.datetime(2013, 5, 6, 2, 59, 13)), (u'id', 99502)])]"
       ]
      },
      {
       "output_type": "stream",
       "stream": "stdout",
       "text": [
        "\n",
        "(6302) 99495,[OrderedDict([(u'title', u'Rolling Stones live blog'), (u'start', datetime.datetime(2013, 5, 6, 5, 0)), (u'id', 99495)])]"
       ]
      },
      {
       "output_type": "stream",
       "stream": "stdout",
       "text": [
        "\n",
        "(6302) 99468,[OrderedDict([(u'title', u'Malaysian elections'), (u'start', datetime.datetime(2013, 5, 5, 3, 44, 3)), (u'id', 99468)])]"
       ]
      },
      {
       "output_type": "stream",
       "stream": "stdout",
       "text": [
        "\n",
        "(6304) 99326,[OrderedDict([(u'title', u'GE13'), (u'start', datetime.datetime(2013, 5, 4, 15, 15)), (u'id', 99326)])]"
       ]
      },
      {
       "output_type": "stream",
       "stream": "stdout",
       "text": [
        "\n",
        "(6306) 99252,[OrderedDict([(u'title', u'NNN Live: Burnley v Ipswich Town'), (u'start', datetime.datetime(2013, 5, 4, 13, 17, 36)), (u'id', 99252)])]"
       ]
      },
      {
       "output_type": "stream",
       "stream": "stdout",
       "text": [
        "\n",
        "(6305) 99189,[OrderedDict([(u'title', u\"2013 Giro d' Italia - Stage 1 - Naples to Naples, 130km\"), (u'start', datetime.datetime(2013, 5, 4, 11, 30)), (u'id', 99189)])]"
       ]
      },
      {
       "output_type": "stream",
       "stream": "stdout",
       "text": [
        "\n",
        "(6306) 99172,[OrderedDict([(u'title', u'Premier League Saturday LIVE!'), (u'start', datetime.datetime(2013, 5, 4, 15, 45)), (u'id', 99172)])]"
       ]
      },
      {
       "output_type": "stream",
       "stream": "stdout",
       "text": [
        "\n",
        "(6304) 123638,[OrderedDict([(u'title', u'Bill Press Live Chat - 6/21'), (u'start', datetime.datetime(2013, 6, 21, 11, 45)), (u'id', 123638)])]"
       ]
      },
      {
       "output_type": "stream",
       "stream": "stdout",
       "text": [
        "\n",
        "(6305) 99150,[OrderedDict([(u'title', u'LIVE CHAT: Boxing, Mayweather vs. Guerrero, 9 pm ET/6 pm PT, Showtime PPV'), (u'start', datetime.datetime(2013, 5, 5, 2, 48, 59)), (u'id', 99150)])]"
       ]
      },
      {
       "output_type": "stream",
       "stream": "stdout",
       "text": [
        "\n",
        "(6305) 99069,[OrderedDict([(u'title', u'Terry Koshan Leafs chat'), (u'start', datetime.datetime(2013, 5, 3, 23, 46, 3)), (u'id', 99069)])]"
       ]
      },
      {
       "output_type": "stream",
       "stream": "stdout",
       "text": [
        "\n",
        "(6305) 147697,[OrderedDict([(u'title', u'Test'), (u'start', datetime.datetime(2013, 7, 16, 19, 56, 25)), (u'id', 147697)])]"
       ]
      },
      {
       "output_type": "stream",
       "stream": "stdout",
       "text": [
        "\n",
        "(6304) 98978,[OrderedDict([(u'title', u'Leafs vs. Bruins - Game 2'), (u'start', datetime.datetime(2013, 5, 5, 0, 45)), (u'id', 98978)])]"
       ]
      },
      {
       "output_type": "stream",
       "stream": "stdout",
       "text": [
        "\n",
        "(6306) 98936,[OrderedDict([(u'title', u'AFCS Twitter 050413'), (u'start', datetime.datetime(2013, 5, 3, 20, 26, 49)), (u'id', 98936)])]"
       ]
      },
      {
       "output_type": "stream",
       "stream": "stdout",
       "text": [
        "\n",
        "(6306) 98805,[OrderedDict([(u'title', u'Swansea City v Manchester City: Live updates'), (u'start', datetime.datetime(2013, 5, 4, 16, 2, 53)), (u'id', 98805)])]"
       ]
      },
      {
       "output_type": "stream",
       "stream": "stdout",
       "text": [
        "\n",
        "(6305) 108839,[OrderedDict([(u'title', u'Le 11h02: comment Anderlecht doit-il pr\\xe9parer l\\u2019avenir?'), (u'start', datetime.datetime(2013, 5, 21, 10, 0)), (u'id', 108839)])]"
       ]
      },
      {
       "output_type": "stream",
       "stream": "stdout",
       "text": [
        "\n",
        "(6305) 98787,[OrderedDict([(u'title', u'Celta-Athletic'), (u'start', datetime.datetime(2013, 5, 3, 20, 30)), (u'id', 98787)])]"
       ]
      },
      {
       "output_type": "stream",
       "stream": "stdout",
       "text": [
        "\n",
        "(6306) 98769,[OrderedDict([(u'title', u'London Test'), (u'start', datetime.datetime(2013, 5, 3, 16, 53, 21)), (u'id', 98769)])]"
       ]
      },
      {
       "output_type": "stream",
       "stream": "stdout",
       "text": [
        "\n",
        "(6305) 98664,[OrderedDict([(u'title', u'Suomi - Slovakia 4.5.'), (u'start', datetime.datetime(2013, 5, 4, 18, 25, 31)), (u'id', 98664)])]"
       ]
      },
      {
       "output_type": "stream",
       "stream": "stdout",
       "text": [
        "\n",
        "(6305) 98662,[OrderedDict([(u'title', u'Suomi - Saksa 3.5.'), (u'start', datetime.datetime(2013, 5, 3, 15, 7, 32)), (u'id', 98662)])]"
       ]
      },
      {
       "output_type": "stream",
       "stream": "stdout",
       "text": [
        "\n",
        "(6305) 98659,[OrderedDict([(u'title', u'TV-LateLine mit Jan B\\xf6hmermann'), (u'start', datetime.datetime(2013, 5, 23, 15, 1, 2)), (u'id', 98659)])]"
       ]
      },
      {
       "output_type": "stream",
       "stream": "stdout",
       "text": [
        "\n",
        "(6306) 98492,[OrderedDict([(u'title', u'UDL-Pe\\xf1a Sport'), (u'start', datetime.datetime(2013, 5, 19, 17, 47, 54)), (u'id', 98492)])]"
       ]
      },
      {
       "output_type": "stream",
       "stream": "stdout",
       "text": [
        "\n",
        "(6307) 98431,[OrderedDict([(u'title', u'5 mei 2013'), (u'start', datetime.datetime(2013, 5, 5, 12, 0)), (u'id', 98431)])]"
       ]
      },
      {
       "output_type": "stream",
       "stream": "stdout",
       "text": [
        "\n",
        "(6307) 116545,[OrderedDict([(u'title', u'Dofasco in Court'), (u'start', datetime.datetime(2013, 6, 4, 16, 15)), (u'id', 116545)])]"
       ]
      },
      {
       "output_type": "stream",
       "stream": "stdout",
       "text": [
        "\n",
        "(6307) 149546,[OrderedDict([(u'title', u'Hannover v Albion - live blog'), (u'start', datetime.datetime(2013, 7, 18, 18, 15)), (u'id', 149546)])]"
       ]
      },
      {
       "output_type": "stream",
       "stream": "stdout",
       "text": [
        "\n",
        "(6307) 98383,[OrderedDict([(u'title', u'Norwich City v Aston Villa'), (u'start', datetime.datetime(2013, 5, 4, 15, 40, 9)), (u'id', 98383)])]"
       ]
      },
      {
       "output_type": "stream",
       "stream": "stdout",
       "text": [
        "\n",
        "(6310) 98349,[OrderedDict([(u'title', u'Live: Lancashire county council election results'), (u'start', datetime.datetime(2013, 5, 3, 10, 15)), (u'id', 98349)])]"
       ]
      },
      {
       "output_type": "stream",
       "stream": "stdout",
       "text": [
        "\n",
        "(6310) 104427,[OrderedDict([(u'title', u'Monaco Grand Prix'), (u'start', datetime.datetime(2013, 5, 26, 16, 38, 40)), (u'id', 104427)])]"
       ]
      },
      {
       "output_type": "stream",
       "stream": "stdout",
       "text": [
        "\n",
        "(6311) 158811,[OrderedDict([(u'title', u'NHL live chat with Zize'), (u'start', datetime.datetime(2013, 7, 31, 18, 15, 55)), (u'id', 158811)])]"
       ]
      },
      {
       "output_type": "stream",
       "stream": "stdout",
       "text": [
        "\n",
        "(6311) 98345,[OrderedDict([(u'title', u'Live: Lancashire county council results'), (u'start', datetime.datetime(2013, 5, 3, 10, 11, 22)), (u'id', 98345)])]"
       ]
      },
      {
       "output_type": "stream",
       "stream": "stdout",
       "text": [
        "\n",
        "(6313) 98335,[OrderedDict([(u'title', u'Saturday football action - LIVE match updates'), (u'start', datetime.datetime(2013, 5, 4, 15, 0)), (u'id', 98335)])]"
       ]
      },
      {
       "output_type": "stream",
       "stream": "stdout",
       "text": [
        "\n",
        "(6312) 98312,[OrderedDict([(u'title', u'Ontknoping in titelstrijd'), (u'start', datetime.datetime(2013, 5, 3, 8, 57, 26)), (u'id', 98312)])]"
       ]
      },
      {
       "output_type": "stream",
       "stream": "stdout",
       "text": [
        "\n",
        "(6313) 98308,[OrderedDict([(u'title', u'Knight Riders v Royals, Kolkata'), (u'start', datetime.datetime(2013, 5, 3, 15, 45)), (u'id', 98308)])]"
       ]
      },
      {
       "output_type": "stream",
       "stream": "stdout",
       "text": [
        "\n",
        "(6312) 98257,[OrderedDict([(u'title', u'Crown v Brian Coleman Court Case'), (u'start', datetime.datetime(2013, 5, 3, 1, 15)), (u'id', 98257)])]"
       ]
      },
      {
       "output_type": "stream",
       "stream": "stdout",
       "text": [
        "\n",
        "(6313) 98068,[OrderedDict([(u'title', u'John Cummins Q&A raw feed'), (u'start', datetime.datetime(2013, 5, 2, 21, 50, 41)), (u'id', 98068)])]"
       ]
      },
      {
       "output_type": "stream",
       "stream": "stdout",
       "text": [
        "\n",
        "(6312) 98041,[OrderedDict([(u'title', u'Register Citizen Newsroom Meeting for May 2'), (u'start', datetime.datetime(2013, 5, 2, 21, 57, 37)), (u'id', 98041)])]"
       ]
      },
      {
       "output_type": "stream",
       "stream": "stdout",
       "text": [
        "\n",
        "(6312) 98019,[OrderedDict([(u'title', u'Child  Left at Don Mills Mall'), (u'start', datetime.datetime(2013, 5, 2, 21, 24, 50)), (u'id', 98019)])]"
       ]
      },
      {
       "output_type": "stream",
       "stream": "stdout",
       "text": [
        "\n",
        "(6311) 97940,[OrderedDict([(u'title', u'\\u041b\\u0438\\u0433\\u0430 \\u0415\\u0432\\u0440\\u043e\\u043f\\u044b. \"\\u0427\\u0435\\u043b\\u0441\\u0438\" - \"\\u0411\\u0430\\u0437\\u0435\\u043b\\u044c\".'), (u'start', datetime.datetime(2013, 5, 2, 19, 47, 35)), (u'id', 97940)])]"
       ]
      },
      {
       "output_type": "stream",
       "stream": "stdout",
       "text": [
        "\n",
        "(6311) 97925,[OrderedDict([(u'title', u'Live at 4:15: Pequea Valley vs Annville-Cleona (Softball)'), (u'start', datetime.datetime(2013, 5, 2, 19, 0)), (u'id', 97925)])]"
       ]
      },
      {
       "output_type": "stream",
       "stream": "stdout",
       "text": [
        "\n",
        "(6310) 97896,[OrderedDict([(u'title', u'Test chat Thursday'), (u'start', datetime.datetime(2013, 5, 2, 23, 32, 5)), (u'id', 97896)])]"
       ]
      },
      {
       "output_type": "stream",
       "stream": "stdout",
       "text": [
        "\n",
        "(6309) 97887,[OrderedDict([(u'title', u'Celebrate inspirational Canadian moms with Chantal Kreviazuk'), (u'start', datetime.datetime(2013, 5, 2, 17, 15)), (u'id', 97887)])]"
       ]
      },
      {
       "output_type": "stream",
       "stream": "stdout",
       "text": [
        "\n",
        "(6308) 97839,[OrderedDict([(u'title', u'Havixbeck, Wyatt battle on service cuts'), (u'start', datetime.datetime(2013, 5, 2, 16, 15)), (u'id', 97839)])]"
       ]
      },
      {
       "output_type": "stream",
       "stream": "stdout",
       "text": [
        "\n",
        "(6308) 97820,[OrderedDict([(u'title', u'Obs debatt om hockey-Finland'), (u'start', datetime.datetime(2013, 5, 2, 16, 45)), (u'id', 97820)])]"
       ]
      },
      {
       "output_type": "stream",
       "stream": "stdout",
       "text": [
        "\n",
        "(6311) 97783,[OrderedDict([(u'title', u'Mobbing'), (u'start', datetime.datetime(2013, 5, 15, 20, 0)), (u'id', 97783)])]"
       ]
      },
      {
       "output_type": "stream",
       "stream": "stdout",
       "text": [
        "\n",
        "(6313) 97767,[OrderedDict([(u'title', u'MNF - Sunderland v Stoke'), (u'start', datetime.datetime(2013, 5, 6, 18, 57, 18)), (u'id', 97767)])]"
       ]
      },
      {
       "output_type": "stream",
       "stream": "stdout",
       "text": [
        "\n",
        "(6312) 97755,[OrderedDict([(u'title', u'Wagnerblog'), (u'start', datetime.datetime(2013, 5, 22, 8, 0)), (u'id', 97755)])]"
       ]
      },
      {
       "output_type": "stream",
       "stream": "stdout",
       "text": [
        "\n",
        "(6312) 97745,[OrderedDict([(u'title', u'D-LSC-NL-20130503-LC-Tottenham Hotspur - Southampton (Speeldag 36)'), (u'start', datetime.datetime(2013, 5, 2, 14, 41, 48)), (u'id', 97745)])]"
       ]
      },
      {
       "output_type": "stream",
       "stream": "stdout",
       "text": [
        "\n",
        "(6311) 97733,[OrderedDict([(u'title', u'Springsteen'), (u'start', datetime.datetime(2013, 5, 3, 13, 45)), (u'id', 97733)])]"
       ]
      },
      {
       "output_type": "stream",
       "stream": "stdout",
       "text": [
        "\n",
        "(6312) 97597,[OrderedDict([(u'title', u'Super Kings v Kings XI, Chennai'), (u'start', datetime.datetime(2013, 5, 2, 11, 48, 25)), (u'id', 97597)])]"
       ]
      },
      {
       "output_type": "stream",
       "stream": "stdout",
       "text": [
        "\n",
        "(6313) 97549,[OrderedDict([(u'title', u'Live chat with Reign FC owner Bill Predmore & coach Laura Harvey'), (u'start', datetime.datetime(2013, 5, 2, 21, 30)), (u'id', 97549)])]"
       ]
      },
      {
       "output_type": "stream",
       "stream": "stdout",
       "text": [
        "\n",
        "(6312) 97537,[OrderedDict([(u'title', u'Class Steinkeller visit and Delt senior pub crawl'), (u'start', datetime.datetime(2013, 5, 2, 0, 49, 14)), (u'id', 97537)])]"
       ]
      },
      {
       "output_type": "stream",
       "stream": "stdout",
       "text": [
        "\n",
        "(6313) 97451,[OrderedDict([(u'title', u'2013 Ontario Budget'), (u'start', datetime.datetime(2013, 5, 2, 21, 45)), (u'id', 97451)])]"
       ]
      },
      {
       "output_type": "stream",
       "stream": "stdout",
       "text": [
        "\n",
        "(6315) 97365,[OrderedDict([(u'title', u'Atlanta Public Schools: May 2-3, 2013 Court Coverage'), (u'start', datetime.datetime(2013, 5, 3, 13, 24, 1)), (u'id', 97365)])]"
       ]
      },
      {
       "output_type": "stream",
       "stream": "stdout",
       "text": [
        "\n",
        "(6314) 157171,[OrderedDict([(u'title', u'Alternate Campaign tweets 1'), (u'start', datetime.datetime(2013, 7, 27, 22, 0)), (u'id', 157171)])]"
       ]
      },
      {
       "output_type": "stream",
       "stream": "stdout",
       "text": [
        "\n",
        "(6314) 97356,[OrderedDict([(u'title', u'Baseball: Hoosac Valley at Mount Greylock, 4 p.m'), (u'start', datetime.datetime(2013, 5, 1, 21, 47, 13)), (u'id', 97356)])]"
       ]
      },
      {
       "output_type": "stream",
       "stream": "stdout",
       "text": [
        "\n",
        "(6314) 97222,[OrderedDict([(u'title', u'Bill Press Live Chat - 5/02'), (u'start', datetime.datetime(2013, 5, 2, 11, 45)), (u'id', 97222)])]"
       ]
      },
      {
       "output_type": "stream",
       "stream": "stdout",
       "text": [
        "\n",
        "(6313) 97207,[OrderedDict([(u'title', u'3 additional Boston Marathon bombing suspects in custody'), (u'start', datetime.datetime(2013, 5, 1, 17, 36, 56)), (u'id', 97207)])]"
       ]
      },
      {
       "output_type": "stream",
       "stream": "stdout",
       "text": [
        "\n",
        "(6312) 97165,[OrderedDict([(u'title', u'Bilbao Basket-Laboral Kutxa'), (u'start', datetime.datetime(2013, 5, 1, 19, 0)), (u'id', 97165)])]"
       ]
      },
      {
       "output_type": "stream",
       "stream": "stdout",
       "text": [
        "\n",
        "(6312) 97155,[OrderedDict([(u'title', u'RDI \\xe9conomie'), (u'start', datetime.datetime(2013, 5, 1, 16, 56, 41)), (u'id', 97155)])]"
       ]
      },
      {
       "output_type": "stream",
       "stream": "stdout",
       "text": [
        "\n",
        "(6311) 97133,[OrderedDict([(u'title', u'Leafs skate, May 1'), (u'start', datetime.datetime(2013, 5, 1, 16, 35, 41)), (u'id', 97133)])]"
       ]
      },
      {
       "output_type": "stream",
       "stream": "stdout",
       "text": [
        "\n",
        "(6310) 97025,[OrderedDict([(u'title', u'Barcelona v Bayern Munich - Champions League semi-final second leg'), (u'start', datetime.datetime(2013, 5, 23, 16, 32, 29)), (u'id', 97025)])]"
       ]
      },
      {
       "output_type": "stream",
       "stream": "stdout",
       "text": [
        "\n",
        "(6314) 97017,[OrderedDict([(u'title', u'La Division 3B en direct'), (u'start', datetime.datetime(2013, 5, 1, 13, 36, 51)), (u'id', 97017)])]"
       ]
      },
      {
       "output_type": "stream",
       "stream": "stdout",
       "text": [
        "\n",
        "(6316) 105110,[OrderedDict([(u'title', u'Test'), (u'start', datetime.datetime(2013, 5, 15, 3, 13, 1)), (u'id', 105110)])]"
       ]
      },
      {
       "output_type": "stream",
       "stream": "stdout",
       "text": [
        "\n",
        "(6317) 127115,[OrderedDict([(u'title', u\"Live chat: Gettysburg's 150th anniversary\"), (u'start', datetime.datetime(2013, 6, 21, 19, 47, 3)), (u'id', 127115)])]"
       ]
      },
      {
       "output_type": "stream",
       "stream": "stdout",
       "text": [
        "\n",
        "(6318) 147427,[OrderedDict([(u'title', u'A-LSC-FR-20130715-UC-Krylya Sovetov Samara - Spartak Moscou (Journ\\xe9e 1)'), (u'start', datetime.datetime(2013, 7, 15, 0, 0)), (u'id', 147427)])]"
       ]
      },
      {
       "output_type": "stream",
       "stream": "stdout",
       "text": [
        "\n",
        "(6318) 153772,[OrderedDict([(u'title', u'Port council July 22, 2013'), (u'start', datetime.datetime(2013, 7, 23, 0, 15)), (u'id', 153772)])]"
       ]
      },
      {
       "output_type": "stream",
       "stream": "stdout",
       "text": [
        "\n",
        "(6318) 165645,[OrderedDict([(u'title', u'D2 : Vis\\xe9 - Brussels'), (u'start', datetime.datetime(2013, 8, 9, 17, 5, 42)), (u'id', 165645)])]"
       ]
      },
      {
       "output_type": "stream",
       "stream": "stdout",
       "text": [
        "\n",
        "(6319) 96955,[OrderedDict([(u'title', u'Sunrisers v Mumbai, IPL 2013, Hyderabad'), (u'start', datetime.datetime(2013, 5, 1, 11, 50, 10)), (u'id', 96955)])]"
       ]
      },
      {
       "output_type": "stream",
       "stream": "stdout",
       "text": [
        "\n",
        "(6319) 96935,[OrderedDict([(u'title', u'1. maj reportage'), (u'start', datetime.datetime(2013, 5, 1, 11, 21, 16)), (u'id', 96935)])]"
       ]
      },
      {
       "output_type": "stream",
       "stream": "stdout",
       "text": [
        "\n",
        "(6318) 96901,[OrderedDict([(u'title', u'1. Mai in Franken'), (u'start', datetime.datetime(2013, 5, 1, 9, 35, 28)), (u'id', 96901)])]"
       ]
      },
      {
       "output_type": "stream",
       "stream": "stdout",
       "text": [
        "\n",
        "(6319) 96880,[OrderedDict([(u'title', u\"Maclean's Live: Question Period, May 1\"), (u'start', datetime.datetime(2013, 5, 1, 20, 0)), (u'id', 96880)])]"
       ]
      },
      {
       "output_type": "stream",
       "stream": "stdout",
       "text": [
        "\n",
        "(6320) 115042,[OrderedDict([(u'title', u'Live coverage of the Jovon Jones murder trial'), (u'start', datetime.datetime(2013, 6, 6, 20, 57, 2)), (u'id', 115042)])]"
       ]
      },
      {
       "output_type": "stream",
       "stream": "stdout",
       "text": [
        "\n",
        "(6321) 96833,[OrderedDict([(u'title', u'Roadshow live chat, May 1 at noon'), (u'start', datetime.datetime(2013, 5, 1, 20, 48, 39)), (u'id', 96833)])]"
       ]
      },
      {
       "output_type": "stream",
       "stream": "stdout",
       "text": [
        "\n",
        "(6320) 96808,[OrderedDict([(u'title', u\"Kitchener's casino public consultation\"), (u'start', datetime.datetime(2013, 4, 30, 23, 23, 54)), (u'id', 96808)])]"
       ]
      },
      {
       "output_type": "stream",
       "stream": "stdout",
       "text": [
        "\n",
        "(6321) 96802,[OrderedDict([(u'title', u'Growing Up Poor'), (u'start', datetime.datetime(2013, 4, 30, 23, 0)), (u'id', 96802)])]"
       ]
      },
      {
       "output_type": "stream",
       "stream": "stdout",
       "text": [
        "\n",
        "(6321) 96720,[OrderedDict([(u'title', u'Test event for OCE'), (u'start', datetime.datetime(2013, 4, 30, 20, 28, 24)), (u'id', 96720)])]"
       ]
      },
      {
       "output_type": "stream",
       "stream": "stdout",
       "text": [
        "\n",
        "(6322) 96657,[OrderedDict([(u'title', u'Getafe  - Real Sociedad'), (u'start', datetime.datetime(2013, 5, 6, 21, 0)), (u'id', 96657)])]"
       ]
      },
      {
       "output_type": "stream",
       "stream": "stdout",
       "text": [
        "\n",
        "(6322) 96639,[OrderedDict([(u'title', u'Champions League Semi-Finals LIVE!'), (u'start', datetime.datetime(2013, 4, 30, 20, 22, 53)), (u'id', 96639)])]"
       ]
      },
      {
       "output_type": "stream",
       "stream": "stdout",
       "text": [
        "\n",
        "(6321) 169384,[OrderedDict([(u'title', u'Bill Press Live Chat - 8/13'), (u'start', datetime.datetime(2013, 8, 13, 11, 30)), (u'id', 169384)])]"
       ]
      },
      {
       "output_type": "stream",
       "stream": "stdout",
       "text": [
        "\n",
        "(6323) 96574,[OrderedDict([(u'title', u\"Live Blog: Scotiabank Pro-Am for Alzheimer's Hockey Tournament\"), (u'start', datetime.datetime(2013, 5, 3, 14, 45)), (u'id', 96574)])]"
       ]
      },
      {
       "output_type": "stream",
       "stream": "stdout",
       "text": [
        "\n",
        "(6323) 96539,[OrderedDict([(u'title', u'Live Blog: Draft Night'), (u'start', datetime.datetime(2013, 5, 2, 23, 45)), (u'id', 96539)])]"
       ]
      },
      {
       "output_type": "stream",
       "stream": "stdout",
       "text": [
        "\n",
        "(6323) 96515,[OrderedDict([(u'title', u\"Longley's playoffs chat\"), (u'start', datetime.datetime(2013, 4, 30, 19, 49, 17)), (u'id', 96515)])]"
       ]
      },
      {
       "output_type": "stream",
       "stream": "stdout",
       "text": [
        "\n",
        "(6323) 96478,[OrderedDict([(u'title', u'Sen. Pat Toomey editorial board session'), (u'start', datetime.datetime(2013, 4, 30, 21, 38, 10)), (u'id', 96478)])]"
       ]
      },
      {
       "output_type": "stream",
       "stream": "stdout",
       "text": [
        "\n",
        "(6322) 96425,[OrderedDict([(u'title', u\"Maclean's Live: Question Period, April 30\"), (u'start', datetime.datetime(2013, 4, 30, 20, 0)), (u'id', 96425)])]"
       ]
      },
      {
       "output_type": "stream",
       "stream": "stdout",
       "text": [
        "\n",
        "(6324) 96410,[OrderedDict([(u'title', u'Senate Primaries'), (u'start', datetime.datetime(2013, 5, 1, 2, 17, 17)), (u'id', 96410)])]"
       ]
      },
      {
       "output_type": "stream",
       "stream": "stdout",
       "text": [
        "\n",
        "(6324) 96342,[OrderedDict([(u'title', u'Ihr Vormittag, 03.05.2013'), (u'start', datetime.datetime(2013, 5, 3, 11, 56, 18)), (u'id', 96342)])]"
       ]
      },
      {
       "output_type": "stream",
       "stream": "stdout",
       "text": [
        "\n",
        "(6325) 96332,[OrderedDict([(u'title', u'Demo con Paola'), (u'start', datetime.datetime(2013, 5, 1, 16, 55, 40)), (u'id', 96332)])]"
       ]
      },
      {
       "output_type": "stream",
       "stream": "stdout",
       "text": [
        "\n",
        "(6324) 96331,[OrderedDict([(u'title', u'BT 1. maj - minut for minut'), (u'start', datetime.datetime(2013, 4, 30, 13, 0)), (u'id', 96331)])]"
       ]
      },
      {
       "output_type": "stream",
       "stream": "stdout",
       "text": [
        "\n",
        "(6323) 96325,[OrderedDict([(u'title', u'T-LSC-NL-20130429-UC-Beerschot failliet'), (u'start', datetime.datetime(2013, 4, 29, 0, 0)), (u'id', 96325)])]"
       ]
      },
      {
       "output_type": "stream",
       "stream": "stdout",
       "text": [
        "\n",
        "(6324) 96317,[OrderedDict([(u'title', u'Faszination Wissen_20130708'), (u'start', datetime.datetime(2013, 4, 30, 11, 54, 44)), (u'id', 96317)])]"
       ]
      },
      {
       "output_type": "stream",
       "stream": "stdout",
       "text": [
        "\n",
        "(6324) 96304,[OrderedDict([(u'title', u'Twitter Test'), (u'start', datetime.datetime(2013, 4, 30, 11, 0)), (u'id', 96304)])]"
       ]
      },
      {
       "output_type": "stream",
       "stream": "stdout",
       "text": [
        "\n",
        "(6323) 96298,[OrderedDict([(u'title', u'1. Mai - LIVE-Ticker'), (u'start', datetime.datetime(2013, 5, 22, 15, 41, 53)), (u'id', 96298)])]"
       ]
      },
      {
       "output_type": "stream",
       "stream": "stdout",
       "text": [
        "\n",
        "(6322) 96268,[OrderedDict([(u'title', u'Live Chat: NZ game development industry'), (u'start', datetime.datetime(2013, 5, 1, 1, 30)), (u'id', 96268)])]"
       ]
      },
      {
       "output_type": "stream",
       "stream": "stdout",
       "text": [
        "\n",
        "(6323) 96246,[OrderedDict([(u'title', u'View Test for Embed'), (u'start', datetime.datetime(2013, 4, 29, 21, 37, 38)), (u'id', 96246)])]"
       ]
      },
      {
       "output_type": "stream",
       "stream": "stdout",
       "text": [
        "\n",
        "(6322) 96221,[OrderedDict([(u'title', u'What new TV show are you addicted to?'), (u'start', datetime.datetime(2013, 4, 29, 19, 44, 12)), (u'id', 96221)])]"
       ]
      },
      {
       "output_type": "stream",
       "stream": "stdout",
       "text": [
        "\n",
        "(6323) 96203,[OrderedDict([(u'title', u'Stephanie Miller Live Chat - 4/30'), (u'start', datetime.datetime(2013, 4, 30, 14, 45)), (u'id', 96203)])]"
       ]
      },
      {
       "output_type": "stream",
       "stream": "stdout",
       "text": [
        "\n",
        "(6323) 96200,[OrderedDict([(u'title', u'\\u0395\\u03c0\\u03b9-\\u03b8\\u03b5\\u03c4\\u03b9\\u03ba\\u03ac \\u03bc\\u03b5 \\u03c4\\u03bf\\u03c5\\u03c2 \\u039d\\u03af\\u03ba\\u03bf \\u0391\\u03b3\\u03b3\\u03b5\\u03bb\\u03af\\u03b4\\u03b7, \\u0392\\u03b1\\u03c3\\u03af\\u03bb\\u03b7 \\u0391\\u03bd\\u03c4\\u03c9\\u03bd\\u03af\\u03bf\\u03c5'), (u'start', datetime.datetime(2013, 4, 29, 18, 9, 58)), (u'id', 96200)])]"
       ]
      },
      {
       "output_type": "stream",
       "stream": "stdout",
       "text": [
        "\n",
        "(6323) 96198,[OrderedDict([(u'title', u'MNF - Aston Villa v Sunderland'), (u'start', datetime.datetime(2013, 4, 29, 21, 22, 27)), (u'id', 96198)])]"
       ]
      },
      {
       "output_type": "stream",
       "stream": "stdout",
       "text": [
        "\n",
        "(6325) 96186,[OrderedDict([(u'title', u'Live Chat: Game of Thrones episode five recap'), (u'start', datetime.datetime(2013, 4, 29, 17, 15)), (u'id', 96186)])]"
       ]
      },
      {
       "output_type": "stream",
       "stream": "stdout",
       "text": [
        "\n",
        "(6325) 140292,[OrderedDict([(u'title', u'First Friday Art Walk'), (u'start', datetime.datetime(2013, 7, 5, 21, 43, 26)), (u'id', 140292)])]"
       ]
      },
      {
       "output_type": "stream",
       "stream": "stdout",
       "text": [
        "\n",
        "(6325) 104438,[OrderedDict([(u'title', u'Canadian Grand Prix'), (u'start', datetime.datetime(2013, 6, 9, 19, 0)), (u'id', 104438)])]"
       ]
      },
      {
       "output_type": "stream",
       "stream": "stdout",
       "text": [
        "\n",
        "(6327) 96172,[OrderedDict([(u'title', u'Star Trek Into Darkness live blog'), (u'start', datetime.datetime(2013, 5, 2, 20, 35)), (u'id', 96172)])]"
       ]
      },
      {
       "output_type": "stream",
       "stream": "stdout",
       "text": [
        "\n",
        "(6327) 140473,[OrderedDict([(u'title', u'Australia v British & Irish Lions'), (u'start', datetime.datetime(2013, 7, 6, 11, 33, 48)), (u'id', 140473)])]"
       ]
      },
      {
       "output_type": "stream",
       "stream": "stdout",
       "text": [
        "\n",
        "(6328) 96145,[OrderedDict([(u'title', u'BT TEST TIL INGELISE'), (u'start', datetime.datetime(2013, 4, 30, 11, 32, 37)), (u'id', 96145)])]"
       ]
      },
      {
       "output_type": "stream",
       "stream": "stdout",
       "text": [
        "\n",
        "(6328) 96128,[OrderedDict([(u'title', u'1000 km'), (u'start', datetime.datetime(2013, 5, 10, 7, 37)), (u'id', 96128)])]"
       ]
      },
      {
       "output_type": "stream",
       "stream": "stdout",
       "text": [
        "\n",
        "(6331) 136517,[OrderedDict([(u'title', u'Make the Most of First-Time Donor Meetings'), (u'start', datetime.datetime(2013, 7, 9, 17, 51, 46)), (u'id', 136517)])]"
       ]
      },
      {
       "output_type": "stream",
       "stream": "stdout",
       "text": [
        "\n",
        "(6331) 146011,[OrderedDict([(u'title', u'foddi'), (u'start', datetime.datetime(2013, 8, 22, 1, 18, 44)), (u'id', 146011)])]"
       ]
      },
      {
       "output_type": "stream",
       "stream": "stdout",
       "text": [
        "\n",
        "(6332) 131186,[OrderedDict([(u'title', u'Ask the Expert - Bob Atkinson'), (u'start', datetime.datetime(2013, 6, 25, 10, 41, 46)), (u'id', 131186)])]"
       ]
      },
      {
       "output_type": "stream",
       "stream": "stdout",
       "text": [
        "\n",
        "(6332) 116525,[OrderedDict([(u'title', u'LIVE: City committee addresses casino, stadium, Lansdowne &more'), (u'start', datetime.datetime(2013, 6, 4, 14, 50, 6)), (u'id', 116525)])]"
       ]
      },
      {
       "output_type": "stream",
       "stream": "stdout",
       "text": [
        "\n",
        "(6332) 96029,[OrderedDict([(u'title', u'MUCFD Fashion Show'), (u'start', datetime.datetime(2013, 5, 1, 19, 44, 33)), (u'id', 96029)])]"
       ]
      },
      {
       "output_type": "stream",
       "stream": "stdout",
       "text": [
        "\n",
        "(6332) 96023,[OrderedDict([(u'title', u'Aston Villa webchat with Mat Kendrick'), (u'start', datetime.datetime(2013, 4, 29, 13, 0)), (u'id', 96023)])]"
       ]
      },
      {
       "output_type": "stream",
       "stream": "stdout",
       "text": [
        "\n",
        "(6331) 96022,[OrderedDict([(u'title', u'Leafs vs. Canadiens, April 27'), (u'start', datetime.datetime(2013, 4, 28, 0, 46, 53)), (u'id', 96022)])]"
       ]
      },
      {
       "output_type": "stream",
       "stream": "stdout",
       "text": [
        "\n",
        "(6330) 96013,[OrderedDict([(u'title', u'Wolves fans invade pitch after defeat leaves relegation looming'), (u'start', datetime.datetime(2013, 4, 27, 18, 51, 35)), (u'id', 96013)])]"
       ]
      },
      {
       "output_type": "stream",
       "stream": "stdout",
       "text": [
        "\n",
        "(6329) 96006,[OrderedDict([(u'title', u\"The World's 50 Best Restaurants 2013 - as it happens\"), (u'start', datetime.datetime(2013, 4, 29, 18, 39, 51)), (u'id', 96006)])]"
       ]
      },
      {
       "output_type": "stream",
       "stream": "stdout",
       "text": [
        "\n",
        "(6332) 95984,[OrderedDict([(u'title', u'Yard sale'), (u'start', datetime.datetime(2013, 5, 1, 23, 42, 11)), (u'id', 95984)])]"
       ]
      },
      {
       "output_type": "stream",
       "stream": "stdout",
       "text": [
        "\n",
        "(6331) 95940,[OrderedDict([(u'title', u'Live Boxing Chat: Saturday, April 27, 8:15 pm ET: HBO Martinez vs. Murray, Showtime Garcia vs. Judah'), (u'start', datetime.datetime(2013, 4, 28, 2, 11, 15)), (u'id', 95940)])]"
       ]
      },
      {
       "output_type": "stream",
       "stream": "stdout",
       "text": [
        "\n",
        "(6331) 95917,[OrderedDict([(u'title', u'Fuenlabrada - Caja Laboral'), (u'start', datetime.datetime(2013, 4, 27, 19, 0)), (u'id', 95917)])]"
       ]
      },
      {
       "output_type": "stream",
       "stream": "stdout",
       "text": [
        "\n",
        "(6330) 96709,[OrderedDict([(u'title', u'Wednesday, May 1 - Live news updates'), (u'start', datetime.datetime(2013, 4, 30, 20, 16, 39)), (u'id', 96709)])]"
       ]
      },
      {
       "output_type": "stream",
       "stream": "stdout",
       "text": [
        "\n",
        "(6330) 95902,[OrderedDict([(u'title', u'$$$ PHOTOGRAPHER-REPORTER FEED $$$'), (u'start', datetime.datetime(2013, 5, 30, 0, 30)), (u'id', 95902)])]"
       ]
      },
      {
       "output_type": "stream",
       "stream": "stdout",
       "text": [
        "\n",
        "(6330) 95897,[OrderedDict([(u'title', u'\\u039b\\u03af\\u03b3\\u03bf \\u03c0\\u03c1\\u03b9\\u03bd \\u03c4\\u03b7\\u03bd \\u03c3\\u03ad\\u03bd\\u03c4\\u03c1\\u03b1.'), (u'start', datetime.datetime(2013, 4, 26, 18, 32, 53)), (u'id', 95897)])]"
       ]
      },
      {
       "output_type": "stream",
       "stream": "stdout",
       "text": [
        "\n",
        "(6330) 95895,[OrderedDict([(u'title', u'Super Sunday - iPad (28/04)'), (u'start', datetime.datetime(2013, 4, 28, 11, 51, 36)), (u'id', 95895)])]"
       ]
      },
      {
       "output_type": "stream",
       "stream": "stdout",
       "text": [
        "\n",
        "(6330) 95894,[OrderedDict([(u'title', u'Man City v West Ham - iPad'), (u'start', datetime.datetime(2013, 4, 27, 10, 51, 34)), (u'id', 95894)])]"
       ]
      },
      {
       "output_type": "stream",
       "stream": "stdout",
       "text": [
        "\n",
        "(6331) 95878,[OrderedDict([(u'title', u'M\\xe1laga - Getafe Usuarios'), (u'start', datetime.datetime(2013, 4, 28, 16, 0)), (u'id', 95878)])]"
       ]
      },
      {
       "output_type": "stream",
       "stream": "stdout",
       "text": [
        "\n",
        "(6331) 172643,[OrderedDict([(u'title', u'\\xc4gypten 16.8.2013'), (u'start', datetime.datetime(2013, 8, 16, 21, 6, 28)), (u'id', 172643)])]"
       ]
      },
      {
       "output_type": "stream",
       "stream": "stdout",
       "text": [
        "\n",
        "(6331) 120320,[OrderedDict([(u'title', u'Canned content'), (u'start', datetime.datetime(2013, 6, 10, 16, 26, 21)), (u'id', 120320)])]"
       ]
      },
      {
       "output_type": "stream",
       "stream": "stdout",
       "text": [
        "\n",
        "(6331) 95868,[OrderedDict([(u'title', u'Super League live - round 13'), (u'start', datetime.datetime(2013, 4, 26, 20, 26, 38)), (u'id', 95868)])]"
       ]
      },
      {
       "output_type": "stream",
       "stream": "stdout",
       "text": [
        "\n",
        "(6331) 95860,[OrderedDict([(u'title', u'C2E2 2013: DC Entertainment - All Access - LIVE!'), (u'start', datetime.datetime(2013, 4, 26, 23, 30, 37)), (u'id', 95860)])]"
       ]
      },
      {
       "output_type": "stream",
       "stream": "stdout",
       "text": [
        "\n",
        "(6331) 95854,[OrderedDict([(u'title', u'C2E2 2013: MARVEL: House of Ideas (Digital) - LIVE!'), (u'start', datetime.datetime(2013, 4, 26, 22, 9, 28)), (u'id', 95854)])]"
       ]
      },
      {
       "output_type": "stream",
       "stream": "stdout",
       "text": [
        "\n",
        "(6331) 95847,[OrderedDict([(u'title', u\"Live coverage of Friday's slate of high school events\"), (u'start', datetime.datetime(2013, 4, 26, 20, 8, 14)), (u'id', 95847)])]"
       ]
      },
      {
       "output_type": "stream",
       "stream": "stdout",
       "text": [
        "\n",
        "(6330) 95836,[OrderedDict([(u'title', u'T-LSC-FR-20130425-LC-\\xc9tape 3: Payerne - Payerne'), (u'start', datetime.datetime(2013, 4, 25, 0, 0)), (u'id', 95836)])]"
       ]
      },
      {
       "output_type": "stream",
       "stream": "stdout",
       "text": [
        "\n",
        "(6331) 95834,[OrderedDict([(u'title', u'Expertenrunde zum Thema Steuern'), (u'start', datetime.datetime(2013, 4, 27, 9, 30)), (u'id', 95834)])]"
       ]
      },
      {
       "output_type": "stream",
       "stream": "stdout",
       "text": [
        "\n",
        "(6330) 95815,[OrderedDict([(u'title', u'D2 : Brussels-Heist'), (u'start', datetime.datetime(2013, 4, 28, 14, 51, 47)), (u'id', 95815)])]"
       ]
      },
      {
       "output_type": "stream",
       "stream": "stdout",
       "text": [
        "\n",
        "(6332) 95810,[OrderedDict([(u'title', u'Kidderminster Harriers v Wrexham - match report'), (u'start', datetime.datetime(2013, 4, 28, 13, 30)), (u'id', 95810)])]"
       ]
      },
      {
       "output_type": "stream",
       "stream": "stdout",
       "text": [
        "\n",
        "(6331) 95802,[OrderedDict([(u'title', u'Stoke City v Norwich City'), (u'start', datetime.datetime(2013, 4, 27, 15, 26, 18)), (u'id', 95802)])]"
       ]
      },
      {
       "output_type": "stream",
       "stream": "stdout",
       "text": [
        "\n",
        "(6332) 95800,[OrderedDict([(u'title', u'Norway Chess 2013'), (u'start', datetime.datetime(2013, 4, 26, 11, 0)), (u'id', 95800)])]"
       ]
      },
      {
       "output_type": "stream",
       "stream": "stdout",
       "text": [
        "\n",
        "(6332) 126295,[OrderedDict([(u'title', u'\\u0395\\u03c0\\u03b9-\\u03b8\\u03b5\\u03c4\\u03b9\\u03ba\\u03ac'), (u'start', datetime.datetime(2013, 6, 17, 18, 33, 14)), (u'id', 126295)])]"
       ]
      },
      {
       "output_type": "stream",
       "stream": "stdout",
       "text": [
        "\n",
        "(6333) 95787,[OrderedDict([(u'title', u'xxx'), (u'start', datetime.datetime(2013, 4, 26, 8, 44, 32)), (u'id', 95787)])]"
       ]
      },
      {
       "output_type": "stream",
       "stream": "stdout",
       "text": [
        "\n",
        "(6333) 95785,[OrderedDict([(u'title', u'Lauriston FC - Game 1'), (u'start', datetime.datetime(2013, 4, 26, 7, 38, 28)), (u'id', 95785)])]"
       ]
      },
      {
       "output_type": "stream",
       "stream": "stdout",
       "text": [
        "\n",
        "(6332) 95780,[OrderedDict([(u'title', u'Grossi Live Chat 4-26'), (u'start', datetime.datetime(2013, 4, 26, 18, 0)), (u'id', 95780)])]"
       ]
      },
      {
       "output_type": "stream",
       "stream": "stdout",
       "text": [
        "\n",
        "(6331) 95778,[OrderedDict([(u'title', u'WWDC 2013'), (u'start', datetime.datetime(2013, 4, 26, 6, 2, 25)), (u'id', 95778)])]"
       ]
      },
      {
       "output_type": "stream",
       "stream": "stdout",
       "text": [
        "\n",
        "(6330) 95771,[OrderedDict([(u'title', u'News Journalist'), (u'start', datetime.datetime(2013, 4, 29, 1, 55, 58)), (u'id', 95771)])]"
       ]
      },
      {
       "output_type": "stream",
       "stream": "stdout",
       "text": [
        "\n",
        "(6330) 95739,[OrderedDict([(u'title', u'NFL Draft live blog'), (u'start', datetime.datetime(2013, 4, 25, 22, 20, 40)), (u'id', 95739)])]"
       ]
      },
      {
       "output_type": "stream",
       "stream": "stdout",
       "text": [
        "\n",
        "(6329) 111133,[OrderedDict([(u'title', u'test3'), (u'start', datetime.datetime(2013, 5, 24, 19, 35, 37)), (u'id', 111133)])]"
       ]
      },
      {
       "output_type": "stream",
       "stream": "stdout",
       "text": [
        "\n",
        "(6329) 95732,[OrderedDict([(u'title', u'Test'), (u'start', datetime.datetime(2013, 4, 25, 21, 30, 8)), (u'id', 95732)])]"
       ]
      },
      {
       "output_type": "stream",
       "stream": "stdout",
       "text": [
        "\n",
        "(6328) 124529,[OrderedDict([(u'title', u'Project Traveller presser'), (u'start', datetime.datetime(2013, 6, 14, 16, 15)), (u'id', 124529)])]"
       ]
      },
      {
       "output_type": "stream",
       "stream": "stdout",
       "text": [
        "\n",
        "(6328) 95722,[OrderedDict([(u'title', u'RecruitNY: Volunteer firefighters answer your questions'), (u'start', datetime.datetime(2013, 5, 1, 23, 45)), (u'id', 95722)])]"
       ]
      },
      {
       "output_type": "stream",
       "stream": "stdout",
       "text": [
        "\n",
        "(6327) 95719,[OrderedDict([(u'title', u\"Curt's stuff\"), (u'start', datetime.datetime(2013, 4, 25, 20, 47, 16)), (u'id', 95719)])]"
       ]
      },
      {
       "output_type": "stream",
       "stream": "stdout",
       "text": [
        "\n",
        "(6328) 95713,[OrderedDict([(u'title', u'syn slave 2'), (u'start', datetime.datetime(2013, 4, 25, 20, 17, 21)), (u'id', 95713)])]"
       ]
      },
      {
       "output_type": "stream",
       "stream": "stdout",
       "text": [
        "\n",
        "(6328) 95711,[OrderedDict([(u'title', u'Syn Slave'), (u'start', datetime.datetime(2013, 4, 25, 20, 2, 47)), (u'id', 95711)])]"
       ]
      },
      {
       "output_type": "stream",
       "stream": "stdout",
       "text": [
        "\n",
        "(6327) 95703,[OrderedDict([(u'title', u'Duntroon Quarry Judicial Review'), (u'start', datetime.datetime(2013, 4, 25, 15, 30)), (u'id', 95703)])]"
       ]
      },
      {
       "output_type": "stream",
       "stream": "stdout",
       "text": [
        "\n",
        "(6326) 95697,[OrderedDict([(u'title', u'New Code of Conduct for councillors up for debate'), (u'start', datetime.datetime(2013, 4, 25, 18, 29, 53)), (u'id', 95697)])]"
       ]
      },
      {
       "output_type": "stream",
       "stream": "stdout",
       "text": [
        "\n",
        "(6327) 95694,[OrderedDict([(u'title', u\"Allendria's Syndicated Event\"), (u'start', datetime.datetime(2013, 4, 25, 18, 14, 9)), (u'id', 95694)])]"
       ]
      },
      {
       "output_type": "stream",
       "stream": "stdout",
       "text": [
        "\n",
        "(6326) 95689,[OrderedDict([(u'title', u'Register Citizen Newsroom Meeting for April 25'), (u'start', datetime.datetime(2013, 4, 25, 22, 0)), (u'id', 95689)])]"
       ]
      },
      {
       "output_type": "stream",
       "stream": "stdout",
       "text": [
        "\n",
        "(6326) 95683,[OrderedDict([(u'title', u'Leafs vs. Panthers'), (u'start', datetime.datetime(2013, 4, 26, 1, 15)), (u'id', 95683)])]"
       ]
      },
      {
       "output_type": "stream",
       "stream": "stdout",
       "text": [
        "\n",
        "(6328) 95681,[OrderedDict([(u'title', u'Stephanie Miller Live Chat - 4/26'), (u'start', datetime.datetime(2013, 4, 26, 14, 45)), (u'id', 95681)])]"
       ]
      },
      {
       "output_type": "stream",
       "stream": "stdout",
       "text": [
        "\n",
        "(6327) 95645,[OrderedDict([(u'title', u'Blockupy - INTERNER Ticker'), (u'start', datetime.datetime(2013, 6, 1, 7, 38, 19)), (u'id', 95645)])]"
       ]
      },
      {
       "output_type": "stream",
       "stream": "stdout",
       "text": [
        "\n",
        "(6327) 95632,[OrderedDict([(u'title', u'Festival Internazionale del Giornalismo'), (u'start', datetime.datetime(2013, 4, 25, 11, 58, 24)), (u'id', 95632)])]"
       ]
      },
      {
       "output_type": "stream",
       "stream": "stdout",
       "text": [
        "\n",
        "(6327) 95628,[OrderedDict([(u'title', u'Pleno Ayuntamiento San Sebasti\\xe1n'), (u'start', datetime.datetime(2013, 4, 25, 12, 45)), (u'id', 95628)])]"
       ]
      },
      {
       "output_type": "stream",
       "stream": "stdout",
       "text": [
        "\n",
        "(6328) 95624,[OrderedDict([(u'title', u'D-LSC-NL-20130425-LC-testje'), (u'start', datetime.datetime(2013, 4, 25, 12, 23)), (u'id', 95624)])]"
       ]
      },
      {
       "output_type": "stream",
       "stream": "stdout",
       "text": [
        "\n",
        "(6328) 95617,[OrderedDict([(u'title', u'Stefan H\\xe4rus rapporterar fr\\xe5n Tarmo-Honka'), (u'start', datetime.datetime(2013, 4, 26, 17, 15)), (u'id', 95617)])]"
       ]
      },
      {
       "output_type": "stream",
       "stream": "stdout",
       "text": [
        "\n",
        "(6328) 95609,[OrderedDict([(u'title', u'Firarsv\\xe4ngen 25 april'), (u'start', datetime.datetime(2013, 4, 25, 8, 0)), (u'id', 95609)])]"
       ]
      },
      {
       "output_type": "stream",
       "stream": "stdout",
       "text": [
        "\n",
        "(6330) 95600,[OrderedDict([(u'title', u'Roe V Wade'), (u'start', datetime.datetime(2013, 4, 25, 1, 27, 11)), (u'id', 95600)])]"
       ]
      },
      {
       "output_type": "stream",
       "stream": "stdout",
       "text": [
        "\n",
        "(6331) 95556,[OrderedDict([(u'title', u'Volume comment test'), (u'start', datetime.datetime(2013, 5, 16, 6, 14, 30)), (u'id', 95556)])]"
       ]
      },
      {
       "output_type": "stream",
       "stream": "stdout",
       "text": [
        "\n",
        "(6330) 95554,[OrderedDict([(u'title', u'MLC13'), (u'start', datetime.datetime(2013, 4, 24, 20, 7, 18)), (u'id', 95554)])]"
       ]
      },
      {
       "output_type": "stream",
       "stream": "stdout",
       "text": [
        "\n",
        "(6329) 95551,[OrderedDict([(u'title', u'Continuum live chat with star Erik Knudsen'), (u'start', datetime.datetime(2013, 4, 29, 18, 29, 17)), (u'id', 95551)])]"
       ]
      },
      {
       "output_type": "stream",
       "stream": "stdout",
       "text": [
        "\n",
        "(6329) 95550,[OrderedDict([(u'title', u'Levy on Transit'), (u'start', datetime.datetime(2013, 4, 25, 18, 0)), (u'id', 95550)])]"
       ]
      },
      {
       "output_type": "stream",
       "stream": "stdout",
       "text": [
        "\n",
        "(6331) 95548,[OrderedDict([(u'title', u'Test volume commentings'), (u'start', datetime.datetime(2013, 5, 16, 6, 15, 11)), (u'id', 95548)])]"
       ]
      },
      {
       "output_type": "stream",
       "stream": "stdout",
       "text": [
        "\n",
        "(6331) 95545,[OrderedDict([(u'title', u\"Maclean's Live: Question Period, April 24\"), (u'start', datetime.datetime(2013, 4, 24, 19, 58, 25)), (u'id', 95545)])]"
       ]
      },
      {
       "output_type": "stream",
       "stream": "stdout",
       "text": [
        "\n",
        "(6333) 95544,[OrderedDict([(u'title', u'foo'), (u'start', datetime.datetime(2013, 4, 24, 19, 15)), (u'id', 95544)])]"
       ]
      },
      {
       "output_type": "stream",
       "stream": "stdout",
       "text": [
        "\n",
        "(6333) 95539,[OrderedDict([(u'title', u'Mayor Watson Answers Questions About Summer Use Of Ottawa Stadium'), (u'start', datetime.datetime(2013, 4, 24, 19, 5, 7)), (u'id', 95539)])]"
       ]
      },
      {
       "output_type": "stream",
       "stream": "stdout",
       "text": [
        "\n",
        "(6333) 95534,[OrderedDict([(u'title', u\"'American Idol' live chat: The Top 4 perform\"), (u'start', datetime.datetime(2013, 4, 25, 1, 50, 58)), (u'id', 95534)])]"
       ]
      },
      {
       "output_type": "stream",
       "stream": "stdout",
       "text": [
        "\n",
        "(6332) 164226,[OrderedDict([(u'title', u\"Suivez l'Europa League sur Sudpresse\"), (u'start', datetime.datetime(2013, 8, 8, 17, 14, 41)), (u'id', 164226)])]"
       ]
      },
      {
       "output_type": "stream",
       "stream": "stdout",
       "text": [
        "\n",
        "(6334) 177063,[OrderedDict([(u'title', u'P-LSC-FR-20130820-UC-Multilive D3 - Promotions (Journ\\xe9e 2)'), (u'start', datetime.datetime(2013, 8, 21, 18, 0)), (u'id', 177063)])]"
       ]
      },
      {
       "output_type": "stream",
       "stream": "stdout",
       "text": [
        "\n",
        "(6336) 102849,[OrderedDict([(u'title', u'AFC South Twitter mailbag 130511'), (u'start', datetime.datetime(2013, 5, 11, 3, 0, 13)), (u'id', 102849)])]"
       ]
      },
      {
       "output_type": "stream",
       "stream": "stdout",
       "text": [
        "\n",
        "(6337) 95517,[OrderedDict([(u'title', u'Stephanie Miller Live Chat - 4/25'), (u'start', datetime.datetime(2013, 4, 25, 14, 45)), (u'id', 95517)])]"
       ]
      },
      {
       "output_type": "stream",
       "stream": "stdout",
       "text": [
        "\n",
        "(6337) 95506,[OrderedDict([(u'title', u'T-LSC-FR-20130301-UC-JPL Playoff |'), (u'start', datetime.datetime(2013, 3, 1, 0, 0)), (u'id', 95506)])]"
       ]
      },
      {
       "output_type": "stream",
       "stream": "stdout",
       "text": [
        "\n",
        "(6337) 95502,[OrderedDict([(u'title', u'T-LSC-FR-20130329-UC-Zulte Waregem - Lokeren (Journ\\xe9e 1)'), (u'start', datetime.datetime(2013, 3, 29, 0, 0)), (u'id', 95502)])]"
       ]
      },
      {
       "output_type": "stream",
       "stream": "stdout",
       "text": [
        "\n",
        "(6337) 95499,[OrderedDict([(u'title', u\"Conf' de r\\xe9dac'\"), (u'start', datetime.datetime(2013, 4, 25, 10, 0)), (u'id', 95499)])]"
       ]
      },
      {
       "output_type": "stream",
       "stream": "stdout",
       "text": [
        "\n",
        "(6337) 95469,[OrderedDict([(u'title', u'T-LSC-FR-20130423-UC-Borussia Dortmund - Real Madrid (Journ\\xe9e 1)'), (u'start', datetime.datetime(2013, 4, 29, 15, 11, 36)), (u'id', 95469)])]"
       ]
      },
      {
       "output_type": "stream",
       "stream": "stdout",
       "text": [
        "\n",
        "(6336) 95464,[OrderedDict([(u'title', u'LIVE: NCC talks greenbelt issues, Ottawa transit'), (u'start', datetime.datetime(2013, 4, 24, 18, 45)), (u'id', 95464)])]"
       ]
      },
      {
       "output_type": "stream",
       "stream": "stdout",
       "text": [
        "\n",
        "(6339) 95459,[OrderedDict([(u'title', u'LIVE \\u03b7 36\\u03b7 \\u03b1\\u03b3\\u03c9\\u03bd\\u03b9\\u03c3\\u03c4\\u03b9\\u03ba\\u03ae \\u03c4\\u03b7\\u03c2 Football League'), (u'start', datetime.datetime(2013, 4, 24, 14, 42, 33)), (u'id', 95459)])]"
       ]
      },
      {
       "output_type": "stream",
       "stream": "stdout",
       "text": [
        "\n",
        "(6338) 95453,[OrderedDict([(u'title', u'Zaostala tekma 23. kroga Prve lige Telekom Slovenije'), (u'start', datetime.datetime(2013, 4, 24, 14, 23, 22)), (u'id', 95453)])]"
       ]
      },
      {
       "output_type": "stream",
       "stream": "stdout",
       "text": [
        "\n",
        "(6338) 95452,[OrderedDict([(u'title', u'\\xc4ss\\xe4t - Tappara 24.4.'), (u'start', datetime.datetime(2013, 4, 24, 14, 5, 35)), (u'id', 95452)])]"
       ]
      },
      {
       "output_type": "stream",
       "stream": "stdout",
       "text": [
        "\n",
        "(6339) 95450,[OrderedDict([(u'title', u'Test'), (u'start', datetime.datetime(2013, 4, 24, 14, 1, 17)), (u'id', 95450)])]"
       ]
      },
      {
       "output_type": "stream",
       "stream": "stdout",
       "text": [
        "\n",
        "(6338) 95434,[OrderedDict([(u'title', u'Referendum night live'), (u'start', datetime.datetime(2013, 4, 24, 20, 45)), (u'id', 95434)])]"
       ]
      },
      {
       "output_type": "stream",
       "stream": "stdout",
       "text": [
        "\n",
        "(6341) 95422,[OrderedDict([(u'title', u'T-LSC-NL-20130427-UC-Standard - Zulte Waregem (Speeldag 6)'), (u'start', datetime.datetime(2013, 4, 27, 0, 0)), (u'id', 95422)])]"
       ]
      },
      {
       "output_type": "stream",
       "stream": "stdout",
       "text": [
        "\n",
        "(6343) 95421,[OrderedDict([(u'title', u'T-LSC-NL-20130427-LC-Standard - Zulte Waregem (Speeldag 6)'), (u'start', datetime.datetime(2013, 4, 27, 0, 0)), (u'id', 95421)])]"
       ]
      },
      {
       "output_type": "stream",
       "stream": "stdout",
       "text": [
        "\n",
        "(6343) 95412,[OrderedDict([(u'title', u\"Prime Minister's Questions April 24 2013\"), (u'start', datetime.datetime(2013, 4, 24, 12, 30)), (u'id', 95412)])]"
       ]
      },
      {
       "output_type": "stream",
       "stream": "stdout",
       "text": [
        "\n",
        "(6342) 95403,[OrderedDict([(u'title', u'Superliga l\\xf8rdag FC Nordsj\\xe6lland - S\\xf8nderjysKE'), (u'start', datetime.datetime(2013, 4, 24, 9, 56, 51)), (u'id', 95403)])]"
       ]
      },
      {
       "output_type": "stream",
       "stream": "stdout",
       "text": [
        "\n",
        "(6343) 95383,[OrderedDict([(u'title', u'\\u039d. \\u0392\\u039f\\u03a4\\u03a3\\u0397\\u03a3-\\u0395\\u039f\\u03a3, \\u03a4\\u0395\\u039b\\u0399\\u039a\\u039f\\u03a3 \\u03a0\\u039b\\u0395\\u0399-\\u039f\\u03a6 \\u0391\\u0384 \\u0395\\u039a\\u0391\\u03a3\\u0398 \\u0393\\u03a5\\u039d\\u0391\\u0399\\u039a\\u03a9\\u039d'), (u'start', datetime.datetime(2013, 4, 24, 19, 45)), (u'id', 95383)])]"
       ]
      },
      {
       "output_type": "stream",
       "stream": "stdout",
       "text": [
        "\n",
        "(6343) 95382,[OrderedDict([(u'title', u'Warriors-Nuggets In-Game Live fan chat!'), (u'start', datetime.datetime(2013, 4, 24, 4, 0)), (u'id', 95382)])]"
       ]
      },
      {
       "output_type": "stream",
       "stream": "stdout",
       "text": [
        "\n",
        "(6342) 95360,[OrderedDict([(u'title', u'Girls Lacrosse: Hempfield at Penn Manor'), (u'start', datetime.datetime(2013, 4, 24, 0, 43, 29)), (u'id', 95360)])]"
       ]
      },
      {
       "output_type": "stream",
       "stream": "stdout",
       "text": [
        "\n",
        "(6342) 95332,[OrderedDict([(u'title', u'Kitchener casino public consultation'), (u'start', datetime.datetime(2013, 4, 24, 0, 0)), (u'id', 95332)])]"
       ]
      },
      {
       "output_type": "stream",
       "stream": "stdout",
       "text": [
        "\n",
        "(6344) 95326,[OrderedDict([(u'title', u'Festival Internazionale del Giornalismo'), (u'start', datetime.datetime(2013, 4, 24, 9, 0)), (u'id', 95326)])]"
       ]
      },
      {
       "output_type": "stream",
       "stream": "stdout",
       "text": [
        "\n",
        "(6344) 95323,[OrderedDict([(u'title', u'Last-minute tax questions'), (u'start', datetime.datetime(2013, 4, 26, 22, 28, 8)), (u'id', 95323)])]"
       ]
      },
      {
       "output_type": "stream",
       "stream": "stdout",
       "text": [
        "\n",
        "(6346) 119361,[OrderedDict([(u'title', u'Combined Country v Lions - Live'), (u'start', datetime.datetime(2013, 6, 11, 8, 18, 54)), (u'id', 119361)])]"
       ]
      },
      {
       "output_type": "stream",
       "stream": "stdout",
       "text": [
        "\n",
        "(6345) 175364,[OrderedDict([(u'title', u'Live article testing'), (u'start', datetime.datetime(2013, 8, 19, 15, 23, 2)), (u'id', 175364)])]"
       ]
      },
      {
       "output_type": "stream",
       "stream": "stdout",
       "text": [
        "\n",
        "(6344) 95320,[OrderedDict([(u'title', u'Wednesday, April 24 - Live news updates'), (u'start', datetime.datetime(2013, 4, 23, 20, 12, 38)), (u'id', 95320)])]"
       ]
      },
      {
       "output_type": "stream",
       "stream": "stdout",
       "text": [
        "\n",
        "(6345) 95314,[OrderedDict([(u'title', u'Test '), (u'start', datetime.datetime(2013, 4, 23, 19, 50, 50)), (u'id', 95314)])]"
       ]
      },
      {
       "output_type": "stream",
       "stream": "stdout",
       "text": [
        "\n",
        "(6347) 103932,[OrderedDict([(u'title', u'FA Youth Cup final, second leg: Chelsea Under-18s v Norwich City Under-18s'), (u'start', datetime.datetime(2013, 5, 13, 20, 31, 48)), (u'id', 103932)])]"
       ]
      },
      {
       "output_type": "stream",
       "stream": "stdout",
       "text": [
        "\n",
        "(6347) 126764,[OrderedDict([(u'title', u'TEST'), (u'start', datetime.datetime(2013, 6, 18, 14, 15, 9)), (u'id', 126764)])]"
       ]
      },
      {
       "output_type": "stream",
       "stream": "stdout",
       "text": [
        "\n",
        "(6348) 95265,[OrderedDict([(u'title', u'Teknikkv\\xe4ll'), (u'start', datetime.datetime(2013, 4, 23, 17, 2, 22)), (u'id', 95265)])]"
       ]
      },
      {
       "output_type": "stream",
       "stream": "stdout",
       "text": [
        "\n",
        "(6347) 95261,[OrderedDict([(u'title', u'#bloggermock twitter feed'), (u'start', datetime.datetime(2013, 4, 23, 16, 46, 46)), (u'id', 95261)])]"
       ]
      },
      {
       "output_type": "stream",
       "stream": "stdout",
       "text": [
        "\n",
        "(6346) 95248,[OrderedDict([(u'title', u'test23'), (u'start', datetime.datetime(2013, 4, 23, 15, 45)), (u'id', 95248)])]"
       ]
      },
      {
       "output_type": "stream",
       "stream": "stdout",
       "text": [
        "\n",
        "(6346) 95242,[OrderedDict([(u'title', u'T-LSC-NL-20130301-UC-Play-Off I'), (u'start', datetime.datetime(2013, 3, 1, 0, 0)), (u'id', 95242)])]"
       ]
      },
      {
       "output_type": "stream",
       "stream": "stdout",
       "text": [
        "\n",
        "(6346) 95238,[OrderedDict([(u'title', u'Wrexham v Kidderminster Harriers - LIVE match updates'), (u'start', datetime.datetime(2013, 4, 23, 19, 45)), (u'id', 95238)])]"
       ]
      },
      {
       "output_type": "stream",
       "stream": "stdout",
       "text": [
        "\n",
        "(6345) 95232,[OrderedDict([(u'title', u'D-LSC-NL-20130423-UC-test comment id'), (u'start', datetime.datetime(2013, 4, 23, 0, 0)), (u'id', 95232)])]"
       ]
      },
      {
       "output_type": "stream",
       "stream": "stdout",
       "text": [
        "\n",
        "(6346) 95231,[OrderedDict([(u'title', u'D-LSC-NL-20130423-LC-test live id'), (u'start', datetime.datetime(2013, 4, 23, 0, 0)), (u'id', 95231)])]"
       ]
      },
      {
       "output_type": "stream",
       "stream": "stdout",
       "text": [
        "\n",
        "(6345) 179622,[OrderedDict([(u'title', u'Live ITFC web chat'), (u'start', datetime.datetime(2013, 8, 27, 14, 0)), (u'id', 179622)])]"
       ]
      },
      {
       "output_type": "stream",
       "stream": "stdout",
       "text": [
        "\n",
        "(6347) 95219,[OrderedDict([(u'title', u'bla'), (u'start', datetime.datetime(2013, 4, 23, 13, 44)), (u'id', 95219)])]"
       ]
      },
      {
       "output_type": "stream",
       "stream": "stdout",
       "text": [
        "\n",
        "(6347) 95211,[OrderedDict([(u'title', u'Aktuelle Stunde - Thronwechsel Niederlande'), (u'start', datetime.datetime(2013, 4, 30, 8, 0)), (u'id', 95211)])]"
       ]
      },
      {
       "output_type": "stream",
       "stream": "stdout",
       "text": [
        "\n",
        "(6347) 179618,[OrderedDict([(u'title', u'Euro hockey : Belgique-Angleterre (hommes)'), (u'start', datetime.datetime(2013, 8, 23, 20, 24, 24)), (u'id', 179618)])]"
       ]
      },
      {
       "output_type": "stream",
       "stream": "stdout",
       "text": [
        "\n",
        "(6347) 95202,[OrderedDict([(u'title', u'Bayern M\\xfcnchen  \\u2013 FC Barcelona'), (u'start', datetime.datetime(2013, 4, 23, 11, 12, 49)), (u'id', 95202)])]"
       ]
      },
      {
       "output_type": "stream",
       "stream": "stdout",
       "text": [
        "\n",
        "(6349) 95200,[OrderedDict([(u'title', u'OLYMPIACOS24.GR: \\u03a0\\u0391\\u039d\\u0398\\u03a1\\u0391\\u039a\\u0399\\u039a\\u039f\\u03a3 - \\u039f\\u039b\\u03a5\\u039c\\u03a0\\u0399\\u0391\\u039a\\u039f\\u03a3'), (u'start', datetime.datetime(2013, 4, 28, 18, 30, 36)), (u'id', 95200)])]"
       ]
      },
      {
       "output_type": "stream",
       "stream": "stdout",
       "text": [
        "\n",
        "(6347) 133760,[OrderedDict([(u'title', u'Tracking High Risk for Severe Midwest Weather'), (u'start', datetime.datetime(2013, 6, 27, 22, 15)), (u'id', 133760)])]"
       ]
      },
      {
       "output_type": "stream",
       "stream": "stdout",
       "text": [
        "\n",
        "(6346) 119750,[OrderedDict([(u'title', u'WWDC 2013 - Live Blog'), (u'start', datetime.datetime(2013, 6, 10, 17, 25, 43)), (u'id', 119750)])]"
       ]
      },
      {
       "output_type": "stream",
       "stream": "stdout",
       "text": [
        "\n",
        "(6347) 95168,[OrderedDict([(u'title', u'Los Angeles Clippers vs Memphis Grizzlies: Game 2'), (u'start', datetime.datetime(2013, 4, 23, 4, 50, 16)), (u'id', 95168)])]"
       ]
      },
      {
       "output_type": "stream",
       "stream": "stdout",
       "text": [
        "\n",
        "(6346) 95165,[OrderedDict([(u'title', u'Live coverage from City Hall 042213'), (u'start', datetime.datetime(2013, 4, 23, 0, 15)), (u'id', 95165)])]"
       ]
      },
      {
       "output_type": "stream",
       "stream": "stdout",
       "text": [
        "\n",
        "(6346) 95142,[OrderedDict([(u'title', u'test'), (u'start', datetime.datetime(2013, 4, 22, 21, 15, 51)), (u'id', 95142)])]"
       ]
      },
      {
       "output_type": "stream",
       "stream": "stdout",
       "text": [
        "\n",
        "(6346) 95140,[OrderedDict([(u'title', u'Hooley Live Chat 4/23/13'), (u'start', datetime.datetime(2013, 4, 23, 22, 17, 56)), (u'id', 95140)])]"
       ]
      },
      {
       "output_type": "stream",
       "stream": "stdout",
       "text": [
        "\n",
        "(6345) 95138,[OrderedDict([(u'title', u'SVP & Russillo Chat'), (u'start', datetime.datetime(2013, 4, 22, 20, 59, 3)), (u'id', 95138)])]"
       ]
      },
      {
       "output_type": "stream",
       "stream": "stdout",
       "text": [
        "\n",
        "(6344) 95128,[OrderedDict([(u'title', u'Test'), (u'start', datetime.datetime(2013, 4, 22, 20, 12, 48)), (u'id', 95128)])]"
       ]
      },
      {
       "output_type": "stream",
       "stream": "stdout",
       "text": [
        "\n",
        "(6344) 95123,[OrderedDict([(u'title', u'CU Buffs football chat with Kyle Ringo, April 22, 2013'), (u'start', datetime.datetime(2013, 4, 22, 21, 15)), (u'id', 95123)])]"
       ]
      },
      {
       "output_type": "stream",
       "stream": "stdout",
       "text": [
        "\n",
        "(6343) 95122,[OrderedDict([(u'title', u'RCMP terror plot presser'), (u'start', datetime.datetime(2013, 4, 22, 20, 52, 8)), (u'id', 95122)])]"
       ]
      },
      {
       "output_type": "stream",
       "stream": "stdout",
       "text": [
        "\n",
        "(6343) 95110,[OrderedDict([(u'title', u'\\u0395\\u03c0\\u03b9-\\u03b8\\u03b5\\u03c4\\u03b9\\u03ba\\u03ac'), (u'start', datetime.datetime(2013, 4, 22, 18, 10, 33)), (u'id', 95110)])]"
       ]
      },
      {
       "output_type": "stream",
       "stream": "stdout",
       "text": [
        "\n",
        "(6342) 95108,[OrderedDict([(u'title', u'Avond van de Persvrijheid 2013'), (u'start', datetime.datetime(2013, 4, 22, 19, 0)), (u'id', 95108)])]"
       ]
      },
      {
       "output_type": "stream",
       "stream": "stdout",
       "text": [
        "\n",
        "(6341) 95104,[OrderedDict([(u'title', u\"Maclean's Live: Question Period, April 22\"), (u'start', datetime.datetime(2013, 4, 22, 20, 0)), (u'id', 95104)])]"
       ]
      },
      {
       "output_type": "stream",
       "stream": "stdout",
       "text": [
        "\n",
        "(6341) 95081,[OrderedDict([(u'title', u'Manchester United v Aston Villa - LIVE match updates'), (u'start', datetime.datetime(2013, 4, 22, 19, 45)), (u'id', 95081)])]"
       ]
      },
      {
       "output_type": "stream",
       "stream": "stdout",
       "text": [
        "\n",
        "(6340) 95068,[OrderedDict([(u'title', u'Monday Moan Live Chat 22/04/13'), (u'start', datetime.datetime(2013, 4, 22, 17, 7, 10)), (u'id', 95068)])]"
       ]
      },
      {
       "output_type": "stream",
       "stream": "stdout",
       "text": [
        "\n",
        "(6340) 95063,[OrderedDict([(u'title', u\"LIVE: 'Historic' concert announcement\"), (u'start', datetime.datetime(2013, 4, 22, 23, 45)), (u'id', 95063)])]"
       ]
      },
      {
       "output_type": "stream",
       "stream": "stdout",
       "text": [
        "\n",
        "(6340) 95053,[OrderedDict([(u'title', u'Alfa Romeo 4C -D Deutschlandpremiere'), (u'start', datetime.datetime(2013, 4, 22, 14, 0)), (u'id', 95053)])]"
       ]
      },
      {
       "output_type": "stream",
       "stream": "stdout",
       "text": [
        "\n",
        "(6342) 95039,[OrderedDict([(u'title', u'Live web chat - Ipswich Town'), (u'start', datetime.datetime(2013, 4, 22, 13, 45)), (u'id', 95039)])]"
       ]
      },
      {
       "output_type": "stream",
       "stream": "stdout",
       "text": [
        "\n",
        "(6342) 171821,[OrderedDict([(u'title', u'Live: Alberta Flood Aid'), (u'start', datetime.datetime(2013, 8, 15, 17, 44, 33)), (u'id', 171821)])]"
       ]
      },
      {
       "output_type": "stream",
       "stream": "stdout",
       "text": [
        "\n",
        "(6343) 95033,[OrderedDict([(u'title', u'WOOP.GR: \\u03a0\\u0391\\u039d\\u0398\\u03a1\\u0391\\u039a\\u0399\\u039a\\u039f\\u03a3 - \\u039f\\u039b\\u03a5\\u039c\\u03a0\\u0399\\u0391\\u039a\\u039f\\u03a3'), (u'start', datetime.datetime(2013, 4, 28, 18, 34, 2)), (u'id', 95033)])]"
       ]
      },
      {
       "output_type": "stream",
       "stream": "stdout",
       "text": [
        "\n",
        "(6347) 95029,[OrderedDict([(u'title', u'Bill Press Live Chat - 4/22'), (u'start', datetime.datetime(2013, 4, 22, 11, 45)), (u'id', 95029)])]"
       ]
      },
      {
       "output_type": "stream",
       "stream": "stdout",
       "text": [
        "\n",
        "(6347) 137201,[OrderedDict([(u'title', u'test for ruth'), (u'start', datetime.datetime(2013, 7, 2, 18, 58, 58)), (u'id', 137201)])]"
       ]
      },
      {
       "output_type": "stream",
       "stream": "stdout",
       "text": [
        "\n",
        "(6346) 143800,[OrderedDict([(u'title', u'\\u03a6\\u03b9\\u03bb\\u03b9\\u03ba\\u03ac: \\u03a0\\u0391\\u039f\\u039a-\\u039a\\u03bf\\u03c0\\u03b5\\u03b3\\u03c7\\u03ac\\u03b3\\u03b7, \\u03a0\\u03b1\\u03bd\\u03b1\\u03b8\\u03b7\\u03bd\\u03b1\\u03ca\\u03ba\\u03cc\\u03c2-\\u0393\\u03ac\\u03bd\\u03b4\\u03b7'), (u'start', datetime.datetime(2013, 7, 10, 18, 1, 7)), (u'id', 143800)])]"
       ]
      },
      {
       "output_type": "stream",
       "stream": "stdout",
       "text": [
        "\n",
        "(6346) 120059,[OrderedDict([(u'title', u'WWDC'), (u'start', datetime.datetime(2013, 6, 10, 17, 30)), (u'id', 120059)])]"
       ]
      },
      {
       "output_type": "stream",
       "stream": "stdout",
       "text": [
        "\n",
        "(6346) 95016,[OrderedDict([(u'title', u'NDR Tatort am 28. April 2012'), (u'start', datetime.datetime(2013, 4, 22, 11, 0)), (u'id', 95016)])]"
       ]
      },
      {
       "output_type": "stream",
       "stream": "stdout",
       "text": [
        "\n",
        "(6347) 95012,[OrderedDict([(u'title', u\"Blakey's Bootroom: Win two tickets to Cardiff City v Bolton\"), (u'start', datetime.datetime(2013, 4, 22, 10, 54, 47)), (u'id', 95012)])]"
       ]
      },
      {
       "output_type": "stream",
       "stream": "stdout",
       "text": [
        "\n",
        "(6346) 95010,[OrderedDict([(u'title', u'Hoene\\xdf'), (u'start', datetime.datetime(2013, 4, 22, 10, 44, 54)), (u'id', 95010)])]"
       ]
      },
      {
       "output_type": "stream",
       "stream": "stdout",
       "text": [
        "\n",
        "(6346) 94971,[OrderedDict([(u'title', u'TD Bank robbery'), (u'start', datetime.datetime(2013, 4, 21, 19, 43, 7)), (u'id', 94971)])]"
       ]
      },
      {
       "output_type": "stream",
       "stream": "stdout",
       "text": [
        "\n",
        "(6345) 94957,[OrderedDict([(u'title', u'2013 Junos - Yahoo! Canada live coverage'), (u'start', datetime.datetime(2013, 4, 22, 1, 30)), (u'id', 94957)])]"
       ]
      },
      {
       "output_type": "stream",
       "stream": "stdout",
       "text": [
        "\n",
        "(6345) 94938,[OrderedDict([(u'title', u'Bahrain GP - Live!'), (u'start', datetime.datetime(2013, 4, 21, 12, 4, 20)), (u'id', 94938)])]"
       ]
      },
      {
       "output_type": "stream",
       "stream": "stdout",
       "text": [
        "\n",
        "(6345) 147188,[OrderedDict([(u'title', u'The F365 Transfer Blog - Tuesday July 16'), (u'start', datetime.datetime(2013, 7, 16, 9, 9, 56)), (u'id', 147188)])]"
       ]
      },
      {
       "output_type": "stream",
       "stream": "stdout",
       "text": [
        "\n",
        "(6345) 94937,[OrderedDict([(u'title', u'Bahrain F1'), (u'start', datetime.datetime(2013, 4, 21, 11, 55, 18)), (u'id', 94937)])]"
       ]
      },
      {
       "output_type": "stream",
       "stream": "stdout",
       "text": [
        "\n",
        "(6344) 94929,[OrderedDict([(u'title', u'\\u0398\\u03a1\\u0391\\u03a3\\u03a5\\u0392\\u039f\\u03a5\\u039b\\u039f\\u03a3-\\u03a0\\u0391\\u039d\\u0391\\u0399\\u03a4\\u03a9\\u039b\\u0399\\u039a\\u039f\\u03a3'), (u'start', datetime.datetime(2013, 4, 21, 10, 57, 14)), (u'id', 94929)])]"
       ]
      },
      {
       "output_type": "stream",
       "stream": "stdout",
       "text": [
        "\n",
        "(6343) 94926,[OrderedDict([(u'title', u'Genk - Bruges et Zulte - Anderlecht en direct sur Sudpresse'), (u'start', datetime.datetime(2013, 4, 21, 15, 43, 4)), (u'id', 94926)])]"
       ]
      },
      {
       "output_type": "stream",
       "stream": "stdout",
       "text": [
        "\n",
        "(6343) 94917,[OrderedDict([(u'title', u'Kings XI v Warriors, Mohali'), (u'start', datetime.datetime(2013, 4, 21, 15, 45)), (u'id', 94917)])]"
       ]
      },
      {
       "output_type": "stream",
       "stream": "stdout",
       "text": [
        "\n",
        "(6342) 94913,[OrderedDict([(u'title', u'\\u03a0\\u0391\\u039d\\u0391\\u0398\\u039b\\u0397\\u03a4\\u0399\\u039a\\u039f\\u03a3 \\u03a3\\u03a5\\u039a\\u0395\\u03a9\\u039d-\\u0391\\u039d\\u0391\\u0393\\u0395\\u039d\\u039d\\u0397\\u03a3\\u0397 \\u039d\\u0395\\u039f\\u03a5 \\u03a1\\u03a5\\u03a3\\u0399\\u039f\\u03a5 \\u0393\\u0399\\u0391 \\u03a4\\u0397\\u039d \\u0391\\u039d\\u039f\\u0394\\u039f \\u03a3\\u03a4\\u0397\\u039d \\u03911 \\u0393\\u03a5\\u039d\\u0391\\u0399\\u039a\\u03a9\\u039d'), (u'start', datetime.datetime(2013, 4, 21, 12, 0)), (u'id', 94913)])]"
       ]
      },
      {
       "output_type": "stream",
       "stream": "stdout",
       "text": [
        "\n",
        "(6341) 94901,[OrderedDict([(u'title', u'Michigan State football: Twitter updates'), (u'start', datetime.datetime(2013, 4, 20, 19, 32, 45)), (u'id', 94901)])]"
       ]
      },
      {
       "output_type": "stream",
       "stream": "stdout",
       "text": [
        "\n",
        "(6340) 94900,[OrderedDict([(u'title', u'Napolitano bis, Grillo in piazza a Roma'), (u'start', datetime.datetime(2013, 4, 20, 19, 26, 22)), (u'id', 94900)])]"
       ]
      },
      {
       "output_type": "stream",
       "stream": "stdout",
       "text": [
        "\n",
        "(6340) 94890,[OrderedDict([(u'title', u'Southport V Luton Town'), (u'start', datetime.datetime(2013, 4, 20, 16, 30)), (u'id', 94890)])]"
       ]
      },
      {
       "output_type": "stream",
       "stream": "stdout",
       "text": [
        "\n",
        "(6339) 94860,[OrderedDict([(u'title', u\"** MATERIALE D'APPOGGIO **\"), (u'start', datetime.datetime(2013, 4, 20, 12, 53, 44)), (u'id', 94860)])]"
       ]
      },
      {
       "output_type": "stream",
       "stream": "stdout",
       "text": [
        "\n",
        "(6338) 94857,[OrderedDict([(u'title', u'\\u0422\\u0415\\u041d\\u041d\\u0418\\u0421, \\u0411\\u0410\\u0420\\u0422\\u041e\\u041b\\u0418 - \\u0412\\u041e\\u0421\\u041a\\u041e\\u0411\\u041e\\u0415\\u0412\\u0410'), (u'start', datetime.datetime(2013, 4, 20, 12, 42, 32)), (u'id', 94857)])]"
       ]
      },
      {
       "output_type": "stream",
       "stream": "stdout",
       "text": [
        "\n",
        "ERROR 94813 408 Client Error: Request Time-out"
       ]
      },
      {
       "output_type": "stream",
       "stream": "stdout",
       "text": [
        "\n",
        "(6339) 94802,[OrderedDict([(u'title', u'discussions embed test'), (u'start', datetime.datetime(2013, 4, 19, 22, 15)), (u'id', 94802)])]"
       ]
      },
      {
       "output_type": "stream",
       "stream": "stdout",
       "text": [
        "\n",
        "ERROR 94800 503 Server Error: Forwarding failure"
       ]
      },
      {
       "output_type": "stream",
       "stream": "stdout",
       "text": [
        "\n",
        "(6337) 94800,[OrderedDict([(u'title', u'Casual Friday night in Oxford, Ohio.'), (u'start', datetime.datetime(2013, 4, 19, 22, 14, 58)), (u'id', 94800)])]"
       ]
      },
      {
       "output_type": "stream",
       "stream": "stdout",
       "text": [
        "\n",
        "(6336) 94771,[OrderedDict([(u'title', u'Deportivo - Athletic'), (u'start', datetime.datetime(2013, 4, 21, 16, 45)), (u'id', 94771)])]"
       ]
      },
      {
       "output_type": "stream",
       "stream": "stdout",
       "text": [
        "\n",
        "(6335) 94756,[OrderedDict([(u'title', u'AEK LIVE RADIO 19/4/2013'), (u'start', datetime.datetime(2013, 4, 19, 19, 17, 10)), (u'id', 94756)])]"
       ]
      },
      {
       "output_type": "stream",
       "stream": "stdout",
       "text": [
        "\n",
        "ERROR 94723 408 Client Error: Request Time-out"
       ]
      },
      {
       "output_type": "stream",
       "stream": "stdout",
       "text": [
        "\n",
        "(6330) 94711,[OrderedDict([(u'title', u'Labour Pains Town Hall (Hamilton)'), (u'start', datetime.datetime(2013, 4, 19, 16, 41, 6)), (u'id', 94711)])]"
       ]
      },
      {
       "output_type": "stream",
       "stream": "stdout",
       "text": [
        "\n",
        "ERROR 94679 503 Server Error: Forwarding failure"
       ]
      },
      {
       "output_type": "stream",
       "stream": "stdout",
       "text": [
        "\n",
        "(6334) 94679,[OrderedDict([(u'title', u'Live: search for Boston Marathon bombing suspect via Boston.com'), (u'start', datetime.datetime(2013, 4, 19, 15, 0)), (u'id', 94679)])]"
       ]
      },
      {
       "output_type": "stream",
       "stream": "stdout",
       "text": [
        "\n",
        "(6333) 94678,[OrderedDict([(u'title', u'Carnegie Hall Live: Dresden Staatskapelle'), (u'start', datetime.datetime(2013, 4, 20, 1, 0)), (u'id', 94678)])]"
       ]
      },
      {
       "output_type": "stream",
       "stream": "stdout",
       "text": [
        "\n",
        "(6333) 94660,[OrderedDict([(u'title', u'Saturday football action - LIVE match updates'), (u'start', datetime.datetime(2013, 4, 20, 15, 0)), (u'id', 94660)])]"
       ]
      },
      {
       "output_type": "stream",
       "stream": "stdout",
       "text": [
        "\n",
        "(6334) 94648,[OrderedDict([(u'title', u'Grosseto vs Livorno: Live Match!'), (u'start', datetime.datetime(2013, 4, 20, 14, 45)), (u'id', 94648)])]"
       ]
      },
      {
       "output_type": "stream",
       "stream": "stdout",
       "text": [
        "\n",
        "(6333) 94645,[OrderedDict([(u'title', u'D2 : Alost - Tubize'), (u'start', datetime.datetime(2013, 4, 21, 14, 49, 17)), (u'id', 94645)])]"
       ]
      },
      {
       "output_type": "stream",
       "stream": "stdout",
       "text": [
        "\n",
        "(6334) 94638,[OrderedDict([(u'title', u'GP Bahrain - Prove Libere 2'), (u'start', datetime.datetime(2013, 4, 19, 12, 28, 36)), (u'id', 94638)])]"
       ]
      },
      {
       "output_type": "stream",
       "stream": "stdout",
       "text": [
        "\n",
        "(6336) 94601,[OrderedDict([(u'title', u'\\xd8ygardsaken'), (u'start', datetime.datetime(2013, 5, 30, 12, 11, 19)), (u'id', 94601)])]"
       ]
      },
      {
       "output_type": "stream",
       "stream": "stdout",
       "text": [
        "\n",
        "(6335) 160888,[OrderedDict([(u'title', u'La Jupiler Pro League en direct sur Sudpresse'), (u'start', datetime.datetime(2013, 8, 2, 16, 32, 25)), (u'id', 160888)])]"
       ]
      },
      {
       "output_type": "stream",
       "stream": "stdout",
       "text": [
        "\n",
        "(6335) 147854,[OrderedDict([(u'title', u'Royal Baby'), (u'start', datetime.datetime(2013, 7, 22, 18, 51, 52)), (u'id', 147854)])]"
       ]
      },
      {
       "output_type": "stream",
       "stream": "stdout",
       "text": [
        "\n",
        "(6335) 94583,[OrderedDict([(u'title', u'GP Bahrain - Prove libere 1'), (u'start', datetime.datetime(2013, 4, 19, 8, 30)), (u'id', 94583)])]"
       ]
      },
      {
       "output_type": "stream",
       "stream": "stdout",
       "text": [
        "\n",
        "(6334) 94582,[OrderedDict([(u'title', u'Politiaktioner i Boston'), (u'start', datetime.datetime(2013, 4, 19, 8, 30)), (u'id', 94582)])]"
       ]
      },
      {
       "output_type": "stream",
       "stream": "stdout",
       "text": [
        "\n",
        "(6333) 94570,[OrderedDict([(u'title', u'Skattesagskommissionen, dag 24'), (u'start', datetime.datetime(2013, 4, 19, 7, 20, 46)), (u'id', 94570)])]"
       ]
      },
      {
       "output_type": "stream",
       "stream": "stdout",
       "text": [
        "\n",
        "(6333) 94569,[OrderedDict([(u'title', u'Trafikkmeldinger fredag 19. april'), (u'start', datetime.datetime(2013, 4, 19, 7, 15)), (u'id', 94569)])]"
       ]
      },
      {
       "output_type": "stream",
       "stream": "stdout",
       "text": [
        "\n",
        "(6332) 94552,[OrderedDict([(u'title', u'Sonya Renee: Unaplogetic '), (u'start', datetime.datetime(2013, 4, 25, 0, 49, 43)), (u'id', 94552)])]"
       ]
      },
      {
       "output_type": "stream",
       "stream": "stdout",
       "text": [
        "\n",
        "(6332) 94491,[OrderedDict([(u'title', u'Bill Press Live Chat - 4/19'), (u'start', datetime.datetime(2013, 4, 19, 11, 45)), (u'id', 94491)])]"
       ]
      },
      {
       "output_type": "stream",
       "stream": "stdout",
       "text": [
        "\n",
        "(6331) 94489,[OrderedDict([(u'title', u'Lots of stuff use in your event'), (u'start', datetime.datetime(2013, 4, 18, 17, 45)), (u'id', 94489)])]"
       ]
      },
      {
       "output_type": "stream",
       "stream": "stdout",
       "text": [
        "\n",
        "(6330) 94482,[OrderedDict([(u'title', u'Superliga mandag Esbjerg fB \\u2013 FC Midtjylland'), (u'start', datetime.datetime(2013, 4, 18, 17, 26, 52)), (u'id', 94482)])]"
       ]
      },
      {
       "output_type": "stream",
       "stream": "stdout",
       "text": [
        "\n",
        "(6329) 94467,[OrderedDict([(u'title', u'Comments test'), (u'start', datetime.datetime(2013, 4, 18, 17, 0, 47)), (u'id', 94467)])]"
       ]
      },
      {
       "output_type": "stream",
       "stream": "stdout",
       "text": [
        "\n",
        "(6329) 94460,[OrderedDict([(u'title', u'Sexual Assault Awareness Month'), (u'start', datetime.datetime(2013, 4, 22, 16, 17, 26)), (u'id', 94460)])]"
       ]
      },
      {
       "output_type": "stream",
       "stream": "stdout",
       "text": [
        "\n",
        "(6331) 94458,[OrderedDict([(u'title', u'Leafs practice, April 18'), (u'start', datetime.datetime(2013, 4, 18, 16, 14, 17)), (u'id', 94458)])]"
       ]
      },
      {
       "output_type": "stream",
       "stream": "stdout",
       "text": [
        "\n",
        "(6331) 104332,[OrderedDict([(u'title', u'Comedy Channel'), (u'start', datetime.datetime(2013, 5, 16, 2, 11, 34)), (u'id', 104332)])]"
       ]
      },
      {
       "output_type": "stream",
       "stream": "stdout",
       "text": [
        "\n",
        "(6330) 158087,[OrderedDict([(u'title', u'MLB trade deadline live chat'), (u'start', datetime.datetime(2013, 7, 31, 14, 0)), (u'id', 158087)])]"
       ]
      },
      {
       "output_type": "stream",
       "stream": "stdout",
       "text": [
        "\n",
        "(6331) 94451,[OrderedDict([(u'title', u'Flooding event in Chicago metro area'), (u'start', datetime.datetime(2013, 4, 18, 15, 18, 7)), (u'id', 94451)])]"
       ]
      },
      {
       "output_type": "stream",
       "stream": "stdout",
       "text": [
        "\n",
        "(6331) 94450,[OrderedDict([(u'title', u'Game 44: Lightning at Canadiens'), (u'start', datetime.datetime(2013, 4, 19, 0, 56, 42)), (u'id', 94450)])]"
       ]
      },
      {
       "output_type": "stream",
       "stream": "stdout",
       "text": [
        "\n",
        "(6330) 104116,[OrderedDict([(u'title', u'Installment Loans'), (u'start', datetime.datetime(2013, 5, 16, 19, 25, 10)), (u'id', 104116)])]"
       ]
      },
      {
       "output_type": "stream",
       "stream": "stdout",
       "text": [
        "\n",
        "(6329) 94441,[OrderedDict([(u'title', u'Obs debatt diskuterar dagens ungdom'), (u'start', datetime.datetime(2013, 4, 18, 16, 45)), (u'id', 94441)])]"
       ]
      },
      {
       "output_type": "stream",
       "stream": "stdout",
       "text": [
        "\n",
        "(6328) 94436,[OrderedDict([(u'title', u'T-LSC-NL-20130326-Nederland - Roemeni\\xeb (Speeldag 6)'), (u'start', datetime.datetime(2013, 3, 26, 8, 30)), (u'id', 94436)])]"
       ]
      },
      {
       "output_type": "stream",
       "stream": "stdout",
       "text": [
        "\n",
        "(6327) 94433,[OrderedDict([(u'title', u'T-LSC-NL-20130607-Albani\\xeb - Noorwegen (Speeldag 6)'), (u'start', datetime.datetime(2013, 6, 7, 8, 30)), (u'id', 94433)])]"
       ]
      },
      {
       "output_type": "stream",
       "stream": "stdout",
       "text": [
        "\n",
        "(6327) 107411,[OrderedDict([(u'title', u'Sunrisers v Royals, IPL, Hyderabad'), (u'start', datetime.datetime(2013, 5, 17, 15, 49)), (u'id', 107411)])]"
       ]
      },
      {
       "output_type": "stream",
       "stream": "stdout",
       "text": [
        "\n",
        "(6326) 94431,[OrderedDict([(u'title', u'T-LSC-NL-20130417-Anderlecht - Lokeren (Speeldag 4)*'), (u'start', datetime.datetime(2013, 4, 17, 8, 0)), (u'id', 94431)])]"
       ]
      },
      {
       "output_type": "stream",
       "stream": "stdout",
       "text": [
        "\n",
        "(6328) 94424,[OrderedDict([(u'title', u'Birmingham City webchat with Colin Tattum'), (u'start', datetime.datetime(2013, 4, 23, 12, 54, 45)), (u'id', 94424)])]"
       ]
      },
      {
       "output_type": "stream",
       "stream": "stdout",
       "text": [
        "\n",
        "(6327) 155290,[OrderedDict([(u'title', u'Summer Arts Weekend'), (u'start', datetime.datetime(2013, 7, 29, 15, 5, 12)), (u'id', 155290)])]"
       ]
      },
      {
       "output_type": "stream",
       "stream": "stdout",
       "text": [
        "\n",
        "(6327) 94440,[OrderedDict([(u'title', u'Raw feed of West Texas social content'), (u'start', datetime.datetime(2013, 4, 18, 14, 42, 9)), (u'id', 94440)])]"
       ]
      },
      {
       "output_type": "stream",
       "stream": "stdout",
       "text": [
        "\n",
        "(6327) 102712,[OrderedDict([(u'title', u'Test'), (u'start', datetime.datetime(2013, 5, 10, 18, 3)), (u'id', 102712)])]"
       ]
      },
      {
       "output_type": "stream",
       "stream": "stdout",
       "text": [
        "\n",
        "(6326) 94421,[OrderedDict([(u'title', u'Boston Marathon Bombing Interfaith Service'), (u'start', datetime.datetime(2013, 4, 18, 14, 0)), (u'id', 94421)])]"
       ]
      },
      {
       "output_type": "stream",
       "stream": "stdout",
       "text": [
        "\n",
        "(6325) 94402,[OrderedDict([(u'title', u'Presskonferens Ullevi'), (u'start', datetime.datetime(2013, 4, 18, 13, 45)), (u'id', 94402)])]"
       ]
      },
      {
       "output_type": "stream",
       "stream": "stdout",
       "text": [
        "\n",
        "(6324) 94392,[OrderedDict([(u'title', u'Social TV Tatort K\\xf6ln'), (u'start', datetime.datetime(2013, 4, 21, 19, 26, 18)), (u'id', 94392)])]"
       ]
      },
      {
       "output_type": "stream",
       "stream": "stdout",
       "text": [
        "\n",
        "(6324) 94389,[OrderedDict([(u'title', u'Stephanie Miller Live Chat - 4/18'), (u'start', datetime.datetime(2013, 4, 18, 14, 45)), (u'id', 94389)])]"
       ]
      },
      {
       "output_type": "stream",
       "stream": "stdout",
       "text": [
        "\n",
        "(6324) 98483,[OrderedDict([(u'title', u'Shell Images'), (u'start', datetime.datetime(2013, 5, 3, 12, 30)), (u'id', 98483)])]"
       ]
      },
      {
       "output_type": "stream",
       "stream": "stdout",
       "text": [
        "\n",
        "(6323) 94380,[OrderedDict([(u'title', u'Quirinale'), (u'start', datetime.datetime(2013, 4, 18, 0, 0)), (u'id', 94380)])]"
       ]
      },
      {
       "output_type": "stream",
       "stream": "stdout",
       "text": [
        "\n",
        "(6322) 94362,[OrderedDict([(u'title', u'Liveblog, Texas'), (u'start', datetime.datetime(2013, 4, 18, 6, 41, 22)), (u'id', 94362)])]"
       ]
      },
      {
       "output_type": "stream",
       "stream": "stdout",
       "text": [
        "\n",
        "(6322) 94360,[OrderedDict([(u'title', u'York Revolution 2013 opening night'), (u'start', datetime.datetime(2013, 4, 18, 22, 17, 34)), (u'id', 94360)])]"
       ]
      },
      {
       "output_type": "stream",
       "stream": "stdout",
       "text": [
        "\n",
        "(6321) 94354,[OrderedDict([(u'title', u'Live Blog, Chat: Ottawa Senators vs Washington Capitals'), (u'start', datetime.datetime(2013, 4, 19, 1, 0)), (u'id', 94354)])]"
       ]
      },
      {
       "output_type": "stream",
       "stream": "stdout",
       "text": [
        "\n",
        "(6321) 94328,[OrderedDict([(u'title', u'Miami vs. Eastern Kentucky baseball'), (u'start', datetime.datetime(2013, 4, 24, 18, 51, 47)), (u'id', 94328)])]"
       ]
      },
      {
       "output_type": "stream",
       "stream": "stdout",
       "text": [
        "\n",
        "(6321) 94308,[OrderedDict([(u'title', u'Buzzing the Net CHL Playoff chat: Thurs., April 18, at noon ET'), (u'start', datetime.datetime(2013, 4, 18, 18, 0)), (u'id', 94308)])]"
       ]
      },
      {
       "output_type": "stream",
       "stream": "stdout",
       "text": [
        "\n",
        "(6323) 94301,[OrderedDict([(u'title', u'Maple Leafs vs. Islanders, April 18'), (u'start', datetime.datetime(2013, 4, 19, 0, 45)), (u'id', 94301)])]"
       ]
      },
      {
       "output_type": "stream",
       "stream": "stdout",
       "text": [
        "\n",
        "(6324) 94292,[OrderedDict([(u'title', u'WRAMA'), (u'start', datetime.datetime(2013, 4, 17, 20, 15)), (u'id', 94292)])]"
       ]
      },
      {
       "output_type": "stream",
       "stream": "stdout",
       "text": [
        "\n",
        "(6323) 94274,[OrderedDict([(u'title', u'Test Event'), (u'start', datetime.datetime(2013, 4, 17, 18, 40, 39)), (u'id', 94274)])]"
       ]
      },
      {
       "output_type": "stream",
       "stream": "stdout",
       "text": [
        "\n",
        "(6322) 94273,[OrderedDict([(u'title', u'\\u03a0\\u0391\\u039f\\u039a - \\u0391\\u03c3\\u03c4\\u03ad\\u03c1\\u03b1\\u03c2 \\u03a4\\u03c1\\u03af\\u03c0\\u03bf\\u03bb\\u03b7\\u03c2 LIVE'), (u'start', datetime.datetime(2013, 4, 17, 18, 31, 21)), (u'id', 94273)])]"
       ]
      },
      {
       "output_type": "stream",
       "stream": "stdout",
       "text": [
        "\n",
        "(6323) 94220,[OrderedDict([(u'title', u'\\u038c\\u03c3\\u03b1 \\u03b4\\u03b5\\u03bd \\u03b5\\u03af\\u03b4\\u03b1\\u03c4\\u03b5'), (u'start', datetime.datetime(2013, 4, 17, 18, 57, 22)), (u'id', 94220)])]"
       ]
      },
      {
       "output_type": "stream",
       "stream": "stdout",
       "text": [
        "\n",
        "(6322) 113170,[OrderedDict([(u'title', u'Roland Garros: Djokovic - Goffin'), (u'start', datetime.datetime(2013, 5, 28, 14, 11, 39)), (u'id', 113170)])]"
       ]
      },
      {
       "output_type": "stream",
       "stream": "stdout",
       "text": [
        "\n",
        "(6323) 94217,[OrderedDict([(u'title', u'Baroness Thatcher timeline'), (u'start', datetime.datetime(2013, 5, 13, 15, 19, 51)), (u'id', 94217)])]"
       ]
      },
      {
       "output_type": "stream",
       "stream": "stdout",
       "text": [
        "\n",
        "(6323) 94213,[OrderedDict([(u'title', u'Game 43: Canadiens at Penguins'), (u'start', datetime.datetime(2013, 4, 18, 0, 26, 49)), (u'id', 94213)])]"
       ]
      },
      {
       "output_type": "stream",
       "stream": "stdout",
       "text": [
        "\n",
        "(6323) 94206,[OrderedDict([(u'title', u'LIVE: Ottawa Transit Commission: April 17'), (u'start', datetime.datetime(2013, 4, 17, 15, 0)), (u'id', 94206)])]"
       ]
      },
      {
       "output_type": "stream",
       "stream": "stdout",
       "text": [
        "\n",
        "(6322) 94181,[OrderedDict([(u'title', u'The Norwich City Debate - Wednesday, 17 April'), (u'start', datetime.datetime(2013, 4, 17, 14, 0)), (u'id', 94181)])]"
       ]
      },
      {
       "output_type": "stream",
       "stream": "stdout",
       "text": [
        "\n",
        "(6322) 94175,[OrderedDict([(u'title', u'WSU live chat, 4/17'), (u'start', datetime.datetime(2013, 4, 17, 23, 30)), (u'id', 94175)])]"
       ]
      },
      {
       "output_type": "stream",
       "stream": "stdout",
       "text": [
        "\n",
        "(6322) 94166,[OrderedDict([(u'title', u\"Blakey's Bootroom: Live Cardiff City promotion celebration show\"), (u'start', datetime.datetime(2013, 4, 17, 10, 51, 52)), (u'id', 94166)])]"
       ]
      },
      {
       "output_type": "stream",
       "stream": "stdout",
       "text": [
        "\n",
        "(6323) 97229,[OrderedDict([(u'title', u'Stephanie Miller Live Chat - 5/02'), (u'start', datetime.datetime(2013, 5, 2, 14, 45)), (u'id', 97229)])]"
       ]
      },
      {
       "output_type": "stream",
       "stream": "stdout",
       "text": [
        "\n",
        "(6322) 110838,[OrderedDict([(u'title', u'Woolwich Terror Attack'), (u'start', datetime.datetime(2013, 5, 24, 11, 45, 47)), (u'id', 110838)])]"
       ]
      },
      {
       "output_type": "stream",
       "stream": "stdout",
       "text": [
        "\n",
        "(6323) 94149,[OrderedDict([(u'title', u'Margaret Thatchers begravelse'), (u'start', datetime.datetime(2013, 4, 17, 9, 41, 35)), (u'id', 94149)])]"
       ]
      },
      {
       "output_type": "stream",
       "stream": "stdout",
       "text": [
        "\n",
        "(6324) 94144,[OrderedDict([(u'title', u'Skattesagskommissionen dag 23'), (u'start', datetime.datetime(2013, 4, 17, 8, 55, 23)), (u'id', 94144)])]"
       ]
      },
      {
       "output_type": "stream",
       "stream": "stdout",
       "text": [
        "\n",
        "(6324) 95733,[OrderedDict([(u'title', u'Baseball: Pequea Valley at Lancaster Catholic'), (u'start', datetime.datetime(2013, 4, 25, 21, 30, 17)), (u'id', 95733)])]"
       ]
      },
      {
       "output_type": "stream",
       "stream": "stdout",
       "text": [
        "\n",
        "(6323) 94138,[OrderedDict([(u'title', u\"Margaret Thatcher's funeral\"), (u'start', datetime.datetime(2013, 4, 17, 9, 30)), (u'id', 94138)])]"
       ]
      },
      {
       "output_type": "stream",
       "stream": "stdout",
       "text": [
        "\n",
        "(6322) 94126,[OrderedDict([(u'title', u'\\u041a\\u0438\\u0440\\u043e\\u0432\\u043b\\u0435\\u0441. LIVE'), (u'start', datetime.datetime(2013, 5, 6, 12, 13)), (u'id', 94126)])]"
       ]
      },
      {
       "output_type": "stream",
       "stream": "stdout",
       "text": [
        "\n",
        "(6323) 94124,[OrderedDict([(u'title', u'The 13th Malaysian General Elections'), (u'start', datetime.datetime(2013, 5, 8, 13, 0)), (u'id', 94124)])]"
       ]
      },
      {
       "output_type": "stream",
       "stream": "stdout",
       "text": [
        "\n",
        "(6322) 94061,[OrderedDict([(u'title', u'Arsenal vs Everton LIVE!'), (u'start', datetime.datetime(2013, 4, 16, 20, 15)), (u'id', 94061)])]"
       ]
      },
      {
       "output_type": "stream",
       "stream": "stdout",
       "text": [
        "\n",
        "(6323) 94034,[OrderedDict([(u'title', u'PR'), (u'start', datetime.datetime(2013, 4, 16, 17, 17)), (u'id', 94034)])]"
       ]
      },
      {
       "output_type": "stream",
       "stream": "stdout",
       "text": [
        "\n",
        "(6322) 94003,[OrderedDict([(u'title', u'GLASSHEART TOUR: LIVE FROM ROYAL ALBERT HALL'), (u'start', datetime.datetime(2013, 5, 9, 9, 56, 13)), (u'id', 94003)])]"
       ]
      },
      {
       "output_type": "stream",
       "stream": "stdout",
       "text": [
        "\n",
        "(6322) 93994,[OrderedDict([(u'title', u'asdf'), (u'start', datetime.datetime(2013, 4, 22, 7, 15)), (u'id', 93994)])]"
       ]
      },
      {
       "output_type": "stream",
       "stream": "stdout",
       "text": [
        "\n",
        "(6322) 93990,[OrderedDict([(u'title', u'Ottawa group releases 2012 report on homelessness'), (u'start', datetime.datetime(2013, 4, 16, 15, 30)), (u'id', 93990)])]"
       ]
      },
      {
       "output_type": "stream",
       "stream": "stdout",
       "text": [
        "\n",
        "(6320) 112275,[OrderedDict([(u'title', u'Calciomercato, le trattative del 26 maggio 2013'), (u'start', datetime.datetime(2013, 5, 26, 10, 30)), (u'id', 112275)])]"
       ]
      },
      {
       "output_type": "stream",
       "stream": "stdout",
       "text": [
        "\n",
        "(6320) 93975,[OrderedDict([(u'title', u'Debat over het Sociaal Akkoord'), (u'start', datetime.datetime(2013, 4, 17, 9, 45)), (u'id', 93975)])]"
       ]
      },
      {
       "output_type": "stream",
       "stream": "stdout",
       "text": [
        "\n",
        "(6320) 93965,[OrderedDict([(u'title', u'Margaret Thatcher funeral live blog'), (u'start', datetime.datetime(2013, 4, 16, 12, 41, 16)), (u'id', 93965)])]"
       ]
      },
      {
       "output_type": "stream",
       "stream": "stdout",
       "text": [
        "\n",
        "(6321) 164857,[OrderedDict([(u'title', u'Ty Segall Live Listening Party'), (u'start', datetime.datetime(2013, 8, 12, 18, 19, 33)), (u'id', 164857)])]"
       ]
      },
      {
       "output_type": "stream",
       "stream": "stdout",
       "text": [
        "\n",
        "(6320) 115046,[OrderedDict([(u'title', u'Dinner at Freycinet'), (u'start', datetime.datetime(2013, 6, 1, 8, 42, 37)), (u'id', 115046)])]"
       ]
      },
      {
       "output_type": "stream",
       "stream": "stdout",
       "text": [
        "\n",
        "(6319) 93943,[OrderedDict([(u'title', u'Test'), (u'start', datetime.datetime(2013, 4, 16, 9, 15, 46)), (u'id', 93943)])]"
       ]
      },
      {
       "output_type": "stream",
       "stream": "stdout",
       "text": [
        "\n",
        "(6318) 93913,[OrderedDict([(u'title', u'Boston.com Live Blog - \"Bombings at the Boston Marathon\"'), (u'start', datetime.datetime(2013, 4, 16, 16, 0)), (u'id', 93913)])]"
       ]
      },
      {
       "output_type": "stream",
       "stream": "stdout",
       "text": [
        "\n",
        "(6318) 93909,[OrderedDict([(u'title', u'Bombeeksplosioner i Boston'), (u'start', datetime.datetime(2013, 4, 16, 3, 58, 40)), (u'id', 93909)])]"
       ]
      },
      {
       "output_type": "stream",
       "stream": "stdout",
       "text": [
        "\n",
        "(6320) 93908,[OrderedDict([(u'title', u'City Council - Live Coverage'), (u'start', datetime.datetime(2013, 4, 16, 0, 15)), (u'id', 93908)])]"
       ]
      },
      {
       "output_type": "stream",
       "stream": "stdout",
       "text": [
        "\n",
        "(6321) 127875,[OrderedDict([(u'title', u'Enbridge Line 9 Protest'), (u'start', datetime.datetime(2013, 6, 20, 12, 30)), (u'id', 127875)])]"
       ]
      },
      {
       "output_type": "stream",
       "stream": "stdout",
       "text": [
        "\n",
        "(6320) 154530,[OrderedDict([(u'title', u\"Live updates on President Barack Obama's visit to Warrensburg\"), (u'start', datetime.datetime(2013, 7, 23, 17, 41, 57)), (u'id', 154530)])]"
       ]
      },
      {
       "output_type": "stream",
       "stream": "stdout",
       "text": [
        "\n",
        "(6319) 119829,[OrderedDict([(u'title', u'E3 2013: Sony conference live blog'), (u'start', datetime.datetime(2013, 6, 11, 2, 45)), (u'id', 119829)])]"
       ]
      },
      {
       "output_type": "stream",
       "stream": "stdout",
       "text": [
        "\n",
        "(6322) 109523,[OrderedDict([(u'title', u'test event #1'), (u'start', datetime.datetime(2013, 5, 22, 5, 12, 47)), (u'id', 109523)])]"
       ]
      },
      {
       "output_type": "stream",
       "stream": "stdout",
       "text": [
        "\n",
        "(6321) 173279,[OrderedDict([(u'title', u'Replay: Little League World Series: Twitter updates'), (u'start', datetime.datetime(2013, 8, 16, 19, 45)), (u'id', 173279)])]"
       ]
      },
      {
       "output_type": "stream",
       "stream": "stdout",
       "text": [
        "\n",
        "(6320) 93906,[OrderedDict([(u'title', u\"BT LIVE: F\\xf8lg Boston.com's d\\xe6kning her\"), (u'start', datetime.datetime(2013, 4, 15, 23, 45)), (u'id', 93906)])]"
       ]
      },
      {
       "output_type": "stream",
       "stream": "stdout",
       "text": [
        "\n",
        "(6319) 93898,[OrderedDict([(u'title', u'Live chat with Green MP Kevin Hague'), (u'start', datetime.datetime(2013, 4, 19, 19, 45)), (u'id', 93898)])]"
       ]
      },
      {
       "output_type": "stream",
       "stream": "stdout",
       "text": [
        "\n",
        "(6320) 93868,[OrderedDict([(u'title', u'scribblecss'), (u'start', datetime.datetime(2013, 4, 15, 22, 12, 56)), (u'id', 93868)])]"
       ]
      },
      {
       "output_type": "stream",
       "stream": "stdout",
       "text": [
        "\n",
        "(6319) 129217,[OrderedDict([(u'title', u'Lethbridge/Med hat Flood Updates'), (u'start', datetime.datetime(2013, 6, 24, 22, 29, 14)), (u'id', 129217)])]"
       ]
      },
      {
       "output_type": "stream",
       "stream": "stdout",
       "text": [
        "\n",
        "(6320) 93854,[OrderedDict([(u'title', u'Gala Artis Test'), (u'start', datetime.datetime(2013, 4, 25, 18, 0, 23)), (u'id', 93854)])]"
       ]
      },
      {
       "output_type": "stream",
       "stream": "stdout",
       "text": [
        "\n",
        "(6319) 93853,[OrderedDict([(u'title', u'Live blog: Explosion in Copley Square'), (u'start', datetime.datetime(2013, 4, 15, 21, 46, 16)), (u'id', 93853)])]"
       ]
      },
      {
       "output_type": "stream",
       "stream": "stdout",
       "text": [
        "\n",
        "(6319) 93841,[OrderedDict([(u'title', u\"Boston Marathon Social Coverage from Boston.com and NPR's Andy Carvin\"), (u'start', datetime.datetime(2013, 4, 15, 21, 30)), (u'id', 93841)])]"
       ]
      },
      {
       "output_type": "stream",
       "stream": "stdout",
       "text": [
        "\n",
        "(6320) 93838,[OrderedDict([(u'title', u'boston'), (u'start', datetime.datetime(2013, 4, 18, 17, 30)), (u'id', 93838)])]"
       ]
      },
      {
       "output_type": "stream",
       "stream": "stdout",
       "text": [
        "\n",
        "(6319) 93821,[OrderedDict([(u'title', u'Live blog - Boston Marathon suspect manhunt'), (u'start', datetime.datetime(2013, 4, 15, 21, 15)), (u'id', 93821)])]"
       ]
      },
      {
       "output_type": "stream",
       "stream": "stdout",
       "text": [
        "\n",
        "(6319) 93798,[OrderedDict([(u'title', u'SVP & Russillo Live Chat'), (u'start', datetime.datetime(2013, 4, 15, 20, 20, 47)), (u'id', 93798)])]"
       ]
      },
      {
       "output_type": "stream",
       "stream": "stdout",
       "text": [
        "\n",
        "(6320) 93792,[OrderedDict([(u'title', u'Tuesday, April 16 - Live news updates'), (u'start', datetime.datetime(2013, 4, 15, 20, 12, 13)), (u'id', 93792)])]"
       ]
      },
      {
       "output_type": "stream",
       "stream": "stdout",
       "text": [
        "\n",
        "(6320) 93783,[OrderedDict([(u'title', u'QP document dump: April 15'), (u'start', datetime.datetime(2013, 4, 16, 20, 16, 39)), (u'id', 93783)])]"
       ]
      },
      {
       "output_type": "stream",
       "stream": "stdout",
       "text": [
        "\n",
        "(6319) 93781,[OrderedDict([(u'title', u'Timmins City Council, Live Blog - April 15, 2013'), (u'start', datetime.datetime(2013, 4, 16, 0, 5, 48)), (u'id', 93781)])]"
       ]
      },
      {
       "output_type": "stream",
       "stream": "stdout",
       "text": [
        "\n",
        "(6320) 93770,[OrderedDict([(u'title', u'Tambellini fired'), (u'start', datetime.datetime(2013, 4, 15, 18, 7, 48)), (u'id', 93770)])]"
       ]
      },
      {
       "output_type": "stream",
       "stream": "stdout",
       "text": [
        "\n",
        "(6320) 158796,[OrderedDict([(u'title', u'Test'), (u'start', datetime.datetime(2013, 5, 1, 6, 0)), (u'id', 158796)])]"
       ]
      },
      {
       "output_type": "stream",
       "stream": "stdout",
       "text": [
        "\n",
        "(6318) 149509,[OrderedDict([(u'title', u'Sunshine at the SUB'), (u'start', datetime.datetime(2013, 7, 18, 18, 0, 20)), (u'id', 149509)])]"
       ]
      },
      {
       "output_type": "stream",
       "stream": "stdout",
       "text": [
        "\n",
        "(6319) 93747,[OrderedDict([(u'title', u'Bettina, vargar och mosk\\xe9er'), (u'start', datetime.datetime(2013, 4, 15, 20, 0)), (u'id', 93747)])]"
       ]
      },
      {
       "output_type": "stream",
       "stream": "stdout",
       "text": [
        "\n",
        "(6320) 142113,[OrderedDict([(u'title', u'Cash Advance Lenders: Payday Loans or Online Payday Loans?'), (u'start', datetime.datetime(2013, 7, 8, 9, 48, 23)), (u'id', 142113)])]"
       ]
      },
      {
       "output_type": "stream",
       "stream": "stdout",
       "text": [
        "\n",
        "(6320) 93740,[OrderedDict([(u'title', u'Black Money fraud presser'), (u'start', datetime.datetime(2013, 4, 15, 16, 24, 13)), (u'id', 93740)])]"
       ]
      },
      {
       "output_type": "stream",
       "stream": "stdout",
       "text": [
        "\n",
        "(6321) 93724,[OrderedDict([(u'title', u'Gidseldrama ved Politig\\xe5rden'), (u'start', datetime.datetime(2013, 4, 15, 19, 54, 14)), (u'id', 93724)])]"
       ]
      },
      {
       "output_type": "stream",
       "stream": "stdout",
       "text": [
        "\n",
        "(6321) 93719,[OrderedDict([(u'title', u'Leona Lewis GLASSHEART LIVE TOUR: FRANKFURT'), (u'start', datetime.datetime(2013, 4, 16, 14, 30)), (u'id', 93719)])]"
       ]
      },
      {
       "output_type": "stream",
       "stream": "stdout",
       "text": [
        "\n",
        "(6321) 93714,[OrderedDict([(u'title', u'D-LSC-NL-20130326-Azerbeidzjan - Portugal (Speeldag 6)'), (u'start', datetime.datetime(2013, 3, 26, 6, 0)), (u'id', 93714)])]"
       ]
      },
      {
       "output_type": "stream",
       "stream": "stdout",
       "text": [
        "\n",
        "(6320) 93713,[OrderedDict([(u'title', u'Toronto Casino Debate'), (u'start', datetime.datetime(2013, 4, 15, 14, 22, 2)), (u'id', 93713)])]"
       ]
      },
      {
       "output_type": "stream",
       "stream": "stdout",
       "text": [
        "\n",
        "(6319) 93710,[OrderedDict([(u'title', u'Dancing With the Stars: Live chat'), (u'start', datetime.datetime(2013, 4, 16, 1, 45)), (u'id', 93710)])]"
       ]
      },
      {
       "output_type": "stream",
       "stream": "stdout",
       "text": [
        "\n",
        "(6318) 93699,[OrderedDict([(u'title', u'OLYMPIACOS.ORG: \\u039f\\u039b\\u03a5\\u039c\\u03a0\\u0399\\u0391\\u039a\\u039f\\u03a3 - \\u03a0\\u0391\\u039d\\u0399\\u03a9\\u039d\\u0399\\u039f\\u03a3'), (u'start', datetime.datetime(2013, 4, 21, 17, 31, 37)), (u'id', 93699)])]"
       ]
      },
      {
       "output_type": "stream",
       "stream": "stdout",
       "text": [
        "\n",
        "(6320) 93698,[OrderedDict([(u'title', u'OLYMPIACOS.ORG: \\u039f\\u039b\\u03a5\\u039c\\u03a0\\u0399\\u0391\\u039a\\u039f\\u03a3 - \\u03a0\\u0391\\u039d\\u0398\\u03a1\\u0391\\u039a\\u0399\\u039a\\u039f\\u03a3'), (u'start', datetime.datetime(2013, 4, 18, 18, 34, 51)), (u'id', 93698)])]"
       ]
      },
      {
       "output_type": "stream",
       "stream": "stdout",
       "text": [
        "\n",
        "(6320) 93697,[OrderedDict([(u'title', u'Wolves v Hull - LIVE match updates'), (u'start', datetime.datetime(2013, 4, 16, 19, 45)), (u'id', 93697)])]"
       ]
      },
      {
       "output_type": "stream",
       "stream": "stdout",
       "text": [
        "\n",
        "(6319) 172765,[OrderedDict([(u'title', u'Runde 5 FC Vestsj\\xe6l- OB'), (u'start', datetime.datetime(2013, 8, 16, 12, 39, 15)), (u'id', 172765)])]"
       ]
      },
      {
       "output_type": "stream",
       "stream": "stdout",
       "text": [
        "\n",
        "(6320) 93695,[OrderedDict([(u'title', u'Bieber i Oslo'), (u'start', datetime.datetime(2013, 4, 17, 0, 3, 33)), (u'id', 93695)])]"
       ]
      },
      {
       "output_type": "stream",
       "stream": "stdout",
       "text": [
        "\n",
        "(6320) 139464,[OrderedDict([(u'title', u'Nicolas Anelka chat'), (u'start', datetime.datetime(2013, 7, 5, 14, 59, 25)), (u'id', 139464)])]"
       ]
      },
      {
       "output_type": "stream",
       "stream": "stdout",
       "text": [
        "\n",
        "(6319) 98760,[OrderedDict([(u'title', u'$8.6-million fraud presser'), (u'start', datetime.datetime(2013, 5, 3, 16, 45, 47)), (u'id', 98760)])]"
       ]
      },
      {
       "output_type": "stream",
       "stream": "stdout",
       "text": [
        "\n",
        "(6318) 93692,[OrderedDict([(u'title', u'D-LSC-NL-20130330-Everton - Stoke City (Speeldag 31)'), (u'start', datetime.datetime(2013, 3, 30, 6, 30)), (u'id', 93692)])]"
       ]
      },
      {
       "output_type": "stream",
       "stream": "stdout",
       "text": [
        "\n",
        "(6319) 93686,[OrderedDict([(u'title', u'OLYMPIACOS24.GR: \\u0391\\u039d\\u0391\\u039d\\u03a4\\u039f\\u039b\\u039f\\u03a5 \\u0395\\u03a6\\u0395\\u03a3 \\u2013 \\u039f\\u039b\\u03a5\\u039c\\u03a0\\u0399\\u0391\\u039a\\u039f\\u03a3'), (u'start', datetime.datetime(2013, 4, 19, 19, 0)), (u'id', 93686)])]"
       ]
      },
      {
       "output_type": "stream",
       "stream": "stdout",
       "text": [
        "\n",
        "(6319) 93683,[OrderedDict([(u'title', u'OLYMPIACOS24.GR: \\u0391\\u039d\\u0391\\u039d\\u03a4\\u039f\\u039b\\u039f\\u03a5 \\u0395\\u03a6\\u0395\\u03a3 \\u2013 \\u039f\\u039b\\u03a5\\u039c\\u03a0\\u0399\\u0391\\u039a\\u039f\\u03a3'), (u'start', datetime.datetime(2013, 4, 17, 18, 40, 33)), (u'id', 93683)])]"
       ]
      },
      {
       "output_type": "stream",
       "stream": "stdout",
       "text": [
        "\n",
        "(6318) 93677,[OrderedDict([(u'title', u'WOOP.GR: \\u0391\\u03a4\\u03a1\\u039f\\u039c\\u0397\\u03a4\\u039f\\u03a3 - \\u0391\\u0395\\u039a'), (u'start', datetime.datetime(2013, 4, 21, 17, 40, 53)), (u'id', 93677)])]"
       ]
      },
      {
       "output_type": "stream",
       "stream": "stdout",
       "text": [
        "\n",
        "(6319) 93673,[OrderedDict([(u'title', u'WOOP.GR: \\u039f\\u039b\\u03a5\\u039c\\u03a0\\u0399\\u0391\\u039a\\u039f\\u03a3 - \\u03a0\\u0391\\u039d\\u0398\\u03a1\\u0391\\u039a\\u0399\\u039a\\u039f\\u03a3'), (u'start', datetime.datetime(2013, 4, 18, 18, 32, 38)), (u'id', 93673)])]"
       ]
      },
      {
       "output_type": "stream",
       "stream": "stdout",
       "text": [
        "\n",
        "(6318) 93665,[OrderedDict([(u'title', u'Live chat: Scott Base'), (u'start', datetime.datetime(2013, 5, 6, 22, 30)), (u'id', 93665)])]"
       ]
      },
      {
       "output_type": "stream",
       "stream": "stdout",
       "text": [
        "\n",
        "(6318) 93651,[OrderedDict([(u'title', u'Sofia Filipo- You be the judge'), (u'start', datetime.datetime(2013, 4, 18, 21, 41, 43)), (u'id', 93651)])]"
       ]
      },
      {
       "output_type": "stream",
       "stream": "stdout",
       "text": [
        "\n",
        "(6319) 93641,[OrderedDict([(u'title', u'\\xc4ss\\xe4t - Tappara 20.4.'), (u'start', datetime.datetime(2013, 4, 20, 12, 3, 3)), (u'id', 93641)])]"
       ]
      },
      {
       "output_type": "stream",
       "stream": "stdout",
       "text": [
        "\n",
        "(6318) 101366,[OrderedDict([(u'title', u'Advanced post editor testing'), (u'start', datetime.datetime(2013, 5, 13, 16, 4, 27)), (u'id', 101366)])]"
       ]
      },
      {
       "output_type": "stream",
       "stream": "stdout",
       "text": [
        "\n",
        "(6319) 93637,[OrderedDict([(u'title', u'Tappara- \\xc4ss\\xe4t 15.4.'), (u'start', datetime.datetime(2013, 4, 15, 15, 7, 28)), (u'id', 93637)])]"
       ]
      },
      {
       "output_type": "stream",
       "stream": "stdout",
       "text": [
        "\n",
        "(6323) 179992,[OrderedDict([(u'title', u'Toronto Public Health CNE Presser'), (u'start', datetime.datetime(2013, 8, 23, 21, 52, 28)), (u'id', 179992)])]"
       ]
      },
      {
       "output_type": "stream",
       "stream": "stdout",
       "text": [
        "\n",
        "(6322) 109606,[OrderedDict([(u'title', u'Stephanie Miller Live Chat - 5/22'), (u'start', datetime.datetime(2013, 5, 22, 14, 45)), (u'id', 109606)])]"
       ]
      },
      {
       "output_type": "stream",
       "stream": "stdout",
       "text": [
        "\n",
        "(6321) 93626,[OrderedDict([(u'title', u'Masters Live Blog - Sunday'), (u'start', datetime.datetime(2013, 4, 14, 18, 13, 21)), (u'id', 93626)])]"
       ]
      },
      {
       "output_type": "stream",
       "stream": "stdout",
       "text": [
        "\n",
        "(6321) 131231,[OrderedDict([(u'title', u'Stephanie Miller Live Chat - 6/25'), (u'start', datetime.datetime(2013, 6, 25, 14, 45)), (u'id', 131231)])]"
       ]
      },
      {
       "output_type": "stream",
       "stream": "stdout",
       "text": [
        "\n",
        "(6321) 93612,[OrderedDict([(u'title', u'LIVE Football League \\u03ba\\u03b1\\u03b9 Football League 2'), (u'start', datetime.datetime(2013, 4, 14, 14, 25, 10)), (u'id', 93612)])]"
       ]
      },
      {
       "output_type": "stream",
       "stream": "stdout",
       "text": [
        "\n",
        "(6321) 102491,[OrderedDict([(u'title', u'PA Twitter Feed'), (u'start', datetime.datetime(2013, 5, 10, 12, 51, 43)), (u'id', 102491)])]"
       ]
      },
      {
       "output_type": "stream",
       "stream": "stdout",
       "text": [
        "\n",
        "(6324) 93581,[OrderedDict([(u'title', u'\\u03a0\\u0391\\u039d\\u0391\\u0399\\u03a4\\u03a9\\u039b\\u0399\\u039a\\u039f\\u03a3-\\u03a0\\u0391\\u039d\\u0391\\u03a7\\u0391\\u03aa\\u039a\\u0397'), (u'start', datetime.datetime(2013, 4, 14, 13, 18, 32)), (u'id', 93581)])]"
       ]
      },
      {
       "output_type": "stream",
       "stream": "stdout",
       "text": [
        "\n",
        "(6325) 148742,[OrderedDict([(u'title', u'P-LSC-FR-20130716-LC-Cliftonville - Celtic (Journ\\xe9e 1)'), (u'start', datetime.datetime(2013, 7, 16, 0, 0)), (u'id', 148742)])]"
       ]
      },
      {
       "output_type": "stream",
       "stream": "stdout",
       "text": [
        "\n",
        "(6325) 93573,[OrderedDict([(u'title', u'Leafs vs. Canadiens, April 13'), (u'start', datetime.datetime(2013, 4, 14, 0, 28, 9)), (u'id', 93573)])]"
       ]
      },
      {
       "output_type": "stream",
       "stream": "stdout",
       "text": [
        "\n",
        "(6323) 104545,[OrderedDict([(u'title', u'CP coverage'), (u'start', datetime.datetime(2013, 5, 14, 14, 43, 46)), (u'id', 104545)])]"
       ]
      },
      {
       "output_type": "stream",
       "stream": "stdout",
       "text": [
        "\n",
        "(6322) 93543,[OrderedDict([(u'title', u'AFC South Twitter mailbag 04/13/13'), (u'start', datetime.datetime(2013, 4, 20, 5, 58, 32)), (u'id', 93543)])]"
       ]
      },
      {
       "output_type": "stream",
       "stream": "stdout",
       "text": [
        "\n",
        "(6322) 93538,[OrderedDict([(u'title', u'Live \\u039f\\u03bb\\u03c5\\u03bc\\u03c0\\u03b9\\u03b1\\u03ba\\u03cc\\u03c2 - AEK'), (u'start', datetime.datetime(2013, 4, 13, 14, 55, 50)), (u'id', 93538)])]"
       ]
      },
      {
       "output_type": "stream",
       "stream": "stdout",
       "text": [
        "\n",
        "(6323) 113506,[OrderedDict([(u'title', u'Test'), (u'start', datetime.datetime(2013, 5, 28, 23, 2, 40)), (u'id', 113506)])]"
       ]
      },
      {
       "output_type": "stream",
       "stream": "stdout",
       "text": [
        "\n",
        "(6323) 93536,[OrderedDict([(u'title', u'test photo two'), (u'start', datetime.datetime(2013, 4, 13, 14, 31, 45)), (u'id', 93536)])]"
       ]
      },
      {
       "output_type": "stream",
       "stream": "stdout",
       "text": [
        "\n",
        "(6326) 95234,[OrderedDict([(u'title', u'Tennis BMW Open'), (u'start', datetime.datetime(2013, 5, 5, 11, 14, 31)), (u'id', 95234)])]"
       ]
      },
      {
       "output_type": "stream",
       "stream": "stdout",
       "text": [
        "\n",
        "(6326) 93533,[OrderedDict([(u'title', u'Photo desk test'), (u'start', datetime.datetime(2013, 4, 13, 15, 41, 43)), (u'id', 93533)])]"
       ]
      },
      {
       "output_type": "stream",
       "stream": "stdout",
       "text": [
        "\n",
        "(6326) 93523,[OrderedDict([(u'title', u\"Halesowen Town v King's Lynn Town\"), (u'start', datetime.datetime(2013, 4, 13, 5, 15)), (u'id', 93523)])]"
       ]
      },
      {
       "output_type": "stream",
       "stream": "stdout",
       "text": [
        "\n",
        "(6326) 93514,[OrderedDict([(u'title', u'Super Kings v Royal Challengers, Chennai'), (u'start', datetime.datetime(2013, 4, 13, 15, 45)), (u'id', 93514)])]"
       ]
      },
      {
       "output_type": "stream",
       "stream": "stdout",
       "text": [
        "\n",
        "(6325) 93512,[OrderedDict([(u'title', u'GP Cina 2013 - Qualifiche'), (u'start', datetime.datetime(2013, 4, 13, 6, 20)), (u'id', 93512)])]"
       ]
      },
      {
       "output_type": "stream",
       "stream": "stdout",
       "text": [
        "\n",
        "(6324) 93496,[OrderedDict([(u'title', u'Lightning vs. Storm Game 4'), (u'start', datetime.datetime(2013, 4, 13, 0, 45)), (u'id', 93496)])]"
       ]
      },
      {
       "output_type": "stream",
       "stream": "stdout",
       "text": [
        "\n",
        "(6323) 93478,[OrderedDict([(u'title', u'Calgary Flames vs. Phoenix Coyotes April 12'), (u'start', datetime.datetime(2013, 4, 13, 3, 14, 31)), (u'id', 93478)])]"
       ]
      },
      {
       "output_type": "stream",
       "stream": "stdout",
       "text": [
        "\n",
        "(6322) 93437,[OrderedDict([(u'title', u'Lunchtime Kick-Off with Leigh Curtis, Monday, April 15'), (u'start', datetime.datetime(2013, 4, 13, 21, 45)), (u'id', 93437)])]"
       ]
      },
      {
       "output_type": "stream",
       "stream": "stdout",
       "text": [
        "\n",
        "(6321) 93429,[OrderedDict([(u'title', u'M\\xe1laga - Osasuna Usuarios'), (u'start', datetime.datetime(2013, 4, 13, 21, 0)), (u'id', 93429)])]"
       ]
      },
      {
       "output_type": "stream",
       "stream": "stdout",
       "text": [
        "\n",
        "(6320) 93424,[OrderedDict([(u'title', u'Ottawa Police Chief Charles Bordeleau hosts Twitter forum'), (u'start', datetime.datetime(2013, 4, 12, 19, 5, 9)), (u'id', 93424)])]"
       ]
      },
      {
       "output_type": "stream",
       "stream": "stdout",
       "text": [
        "\n",
        "(6319) 93387,[OrderedDict([(u'title', u\"Sheridan's Journalism Broadcast Awards\"), (u'start', datetime.datetime(2013, 4, 12, 15, 2, 11)), (u'id', 93387)])]"
       ]
      },
      {
       "output_type": "stream",
       "stream": "stdout",
       "text": [
        "\n",
        "(6318) 93381,[OrderedDict([(u'title', u'Ihr Vormittag, 19.04.2013'), (u'start', datetime.datetime(2013, 4, 19, 10, 30, 52)), (u'id', 93381)])]"
       ]
      },
      {
       "output_type": "stream",
       "stream": "stdout",
       "text": [
        "\n",
        "(6317) 93379,[OrderedDict([(u'title', u'Ihr Vormittag, 17.04.2013'), (u'start', datetime.datetime(2013, 4, 16, 12, 45, 54)), (u'id', 93379)])]"
       ]
      },
      {
       "output_type": "stream",
       "stream": "stdout",
       "text": [
        "\n",
        "(6318) 93377,[OrderedDict([(u'title', u'Ihr Vormittag, 15.04.2013'), (u'start', datetime.datetime(2013, 4, 15, 10, 0)), (u'id', 93377)])]"
       ]
      },
      {
       "output_type": "stream",
       "stream": "stdout",
       "text": [
        "\n",
        "(6317) 93345,[OrderedDict([(u'title', u'D2 : Brussels - Dessel'), (u'start', datetime.datetime(2013, 4, 13, 19, 46, 9)), (u'id', 93345)])]"
       ]
      },
      {
       "output_type": "stream",
       "stream": "stdout",
       "text": [
        "\n",
        "(6318) 93337,[OrderedDict([(u'title', u\"The Footballers' Football Show webchat - week 33\"), (u'start', datetime.datetime(2013, 4, 12, 12, 59, 37)), (u'id', 93337)])]"
       ]
      },
      {
       "output_type": "stream",
       "stream": "stdout",
       "text": [
        "\n",
        "(6317) 93336,[OrderedDict([(u'title', u'Saturday football action - LIVE match updates'), (u'start', datetime.datetime(2013, 4, 13, 15, 0)), (u'id', 93336)])]"
       ]
      },
      {
       "output_type": "stream",
       "stream": "stdout",
       "text": [
        "\n",
        "(6317) 93319,[OrderedDict([(u'title', u'Champions & Europa League: tirages au sort des 1/2 finales'), (u'start', datetime.datetime(2013, 4, 12, 9, 43, 28)), (u'id', 93319)])]"
       ]
      },
      {
       "output_type": "stream",
       "stream": "stdout",
       "text": [
        "\n",
        "(6319) 93276,[OrderedDict([(u'title', u'American Idol live chat: The results'), (u'start', datetime.datetime(2013, 4, 12, 1, 45)), (u'id', 93276)])]"
       ]
      },
      {
       "output_type": "stream",
       "stream": "stdout",
       "text": [
        "\n",
        "(6319) 128867,[OrderedDict([(u'title', u'Aktuelle Stunde Event 003'), (u'start', datetime.datetime(2013, 6, 21, 11, 31, 26)), (u'id', 128867)])]"
       ]
      },
      {
       "output_type": "stream",
       "stream": "stdout",
       "text": [
        "\n",
        "(6318) 93271,[OrderedDict([(u'title', u'Track: Wahconah at Hoosac Valley, April 11, 3:30 p.m.'), (u'start', datetime.datetime(2013, 4, 11, 21, 15)), (u'id', 93271)])]"
       ]
      },
      {
       "output_type": "stream",
       "stream": "stdout",
       "text": [
        "\n",
        "(6318) 93269,[OrderedDict([(u'title', u'\\u039a\\u03b9\\u03c4\\u03c1\\u03b9\\u03bd\\u03cc\\u03bc\\u03b1\\u03c5\\u03c1\\u03b5\\u03c2 \\u03b1\\u03bd\\u03b1\\u03bc\\u03bd\\u03ae\\u03c3\\u03b5\\u03b9\\u03c2'), (u'start', datetime.datetime(2013, 4, 11, 20, 24, 50)), (u'id', 93269)])]"
       ]
      },
      {
       "output_type": "stream",
       "stream": "stdout",
       "text": [
        "\n",
        "(6317) 93267,[OrderedDict([(u'title', u'Discussion: Mental health in B.C.: Progress and challenges'), (u'start', datetime.datetime(2013, 4, 12, 20, 55, 32)), (u'id', 93267)])]"
       ]
      },
      {
       "output_type": "stream",
       "stream": "stdout",
       "text": [
        "\n",
        "(6318) 93254,[OrderedDict([(u'title', u'stonestix'), (u'start', datetime.datetime(2013, 4, 11, 19, 21, 34)), (u'id', 93254)])]"
       ]
      },
      {
       "output_type": "stream",
       "stream": "stdout",
       "text": [
        "\n",
        "(6317) 93251,[OrderedDict([(u'title', u'Match 1'), (u'start', datetime.datetime(2013, 4, 24, 10, 15, 29)), (u'id', 93251)])]"
       ]
      },
      {
       "output_type": "stream",
       "stream": "stdout",
       "text": [
        "\n",
        "(6316) 93246,[OrderedDict([(u'title', u'ExpoMoney: Fa\\xe7a a coisa certa'), (u'start', datetime.datetime(2013, 4, 12, 21, 45)), (u'id', 93246)])]"
       ]
      },
      {
       "output_type": "stream",
       "stream": "stdout",
       "text": [
        "\n",
        "(6316) 93231,[OrderedDict([(u'title', u'Stephanie Miller Live Chat - 4/12'), (u'start', datetime.datetime(2013, 4, 12, 14, 45)), (u'id', 93231)])]"
       ]
      },
      {
       "output_type": "stream",
       "stream": "stdout",
       "text": [
        "\n",
        "(6317) 93222,[OrderedDict([(u'title', u'Fredag superliga Silkeborg - AGF'), (u'start', datetime.datetime(2013, 4, 11, 17, 42, 39)), (u'id', 93222)])]"
       ]
      },
      {
       "output_type": "stream",
       "stream": "stdout",
       "text": [
        "\n",
        "(6319) 116582,[OrderedDict([(u'title', u'Dialogue on Climate change \\u2013 in MILAN, ITALY, on JUNE 7 2013 at 11.00 a.m.'), (u'start', datetime.datetime(2013, 6, 4, 16, 23, 50)), (u'id', 116582)])]"
       ]
      },
      {
       "output_type": "stream",
       "stream": "stdout",
       "text": [
        "\n",
        "(6318) 93220,[OrderedDict([(u'title', u'Register Citizen Newsroom Meeting for April 11'), (u'start', datetime.datetime(2013, 4, 11, 22, 0)), (u'id', 93220)])]"
       ]
      },
      {
       "output_type": "stream",
       "stream": "stdout",
       "text": [
        "\n",
        "(6318) 93211,[OrderedDict([(u'title', u'LIVE: Ottawa Senators vs. Philadelphia Flyers'), (u'start', datetime.datetime(2013, 4, 12, 0, 45)), (u'id', 93211)])]"
       ]
      },
      {
       "output_type": "stream",
       "stream": "stdout",
       "text": [
        "\n",
        "(6318) 93206,[OrderedDict([(u'title', u'2013 Masters live blog'), (u'start', datetime.datetime(2013, 4, 11, 16, 46, 55)), (u'id', 93206)])]"
       ]
      },
      {
       "output_type": "stream",
       "stream": "stdout",
       "text": [
        "\n",
        "(6319) 93202,[OrderedDict([(u'title', u'Varsity Test'), (u'start', datetime.datetime(2013, 4, 11, 16, 41, 23)), (u'id', 93202)])]"
       ]
      },
      {
       "output_type": "stream",
       "stream": "stdout",
       "text": [
        "\n",
        "(6320) 147603,[OrderedDict([(u'title', u'master'), (u'start', datetime.datetime(2013, 7, 16, 18, 15)), (u'id', 147603)])]"
       ]
      },
      {
       "output_type": "stream",
       "stream": "stdout",
       "text": [
        "\n",
        "(6319) 93187,[OrderedDict([(u'title', u\"Pressekonferanse med Ryanair-sjef O'Leary\"), (u'start', datetime.datetime(2013, 4, 11, 15, 43, 4)), (u'id', 93187)])]"
       ]
      },
      {
       "output_type": "stream",
       "stream": "stdout",
       "text": [
        "\n",
        "(6320) 93185,[OrderedDict([(u'title', u'V\\xe5lerenga - Stavanger Oilers, 5 NM-finale'), (u'start', datetime.datetime(2013, 4, 11, 18, 43, 43)), (u'id', 93185)])]"
       ]
      },
      {
       "output_type": "stream",
       "stream": "stdout",
       "text": [
        "\n",
        "(6318) 104105,[OrderedDict([(u'title', u'City council \\u2013\\xa0May 13'), (u'start', datetime.datetime(2013, 5, 14, 1, 0)), (u'id', 104105)])]"
       ]
      },
      {
       "output_type": "stream",
       "stream": "stdout",
       "text": [
        "\n",
        "(6321) 93169,[OrderedDict([(u'title', u\"Britain's Got Talent Live\"), (u'start', datetime.datetime(2013, 5, 18, 20, 0)), (u'id', 93169)])]"
       ]
      },
      {
       "output_type": "stream",
       "stream": "stdout",
       "text": [
        "\n",
        "(6320) 93168,[OrderedDict([(u'title', u'Test'), (u'start', datetime.datetime(2013, 8, 22, 11, 46, 17)), (u'id', 93168)])]"
       ]
      },
      {
       "output_type": "stream",
       "stream": "stdout",
       "text": [
        "\n",
        "(6319) 93164,[OrderedDict([(u'title', u'Los candidatos al minuto'), (u'start', datetime.datetime(2013, 4, 11, 14, 36, 22)), (u'id', 93164)])]"
       ]
      },
      {
       "output_type": "stream",
       "stream": "stdout",
       "text": [
        "\n",
        "(6321) 93159,[OrderedDict([(u'title', u'WOOP.GR: \\u039a\\u039b\\u0397\\u03a1\\u03a9\\u03a3\\u0397 \\u0397\\u039c\\u0399\\u03a4\\u0395\\u039b\\u0399\\u039a\\u03a9\\u039d'), (u'start', datetime.datetime(2013, 4, 12, 11, 46, 11)), (u'id', 93159)])]"
       ]
      },
      {
       "output_type": "stream",
       "stream": "stdout",
       "text": [
        "\n",
        "(6321) 100623,[OrderedDict([(u'title', u'Tia Sharp trial (paid content)'), (u'start', datetime.datetime(2013, 5, 7, 13, 43, 45)), (u'id', 100623)])]"
       ]
      },
      {
       "output_type": "stream",
       "stream": "stdout",
       "text": [
        "\n",
        "(6321) 93153,[OrderedDict([(u'title', u'Demonstration i K\\xf8benhavn'), (u'start', datetime.datetime(2013, 4, 11, 13, 27, 35)), (u'id', 93153)])]"
       ]
      },
      {
       "output_type": "stream",
       "stream": "stdout",
       "text": [
        "\n",
        "(6321) 93145,[OrderedDict([(u'title', u'Wolves v Huddersfield Town webchat'), (u'start', datetime.datetime(2013, 4, 15, 13, 30)), (u'id', 93145)])]"
       ]
      },
      {
       "output_type": "stream",
       "stream": "stdout",
       "text": [
        "\n",
        "(6325) 93142,[OrderedDict([(u'title', u'test'), (u'start', datetime.datetime(2013, 4, 11, 11, 41, 26)), (u'id', 93142)])]"
       ]
      },
      {
       "output_type": "stream",
       "stream": "stdout",
       "text": [
        "\n",
        "(6326) 175454,[OrderedDict([(u'title', u'Sony Gamescom conference'), (u'start', datetime.datetime(2013, 8, 20, 18, 45)), (u'id', 175454)])]"
       ]
      },
      {
       "output_type": "stream",
       "stream": "stdout",
       "text": [
        "\n",
        "(6325) 96036,[OrderedDict([(u'title', u'Live Chat: Ottawa Senators vs. Boston Bruins'), (u'start', datetime.datetime(2013, 4, 29, 0, 43, 54)), (u'id', 96036)])]"
       ]
      },
      {
       "output_type": "stream",
       "stream": "stdout",
       "text": [
        "\n",
        "(6326) 93104,[OrderedDict([(u'title', u'Lightning-Storm Game 3'), (u'start', datetime.datetime(2013, 4, 11, 0, 30)), (u'id', 93104)])]"
       ]
      },
      {
       "output_type": "stream",
       "stream": "stdout",
       "text": [
        "\n",
        "(6325) 93095,[OrderedDict([(u'title', u'Citaciones Frande Guaynabo'), (u'start', datetime.datetime(2013, 4, 11, 12, 0)), (u'id', 93095)])]"
       ]
      },
      {
       "output_type": "stream",
       "stream": "stdout",
       "text": [
        "\n",
        "(6328) 93094,[OrderedDict([(u'title', u\"Live chat with Forest and Bird's Mike Britton\"), (u'start', datetime.datetime(2013, 4, 11, 0, 1)), (u'id', 93094)])]"
       ]
      },
      {
       "output_type": "stream",
       "stream": "stdout",
       "text": [
        "\n",
        "(6332) 147124,[OrderedDict([(u'title', u'Live chat: Dietitian Sarah Elliott'), (u'start', datetime.datetime(2013, 7, 15, 22, 59, 53)), (u'id', 147124)])]"
       ]
      },
      {
       "output_type": "stream",
       "stream": "stdout",
       "text": [
        "\n",
        "(6332) 175337,[OrderedDict([(u'title', u'Redder Live: \\u039a\\u03b1\\u03bb\\u03bb\\u03bf\\u03bd\\u03ae-\\u039f\\u03bb\\u03c5\\u03bc\\u03c0\\u03b9\\u03b1\\u03ba\\u03cc\\u03c2'), (u'start', datetime.datetime(2013, 8, 19, 19, 21, 15)), (u'id', 175337)])]"
       ]
      },
      {
       "output_type": "stream",
       "stream": "stdout",
       "text": [
        "\n",
        "(6335) 118490,[OrderedDict([(u'title', u'Marcel Cichon'), (u'start', datetime.datetime(2013, 6, 7, 18, 3, 21)), (u'id', 118490)])]"
       ]
      },
      {
       "output_type": "stream",
       "stream": "stdout",
       "text": [
        "\n",
        "(6335) 137808,[OrderedDict([(u'title', u'Test Event'), (u'start', datetime.datetime(2013, 7, 3, 20, 46, 48)), (u'id', 137808)])]"
       ]
      },
      {
       "output_type": "stream",
       "stream": "stdout",
       "text": [
        "\n",
        "(6335) 99086,[OrderedDict([(u'title', u'CBC Montreal Extended Twitter'), (u'start', datetime.datetime(2013, 5, 3, 22, 6, 32)), (u'id', 99086)])]"
       ]
      },
      {
       "output_type": "stream",
       "stream": "stdout",
       "text": [
        "\n",
        "(6337) 102825,[OrderedDict([(u'title', u'Knights-Colts Game 5'), (u'start', datetime.datetime(2013, 5, 11, 0, 0)), (u'id', 102825)])]"
       ]
      },
      {
       "output_type": "stream",
       "stream": "stdout",
       "text": [
        "\n",
        "(6336) 163988,[OrderedDict([(u'title', u'Offspring - Live blog'), (u'start', datetime.datetime(2013, 8, 22, 3, 48, 43)), (u'id', 163988)])]"
       ]
      },
      {
       "output_type": "stream",
       "stream": "stdout",
       "text": [
        "\n",
        "(6338) 143559,[OrderedDict([(u'title', u'Sverige-Danmark'), (u'start', datetime.datetime(2013, 7, 10, 18, 30)), (u'id', 143559)])]"
       ]
      },
      {
       "output_type": "stream",
       "stream": "stdout",
       "text": [
        "\n",
        "(6339) 95900,[OrderedDict([(u'title', u'$$$ TWITTER FEED $$$'), (u'start', datetime.datetime(2013, 6, 10, 18, 57, 48)), (u'id', 95900)])]"
       ]
      },
      {
       "output_type": "stream",
       "stream": "stdout",
       "text": [
        "\n",
        "(6339) 93253,[OrderedDict([(u'title', u'North Korea'), (u'start', datetime.datetime(2013, 4, 11, 19, 18, 56)), (u'id', 93253)])]"
       ]
      },
      {
       "output_type": "stream",
       "stream": "stdout",
       "text": [
        "\n",
        "(6338) 93089,[OrderedDict([(u'title', u'test'), (u'start', datetime.datetime(2013, 4, 10, 23, 19, 36)), (u'id', 93089)])]"
       ]
      },
      {
       "output_type": "stream",
       "stream": "stdout",
       "text": [
        "\n",
        "(6338) 93071,[OrderedDict([(u'title', u'Register Citizen Newsroom Meeting for April 10'), (u'start', datetime.datetime(2013, 4, 10, 22, 1, 17)), (u'id', 93071)])]"
       ]
      },
      {
       "output_type": "stream",
       "stream": "stdout",
       "text": [
        "\n",
        "(6339) 93066,[OrderedDict([(u'title', u'Thursday, April 11 - Live news updates'), (u'start', datetime.datetime(2013, 4, 10, 20, 34, 47)), (u'id', 93066)])]"
       ]
      },
      {
       "output_type": "stream",
       "stream": "stdout",
       "text": [
        "\n",
        "(6339) 93055,[OrderedDict([(u'title', u'Walker twitter mailbag'), (u'start', datetime.datetime(2013, 4, 10, 19, 25, 6)), (u'id', 93055)])]"
       ]
      },
      {
       "output_type": "stream",
       "stream": "stdout",
       "text": [
        "\n",
        "(6339) 93006,[OrderedDict([(u'title', u'Onsdag - pokalbold'), (u'start', datetime.datetime(2013, 4, 10, 17, 4, 30)), (u'id', 93006)])]"
       ]
      },
      {
       "output_type": "stream",
       "stream": "stdout",
       "text": [
        "\n",
        "(6341) 95112,[OrderedDict([(u'title', u'test - raw feed'), (u'start', datetime.datetime(2013, 4, 22, 18, 12, 8)), (u'id', 95112)])]"
       ]
      },
      {
       "output_type": "stream",
       "stream": "stdout",
       "text": [
        "\n",
        "(6340) 93000,[OrderedDict([(u'title', u'Stephanie Miller Live Chat - 4/11'), (u'start', datetime.datetime(2013, 4, 11, 14, 45)), (u'id', 93000)])]"
       ]
      },
      {
       "output_type": "stream",
       "stream": "stdout",
       "text": [
        "\n",
        "(6340) 92991,[OrderedDict([(u'title', u'Directo del Sporting-Guadalajara'), (u'start', datetime.datetime(2013, 4, 13, 16, 30)), (u'id', 92991)])]"
       ]
      },
      {
       "output_type": "stream",
       "stream": "stdout",
       "text": [
        "\n",
        "(6341) 118847,[OrderedDict([(u'title', u'Videos: San Jose vigil for victims of violent crime'), (u'start', datetime.datetime(2013, 6, 7, 23, 40)), (u'id', 118847)])]"
       ]
      },
      {
       "output_type": "stream",
       "stream": "stdout",
       "text": [
        "\n",
        "(6344) 92946,[OrderedDict([(u'title', u'Aandeelhoudersvergadering KPN'), (u'start', datetime.datetime(2013, 4, 10, 12, 37, 49)), (u'id', 92946)])]"
       ]
      },
      {
       "output_type": "stream",
       "stream": "stdout",
       "text": [
        "\n",
        "(6344) 92941,[OrderedDict([(u'title', u'Thatcher Tributes In Parliament'), (u'start', datetime.datetime(2013, 4, 10, 14, 33, 33)), (u'id', 92941)])]"
       ]
      },
      {
       "output_type": "stream",
       "stream": "stdout",
       "text": [
        "\n",
        "(6345) 96028,[OrderedDict([(u'title', u'\\u0391\\u0395\\u039b - \\u039a\\u03b1\\u03bb\\u03bb\\u03bf\\u03bd\\u03ae'), (u'start', datetime.datetime(2013, 4, 28, 15, 29, 33)), (u'id', 96028)])]"
       ]
      },
      {
       "output_type": "stream",
       "stream": "stdout",
       "text": [
        "\n",
        "(6344) 92940,[OrderedDict([(u'title', u'WSU live chat, 4/10'), (u'start', datetime.datetime(2013, 4, 10, 23, 30, 40)), (u'id', 92940)])]"
       ]
      },
      {
       "output_type": "stream",
       "stream": "stdout",
       "text": [
        "\n",
        "(6343) 92931,[OrderedDict([(u'title', u'Onsdag - Champions League'), (u'start', datetime.datetime(2013, 4, 10, 10, 56, 41)), (u'id', 92931)])]"
       ]
      },
      {
       "output_type": "stream",
       "stream": "stdout",
       "text": [
        "\n",
        "(6343) 92930,[OrderedDict([(u'title', u'The Norwich City Debate - Wednesday, 10 April'), (u'start', datetime.datetime(2013, 4, 10, 14, 0)), (u'id', 92930)])]"
       ]
      },
      {
       "output_type": "stream",
       "stream": "stdout",
       "text": [
        "\n",
        "(6343) 102535,[OrderedDict([(u'title', u'Ishockey-VM - Danmark - Schweiz'), (u'start', datetime.datetime(2013, 5, 11, 11, 0)), (u'id', 102535)])]"
       ]
      },
      {
       "ename": "KeyboardInterrupt",
       "evalue": "",
       "output_type": "pyerr",
       "traceback": [
        "\u001b[1;31m---------------------------------------------------------------------------\u001b[0m\n\u001b[1;31mKeyboardInterrupt\u001b[0m                         Traceback (most recent call last)",
        "\u001b[1;32m<ipython-input-1-aa99728852bc>\u001b[0m in \u001b[0;36m<module>\u001b[1;34m()\u001b[0m\n\u001b[0;32m     11\u001b[0m         \u001b[0mrr\u001b[0m\u001b[1;33m=\u001b[0m\u001b[0mr\u001b[0m\u001b[1;33m[\u001b[0m\u001b[1;36m0\u001b[0m\u001b[1;33m]\u001b[0m\u001b[1;33m[\u001b[0m\u001b[1;34m\"id\"\u001b[0m\u001b[1;33m]\u001b[0m\u001b[1;33m\u001b[0m\u001b[0m\n\u001b[0;32m     12\u001b[0m         \u001b[1;32mtry\u001b[0m \u001b[1;33m:\u001b[0m\u001b[1;33m\u001b[0m\u001b[0m\n\u001b[1;32m---> 13\u001b[1;33m             \u001b[0mdd\u001b[0m\u001b[1;33m=\u001b[0m\u001b[0meventdata\u001b[0m\u001b[1;33m(\u001b[0m\u001b[1;34m\"%s\"\u001b[0m \u001b[1;33m%\u001b[0m \u001b[0mrr\u001b[0m\u001b[1;33m)\u001b[0m\u001b[1;33m\u001b[0m\u001b[0m\n\u001b[0m\u001b[0;32m     14\u001b[0m             \u001b[1;32mif\u001b[0m \u001b[1;34m\"url\"\u001b[0m \u001b[1;32mnot\u001b[0m \u001b[1;32min\u001b[0m \u001b[0mdd\u001b[0m \u001b[1;33m:\u001b[0m\u001b[1;33m\u001b[0m\u001b[0m\n\u001b[0;32m     15\u001b[0m                 \u001b[0mdd\u001b[0m\u001b[1;33m[\u001b[0m\u001b[1;34m\"url\"\u001b[0m\u001b[1;33m]\u001b[0m\u001b[1;33m=\u001b[0m\u001b[0mdd\u001b[0m\u001b[1;33m[\u001b[0m\u001b[1;34m\"id\"\u001b[0m\u001b[1;33m]\u001b[0m\u001b[1;33m\u001b[0m\u001b[0m\n",
        "\u001b[1;32m/home/martin/Documents/ipython/slscraper.pyc\u001b[0m in \u001b[0;36meventdata\u001b[1;34m(eid, api, web)\u001b[0m\n\u001b[0;32m     85\u001b[0m         \u001b[0mm\u001b[0m\u001b[1;33m=\u001b[0m\u001b[0meventdata_api\u001b[0m\u001b[1;33m(\u001b[0m\u001b[0meid\u001b[0m\u001b[1;33m)\u001b[0m\u001b[1;33m\u001b[0m\u001b[0m\n\u001b[0;32m     86\u001b[0m     \u001b[1;32melse\u001b[0m \u001b[1;33m:\u001b[0m\u001b[1;33m\u001b[0m\u001b[0m\n\u001b[1;32m---> 87\u001b[1;33m                 \u001b[0mm\u001b[0m\u001b[1;33m=\u001b[0m\u001b[0meventdata_web\u001b[0m\u001b[1;33m(\u001b[0m\u001b[0meid\u001b[0m\u001b[1;33m)\u001b[0m\u001b[1;33m\u001b[0m\u001b[0m\n\u001b[0m\u001b[0;32m     88\u001b[0m                 \u001b[0mtid\u001b[0m\u001b[1;33m=\u001b[0m\u001b[0mm\u001b[0m\u001b[1;33m.\u001b[0m\u001b[0mget\u001b[0m\u001b[1;33m(\u001b[0m\u001b[1;34m\"ThreadId\"\u001b[0m\u001b[1;33m,\u001b[0m\u001b[0mm\u001b[0m\u001b[1;33m.\u001b[0m\u001b[0mget\u001b[0m\u001b[1;33m(\u001b[0m\u001b[1;34m\"id\"\u001b[0m\u001b[1;33m,\u001b[0m\u001b[1;34m\"\"\u001b[0m\u001b[1;33m)\u001b[0m\u001b[1;33m)\u001b[0m\u001b[1;33m\u001b[0m\u001b[0m\n\u001b[0;32m     89\u001b[0m                 \u001b[1;32mif\u001b[0m \u001b[0mapi\u001b[0m \u001b[1;32mand\u001b[0m \u001b[1;33m(\u001b[0m\u001b[1;32mnot\u001b[0m \u001b[1;34m\"error\"\u001b[0m \u001b[1;32min\u001b[0m \u001b[0mm\u001b[0m\u001b[1;33m)\u001b[0m \u001b[1;32mand\u001b[0m \u001b[0mre\u001b[0m\u001b[1;33m.\u001b[0m\u001b[0msearch\u001b[0m\u001b[1;33m(\u001b[0m\u001b[1;34m\"^\\d+$\"\u001b[0m\u001b[1;33m,\u001b[0m\u001b[0mtid\u001b[0m\u001b[1;33m)\u001b[0m \u001b[1;33m:\u001b[0m\u001b[1;33m\u001b[0m\u001b[0m\n",
        "\u001b[1;32m/home/martin/Documents/ipython/slscraper.pyc\u001b[0m in \u001b[0;36meventdata_web\u001b[1;34m(eid)\u001b[0m\n\u001b[0;32m     29\u001b[0m         \u001b[0mer\u001b[0m\u001b[1;33m[\u001b[0m\u001b[1;34m\"id\"\u001b[0m\u001b[1;33m]\u001b[0m\u001b[1;33m=\u001b[0m\u001b[0mNone\u001b[0m\u001b[1;33m\u001b[0m\u001b[0m\n\u001b[0;32m     30\u001b[0m     \u001b[1;32mtry\u001b[0m \u001b[1;33m:\u001b[0m\u001b[1;33m\u001b[0m\u001b[0m\n\u001b[1;32m---> 31\u001b[1;33m         \u001b[0mt\u001b[0m\u001b[1;33m=\u001b[0m\u001b[0mTreeScraper\u001b[0m\u001b[1;33m(\u001b[0m\u001b[0murl\u001b[0m\u001b[1;33m,\u001b[0m\u001b[0mproxies\u001b[0m\u001b[1;33m=\u001b[0m\u001b[0mproxy\u001b[0m\u001b[1;33m,\u001b[0m \u001b[0mheaders\u001b[0m\u001b[1;33m=\u001b[0m\u001b[0mheader\u001b[0m\u001b[1;33m)\u001b[0m\u001b[1;33m\u001b[0m\u001b[0m\n\u001b[0m\u001b[0;32m     32\u001b[0m     \u001b[1;32mexcept\u001b[0m \u001b[0mException\u001b[0m\u001b[1;33m,\u001b[0m \u001b[0me\u001b[0m\u001b[1;33m:\u001b[0m\u001b[1;33m\u001b[0m\u001b[0m\n\u001b[0;32m     33\u001b[0m                 \u001b[0mer\u001b[0m\u001b[1;33m.\u001b[0m\u001b[0mupdate\u001b[0m\u001b[1;33m(\u001b[0m\u001b[1;33m{\u001b[0m\u001b[1;34m\"error\"\u001b[0m \u001b[1;33m:\u001b[0m \u001b[0mrepr\u001b[0m\u001b[1;33m(\u001b[0m\u001b[0me\u001b[0m\u001b[1;33m)\u001b[0m \u001b[1;33m}\u001b[0m\u001b[1;33m)\u001b[0m\u001b[1;33m\u001b[0m\u001b[0m\n",
        "\u001b[1;32m/home/martin/Documents/ipython/scrapelib.pyc\u001b[0m in \u001b[0;36m__init__\u001b[1;34m(self, ss, **kwargs)\u001b[0m\n\u001b[0;32m    143\u001b[0m                         \u001b[1;32melse\u001b[0m \u001b[1;33m:\u001b[0m\u001b[1;33m\u001b[0m\u001b[0m\n\u001b[0;32m    144\u001b[0m                                 \u001b[1;32mif\u001b[0m \u001b[0mkwargs\u001b[0m\u001b[1;33m:\u001b[0m\u001b[1;33m\u001b[0m\u001b[0m\n\u001b[1;32m--> 145\u001b[1;33m                                         \u001b[0mself\u001b[0m\u001b[1;33m.\u001b[0m\u001b[0mtree\u001b[0m\u001b[1;33m=\u001b[0m\u001b[0metree\u001b[0m\u001b[1;33m.\u001b[0m\u001b[0mfromstring\u001b[0m\u001b[1;33m(\u001b[0m\u001b[0mrequests\u001b[0m\u001b[1;33m.\u001b[0m\u001b[0mget\u001b[0m\u001b[1;33m(\u001b[0m\u001b[0mss\u001b[0m\u001b[1;33m,\u001b[0m\u001b[1;33m**\u001b[0m\u001b[0mkwargs\u001b[0m\u001b[1;33m)\u001b[0m\u001b[1;33m.\u001b[0m\u001b[0mcontent\u001b[0m\u001b[1;33m,\u001b[0m\u001b[0mmyparser\u001b[0m\u001b[1;33m(\u001b[0m\u001b[1;33m)\u001b[0m\u001b[1;33m)\u001b[0m\u001b[1;33m\u001b[0m\u001b[0m\n\u001b[0m\u001b[0;32m    146\u001b[0m                                 \u001b[1;32melse\u001b[0m \u001b[1;33m:\u001b[0m\u001b[1;33m\u001b[0m\u001b[0m\n\u001b[0;32m    147\u001b[0m                                         \u001b[0mself\u001b[0m\u001b[1;33m.\u001b[0m\u001b[0mtree\u001b[0m\u001b[1;33m=\u001b[0m\u001b[0metree\u001b[0m\u001b[1;33m.\u001b[0m\u001b[0mparse\u001b[0m\u001b[1;33m(\u001b[0m\u001b[0mss\u001b[0m\u001b[1;33m,\u001b[0m\u001b[0mmyparser\u001b[0m\u001b[1;33m(\u001b[0m\u001b[1;33m)\u001b[0m\u001b[1;33m)\u001b[0m\u001b[1;33m\u001b[0m\u001b[0m\n",
        "\u001b[1;32m/usr/local/lib/python2.7/dist-packages/requests/api.pyc\u001b[0m in \u001b[0;36mget\u001b[1;34m(url, **kwargs)\u001b[0m\n\u001b[0;32m     63\u001b[0m \u001b[1;33m\u001b[0m\u001b[0m\n\u001b[0;32m     64\u001b[0m     \u001b[0mkwargs\u001b[0m\u001b[1;33m.\u001b[0m\u001b[0msetdefault\u001b[0m\u001b[1;33m(\u001b[0m\u001b[1;34m'allow_redirects'\u001b[0m\u001b[1;33m,\u001b[0m \u001b[0mTrue\u001b[0m\u001b[1;33m)\u001b[0m\u001b[1;33m\u001b[0m\u001b[0m\n\u001b[1;32m---> 65\u001b[1;33m     \u001b[1;32mreturn\u001b[0m \u001b[0mrequest\u001b[0m\u001b[1;33m(\u001b[0m\u001b[1;34m'get'\u001b[0m\u001b[1;33m,\u001b[0m \u001b[0murl\u001b[0m\u001b[1;33m,\u001b[0m \u001b[1;33m**\u001b[0m\u001b[0mkwargs\u001b[0m\u001b[1;33m)\u001b[0m\u001b[1;33m\u001b[0m\u001b[0m\n\u001b[0m\u001b[0;32m     66\u001b[0m \u001b[1;33m\u001b[0m\u001b[0m\n\u001b[0;32m     67\u001b[0m \u001b[1;33m\u001b[0m\u001b[0m\n",
        "\u001b[1;32m/usr/local/lib/python2.7/dist-packages/requests/safe_mode.pyc\u001b[0m in \u001b[0;36mwrapped\u001b[1;34m(method, url, **kwargs)\u001b[0m\n\u001b[0;32m     37\u001b[0m                 \u001b[0mr\u001b[0m\u001b[1;33m.\u001b[0m\u001b[0mstatus_code\u001b[0m \u001b[1;33m=\u001b[0m \u001b[1;36m0\u001b[0m  \u001b[1;31m# with this status_code, content returns None\u001b[0m\u001b[1;33m\u001b[0m\u001b[0m\n\u001b[0;32m     38\u001b[0m                 \u001b[1;32mreturn\u001b[0m \u001b[0mr\u001b[0m\u001b[1;33m\u001b[0m\u001b[0m\n\u001b[1;32m---> 39\u001b[1;33m         \u001b[1;32mreturn\u001b[0m \u001b[0mfunction\u001b[0m\u001b[1;33m(\u001b[0m\u001b[0mmethod\u001b[0m\u001b[1;33m,\u001b[0m \u001b[0murl\u001b[0m\u001b[1;33m,\u001b[0m \u001b[1;33m**\u001b[0m\u001b[0mkwargs\u001b[0m\u001b[1;33m)\u001b[0m\u001b[1;33m\u001b[0m\u001b[0m\n\u001b[0m\u001b[0;32m     40\u001b[0m     \u001b[1;32mreturn\u001b[0m \u001b[0mwrapped\u001b[0m\u001b[1;33m\u001b[0m\u001b[0m\n",
        "\u001b[1;32m/usr/local/lib/python2.7/dist-packages/requests/api.pyc\u001b[0m in \u001b[0;36mrequest\u001b[1;34m(method, url, **kwargs)\u001b[0m\n\u001b[0;32m     49\u001b[0m \u001b[1;33m\u001b[0m\u001b[0m\n\u001b[0;32m     50\u001b[0m     \u001b[1;32mtry\u001b[0m\u001b[1;33m:\u001b[0m\u001b[1;33m\u001b[0m\u001b[0m\n\u001b[1;32m---> 51\u001b[1;33m         \u001b[1;32mreturn\u001b[0m \u001b[0msession\u001b[0m\u001b[1;33m.\u001b[0m\u001b[0mrequest\u001b[0m\u001b[1;33m(\u001b[0m\u001b[0mmethod\u001b[0m\u001b[1;33m=\u001b[0m\u001b[0mmethod\u001b[0m\u001b[1;33m,\u001b[0m \u001b[0murl\u001b[0m\u001b[1;33m=\u001b[0m\u001b[0murl\u001b[0m\u001b[1;33m,\u001b[0m \u001b[1;33m**\u001b[0m\u001b[0mkwargs\u001b[0m\u001b[1;33m)\u001b[0m\u001b[1;33m\u001b[0m\u001b[0m\n\u001b[0m\u001b[0;32m     52\u001b[0m     \u001b[1;32mfinally\u001b[0m\u001b[1;33m:\u001b[0m\u001b[1;33m\u001b[0m\u001b[0m\n\u001b[0;32m     53\u001b[0m         \u001b[1;32mif\u001b[0m \u001b[0madhoc_session\u001b[0m\u001b[1;33m:\u001b[0m\u001b[1;33m\u001b[0m\u001b[0m\n",
        "\u001b[1;32m/usr/local/lib/python2.7/dist-packages/requests/sessions.pyc\u001b[0m in \u001b[0;36mrequest\u001b[1;34m(self, method, url, params, data, headers, cookies, files, auth, timeout, allow_redirects, proxies, hooks, return_response, config, prefetch, verify, cert)\u001b[0m\n\u001b[0;32m    241\u001b[0m \u001b[1;33m\u001b[0m\u001b[0m\n\u001b[0;32m    242\u001b[0m         \u001b[1;31m# Send the HTTP Request.\u001b[0m\u001b[1;33m\u001b[0m\u001b[1;33m\u001b[0m\u001b[0m\n\u001b[1;32m--> 243\u001b[1;33m         \u001b[0mr\u001b[0m\u001b[1;33m.\u001b[0m\u001b[0msend\u001b[0m\u001b[1;33m(\u001b[0m\u001b[0mprefetch\u001b[0m\u001b[1;33m=\u001b[0m\u001b[0mprefetch\u001b[0m\u001b[1;33m)\u001b[0m\u001b[1;33m\u001b[0m\u001b[0m\n\u001b[0m\u001b[0;32m    244\u001b[0m \u001b[1;33m\u001b[0m\u001b[0m\n\u001b[0;32m    245\u001b[0m         \u001b[1;31m# Return the response.\u001b[0m\u001b[1;33m\u001b[0m\u001b[1;33m\u001b[0m\u001b[0m\n",
        "\u001b[1;32m/usr/local/lib/python2.7/dist-packages/requests/models.pyc\u001b[0m in \u001b[0;36msend\u001b[1;34m(self, anyway, prefetch)\u001b[0m\n\u001b[0;32m    616\u001b[0m                     \u001b[0mdecode_content\u001b[0m\u001b[1;33m=\u001b[0m\u001b[0mFalse\u001b[0m\u001b[1;33m,\u001b[0m\u001b[1;33m\u001b[0m\u001b[0m\n\u001b[0;32m    617\u001b[0m                     \u001b[0mretries\u001b[0m\u001b[1;33m=\u001b[0m\u001b[0mself\u001b[0m\u001b[1;33m.\u001b[0m\u001b[0mconfig\u001b[0m\u001b[1;33m.\u001b[0m\u001b[0mget\u001b[0m\u001b[1;33m(\u001b[0m\u001b[1;34m'max_retries'\u001b[0m\u001b[1;33m,\u001b[0m \u001b[1;36m0\u001b[0m\u001b[1;33m)\u001b[0m\u001b[1;33m,\u001b[0m\u001b[1;33m\u001b[0m\u001b[0m\n\u001b[1;32m--> 618\u001b[1;33m                     \u001b[0mtimeout\u001b[0m\u001b[1;33m=\u001b[0m\u001b[0mself\u001b[0m\u001b[1;33m.\u001b[0m\u001b[0mtimeout\u001b[0m\u001b[1;33m,\u001b[0m\u001b[1;33m\u001b[0m\u001b[0m\n\u001b[0m\u001b[0;32m    619\u001b[0m                 )\n\u001b[0;32m    620\u001b[0m                 \u001b[0mself\u001b[0m\u001b[1;33m.\u001b[0m\u001b[0msent\u001b[0m \u001b[1;33m=\u001b[0m \u001b[0mTrue\u001b[0m\u001b[1;33m\u001b[0m\u001b[0m\n",
        "\u001b[1;32m/usr/local/lib/python2.7/dist-packages/requests/packages/urllib3/poolmanager.pyc\u001b[0m in \u001b[0;36murlopen\u001b[1;34m(self, method, url, **kw)\u001b[0m\n\u001b[0;32m    151\u001b[0m         \u001b[0mkw\u001b[0m\u001b[1;33m[\u001b[0m\u001b[1;34m'assert_same_host'\u001b[0m\u001b[1;33m]\u001b[0m \u001b[1;33m=\u001b[0m \u001b[0mFalse\u001b[0m\u001b[1;33m\u001b[0m\u001b[0m\n\u001b[0;32m    152\u001b[0m         \u001b[0mkw\u001b[0m\u001b[1;33m[\u001b[0m\u001b[1;34m'headers'\u001b[0m\u001b[1;33m]\u001b[0m \u001b[1;33m=\u001b[0m \u001b[0mself\u001b[0m\u001b[1;33m.\u001b[0m\u001b[0m_set_proxy_headers\u001b[0m\u001b[1;33m(\u001b[0m\u001b[0mkw\u001b[0m\u001b[1;33m.\u001b[0m\u001b[0mget\u001b[0m\u001b[1;33m(\u001b[0m\u001b[1;34m'headers'\u001b[0m\u001b[1;33m)\u001b[0m\u001b[1;33m)\u001b[0m\u001b[1;33m\u001b[0m\u001b[0m\n\u001b[1;32m--> 153\u001b[1;33m         \u001b[1;32mreturn\u001b[0m \u001b[0mself\u001b[0m\u001b[1;33m.\u001b[0m\u001b[0mproxy_pool\u001b[0m\u001b[1;33m.\u001b[0m\u001b[0murlopen\u001b[0m\u001b[1;33m(\u001b[0m\u001b[0mmethod\u001b[0m\u001b[1;33m,\u001b[0m \u001b[0murl\u001b[0m\u001b[1;33m,\u001b[0m \u001b[1;33m**\u001b[0m\u001b[0mkw\u001b[0m\u001b[1;33m)\u001b[0m\u001b[1;33m\u001b[0m\u001b[0m\n\u001b[0m\u001b[0;32m    154\u001b[0m \u001b[1;33m\u001b[0m\u001b[0m\n\u001b[0;32m    155\u001b[0m \u001b[1;33m\u001b[0m\u001b[0m\n",
        "\u001b[1;32m/usr/local/lib/python2.7/dist-packages/requests/packages/urllib3/connectionpool.pyc\u001b[0m in \u001b[0;36murlopen\u001b[1;34m(self, method, url, body, headers, retries, redirect, assert_same_host, timeout, pool_timeout, release_conn, **response_kw)\u001b[0m\n\u001b[0;32m    413\u001b[0m             httplib_response = self._make_request(conn, method, url,\n\u001b[0;32m    414\u001b[0m                                                   \u001b[0mtimeout\u001b[0m\u001b[1;33m=\u001b[0m\u001b[0mtimeout\u001b[0m\u001b[1;33m,\u001b[0m\u001b[1;33m\u001b[0m\u001b[0m\n\u001b[1;32m--> 415\u001b[1;33m                                                   body=body, headers=headers)\n\u001b[0m\u001b[0;32m    416\u001b[0m \u001b[1;33m\u001b[0m\u001b[0m\n\u001b[0;32m    417\u001b[0m             \u001b[1;31m# If we're going to release the connection in ``finally:``, then\u001b[0m\u001b[1;33m\u001b[0m\u001b[1;33m\u001b[0m\u001b[0m\n",
        "\u001b[1;32m/usr/local/lib/python2.7/dist-packages/requests/packages/urllib3/connectionpool.pyc\u001b[0m in \u001b[0;36m_make_request\u001b[1;34m(self, conn, method, url, timeout, **httplib_request_kw)\u001b[0m\n\u001b[0;32m    273\u001b[0m \u001b[1;33m\u001b[0m\u001b[0m\n\u001b[0;32m    274\u001b[0m         \u001b[1;32mtry\u001b[0m\u001b[1;33m:\u001b[0m \u001b[1;31m# Python 2.7+, use buffering of HTTP responses\u001b[0m\u001b[1;33m\u001b[0m\u001b[0m\n\u001b[1;32m--> 275\u001b[1;33m             \u001b[0mhttplib_response\u001b[0m \u001b[1;33m=\u001b[0m \u001b[0mconn\u001b[0m\u001b[1;33m.\u001b[0m\u001b[0mgetresponse\u001b[0m\u001b[1;33m(\u001b[0m\u001b[0mbuffering\u001b[0m\u001b[1;33m=\u001b[0m\u001b[0mTrue\u001b[0m\u001b[1;33m)\u001b[0m\u001b[1;33m\u001b[0m\u001b[0m\n\u001b[0m\u001b[0;32m    276\u001b[0m         \u001b[1;32mexcept\u001b[0m \u001b[0mTypeError\u001b[0m\u001b[1;33m:\u001b[0m \u001b[1;31m# Python 2.6 and older\u001b[0m\u001b[1;33m\u001b[0m\u001b[0m\n\u001b[0;32m    277\u001b[0m             \u001b[0mhttplib_response\u001b[0m \u001b[1;33m=\u001b[0m \u001b[0mconn\u001b[0m\u001b[1;33m.\u001b[0m\u001b[0mgetresponse\u001b[0m\u001b[1;33m(\u001b[0m\u001b[1;33m)\u001b[0m\u001b[1;33m\u001b[0m\u001b[0m\n",
        "\u001b[1;32m/usr/lib/python2.7/httplib.pyc\u001b[0m in \u001b[0;36mgetresponse\u001b[1;34m(self, buffering)\u001b[0m\n\u001b[0;32m   1043\u001b[0m         \u001b[0mresponse\u001b[0m \u001b[1;33m=\u001b[0m \u001b[0mself\u001b[0m\u001b[1;33m.\u001b[0m\u001b[0mresponse_class\u001b[0m\u001b[1;33m(\u001b[0m\u001b[1;33m*\u001b[0m\u001b[0margs\u001b[0m\u001b[1;33m,\u001b[0m \u001b[1;33m**\u001b[0m\u001b[0mkwds\u001b[0m\u001b[1;33m)\u001b[0m\u001b[1;33m\u001b[0m\u001b[0m\n\u001b[0;32m   1044\u001b[0m \u001b[1;33m\u001b[0m\u001b[0m\n\u001b[1;32m-> 1045\u001b[1;33m         \u001b[0mresponse\u001b[0m\u001b[1;33m.\u001b[0m\u001b[0mbegin\u001b[0m\u001b[1;33m(\u001b[0m\u001b[1;33m)\u001b[0m\u001b[1;33m\u001b[0m\u001b[0m\n\u001b[0m\u001b[0;32m   1046\u001b[0m         \u001b[1;32massert\u001b[0m \u001b[0mresponse\u001b[0m\u001b[1;33m.\u001b[0m\u001b[0mwill_close\u001b[0m \u001b[1;33m!=\u001b[0m \u001b[0m_UNKNOWN\u001b[0m\u001b[1;33m\u001b[0m\u001b[0m\n\u001b[0;32m   1047\u001b[0m         \u001b[0mself\u001b[0m\u001b[1;33m.\u001b[0m\u001b[0m__state\u001b[0m \u001b[1;33m=\u001b[0m \u001b[0m_CS_IDLE\u001b[0m\u001b[1;33m\u001b[0m\u001b[0m\n",
        "\u001b[1;32m/usr/lib/python2.7/httplib.pyc\u001b[0m in \u001b[0;36mbegin\u001b[1;34m(self)\u001b[0m\n\u001b[0;32m    407\u001b[0m         \u001b[1;31m# read until we get a non-100 response\u001b[0m\u001b[1;33m\u001b[0m\u001b[1;33m\u001b[0m\u001b[0m\n\u001b[0;32m    408\u001b[0m         \u001b[1;32mwhile\u001b[0m \u001b[0mTrue\u001b[0m\u001b[1;33m:\u001b[0m\u001b[1;33m\u001b[0m\u001b[0m\n\u001b[1;32m--> 409\u001b[1;33m             \u001b[0mversion\u001b[0m\u001b[1;33m,\u001b[0m \u001b[0mstatus\u001b[0m\u001b[1;33m,\u001b[0m \u001b[0mreason\u001b[0m \u001b[1;33m=\u001b[0m \u001b[0mself\u001b[0m\u001b[1;33m.\u001b[0m\u001b[0m_read_status\u001b[0m\u001b[1;33m(\u001b[0m\u001b[1;33m)\u001b[0m\u001b[1;33m\u001b[0m\u001b[0m\n\u001b[0m\u001b[0;32m    410\u001b[0m             \u001b[1;32mif\u001b[0m \u001b[0mstatus\u001b[0m \u001b[1;33m!=\u001b[0m \u001b[0mCONTINUE\u001b[0m\u001b[1;33m:\u001b[0m\u001b[1;33m\u001b[0m\u001b[0m\n\u001b[0;32m    411\u001b[0m                 \u001b[1;32mbreak\u001b[0m\u001b[1;33m\u001b[0m\u001b[0m\n",
        "\u001b[1;32m/usr/lib/python2.7/httplib.pyc\u001b[0m in \u001b[0;36m_read_status\u001b[1;34m(self)\u001b[0m\n\u001b[0;32m    363\u001b[0m     \u001b[1;32mdef\u001b[0m \u001b[0m_read_status\u001b[0m\u001b[1;33m(\u001b[0m\u001b[0mself\u001b[0m\u001b[1;33m)\u001b[0m\u001b[1;33m:\u001b[0m\u001b[1;33m\u001b[0m\u001b[0m\n\u001b[0;32m    364\u001b[0m         \u001b[1;31m# Initialize with Simple-Response defaults\u001b[0m\u001b[1;33m\u001b[0m\u001b[1;33m\u001b[0m\u001b[0m\n\u001b[1;32m--> 365\u001b[1;33m         \u001b[0mline\u001b[0m \u001b[1;33m=\u001b[0m \u001b[0mself\u001b[0m\u001b[1;33m.\u001b[0m\u001b[0mfp\u001b[0m\u001b[1;33m.\u001b[0m\u001b[0mreadline\u001b[0m\u001b[1;33m(\u001b[0m\u001b[0m_MAXLINE\u001b[0m \u001b[1;33m+\u001b[0m \u001b[1;36m1\u001b[0m\u001b[1;33m)\u001b[0m\u001b[1;33m\u001b[0m\u001b[0m\n\u001b[0m\u001b[0;32m    366\u001b[0m         \u001b[1;32mif\u001b[0m \u001b[0mlen\u001b[0m\u001b[1;33m(\u001b[0m\u001b[0mline\u001b[0m\u001b[1;33m)\u001b[0m \u001b[1;33m>\u001b[0m \u001b[0m_MAXLINE\u001b[0m\u001b[1;33m:\u001b[0m\u001b[1;33m\u001b[0m\u001b[0m\n\u001b[0;32m    367\u001b[0m             \u001b[1;32mraise\u001b[0m \u001b[0mLineTooLong\u001b[0m\u001b[1;33m(\u001b[0m\u001b[1;34m\"header line\"\u001b[0m\u001b[1;33m)\u001b[0m\u001b[1;33m\u001b[0m\u001b[0m\n",
        "\u001b[1;32m/usr/lib/python2.7/socket.pyc\u001b[0m in \u001b[0;36mreadline\u001b[1;34m(self, size)\u001b[0m\n\u001b[0;32m    474\u001b[0m             \u001b[1;32mwhile\u001b[0m \u001b[0mTrue\u001b[0m\u001b[1;33m:\u001b[0m\u001b[1;33m\u001b[0m\u001b[0m\n\u001b[0;32m    475\u001b[0m                 \u001b[1;32mtry\u001b[0m\u001b[1;33m:\u001b[0m\u001b[1;33m\u001b[0m\u001b[0m\n\u001b[1;32m--> 476\u001b[1;33m                     \u001b[0mdata\u001b[0m \u001b[1;33m=\u001b[0m \u001b[0mself\u001b[0m\u001b[1;33m.\u001b[0m\u001b[0m_sock\u001b[0m\u001b[1;33m.\u001b[0m\u001b[0mrecv\u001b[0m\u001b[1;33m(\u001b[0m\u001b[0mself\u001b[0m\u001b[1;33m.\u001b[0m\u001b[0m_rbufsize\u001b[0m\u001b[1;33m)\u001b[0m\u001b[1;33m\u001b[0m\u001b[0m\n\u001b[0m\u001b[0;32m    477\u001b[0m                 \u001b[1;32mexcept\u001b[0m \u001b[0merror\u001b[0m\u001b[1;33m,\u001b[0m \u001b[0me\u001b[0m\u001b[1;33m:\u001b[0m\u001b[1;33m\u001b[0m\u001b[0m\n\u001b[0;32m    478\u001b[0m                     \u001b[1;32mif\u001b[0m \u001b[0me\u001b[0m\u001b[1;33m.\u001b[0m\u001b[0margs\u001b[0m\u001b[1;33m[\u001b[0m\u001b[1;36m0\u001b[0m\u001b[1;33m]\u001b[0m \u001b[1;33m==\u001b[0m \u001b[0mEINTR\u001b[0m\u001b[1;33m:\u001b[0m\u001b[1;33m\u001b[0m\u001b[0m\n",
        "\u001b[1;31mKeyboardInterrupt\u001b[0m: "
       ]
      },
      {
       "output_type": "stream",
       "stream": "stdout",
       "text": [
        "\n"
       ]
      }
     ],
     "prompt_number": 1
    },
    {
     "cell_type": "code",
     "collapsed": false,
     "input": [],
     "language": "python",
     "metadata": {},
     "outputs": []
    }
   ],
   "metadata": {}
  }
 ]
}