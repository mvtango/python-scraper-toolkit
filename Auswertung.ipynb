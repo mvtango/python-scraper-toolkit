{
 "metadata": {
  "name": ""
 },
 "nbformat": 3,
 "nbformat_minor": 0,
 "worksheets": [
  {
   "cells": [
    {
     "cell_type": "code",
     "collapsed": false,
     "input": [
      "from dumptruck import DumpTruck\n",
      "dt=DumpTruck(dbname=\"data/events.sqlite\")\n",
      "\n",
      "dt.execute(\"select count(*) as c, min(start) as fd, min(end) from events where numposts>0\")"
     ],
     "language": "python",
     "metadata": {},
     "outputs": [
      {
       "metadata": {},
       "output_type": "pyout",
       "prompt_number": 1,
       "text": [
        "[OrderedDict([(u'c', 92371), (u'fd', u'1990-10-01 07:00:00'), (u'min(end)', u'2009-01-04 07:52:32')])]"
       ]
      }
     ],
     "prompt_number": 1
    },
    {
     "cell_type": "code",
     "collapsed": false,
     "input": [
      "dt.execute(\"select min(id) from events where error like '%JSON%' and id>110000\")"
     ],
     "language": "python",
     "metadata": {},
     "outputs": [
      {
       "metadata": {},
       "output_type": "pyout",
       "prompt_number": 2,
       "text": [
        "[OrderedDict([(u'min(id)', None)])]"
       ]
      }
     ],
     "prompt_number": 2
    },
    {
     "cell_type": "code",
     "collapsed": false,
     "input": [
      "dt.execute(\"select id from events where error like '%JSON%' limit 2\")"
     ],
     "language": "python",
     "metadata": {},
     "outputs": [
      {
       "metadata": {},
       "output_type": "pyout",
       "prompt_number": 3,
       "text": [
        "[]"
       ]
      }
     ],
     "prompt_number": 3
    },
    {
     "cell_type": "code",
     "collapsed": false,
     "input": [
      "import logging,sys,StringIO\n",
      "\n",
      "b=StringIO.StringIO()\n",
      "\n",
      "logging.basicConfig(file=b, level=logging.DEBUG)\n",
      "\n",
      "from slscraper import eventdata\n",
      "\n",
      "eventdata(\"184792\",),b.getvalue()"
     ],
     "language": "python",
     "metadata": {},
     "outputs": [
      {
       "metadata": {},
       "output_type": "pyout",
       "prompt_number": 14,
       "text": [
        "({'created': datetime.datetime(2013, 8, 28, 18, 16, 47),\n",
        "  'description': u'dpa tickert live \\xfcber das Fernseh-Duell von Bundeskanzlerin Angela Merkel und ihrem Herausforderer Peer Steinbr\\xfcck',\n",
        "  'discussion': {'Enabled': 0, 'Moderated': 0},\n",
        "  'end': datetime.datetime(2013, 8, 30, 19, 57, 51),\n",
        "  'error': \"HTTPError('403 Client Error',)\",\n",
        "  'id': 184792,\n",
        "  'iscommenting': 0,\n",
        "  'isdeleted': 0,\n",
        "  'islive': 1,\n",
        "  'ismoderated': 0,\n",
        "  'issyndicatable': 0,\n",
        "  'issyndicated': 1,\n",
        "  'language': 'de',\n",
        "  'lastmodified': datetime.datetime(2013, 8, 30, 16, 57, 51),\n",
        "  'location': {'Lat': 51.0, 'Long': 9.0},\n",
        "  'meta': {'Secure': '0'},\n",
        "  'metatitle': u'Kampf ums Kanzleramt: Fernseh-Duell Merkel - Steinbr\\xfcck',\n",
        "  'numcomments': 0,\n",
        "  'numposts': 5,\n",
        "  'pages': 1,\n",
        "  'start': datetime.datetime(2013, 8, 30, 13, 45),\n",
        "  'syndicatedcomments': 0,\n",
        "  'title': u'Kampf ums Kanzleramt: Fernseh-Duell Merkel - Steinbr\\xfcck'},\n",
        " '')"
       ]
      }
     ],
     "prompt_number": 14
    },
    {
     "cell_type": "code",
     "collapsed": false,
     "input": [],
     "language": "python",
     "metadata": {},
     "outputs": []
    }
   ],
   "metadata": {}
  }
 ]
}