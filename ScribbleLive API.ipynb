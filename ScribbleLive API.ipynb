{
 "metadata": {
  "name": ""
 },
 "nbformat": 3,
 "nbformat_minor": 0,
 "worksheets": [
  {
   "cells": [
    {
     "cell_type": "markdown",
     "metadata": {},
     "source": [
      "## Scribble Live Event Metadaten"
     ]
    },
    {
     "cell_type": "markdown",
     "metadata": {},
     "source": [
      "### API mit Token"
     ]
    },
    {
     "cell_type": "code",
     "collapsed": false,
     "input": [
      "import requests, simplejson, pprint\n",
      "\n",
      "token={ 'sss@gmx.info' : \"1fNpNSiw\", 'spon' : \"4BA1IOGz\" }\n",
      "\n",
      "\n",
      "def eventdata(eid) :\n",
      "    a=requests.get(\"http://apiv1.scribblelive.com/event/%s/?Token=%s&callback=g\" % (eid,token[\"spon\"]))\n",
      "    a.raise_for_status()\n",
      "    return simplejson.loads(a.content[2:-1])\n",
      "\n",
      "print eventdata(\"184792\")\n",
      "\n"
     ],
     "language": "python",
     "metadata": {},
     "outputs": [
      {
       "output_type": "stream",
       "stream": "stdout",
       "text": [
        "{'End': '/Date(1377884871290+0000)/', 'Title': u'Kampf ums Kanzleramt: Fernseh-Duell Merkel - Steinbr\\xfcck', 'LastModified': '/Date(1377874071290+0000)/', 'Discussion': {'Moderated': 0, 'Enabled': 0}, 'Start': '/Date(1377874070000+0000)/', 'Location': {'Lat': 51.0, 'Long': 9.0}, 'IsSyndicated': 1, 'Description': u'dpa tickert live \\xfcber das Fernseh-Duell von Bundeskanzlerin Angela Merkel und ihrem Herausforderer Peer Steinbr\\xfcck', 'Pages': 1, 'IsDeleted': 0, 'Language': 'de', 'Created': '/Date(1377706607000+0000)/', 'IsSyndicatable': 0, 'Websites': [{'Url': 'http://live.dtf12.de/Event/Kampf_ums_Kanzleramt_TV-Duell_Merkel_-_Steinbruck', 'Id': 988, 'Name': 'dpa test Whitelabel V2'}], 'NumPosts': 5, 'IsLive': 1, 'IsCommenting': 0, 'IsModerated': 0, 'NumComments': 0, 'Meta': {'Secure': '0'}, 'SyndicatedComments': 0, 'Id': 184792}\n"
       ]
      }
     ],
     "prompt_number": 5
    },
    {
     "cell_type": "markdown",
     "metadata": {},
     "source": [
      "### Via \u00f6ffentlich gehostete Event-URL"
     ]
    },
    {
     "cell_type": "code",
     "collapsed": false,
     "input": [
      "from scrapelib import TreeScraper\n",
      "import re\n",
      "\n",
      "def eventdata(eid) :\n",
      "    try :\n",
      "        t=TreeScraper(\"http://www.scribblelive.com/Event/Thread.aspx?Id=%s\" % eid)\n",
      "    except Exception, e:\n",
      "        return { \"error\" : e, \"id\" : eid  }\n",
      "    e=t.extract(title=\"//h2/text()\",\n",
      "              description=\"//h3/text()\",\n",
      "              time=\"//span[contains(@class,'DisplayPostTime')][1]//text()[1]\",\n",
      "              who=\"//dl[contains(@id,'WhosBloggingSidebar')]//li//text()\",\n",
      "              meta=\"//head//script/text()\",\n",
      "              canonical=\"//head//link[contains(@rel,'canonical')]/@href\"\n",
      "              )\n",
      "    for m in re.finditer(r\"var (?P<name>[^ ]+) *= *(?P<val>[^\\r]+)\",''.join(e[\"meta\"])) :\n",
      "        d=m.groupdict()\n",
      "        if d[\"name\"] in (\"DiscussionsEnabled\",\"PromotionalUrl\",\"IsLive\",\"Time\") :\n",
      "            e[d[\"name\"]]=d[\"val\"]\n",
      "        else :\n",
      "            # e[\"rest\"]=e[\"rest\"]+\"\\n%(name)s = %(val)s\" % d\n",
      "            pass\n",
      "    del e[\"meta\"]\n",
      "    e[\"id\"]=eid\n",
      "    return e\n",
      "\n",
      "\n",
      "print eventdata(\"184792\")"
     ],
     "language": "python",
     "metadata": {},
     "outputs": [
      {
       "ename": "KeyError",
       "evalue": "'meta'",
       "output_type": "pyerr",
       "traceback": [
        "\u001b[1;31m---------------------------------------------------------------------------\u001b[0m\n\u001b[1;31mKeyError\u001b[0m                                  Traceback (most recent call last)",
        "\u001b[1;32m<ipython-input-7-fbd59056444b>\u001b[0m in \u001b[0;36m<module>\u001b[1;34m()\u001b[0m\n\u001b[0;32m     26\u001b[0m \u001b[1;33m\u001b[0m\u001b[0m\n\u001b[0;32m     27\u001b[0m \u001b[1;33m\u001b[0m\u001b[0m\n\u001b[1;32m---> 28\u001b[1;33m \u001b[1;32mprint\u001b[0m \u001b[0meventdata\u001b[0m\u001b[1;33m(\u001b[0m\u001b[1;34m\"184792\"\u001b[0m\u001b[1;33m)\u001b[0m\u001b[1;33m\u001b[0m\u001b[0m\n\u001b[0m",
        "\u001b[1;32m<ipython-input-7-fbd59056444b>\u001b[0m in \u001b[0;36meventdata\u001b[1;34m(eid)\u001b[0m\n\u001b[0;32m     14\u001b[0m               \u001b[0mcanonical\u001b[0m\u001b[1;33m=\u001b[0m\u001b[1;34m\"//head//link[contains(@rel,'canonical')]/@href\"\u001b[0m\u001b[1;33m\u001b[0m\u001b[0m\n\u001b[0;32m     15\u001b[0m               )\n\u001b[1;32m---> 16\u001b[1;33m     \u001b[1;32mfor\u001b[0m \u001b[0mm\u001b[0m \u001b[1;32min\u001b[0m \u001b[0mre\u001b[0m\u001b[1;33m.\u001b[0m\u001b[0mfinditer\u001b[0m\u001b[1;33m(\u001b[0m\u001b[1;34mr\"var (?P<name>[^ ]+) *= *(?P<val>[^\\r]+)\"\u001b[0m\u001b[1;33m,\u001b[0m\u001b[1;34m''\u001b[0m\u001b[1;33m.\u001b[0m\u001b[0mjoin\u001b[0m\u001b[1;33m(\u001b[0m\u001b[0me\u001b[0m\u001b[1;33m[\u001b[0m\u001b[1;34m\"meta\"\u001b[0m\u001b[1;33m]\u001b[0m\u001b[1;33m)\u001b[0m\u001b[1;33m)\u001b[0m \u001b[1;33m:\u001b[0m\u001b[1;33m\u001b[0m\u001b[0m\n\u001b[0m\u001b[0;32m     17\u001b[0m         \u001b[0md\u001b[0m\u001b[1;33m=\u001b[0m\u001b[0mm\u001b[0m\u001b[1;33m.\u001b[0m\u001b[0mgroupdict\u001b[0m\u001b[1;33m(\u001b[0m\u001b[1;33m)\u001b[0m\u001b[1;33m\u001b[0m\u001b[0m\n\u001b[0;32m     18\u001b[0m         \u001b[1;32mif\u001b[0m \u001b[0md\u001b[0m\u001b[1;33m[\u001b[0m\u001b[1;34m\"name\"\u001b[0m\u001b[1;33m]\u001b[0m \u001b[1;32min\u001b[0m \u001b[1;33m(\u001b[0m\u001b[1;34m\"DiscussionsEnabled\"\u001b[0m\u001b[1;33m,\u001b[0m\u001b[1;34m\"PromotionalUrl\"\u001b[0m\u001b[1;33m,\u001b[0m\u001b[1;34m\"IsLive\"\u001b[0m\u001b[1;33m,\u001b[0m\u001b[1;34m\"Time\"\u001b[0m\u001b[1;33m)\u001b[0m \u001b[1;33m:\u001b[0m\u001b[1;33m\u001b[0m\u001b[0m\n",
        "\u001b[1;31mKeyError\u001b[0m: 'meta'"
       ]
      },
      {
       "output_type": "stream",
       "stream": "stdout",
       "text": [
        "\n",
        "Caching the list of root modules, please wait!\n",
        "(This will only be done once - type '%rehashx' to reset cache!)\n",
        "\n"
       ]
      }
     ],
     "prompt_number": 7
    },
    {
     "cell_type": "markdown",
     "metadata": {},
     "source": [
      "### Via Embed URL"
     ]
    },
    {
     "cell_type": "code",
     "collapsed": false,
     "input": [
      "from scrapelib import TreeScraper\n",
      "import re\n",
      "\n",
      "def eventdata(eid) :\n",
      "    try :\n",
      "        t=TreeScraper(\"http://embed.scribblelive.com/Embed/v5.aspx?Id=%s\" % eid)\n",
      "    except Exception, e:\n",
      "        return { \"error\" : e, \"id\" : eid  }\n",
      "    e=t.extract(title=\"//h2/text()\",\n",
      "             description=\"//meta[contains(@property,'og:description')]/@content\",\n",
      "             url=\"//meta[contains(@property,'og:url')]/@content\",        \n",
      "             time=\"//span[contains(@class,'DisplayPostTime')][1]//text()[1]\",\n",
      "             who=\"//dl[contains(@id,'WhosBloggingSidebar')]//li//text()\",\n",
      "             meta=\"//head//script/text()\",\n",
      "             canonical=\"//head//link[contains(@rel,'canonical')]/@href\"\n",
      "              )\n",
      "    e[\"rest\"]=\"\"\n",
      "    for m in re.finditer(r\"var (?P<name>[^ ]+) *= *(?P<val>[^\\r]+)\",''.join(e[\"meta\"])) :\n",
      "        d=m.groupdict()\n",
      "        if d[\"name\"] in (\"DiscussionsEnabled\",\"PromotionalUrl\",\"IsLive\",\"Time\") :\n",
      "            e[d[\"name\"]]=d[\"val\"]\n",
      "        else :\n",
      "            # e[\"rest\"]=e[\"rest\"]+\"\\n%(name)s = %(val)s\" % d\n",
      "            pass\n",
      "    del e[\"meta\"]\n",
      "    e[\"id\"]=eid\n",
      "    return e\n",
      "\n",
      "\n",
      "print eventdata(\"120285\") # error\n",
      "\n",
      "print eventdata(\"120295\") # ok\n",
      "\n",
      "print eventdata(\"120120\")\n",
      "\n",
      "print eventdata(\"165878\")"
     ],
     "language": "python",
     "metadata": {},
     "outputs": [
      {
       "ename": "KeyError",
       "evalue": "'meta'",
       "output_type": "pyerr",
       "traceback": [
        "\u001b[1;31m---------------------------------------------------------------------------\u001b[0m\n\u001b[1;31mKeyError\u001b[0m                                  Traceback (most recent call last)",
        "\u001b[1;32m<ipython-input-3-1d5263b14830>\u001b[0m in \u001b[0;36m<module>\u001b[1;34m()\u001b[0m\n\u001b[0;32m     30\u001b[0m \u001b[1;32mprint\u001b[0m \u001b[0meventdata\u001b[0m\u001b[1;33m(\u001b[0m\u001b[1;34m\"120285\"\u001b[0m\u001b[1;33m)\u001b[0m \u001b[1;31m# error\u001b[0m\u001b[1;33m\u001b[0m\u001b[0m\n\u001b[0;32m     31\u001b[0m \u001b[1;33m\u001b[0m\u001b[0m\n\u001b[1;32m---> 32\u001b[1;33m \u001b[1;32mprint\u001b[0m \u001b[0meventdata\u001b[0m\u001b[1;33m(\u001b[0m\u001b[1;34m\"120295\"\u001b[0m\u001b[1;33m)\u001b[0m \u001b[1;31m# ok\u001b[0m\u001b[1;33m\u001b[0m\u001b[0m\n\u001b[0m\u001b[0;32m     33\u001b[0m \u001b[1;33m\u001b[0m\u001b[0m\n\u001b[0;32m     34\u001b[0m \u001b[1;32mprint\u001b[0m \u001b[0meventdata\u001b[0m\u001b[1;33m(\u001b[0m\u001b[1;34m\"120120\"\u001b[0m\u001b[1;33m)\u001b[0m\u001b[1;33m\u001b[0m\u001b[0m\n",
        "\u001b[1;32m<ipython-input-3-1d5263b14830>\u001b[0m in \u001b[0;36meventdata\u001b[1;34m(eid)\u001b[0m\n\u001b[0;32m     16\u001b[0m               )\n\u001b[0;32m     17\u001b[0m     \u001b[0me\u001b[0m\u001b[1;33m[\u001b[0m\u001b[1;34m\"rest\"\u001b[0m\u001b[1;33m]\u001b[0m\u001b[1;33m=\u001b[0m\u001b[1;34m\"\"\u001b[0m\u001b[1;33m\u001b[0m\u001b[0m\n\u001b[1;32m---> 18\u001b[1;33m     \u001b[1;32mfor\u001b[0m \u001b[0mm\u001b[0m \u001b[1;32min\u001b[0m \u001b[0mre\u001b[0m\u001b[1;33m.\u001b[0m\u001b[0mfinditer\u001b[0m\u001b[1;33m(\u001b[0m\u001b[1;34mr\"var (?P<name>[^ ]+) *= *(?P<val>[^\\r]+)\"\u001b[0m\u001b[1;33m,\u001b[0m\u001b[1;34m''\u001b[0m\u001b[1;33m.\u001b[0m\u001b[0mjoin\u001b[0m\u001b[1;33m(\u001b[0m\u001b[0me\u001b[0m\u001b[1;33m[\u001b[0m\u001b[1;34m\"meta\"\u001b[0m\u001b[1;33m]\u001b[0m\u001b[1;33m)\u001b[0m\u001b[1;33m)\u001b[0m \u001b[1;33m:\u001b[0m\u001b[1;33m\u001b[0m\u001b[0m\n\u001b[0m\u001b[0;32m     19\u001b[0m         \u001b[0md\u001b[0m\u001b[1;33m=\u001b[0m\u001b[0mm\u001b[0m\u001b[1;33m.\u001b[0m\u001b[0mgroupdict\u001b[0m\u001b[1;33m(\u001b[0m\u001b[1;33m)\u001b[0m\u001b[1;33m\u001b[0m\u001b[0m\n\u001b[0;32m     20\u001b[0m         \u001b[1;32mif\u001b[0m \u001b[0md\u001b[0m\u001b[1;33m[\u001b[0m\u001b[1;34m\"name\"\u001b[0m\u001b[1;33m]\u001b[0m \u001b[1;32min\u001b[0m \u001b[1;33m(\u001b[0m\u001b[1;34m\"DiscussionsEnabled\"\u001b[0m\u001b[1;33m,\u001b[0m\u001b[1;34m\"PromotionalUrl\"\u001b[0m\u001b[1;33m,\u001b[0m\u001b[1;34m\"IsLive\"\u001b[0m\u001b[1;33m,\u001b[0m\u001b[1;34m\"Time\"\u001b[0m\u001b[1;33m)\u001b[0m \u001b[1;33m:\u001b[0m\u001b[1;33m\u001b[0m\u001b[0m\n",
        "\u001b[1;31mKeyError\u001b[0m: 'meta'"
       ]
      },
      {
       "output_type": "stream",
       "stream": "stdout",
       "text": [
        "{'id': '120285', 'error': IOError(u\"Error reading file 'http://embed.scribblelive.com/Embed/v5.aspx?Id=120285': failed to load HTTP resource\",)}\n"
       ]
      }
     ],
     "prompt_number": 3
    },
    {
     "cell_type": "markdown",
     "metadata": {},
     "source": [
      "### \u00dcber recent posts widget"
     ]
    },
    {
     "cell_type": "code",
     "collapsed": false,
     "input": [
      "import requests\n",
      "import re\n",
      "import random\n",
      "import simplejson\n",
      "import pprint\n",
      "\n",
      "def recentposts(eid) :\n",
      "    url=re.sub(r\"([0-9])\",r\"/\\1\",eid)\n",
      "    resp=requests.get(\"http://liveupdate1.scribblelive.com%s/recentposts.js?rand=%s\" % (url,random.randint(1000000,9999999))).content\n",
      "    obj=simplejson.loads(resp[resp.find(\",\")+1:-2])\n",
      "    obj[\"id\"]=eid\n",
      "    return obj\n",
      "    \n",
      "    \n",
      "\n",
      "pprint.pprint(recentposts(\"120285\")) # error\n",
      "\n",
      "pprint.pprint(recentposts(\"75449\")[\"Posts\"][0][\"CreatorName\"])\n",
      "\n"
     ],
     "language": "python",
     "metadata": {},
     "outputs": [
      {
       "output_type": "stream",
       "stream": "stdout",
       "text": [
        "{'Posts': [{'Content': 'The liveblog has been closed by Thomas Joechler.  Thanks for joining in!',\n",
        "            'CreatorId': 27815195,\n",
        "            'CreatorName': 'Thomas Joechler',\n",
        "            'CreatorThumbnail': '',\n",
        "            'Date': '6/11/2013 3:09:42 PM',\n",
        "            'EditorId': '',\n",
        "            'EditorName': '',\n",
        "            'Group': '0',\n",
        "            'Id': 79002277,\n",
        "            'IsApproved': 1,\n",
        "            'IsComment': 0,\n",
        "            'IsDeleted': 1,\n",
        "            'Lat': '',\n",
        "            'Long': '',\n",
        "            'Rank': '1',\n",
        "            'ReceivedDate': '6/11/2013 3:09:42 PM',\n",
        "            'Source': 'ScribbleLive',\n",
        "            'Type': 4}],\n",
        " 'Time': '6/11/2013 3:09:42 PM',\n",
        " 'id': '120285'}\n",
        "'Rubrik Bayern BR.de '"
       ]
      },
      {
       "output_type": "stream",
       "stream": "stdout",
       "text": [
        "\n"
       ]
      }
     ],
     "prompt_number": 6
    },
    {
     "cell_type": "markdown",
     "metadata": {},
     "source": [
      "### Wie viele Inline? via RecentPostsWidget"
     ]
    },
    {
     "cell_type": "code",
     "collapsed": false,
     "input": [
      "import requests\n",
      "import re\n",
      "import random\n",
      "import simplejson\n",
      "import pprint\n",
      "\n",
      "\n",
      "def eventdata(eid) :\n",
      "    url=re.sub(r\"([0-9])\",r\"/\\1\",eid)\n",
      "    resp=requests.get(\"http://liveupdate1.scribblelive.com%s/lastmodified.js?rand=%s\" % (url,random.randint(1000000,9999999))).content\n",
      "    return resp\n",
      "    \n",
      "    \n",
      "\n",
      "pprint.pprint(eventdata(\"120285\")) # error\n",
      "\n",
      "pprint.pprint(eventdata(\"120295\")) # ok\n",
      "\n",
      "pprint.pprint(eventdata(\"120120\"))\n",
      "\n",
      "pprint.pprint(eventdata(\"165878\"))\n",
      "\n"
     ],
     "language": "python",
     "metadata": {},
     "outputs": [
      {
       "output_type": "stream",
       "stream": "stdout",
       "text": [
        "'LiveBlog.Ping(120285,{Time:\"6/11/2013 3:09:42 PM\",CurrentVisitors:-1});'\n",
        "'LiveBlog.Ping(120295,{Time:\"6/10/2013 2:14:32 PM\",CurrentVisitors:-1});'"
       ]
      },
      {
       "output_type": "stream",
       "stream": "stdout",
       "text": [
        "\n",
        "'LiveBlog.Ping(120120,{Time:\"6/10/2013 7:58:10 PM\",CurrentVisitors:-1});'"
       ]
      },
      {
       "output_type": "stream",
       "stream": "stdout",
       "text": [
        "\n",
        "'LiveBlog.Ping(165878,{Time:\"8/13/2013 3:44:13 AM\",CurrentVisitors:-1});'"
       ]
      },
      {
       "output_type": "stream",
       "stream": "stdout",
       "text": [
        "\n"
       ]
      }
     ],
     "prompt_number": 106
    },
    {
     "cell_type": "code",
     "collapsed": false,
     "input": [],
     "language": "python",
     "metadata": {},
     "outputs": []
    },
    {
     "cell_type": "code",
     "collapsed": false,
     "input": [
      "import urlparse,re\n",
      "from scrapelib import TreeScraper\n",
      "\n",
      "\n",
      "def eventdata(eid) :\n",
      "    if eid[0]>=\"0\" and eid[0]<=\"9\" :\n",
      "        url=\"http://www.scribblelive.com/Event/Thread.aspx?Id=%s\" % eid\n",
      "    else :\n",
      "        url=urlparse.urljoin(\"http://www.scribblelive.com/Event/\",urlparse.urlsplit(eid)[2])\n",
      "    try :\n",
      "        t=TreeScraper(url)\n",
      "    except Exception, e:\n",
      "        return { \"error\" : e, \"id\" : eid  }\n",
      "    e=t.extract(title=\"//h2/text()\",\n",
      "              description=\"//h3/text()\",\n",
      "              time=\"//span[contains(@class,'DisplayPostTime')][1]//text()[1]\",\n",
      "              who=\"//dl[contains(@id,'WhosBloggingSidebar')]//li//text()\",\n",
      "              meta=\"//head//script/text()\",\n",
      "              canonical=\"//head//link[contains(@rel,'canonical')]/@href\"\n",
      "              )\n",
      "    for m in re.finditer(r\"var (?P<name>[^ ]+) *= *\\\"?(?P<val>[^\\r]+[^\\\"])\\\"?;\",''.join(e[\"meta\"])) :\n",
      "        d=m.groupdict()\n",
      "        if d[\"name\"] in (\"DiscussionsEnabled\",\"PromotionalUrl\",\"IsLive\",\"Time\",\"ThreadId\") :\n",
      "            e[d[\"name\"]]=d[\"val\"]\n",
      "        else :\n",
      "            # e[\"rest\"]=e[\"rest\"]+\"\\n%(name)s = %(val)s\" % d\n",
      "            pass\n",
      "    del e[\"meta\"]\n",
      "    e[\"id\"]=eid\n",
      "    return e\n",
      "\n",
      "\n",
      "print eventdata(\"http://scribblelive.mobi/Event/Test-Liveevent_Politik_2\")"
     ],
     "language": "python",
     "metadata": {},
     "outputs": [
      {
       "output_type": "stream",
       "stream": "stdout",
       "text": [
        "{'Time': '8/22/2013 2:52:45 PM', 'DiscussionsEnabled': 'true', 'description': 'ScribbleLive-Test PolitikScribbleLive-Test PolitikScribbleLive-Test PolitikScribbleLive-Test PolitikScribbleLive-Test PolitikScribbleLive-Test PolitikScribbleLive-Test PolitikScribbleLive-Test PolitikScribbleLive-Test PolitikScribbleLive-Test Politik', 'title': 'ScribbleLive-Test Politik ', 'who': ['Cai Philippsen', 'Kai N. Pritzsche', 'Tillmann Neuscheler', 'Oliver Georgi', 'Monika Ganster', 'FAZ Admin'], 'ThreadId': '177087', 'time': '8/22/2013 2:52:45 PM', 'IsLive': 'true', 'id': 'http://scribblelive.mobi/Event/Test-Liveevent_Politik_2', 'canonical': 'http://live.faz.net/Event/Test-Liveevent_Politik_2'}\n"
       ]
      }
     ],
     "prompt_number": 22
    },
    {
     "cell_type": "code",
     "collapsed": false,
     "input": [
      "import requests \n",
      "from scrapelib import TreeScraper\n",
      "import scrapelib\n",
      "\n",
      "proxy = { 'http':'127.0.0.1:8118' }\n",
      "header = { \"user-agent\" : \"Mozilla/5.0 (compatible; MSIE 9.0; Windows NT 6.1; WOW64; Trident/5.0; chromeframe/12.0.742.112)\" }\n",
      "\n",
      "\n",
      "p=TreeScraper(\"http://google.com\")\n",
      "p1=TreeScraper(\"http://versicherungsmonitor.de/test_dpa\",proxies=proxy,headers=header)\n",
      "type(p.tree),type(p1.tree)==scrapelib.ScrapedElement"
     ],
     "language": "python",
     "metadata": {},
     "outputs": [
      {
       "output_type": "pyout",
       "prompt_number": 15,
       "text": [
        "(lxml.etree._ElementTree, True)"
       ]
      }
     ],
     "prompt_number": 15
    },
    {
     "cell_type": "code",
     "collapsed": false,
     "input": [
      "from scrapelib import TreeScraper\n",
      "from transformlib import Transformer\n",
      "import re\n",
      "import urlparse\n",
      "import requests\n",
      "import random   \n",
      "import simplejson, pprint,string, datetime\n",
      "from collections import OrderedDict\n",
      "import types\n",
      "import copy\n",
      "\n",
      "\n",
      "proxy  = { 'http':'127.0.0.1:8118' }\n",
      "header = { \"user-agent\" : \"Mozilla/5.0 (compatible; MSIE 9.0; Windows NT 6.1; WOW64; Trident/5.0; chromeframe/12.0.742.112)\" }\n",
      "token = { 'sss@gmx.info' : \"1fNpNSiw\", 'spon' : \"4BA1IOGz\" }\n",
      "\n",
      "\n",
      "\n",
      "def eventdata_web(eid) :\n",
      "    if eid[0]>=\"0\" and eid[0]<=\"9\" :\n",
      "        url=\"http://www.scribblelive.com/Event/Thread.aspx?Id=%s\" % eid\n",
      "    else :\n",
      "        url=urlparse.urljoin(\"http://www.scribblelive.com/Event/\",urlparse.urlsplit(eid)[2])\n",
      "    try :\n",
      "        t=TreeScraper(url,proxies=proxy, headers=header)\n",
      "    except Exception, e:\n",
      "        return { \"error\" : e, \"id\" : eid  }\n",
      "    e=t.extract(title=\"//h2/text()\",\n",
      "              description=\"//h3/text()\",\n",
      "              time=\"//span[contains(@class,'DisplayPostTime')][1]//text()[1]\",\n",
      "              who=\"//dl[contains(@id,'WhosBloggingSidebar')]//li//text()\",\n",
      "              meta=\"//head//script/text()\",\n",
      "              canonical=\"//head//link[contains(@rel,'canonical')]/@href\"\n",
      "              )\n",
      "    for m in re.finditer(r\"var (?P<name>[^ ]+) *= *\\\"?(?P<val>[^\\r]+[^\\\"])\\\"?;\",''.join(e[\"meta\"])) :\n",
      "        d=m.groupdict()\n",
      "        if d[\"name\"] in (\"DiscussionsEnabled\",\"PromotionalUrl\",\"IsLive\",\"Time\",\"ThreadId\") :\n",
      "            e[d[\"name\"]]=d[\"val\"]\n",
      "        else :\n",
      "            # e[\"rest\"]=e[\"rest\"]+\"\\n%(name)s = %(val)s\" % d\n",
      "            pass\n",
      "    del e[\"meta\"]\n",
      "    e[\"id\"]=eid\n",
      "    return e\n",
      "\n",
      "\n",
      "def eventdata_api(eid) :\n",
      "    a=requests.get(\"http://apiv1.scribblelive.com/event/%s/?Token=%s&callback=g\" % (eid,token[\"sss@gmx.info\"]),proxies=proxy,headers=header)\n",
      "    return simplejson.loads(a.content[2:-2])\n",
      "\n",
      "    \n",
      "\n",
      "def js_to_timestamp(a) :\n",
      "    return datetime.datetime.fromtimestamp(int(re.search(r\"(?P<time>\\d+)\",a).groupdict()[\"time\"])/1000)\n",
      "\n",
      "    \n",
      "\n",
      " \n",
      "translate = Transformer(((  'time'                                    , lambda a,b,c:  { a: None,  'stime' : datetime.datetime.strptime(b, \"%m/%d/%Y %I:%M:%S %p\") }),\n",
      "                        (   'Time'                                    , lambda a,b,c:  { a: None,  'mtime' : datetime.datetime.strptime(b, \"%m/%d/%Y %I:%M:%S %p\") }),\n",
      "                        (   'Title'                                   , lambda a,b,c:  { a: None,  'metatitle' : b }),\n",
      "                        (   'ThreadId'                                , lambda a,b,c:  { a: None,  'id' : b }),\n",
      "                        (  re.compile('^End|Created|Start|LastModified$')\n",
      "                                                                      , lambda a,b,c:  { a: None, string.lower(a) : js_to_timestamp(b) }),\n",
      "                        (   re.compile(\".*\")                          , lambda a,b,c:  { a: None, string.lower(a) : b}),\n",
      "                        \n",
      "                       ))\n",
      "\n",
      "                 \n",
      "def eventdata(eid,api=True,web=True) :\n",
      "    if not web :\n",
      "        m=eventdata_api(eid)\n",
      "    else :\n",
      "        m=eventdata_web(eid)\n",
      "        if api and (not \"error\" in m) and ((\"ThreadId\" in m) or (\"id\" in m)):\n",
      "            m.update(eventdata_api(m.get(\"ThreadId\",m.get(\"id\",\"\"))))\n",
      "    return translate(m)\n",
      "                \n",
      "               \n",
      "               \n",
      "def listevents() :\n",
      "    t=TreeScraper(\"http://scribblelive.mobi\",headers=header)\n",
      "    return t.extract(\"ul#Threads li\",url=\"./a/@href\", title=\"./a/text()\",description=\".//span[contains(@class,'Description')]/text()\",stamp=\".//span[contains(@class,'DateTime')]/text()\" )\n",
      "    \n",
      "# for l in listevents() :\n",
      "#    l.update(eventdata(l[\"url\"]))\n",
      "#    print l :\n",
      "    \n",
      "print eventdata(\"52369\",web=False),\"\\n\\n\",eventdata(\"120285\"),\"\\n\\n\",eventdata(\"179163\",api=False),\"\\n\\n\",eventdata(\"120285\",web=False)"
     ],
     "language": "python",
     "metadata": {},
     "outputs": [
      {
       "output_type": "stream",
       "stream": "stdout",
       "text": [
        "{'isdeleted': 0, 'iscommenting': 1, 'issyndicatable': 0, 'syndicatedcomments': 0, 'issyndicated': 0, 'meta': {}, 'pages': 2, 'description': '', 'numcomments': 86, 'end': datetime.datetime(2012, 7, 11, 23, 51, 39), 'language': 'da', 'discussion': {'Moderated': 0, 'Enabled': 0}, 'numposts': 0, 'metatitle': u'FCK-Cercle Br\\xfcgge', 'id': 52369, 'start': datetime.datetime(2012, 7, 11, 18, 55, 56), 'created': datetime.datetime(2012, 7, 11, 14, 44, 51), 'ismoderated': 1, 'lastmodified': datetime.datetime(2012, 7, 11, 20, 51, 39), 'islive': 0} \n",
        "\n",
        "{'issyndicated': 0, 'meta': {}, 'id': 120285, 'numcomments': 3, 'end': datetime.datetime(2013, 6, 11, 17, 9, 42), 'title': 'Sorry, that live event was not found', 'discussion': {'Moderated': 0, 'Enabled': 0}, 'iscommenting': 1, 'start': datetime.datetime(2013, 6, 11, 17, 0), 'ismoderated': 1, 'syndicatedcomments': 0, 'islive': 0, 'issyndicatable': 0, 'description': 'Deutschland gegen Schottland', 'lastmodified': datetime.datetime(2013, 6, 11, 17, 10, 3), 'pages': 1, 'language': 'de', 'numposts': 5, 'created': datetime.datetime(2013, 6, 10, 16, 10, 23), 'websites': [{'Url': 'http://www.scribblelive.com/Event/Fussball_Landerspiel_der_Frauen', 'Id': 1, 'Name': 'ScribbleLive'}], 'isdeleted': 1, 'metatitle': u'Fussball L\\xe4nderspiel der Frauen'}"
       ]
      },
      {
       "output_type": "stream",
       "stream": "stdout",
       "text": [
        " \n",
        "\n",
        "{'title': 'Advanced Post ', 'who': 'SuperFooty', 'islive': 'true', 'mtime': datetime.datetime(2013, 8, 23, 2, 7, 53), 'discussionsenabled': 'false', 'id': '179163', 'canonical': 'http://www.scribblelive.com/Event/Thread.aspx?Id=179163'}"
       ]
      },
      {
       "output_type": "stream",
       "stream": "stdout",
       "text": [
        " \n",
        "\n",
        "{'meta': {}, 'id': 120285, 'issyndicated': 0, 'end': datetime.datetime(2013, 6, 11, 17, 9, 42), 'discussion': {'Moderated': 0, 'Enabled': 0}, 'pages': 1, 'start': datetime.datetime(2013, 6, 11, 17, 0), 'ismoderated': 1, 'syndicatedcomments': 0, 'islive': 0, 'description': 'Deutschland gegen Schottland', 'lastmodified': datetime.datetime(2013, 6, 11, 17, 10, 3), 'issyndicatable': 0, 'iscommenting': 1, 'language': 'de', 'numposts': 5, 'created': datetime.datetime(2013, 6, 10, 16, 10, 23), 'websites': [{'Url': 'http://www.scribblelive.com/Event/Fussball_Landerspiel_der_Frauen', 'Id': 1, 'Name': 'ScribbleLive'}], 'isdeleted': 1, 'numcomments': 3, 'metatitle': u'Fussball L\\xe4nderspiel der Frauen'}"
       ]
      },
      {
       "output_type": "stream",
       "stream": "stdout",
       "text": [
        "\n"
       ]
      }
     ],
     "prompt_number": 4
    },
    {
     "cell_type": "code",
     "collapsed": false,
     "input": [
      "import re\n",
      "\n",
      "a=re.compile('^end|created|start|lastmodified$')\n",
      "a.search(\"end\")"
     ],
     "language": "python",
     "metadata": {},
     "outputs": [
      {
       "output_type": "pyout",
       "prompt_number": 48,
       "text": [
        "<_sre.SRE_Match at 0x9469608>"
       ]
      }
     ],
     "prompt_number": 48
    },
    {
     "cell_type": "code",
     "collapsed": false,
     "input": [
      "datetime.datetime.strptime(\"8/23/2013 2:07:53 PM\", \"%m/%d/%Y %I:%M:%S %p\")"
     ],
     "language": "python",
     "metadata": {},
     "outputs": [
      {
       "output_type": "pyout",
       "prompt_number": 69,
       "text": [
        "datetime.datetime(2013, 8, 23, 14, 7, 53)"
       ]
      }
     ],
     "prompt_number": 69
    },
    {
     "cell_type": "code",
     "collapsed": false,
     "input": [
      "from slscraper import eventdata \n",
      "\n",
      "eventdata(\"144083\")\n"
     ],
     "language": "python",
     "metadata": {},
     "outputs": [
      {
       "output_type": "pyout",
       "prompt_number": 14,
       "text": [
        "{'created': datetime.datetime(2013, 7, 11, 10, 20, 40),\n",
        " 'description': 'Live coverage of the Holmfirth Tesco planning appeal',\n",
        " 'discussion': {'Enabled': 0, 'Moderated': 0},\n",
        " 'end': datetime.datetime(2013, 7, 11, 15, 0, 46),\n",
        " 'id': 144083,\n",
        " 'iscommenting': 1,\n",
        " 'isdeleted': 0,\n",
        " 'islive': 0,\n",
        " 'ismoderated': 1,\n",
        " 'issyndicatable': 0,\n",
        " 'issyndicated': 0,\n",
        " 'language': 'en',\n",
        " 'lastmodified': datetime.datetime(2013, 7, 11, 15, 0, 46),\n",
        " 'meta': {},\n",
        " 'metatitle': 'Holmfirth Tesco planning appeal',\n",
        " 'numcomments': 2,\n",
        " 'numposts': 23,\n",
        " 'pages': 1,\n",
        " 'start': datetime.datetime(2013, 7, 11, 10, 51, 49),\n",
        " 'syndicatedcomments': 0,\n",
        " 'title': '403 - Forbidden: Access is denied.'}"
       ]
      }
     ],
     "prompt_number": 14
    },
    {
     "cell_type": "code",
     "collapsed": false,
     "input": [
      "import slscraper\n",
      "\n",
      "slscraper.eventdata(\"113596\")"
     ],
     "language": "python",
     "metadata": {},
     "outputs": [
      {
       "metadata": {},
       "output_type": "pyout",
       "prompt_number": 1,
       "text": [
        "{'canonical': 'http://live.dtf12.de/Event/Test_Event_dpa_Berlin_29_5_2013',\n",
        " 'created': datetime.datetime(2013, 5, 29, 10, 28),\n",
        " 'description': 'Dies ist der Beschreibungstext.',\n",
        " 'discussion': {'Enabled': 1, 'Moderated': 1},\n",
        " 'discussionsenabled': 'true',\n",
        " 'end': datetime.datetime(2013, 8, 30, 22, 21, 1),\n",
        " 'id': 113596,\n",
        " 'iscommenting': 1,\n",
        " 'isdeleted': 0,\n",
        " 'islive': 1,\n",
        " 'ismoderated': 1,\n",
        " 'issyndicatable': 0,\n",
        " 'issyndicated': 1,\n",
        " 'language': 'de',\n",
        " 'lastmodified': datetime.datetime(2013, 8, 30, 19, 21, 1),\n",
        " 'location': {'Lat': 51.0, 'Long': 9.0},\n",
        " 'meta': {'Secure': '1'},\n",
        " 'metatitle': '[Sandkasten] Test Event dpa Berlin 29. 5. 2013',\n",
        " 'mtime': datetime.datetime(2013, 8, 30, 17, 21, 30),\n",
        " 'numcomments': 15,\n",
        " 'numposts': 20066,\n",
        " 'pages': 446,\n",
        " 'start': datetime.datetime(2013, 8, 29, 20, 30),\n",
        " 'stime': datetime.datetime(2013, 6, 10, 15, 22, 48),\n",
        " 'syndicatedcomments': 0,\n",
        " 'title': '[Sandkasten] Test Event dpa Berlin 29. 5. 2013 ',\n",
        " 'websites': [{'Id': 988,\n",
        "   'Name': 'dpa test Whitelabel V2',\n",
        "   'Url': 'http://live.dtf12.de/Event/Test_Event_dpa_Berlin_29_5_2013'}],\n",
        " 'who': ['Martin Virtel',\n",
        "  'Sabrina Sosa Silva',\n",
        "  'mollitor.daniel',\n",
        "  'frank.buhr',\n",
        "  'jan.buelck',\n",
        "  u'S\\xc3\\xbcleyman Artiisik /...']}"
       ]
      }
     ],
     "prompt_number": 1
    },
    {
     "cell_type": "code",
     "collapsed": false,
     "input": [],
     "language": "python",
     "metadata": {},
     "outputs": []
    }
   ],
   "metadata": {}
  }
 ]
}