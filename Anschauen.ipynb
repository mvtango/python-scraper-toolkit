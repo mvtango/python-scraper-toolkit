{
 "metadata": {
  "name": ""
 },
 "nbformat": 3,
 "nbformat_minor": 0,
 "worksheets": [
  {
   "cells": [
    {
     "cell_type": "markdown",
     "metadata": {},
     "source": [
      "## Vorspann ##"
     ]
    },
    {
     "cell_type": "code",
     "collapsed": false,
     "input": [
      "from dumptruck import DumpTruck\n",
      "dt=DumpTruck(dbname=\"data/events.sqlite\")\n",
      "from cgi import escape\n",
      "import types\n",
      "import re\n",
      "\n",
      "def hstr(s) :\n",
      "    if type(s) not in types.StringTypes :\n",
      "        s=unicode(repr(s))\n",
      "    s=unicode(s)\n",
      "    s=re.sub(r\"(http://([^/]+[^ ]+))\",r'<a href=\"\\1\" target=\"_blank\">\\2</a>',escape(s))\n",
      "    return s\n",
      "\n",
      "\n",
      "styles=['#fbe1ca','#ffffff']\n",
      "\n",
      "class HtmlLol :\n",
      "    \n",
      "    def __init__(self,o) :\n",
      "        self.o=o\n",
      "        \n",
      "    def _repr_html_(self) :\n",
      "        n=0\n",
      "        res=u\"<table>\"\n",
      "        res+=u\"<tr><th>%s</th></tr>\" % \"</th><th>\".join([hstr(a) for a in self.o[0]])\n",
      "        for r in self.o[1:] :\n",
      "            res+=u\"<tr style='background-color: %s'><td>%s</td></tr>\" % (styles[n % 2] ,u\"</td><td>\".join([hstr(a) for a in r]))\n",
      "            n+=1\n",
      "        res+=u\"</table>\"\n",
      "        return res\n",
      "            \n",
      "        \n",
      "\n",
      "def table(s) :\n",
      "    res=dt.execute(s)\n",
      "    top=[]\n",
      "    top.append(res[0].keys())\n",
      "    top.extend([a.values() for a in dt.execute(s)])\n",
      "    t=HtmlLol(top)\n",
      "    return(t)\n",
      "\n",
      "\n"
     ],
     "language": "python",
     "metadata": {},
     "outputs": [],
     "prompt_number": 5
    },
    {
     "cell_type": "markdown",
     "metadata": {},
     "source": [
      "## Neueste Live Blogs (deutsch) ##"
     ]
    },
    {
     "cell_type": "code",
     "collapsed": false,
     "input": [
      "table(\"select numposts,numcomments,id,title,lastmodified from events where (upper(title) like '%MERKEL%' or upper(title) like '%DUELL%' or upper(description) like '%DUELL%') order by id desc, numposts desc limit 20\")"
     ],
     "language": "python",
     "metadata": {},
     "outputs": [
      {
       "html": [
        "<table><tr><th>numposts</th><th>numcomments</th><th>id</th><th>title</th><th>lastmodified</th></tr><tr style='background-color: #fbe1ca'><td>103</td><td>21</td><td>200952</td><td>TV-Arena Merkel</td><td>datetime.datetime(2013, 9, 9, 21, 51, 5)</td></tr><tr style='background-color: #ffffff'><td>112</td><td>32</td><td>200803</td><td>TV-Duelle: Faymann vs. Glawischnig, Spindelegger vs. Strache</td><td>datetime.datetime(2013, 9, 9, 21, 57, 33)</td></tr><tr style='background-color: #fbe1ca'><td>43</td><td>17</td><td>194849</td><td>Das bayerische TV-Duell</td><td>datetime.datetime(2013, 9, 5, 10, 36, 44)</td></tr><tr style='background-color: #ffffff'><td>143</td><td>32</td><td>193204</td><td>TV-Duelle: Spindelegger vs. Stronach, Faymann vs. Bucher</td><td>datetime.datetime(2013, 9, 5, 11, 23, 14)</td></tr><tr style='background-color: #fbe1ca'><td>121</td><td>20</td><td>192006</td><td>Merkel-Steinbr\u00fcck-Debatte im Bundestag 3.9.13</td><td>datetime.datetime(2013, 9, 3, 17, 9, 14)</td></tr><tr style='background-color: #ffffff'><td>92</td><td>17</td><td>191150</td><td>Kleines TV Duell Trittin Br\u00fcderle Gysi 2.9.2013</td><td>datetime.datetime(2013, 9, 3, 8, 16, 50)</td></tr><tr style='background-color: #fbe1ca'><td>6</td><td>0</td><td>190607</td><td>Duellen p\u00c3\u00a5 Plassen </td><td>datetime.datetime(2013, 9, 2, 13, 0, 52)</td></tr><tr style='background-color: #ffffff'><td>126</td><td>18</td><td>189804</td><td>Das TV-Duell: Merkel gegen Steinbr\u00c3\u00bcck</td><td>datetime.datetime(2013, 9, 1, 23, 12, 11)</td></tr><tr style='background-color: #fbe1ca'><td>139</td><td>6</td><td>189714</td><td>TV-Duell Merkel vs. Steinbr\u00c3\u00bcck</td><td>datetime.datetime(2013, 9, 2, 9, 35, 38)</td></tr><tr style='background-color: #ffffff'><td>0</td><td>0</td><td>189350</td><td>Das TV-Duell</td><td>datetime.datetime(2013, 9, 1, 15, 14, 27)</td></tr><tr style='background-color: #fbe1ca'><td>17</td><td>2456</td><td>187306</td><td>Merkel gegen Steinbr\u00fcck - Kommentare zum TV-Duell</td><td>datetime.datetime(2013, 9, 2, 0, 2, 48)</td></tr><tr style='background-color: #ffffff'><td>150</td><td>22</td><td>186293</td><td>Kampf ums Kanzleramt: Merkel und Steinbr\u00c3\u00bcck im TV-Duell </td><td>datetime.datetime(2013, 9, 2, 12, 52, 9)</td></tr><tr style='background-color: #fbe1ca'><td>177</td><td>18</td><td>186272</td><td>TV Duell Merkel Steinbr\u00fcck 1.9.13</td><td>datetime.datetime(2013, 9, 2, 13, 57, 3)</td></tr><tr style='background-color: #ffffff'><td>43</td><td>53</td><td>186151</td><td>Merkel kontra Steinbr\u00c3\u00bcck \u00e2\u0080\u0093 Wer gewinnt das TV-Duell?</td><td>datetime.datetime(2013, 9, 1, 22, 21, 18)</td></tr><tr style='background-color: #fbe1ca'><td>0</td><td>0</td><td>186048</td><td>TV-Duelle: Glawischnig vs. Strache, Bucher vs. Stronach</td><td>datetime.datetime(2013, 8, 29, 19, 28, 47)</td></tr><tr style='background-color: #ffffff'><td>107</td><td>3</td><td>184792</td><td>Kampf ums Kanzleramt: Fernseh-Duell Merkel - Steinbr\u00c3\u00bcck</td><td>datetime.datetime(2013, 9, 2, 12, 52, 14)</td></tr><tr style='background-color: #fbe1ca'><td>59</td><td>33</td><td>184755</td><td>Liveticker-Fernsehduell</td><td>datetime.datetime(2013, 9, 1, 22, 37, 22)</td></tr><tr style='background-color: #ffffff'><td>0</td><td>0</td><td>184380</td><td>Duell zur Landtagswahl</td><td>datetime.datetime(2013, 9, 1, 17, 14, 14)</td></tr><tr style='background-color: #fbe1ca'><td>24</td><td>712</td><td>184351</td><td>Duell zur Bundestagswahl</td><td>datetime.datetime(2013, 9, 2, 0, 20, 14)</td></tr><tr style='background-color: #ffffff'><td>169</td><td>0</td><td>182287</td><td>Merkel gegen Steinbr\u00c3\u00bcck: Das TV-Duell zur Bundestagswahl 2013</td><td>datetime.datetime(2013, 9, 2, 1, 51, 57)</td></tr></table>"
       ],
       "metadata": {},
       "output_type": "pyout",
       "prompt_number": 6,
       "text": [
        "<__main__.HtmlLol instance at 0xb3a2a6ec>"
       ]
      }
     ],
     "prompt_number": 6
    },
    {
     "cell_type": "markdown",
     "metadata": {},
     "source": [
      "## Statistik nach Sprachen ##"
     ]
    },
    {
     "cell_type": "code",
     "collapsed": false,
     "input": [
      "table(\"select language,count(*) as num from events where numposts>0  group by language order by num desc\")"
     ],
     "language": "python",
     "metadata": {},
     "outputs": [
      {
       "html": [
        "<table><tr><th>language</th><th>num</th></tr><tr style='background-color: #fbe1ca'><td>en</td><td>75674</td></tr><tr style='background-color: #ffffff'><td>es</td><td>4770</td></tr><tr style='background-color: #fbe1ca'><td>fr</td><td>4410</td></tr><tr style='background-color: #ffffff'><td>da</td><td>1877</td></tr><tr style='background-color: #fbe1ca'><td>it</td><td>1827</td></tr><tr style='background-color: #ffffff'><td>de</td><td>1784</td></tr><tr style='background-color: #fbe1ca'><td>sv</td><td>510</td></tr><tr style='background-color: #ffffff'><td>pt</td><td>340</td></tr><tr style='background-color: #fbe1ca'><td>nn</td><td>293</td></tr><tr style='background-color: #ffffff'><td>ru</td><td>287</td></tr><tr style='background-color: #fbe1ca'><td>fi</td><td>231</td></tr><tr style='background-color: #ffffff'><td>nl</td><td>197</td></tr><tr style='background-color: #fbe1ca'><td>tr</td><td>79</td></tr><tr style='background-color: #ffffff'><td>sl</td><td>77</td></tr><tr style='background-color: #fbe1ca'><td>ar</td><td>56</td></tr><tr style='background-color: #ffffff'><td>En</td><td>53</td></tr><tr style='background-color: #fbe1ca'><td>ja</td><td>16</td></tr><tr style='background-color: #ffffff'><td>hr</td><td>13</td></tr><tr style='background-color: #fbe1ca'><td>no</td><td>4</td></tr><tr style='background-color: #ffffff'><td>nb</td><td>3</td></tr><tr style='background-color: #fbe1ca'><td>zh</td><td>3</td></tr><tr style='background-color: #ffffff'><td>pl</td><td>2</td></tr><tr style='background-color: #fbe1ca'><td>sr</td><td>2</td></tr><tr style='background-color: #ffffff'><td>  </td><td>1</td></tr><tr style='background-color: #fbe1ca'><td>he</td><td>1</td></tr><tr style='background-color: #ffffff'><td>lv</td><td>1</td></tr></table>"
       ],
       "metadata": {},
       "output_type": "pyout",
       "prompt_number": 15,
       "text": [
        "<__main__.HtmlLol instance at 0xa317b8c>"
       ]
      }
     ],
     "prompt_number": 15
    },
    {
     "cell_type": "markdown",
     "metadata": {},
     "source": [
      "## Zeitverlauf: Deutsche Liveblogs ##"
     ]
    },
    {
     "cell_type": "code",
     "collapsed": false,
     "input": [
      "table(\"select language,count(*) as num,strftime('%Y-%m',start) as month from events where numposts>0 and language='de' group by language,month order by month desc\")"
     ],
     "language": "python",
     "metadata": {},
     "outputs": [
      {
       "html": [
        "<table><tr><th>language</th><th>num</th><th>month</th></tr><tr style='background-color: #fbe1ca'><td>de</td><td>1</td><td>2014-07</td></tr><tr style='background-color: #ffffff'><td>de</td><td>1</td><td>2014-05</td></tr><tr style='background-color: #fbe1ca'><td>de</td><td>2</td><td>2014-03</td></tr><tr style='background-color: #ffffff'><td>de</td><td>1</td><td>2014-01</td></tr><tr style='background-color: #fbe1ca'><td>de</td><td>2</td><td>2013-12</td></tr><tr style='background-color: #ffffff'><td>de</td><td>1</td><td>2013-11</td></tr><tr style='background-color: #fbe1ca'><td>de</td><td>1</td><td>2013-10</td></tr><tr style='background-color: #ffffff'><td>de</td><td>75</td><td>2013-09</td></tr><tr style='background-color: #fbe1ca'><td>de</td><td>187</td><td>2013-08</td></tr><tr style='background-color: #ffffff'><td>de</td><td>146</td><td>2013-07</td></tr><tr style='background-color: #fbe1ca'><td>de</td><td>194</td><td>2013-06</td></tr><tr style='background-color: #ffffff'><td>de</td><td>181</td><td>2013-05</td></tr><tr style='background-color: #fbe1ca'><td>de</td><td>111</td><td>2013-04</td></tr><tr style='background-color: #ffffff'><td>de</td><td>89</td><td>2013-03</td></tr><tr style='background-color: #fbe1ca'><td>de</td><td>84</td><td>2013-02</td></tr><tr style='background-color: #ffffff'><td>de</td><td>69</td><td>2013-01</td></tr><tr style='background-color: #fbe1ca'><td>de</td><td>24</td><td>2012-12</td></tr><tr style='background-color: #ffffff'><td>de</td><td>45</td><td>2012-11</td></tr><tr style='background-color: #fbe1ca'><td>de</td><td>60</td><td>2012-10</td></tr><tr style='background-color: #ffffff'><td>de</td><td>71</td><td>2012-09</td></tr><tr style='background-color: #fbe1ca'><td>de</td><td>18</td><td>2012-08</td></tr><tr style='background-color: #ffffff'><td>de</td><td>11</td><td>2012-07</td></tr><tr style='background-color: #fbe1ca'><td>de</td><td>27</td><td>2012-06</td></tr><tr style='background-color: #ffffff'><td>de</td><td>25</td><td>2012-05</td></tr><tr style='background-color: #fbe1ca'><td>de</td><td>15</td><td>2012-04</td></tr><tr style='background-color: #ffffff'><td>de</td><td>20</td><td>2012-03</td></tr><tr style='background-color: #fbe1ca'><td>de</td><td>13</td><td>2012-02</td></tr><tr style='background-color: #ffffff'><td>de</td><td>14</td><td>2012-01</td></tr><tr style='background-color: #fbe1ca'><td>de</td><td>3</td><td>2011-12</td></tr><tr style='background-color: #ffffff'><td>de</td><td>3</td><td>2011-11</td></tr><tr style='background-color: #fbe1ca'><td>de</td><td>3</td><td>2011-10</td></tr><tr style='background-color: #ffffff'><td>de</td><td>4</td><td>2011-09</td></tr><tr style='background-color: #fbe1ca'><td>de</td><td>1</td><td>2011-08</td></tr><tr style='background-color: #ffffff'><td>de</td><td>2</td><td>2011-07</td></tr><tr style='background-color: #fbe1ca'><td>de</td><td>1</td><td>2010-10</td></tr><tr style='background-color: #ffffff'><td>de</td><td>1</td><td>2010-08</td></tr><tr style='background-color: #fbe1ca'><td>de</td><td>7</td><td>2010-07</td></tr><tr style='background-color: #ffffff'><td>de</td><td>21</td><td>2010-06</td></tr><tr style='background-color: #fbe1ca'><td>de</td><td>25</td><td>2010-05</td></tr><tr style='background-color: #ffffff'><td>de</td><td>19</td><td>2010-04</td></tr><tr style='background-color: #fbe1ca'><td>de</td><td>16</td><td>2010-03</td></tr><tr style='background-color: #ffffff'><td>de</td><td>20</td><td>2010-02</td></tr><tr style='background-color: #fbe1ca'><td>de</td><td>21</td><td>2010-01</td></tr><tr style='background-color: #ffffff'><td>de</td><td>30</td><td>2009-12</td></tr><tr style='background-color: #fbe1ca'><td>de</td><td>16</td><td>2009-11</td></tr><tr style='background-color: #ffffff'><td>de</td><td>27</td><td>2009-10</td></tr><tr style='background-color: #fbe1ca'><td>de</td><td>27</td><td>2009-09</td></tr><tr style='background-color: #ffffff'><td>de</td><td>26</td><td>2009-08</td></tr><tr style='background-color: #fbe1ca'><td>de</td><td>14</td><td>2009-07</td></tr><tr style='background-color: #ffffff'><td>de</td><td>21</td><td>2009-06</td></tr><tr style='background-color: #fbe1ca'><td>de</td><td>13</td><td>2009-05</td></tr><tr style='background-color: #ffffff'><td>de</td><td>7</td><td>2009-04</td></tr><tr style='background-color: #fbe1ca'><td>de</td><td>19</td><td>2009-03</td></tr><tr style='background-color: #ffffff'><td>de</td><td>20</td><td>2009-02</td></tr></table>"
       ],
       "metadata": {},
       "output_type": "pyout",
       "prompt_number": 17,
       "text": [
        "<__main__.HtmlLol instance at 0xb3a3cf6c>"
       ]
      }
     ],
     "prompt_number": 17
    },
    {
     "cell_type": "markdown",
     "metadata": {},
     "source": [
      "## Die letzten Tage ##"
     ]
    },
    {
     "cell_type": "code",
     "collapsed": false,
     "input": [
      "table(\"select count(*),max(id) as id,strftime('%Y-%m-%d',start) as day from events where start>'2013-08-01' and language='de' and numposts>0  group by day order by day desc\")"
     ],
     "language": "python",
     "metadata": {},
     "outputs": [
      {
       "html": [
        "<table><tr><th>count(*)</th><th>id</th><th>day</th></tr><tr style='background-color: #fbe1ca'><td>1</td><td>492984</td><td>2014-03-18</td></tr><tr style='background-color: #ffffff'><td>1</td><td>476819</td><td>2014-03-09</td></tr><tr style='background-color: #fbe1ca'><td>1</td><td>308489</td><td>2013-12-04</td></tr><tr style='background-color: #ffffff'><td>1</td><td>221271</td><td>2013-09-25</td></tr><tr style='background-color: #fbe1ca'><td>3</td><td>202821</td><td>2013-09-11</td></tr><tr style='background-color: #ffffff'><td>18</td><td>202795</td><td>2013-09-10</td></tr><tr style='background-color: #fbe1ca'><td>6</td><td>201041</td><td>2013-09-09</td></tr><tr style='background-color: #ffffff'><td>2</td><td>199490</td><td>2013-09-08</td></tr><tr style='background-color: #fbe1ca'><td>3</td><td>198616</td><td>2013-09-07</td></tr><tr style='background-color: #ffffff'><td>2</td><td>196845</td><td>2013-09-06</td></tr><tr style='background-color: #fbe1ca'><td>8</td><td>195699</td><td>2013-09-05</td></tr><tr style='background-color: #ffffff'><td>8</td><td>195060</td><td>2013-09-04</td></tr><tr style='background-color: #fbe1ca'><td>4</td><td>194889</td><td>2013-09-03</td></tr><tr style='background-color: #ffffff'><td>13</td><td>192133</td><td>2013-09-02</td></tr><tr style='background-color: #fbe1ca'><td>7</td><td>189804</td><td>2013-09-01</td></tr><tr style='background-color: #ffffff'><td>1</td><td>188233</td><td>2013-08-31</td></tr><tr style='background-color: #fbe1ca'><td>11</td><td>187401</td><td>2013-08-30</td></tr><tr style='background-color: #ffffff'><td>10</td><td>186327</td><td>2013-08-29</td></tr><tr style='background-color: #fbe1ca'><td>7</td><td>184740</td><td>2013-08-28</td></tr><tr style='background-color: #ffffff'><td>2</td><td>183393</td><td>2013-08-27</td></tr><tr style='background-color: #fbe1ca'><td>6</td><td>182411</td><td>2013-08-26</td></tr><tr style='background-color: #ffffff'><td>4</td><td>180707</td><td>2013-08-24</td></tr><tr style='background-color: #fbe1ca'><td>15</td><td>179730</td><td>2013-08-23</td></tr><tr style='background-color: #ffffff'><td>16</td><td>178604</td><td>2013-08-22</td></tr><tr style='background-color: #fbe1ca'><td>11</td><td>177740</td><td>2013-08-21</td></tr><tr style='background-color: #ffffff'><td>9</td><td>176057</td><td>2013-08-20</td></tr><tr style='background-color: #fbe1ca'><td>4</td><td>175294</td><td>2013-08-19</td></tr><tr style='background-color: #ffffff'><td>5</td><td>175313</td><td>2013-08-18</td></tr><tr style='background-color: #fbe1ca'><td>4</td><td>174309</td><td>2013-08-17</td></tr><tr style='background-color: #ffffff'><td>6</td><td>172725</td><td>2013-08-16</td></tr><tr style='background-color: #fbe1ca'><td>7</td><td>171694</td><td>2013-08-15</td></tr><tr style='background-color: #ffffff'><td>6</td><td>170680</td><td>2013-08-14</td></tr><tr style='background-color: #fbe1ca'><td>4</td><td>169584</td><td>2013-08-13</td></tr><tr style='background-color: #ffffff'><td>6</td><td>168349</td><td>2013-08-12</td></tr><tr style='background-color: #fbe1ca'><td>1</td><td>164672</td><td>2013-08-11</td></tr><tr style='background-color: #ffffff'><td>5</td><td>166368</td><td>2013-08-10</td></tr><tr style='background-color: #fbe1ca'><td>3</td><td>165550</td><td>2013-08-09</td></tr><tr style='background-color: #ffffff'><td>9</td><td>164601</td><td>2013-08-08</td></tr><tr style='background-color: #fbe1ca'><td>6</td><td>164296</td><td>2013-08-07</td></tr><tr style='background-color: #ffffff'><td>3</td><td>163669</td><td>2013-08-06</td></tr><tr style='background-color: #fbe1ca'><td>9</td><td>163313</td><td>2013-08-05</td></tr><tr style='background-color: #ffffff'><td>1</td><td>157573</td><td>2013-08-04</td></tr><tr style='background-color: #fbe1ca'><td>4</td><td>160569</td><td>2013-08-03</td></tr><tr style='background-color: #ffffff'><td>10</td><td>160835</td><td>2013-08-02</td></tr><tr style='background-color: #fbe1ca'><td>2</td><td>159479</td><td>2013-08-01</td></tr></table>"
       ],
       "metadata": {},
       "output_type": "pyout",
       "prompt_number": 8,
       "text": [
        "<__main__.HtmlLol instance at 0xb545af6c>"
       ]
      }
     ],
     "prompt_number": 8
    },
    {
     "cell_type": "markdown",
     "metadata": {},
     "source": [
      "## Top 10: Deutsche Liveblogs mit den meisten Kommentaren ##"
     ]
    },
    {
     "cell_type": "code",
     "collapsed": false,
     "input": [
      "table(\"select numposts,numcomments,title,canonical,who from events where language='de' order by numcomments desc limit 10\")"
     ],
     "language": "python",
     "metadata": {},
     "outputs": [
      {
       "html": [
        "<table><tr><th>numposts</th><th>numcomments</th><th>title</th><th>canonical</th><th>who</th></tr><tr style='background-color: #fbe1ca'><td>3530</td><td>27222</td><td>Tatort Test</td><td>None</td><td>None</td></tr><tr style='background-color: #ffffff'><td>69</td><td>11725</td><td>DD_Rock am Ring Livestream</td><td>None</td><td>None</td></tr><tr style='background-color: #fbe1ca'><td>395</td><td>7788</td><td>UEFA Frauen EM 2013</td><td>None</td><td>[\"Meike Richter\"]</td></tr><tr style='background-color: #ffffff'><td>3131</td><td>6879</td><td>Jetzt mitdiskutieren im EM-Talk</td><td><a href=\"http://live.hr-online.de/Event/EM_der_Tag_live\" target=\"_blank\">live.hr-online.de/Event/EM_der_Tag_live</a></td><td>[\"Redaktion sportschau.de\", \"Tom Klein\", \"Sven Nees\", \"michael.friedrich\", \"Redaktion sportschau.de\", \"Facebook-Kommentare\"]</td></tr><tr style='background-color: #fbe1ca'><td>18</td><td>5547</td><td>Walulis sieht fern - Premiere Folge 4</td><td>None</td><td>None</td></tr><tr style='background-color: #ffffff'><td>473</td><td>4300</td><td>Rock im Park 2012</td><td>None</td><td>[\"on3_de\"]</td></tr><tr style='background-color: #fbe1ca'><td>265</td><td>4079</td><td>Leichtathletik WM 2013</td><td>None</td><td>None</td></tr><tr style='background-color: #ffffff'><td>126</td><td>3997</td><td>24h Berlin live Blogging DE</td><td><a href=\"http://www.scribblelive.com/Event/24h_Berlin_live_Blogging_DE\" target=\"_blank\">www.scribblelive.com/Event/24h_Berlin_live_Blogging_DE</a></td><td>ARTE</td></tr><tr style='background-color: #fbe1ca'><td>693</td><td>3558</td><td>LateLine TV 23.5.</td><td>None</td><td>None</td></tr><tr style='background-color: #ffffff'><td>1182</td><td>3236</td><td>Sportschau: Wintersport im Ersten</td><td>None</td><td>None</td></tr></table>"
       ],
       "metadata": {},
       "output_type": "pyout",
       "prompt_number": 9,
       "text": [
        "<__main__.HtmlLol instance at 0xb3a39f8c>"
       ]
      }
     ],
     "prompt_number": 9
    },
    {
     "cell_type": "markdown",
     "metadata": {},
     "source": [
      "## Top 10: L\u00e4ngste Liveblogs (deutsch) nach Anzahl der Postings ##"
     ]
    },
    {
     "cell_type": "code",
     "collapsed": false,
     "input": [
      "table(\"select numposts,numcomments,title,canonical from events where language='de' order by numposts desc limit 10\")"
     ],
     "language": "python",
     "metadata": {},
     "outputs": [
      {
       "html": [
        "<table><tr><th>numposts</th><th>numcomments</th><th>title</th><th>canonical</th></tr><tr style='background-color: #fbe1ca'><td>89137</td><td>7</td><td>London Olympics</td><td><a href=\"http://www.scribblelive.com/Event/London_Olympics\" target=\"_blank\">www.scribblelive.com/Event/London_Olympics</a></td></tr><tr style='background-color: #ffffff'><td>66322</td><td>19</td><td>iPhone 6 Keynote</td><td><a href=\"http://www.scribblelive.com/Event/iPhone_6_Keynote\" target=\"_blank\">www.scribblelive.com/Event/iPhone_6_Keynote</a></td></tr><tr style='background-color: #fbe1ca'><td>40010</td><td>0</td><td>Tweets mit #RIP</td><td><a href=\"http://liveblog.br.de/Event/Tweets_mit_RIP\" target=\"_blank\">liveblog.br.de/Event/Tweets_mit_RIP</a></td></tr><tr style='background-color: #ffffff'><td>40003</td><td>0</td><td>re:publica 2013 tweets</td><td>None</td></tr><tr style='background-color: #fbe1ca'><td>30005</td><td>0</td><td>Detox CH</td><td>None</td></tr><tr style='background-color: #ffffff'><td>24115</td><td>0</td><td>#rar13</td><td>None</td></tr><tr style='background-color: #fbe1ca'><td>20630</td><td>15</td><td>[Sandkasten] Test Event dpa Berlin 29. 5. 2013 </td><td><a href=\"http://live.dtf12.de/Event/Test_Event_dpa_Berlin_29_5_2013\" target=\"_blank\">live.dtf12.de/Event/Test_Event_dpa_Berlin_29_5_2013</a></td></tr><tr style='background-color: #ffffff'><td>16453</td><td>2847</td><td>Test</td><td><a href=\"http://www.scribblelive.com/Event/Thread.aspx?Id=44954\" target=\"_blank\">www.scribblelive.com/Event/Thread.aspx?Id=44954</a></td></tr><tr style='background-color: #fbe1ca'><td>15637</td><td>0</td><td>#rar</td><td>None</td></tr><tr style='background-color: #ffffff'><td>13359</td><td>458</td><td>Studentenprotest</td><td><a href=\"http://www.scribblelive.com/Event/Studentenprotest\" target=\"_blank\">www.scribblelive.com/Event/Studentenprotest</a></td></tr></table>"
       ],
       "metadata": {},
       "output_type": "pyout",
       "prompt_number": 10,
       "text": [
        "<__main__.HtmlLol instance at 0xb3a3ce6c>"
       ]
      }
     ],
     "prompt_number": 10
    },
    {
     "cell_type": "markdown",
     "metadata": {},
     "source": [
      "## Top 10: Syndizierte Liveblogs nach Anzahl der Postings ##"
     ]
    },
    {
     "cell_type": "code",
     "collapsed": false,
     "input": [
      "table(\"select numposts,title,canonical,issyndicated from events where issyndicated>0  order by numposts desc limit 10\")"
     ],
     "language": "python",
     "metadata": {},
     "outputs": [
      {
       "html": [
        "<table><tr><th>numposts</th><th>title</th><th>canonical</th><th>issyndicated</th></tr><tr style='background-color: #fbe1ca'><td>132161</td><td>Prueba DTS</td><td>None</td><td>1</td></tr><tr style='background-color: #ffffff'><td>108640</td><td>Resassion</td><td><a href=\"http://changecamp.scribblelive.com/Event/Resassion\" target=\"_blank\">changecamp.scribblelive.com/Event/Resassion</a></td><td>1</td></tr><tr style='background-color: #fbe1ca'><td>106267</td><td>Movember Charity Donations</td><td><a href=\"http://toronto.exceptional-results.com/Event/Movember_Charity_Donations\" target=\"_blank\">toronto.exceptional-results.com/Event/Movember_Charity_Donations</a></td><td>1</td></tr><tr style='background-color: #ffffff'><td>84366</td><td>Cricket Event</td><td><a href=\"http://www.scribblelive.com/Event/Cricket_Event\" target=\"_blank\">www.scribblelive.com/Event/Cricket_Event</a></td><td>1</td></tr><tr style='background-color: #fbe1ca'><td>47751</td><td>test p2</td><td><a href=\"http://liveblog.citytv.com/bachelor/Event/test_p2\" target=\"_blank\">liveblog.citytv.com/bachelor/Event/test_p2</a></td><td>1</td></tr><tr style='background-color: #ffffff'><td>42126</td><td>SEC Twitter feeds </td><td><a href=\"http://espn.scribblelive.com/Event/SEC_Twitter_feeds\" target=\"_blank\">espn.scribblelive.com/Event/SEC_Twitter_feeds</a></td><td>1</td></tr><tr style='background-color: #fbe1ca'><td>41625</td><td>JLo bb</td><td><a href=\"http://dev.scribblelive.com/LiveBlog/Event/JLo\" target=\"_blank\">dev.scribblelive.com/LiveBlog/Event/JLo</a></td><td>1</td></tr><tr style='background-color: #ffffff'><td>40694</td><td>NCAA Tournament live blog and buzz</td><td>None</td><td>1</td></tr><tr style='background-color: #fbe1ca'><td>40004</td><td>AD Test</td><td><a href=\"http://demos.scribblelive.com/Event/AD_Test_2\" target=\"_blank\">demos.scribblelive.com/Event/AD_Test_2</a></td><td>1</td></tr><tr style='background-color: #ffffff'><td>40003</td><td>Real Estate Agent Toronto: SYNDICATION</td><td>None</td><td>1</td></tr></table>"
       ],
       "metadata": {},
       "output_type": "pyout",
       "prompt_number": 11,
       "text": [
        "<__main__.HtmlLol instance at 0xb3a3c10c>"
       ]
      }
     ],
     "prompt_number": 11
    },
    {
     "cell_type": "markdown",
     "metadata": {},
     "source": [
      "## Top 10: White-Label-Liveblogs nach Anzahl der Kommentare ##"
     ]
    },
    {
     "cell_type": "code",
     "collapsed": false,
     "input": [
      "table(\"select numposts,canonical from events where numposts>0  and canonical != url order by numposts desc limit 10\")"
     ],
     "language": "python",
     "metadata": {},
     "outputs": [
      {
       "html": [
        "<table><tr><th>numposts</th><th>canonical</th></tr><tr style='background-color: #fbe1ca'><td>163063</td><td><a href=\"http://live.cbc.ca/Event/CBC_Live\" target=\"_blank\">live.cbc.ca/Event/CBC_Live</a></td></tr><tr style='background-color: #ffffff'><td>35986</td><td><a href=\"http://directos.abc.es/Event/Actualidad_2\" target=\"_blank\">directos.abc.es/Event/Actualidad_2</a></td></tr><tr style='background-color: #fbe1ca'><td>30292</td><td><a href=\"http://live.cbc.ca/Event/CBC_Ottawa\" target=\"_blank\">live.cbc.ca/Event/CBC_Ottawa</a></td></tr><tr style='background-color: #ffffff'><td>26254</td><td><a href=\"http://endirect.radio-canada.ca/Event/Actualite_en_direct\" target=\"_blank\">endirect.radio-canada.ca/Event/Actualite_en_direct</a></td></tr><tr style='background-color: #fbe1ca'><td>26037</td><td><a href=\"http://live.cbc.ca/Event/CBC_NL\" target=\"_blank\">live.cbc.ca/Event/CBC_NL</a></td></tr><tr style='background-color: #ffffff'><td>21345</td><td><a href=\"http://live.cbc.ca/Event/CBC_Toronto\" target=\"_blank\">live.cbc.ca/Event/CBC_Toronto</a></td></tr><tr style='background-color: #fbe1ca'><td>20630</td><td><a href=\"http://live.dtf12.de/Event/Test_Event_dpa_Berlin_29_5_2013\" target=\"_blank\">live.dtf12.de/Event/Test_Event_dpa_Berlin_29_5_2013</a></td></tr><tr style='background-color: #ffffff'><td>18601</td><td><a href=\"http://live.blog.scribblelive.com/Event/The_ScribbleLive_Daily\" target=\"_blank\">live.blog.scribblelive.com/Event/The_ScribbleLive_Daily</a></td></tr><tr style='background-color: #fbe1ca'><td>18356</td><td><a href=\"http://endirect.radio-canada.ca/Event/Sport_en_direct\" target=\"_blank\">endirect.radio-canada.ca/Event/Sport_en_direct</a></td></tr><tr style='background-color: #ffffff'><td>15139</td><td><a href=\"http://live.boston.com/Event/Country_Fest_at_Gillette_Stadium_Aug_23-24_--_reaction_from_the_show\" target=\"_blank\">live.boston.com/Event/Country_Fest_at_Gillette_Stadium_Aug_23-24_--_reaction_from_the_show</a></td></tr></table>"
       ],
       "metadata": {},
       "output_type": "pyout",
       "prompt_number": 13,
       "text": [
        "<__main__.HtmlLol instance at 0xa983e0c>"
       ]
      }
     ],
     "prompt_number": 13
    },
    {
     "cell_type": "markdown",
     "metadata": {},
     "source": [
      "## Die allerersten Liveblogs 2008 ##"
     ]
    },
    {
     "cell_type": "code",
     "collapsed": false,
     "input": [
      "table(\"select start,language,canonical,title,numposts from events where numposts>0  order by start asc limit 4\")"
     ],
     "language": "python",
     "metadata": {},
     "outputs": [
      {
       "html": [
        "<table><tr><th>start</th><th>language</th><th>canonical</th><th>title</th><th>numposts</th></tr><tr style='background-color: #fbe1ca'><td>datetime.datetime(1990, 10, 1, 7, 0)</td><td>en</td><td>None</td><td>title</td><td>1</td></tr><tr style='background-color: #ffffff'><td>datetime.datetime(2008, 1, 19, 23, 32, 31)</td><td>en</td><td>http://www.scribblelive.com/Event/Thread.aspx?Id=12</td><td>Test1</td><td>1</td></tr><tr style='background-color: #fbe1ca'><td>datetime.datetime(2008, 1, 20, 0, 5, 5)</td><td>en</td><td>http://www.scribblelive.com/Event/Thread.aspx?Id=13</td><td>Test2</td><td>5</td></tr><tr style='background-color: #ffffff'><td>datetime.datetime(2008, 1, 20, 0, 45, 19)</td><td>en</td><td>http://www.scribblelive.com/Event/Thread.aspx?Id=15</td><td>Test3</td><td>2</td></tr></table>"
       ],
       "metadata": {},
       "output_type": "pyout",
       "prompt_number": 155,
       "text": [
        "<__main__.HtmlLol instance at 0xa08e0cc>"
       ]
      }
     ],
     "prompt_number": 155
    },
    {
     "cell_type": "code",
     "collapsed": false,
     "input": [
      "table(\"select max(id),min(id) from events\")"
     ],
     "language": "python",
     "metadata": {},
     "outputs": [
      {
       "html": [
        "<table><tr><th>max(id)</th><th>min(id)</th></tr><tr style='background-color: #fbe1ca'><td>776593</td><td>1</td></tr></table>"
       ],
       "metadata": {},
       "output_type": "pyout",
       "prompt_number": 12,
       "text": [
        "<__main__.HtmlLol instance at 0xb3a35bcc>"
       ]
      }
     ],
     "prompt_number": 12
    },
    {
     "cell_type": "markdown",
     "metadata": {},
     "source": [
      "## Top 10: Liveblogs von Reuters nach Anzahl der Postings ##"
     ]
    },
    {
     "cell_type": "code",
     "collapsed": false,
     "input": [
      "table(\"select numposts,strftime('%Y-%m-%d',start) as start, canonical from events where canonical like '%reuters%' order by start desc limit 10\")"
     ],
     "language": "python",
     "metadata": {},
     "outputs": [
      {
       "html": [
        "<table><tr><th>numposts</th><th>start</th><th>canonical</th></tr><tr style='background-color: #fbe1ca'><td>129</td><td>2013-09-10</td><td><a href=\"http://live.reuters.com/Event/Delhi_gang_rape_case_Verdict_on_Tuesday\" target=\"_blank\">live.reuters.com/Event/Delhi_gang_rape_case_Verdict_on_Tuesday</a></td></tr><tr style='background-color: #ffffff'><td>53</td><td>2013-09-10</td><td><a href=\"http://live.reuters.com/Event/Apple_Fall_2013\" target=\"_blank\">live.reuters.com/Event/Apple_Fall_2013</a></td></tr><tr style='background-color: #fbe1ca'><td>30</td><td>2013-09-06</td><td><a href=\"http://live.reuters.com/Event/August_Jobs_Report\" target=\"_blank\">live.reuters.com/Event/August_Jobs_Report</a></td></tr><tr style='background-color: #ffffff'><td>62</td><td>2013-08-28</td><td><a href=\"http://live.reuters.com/Event/50th_Anniversary_of_I_Have_A_Dream_Speech\" target=\"_blank\">live.reuters.com/Event/50th_Anniversary_of_I_Have_A_Dream_Speech</a></td></tr><tr style='background-color: #fbe1ca'><td>40</td><td>2013-08-26</td><td><a href=\"http://live.reuters.com/Event/Syria_9\" target=\"_blank\">live.reuters.com/Event/Syria_9</a></td></tr><tr style='background-color: #ffffff'><td>61</td><td>2013-08-22</td><td><a href=\"http://reutersdemo.scribblelive.com/Event/Twitter_Demo_4\" target=\"_blank\">reutersdemo.scribblelive.com/Event/Twitter_Demo_4</a></td></tr><tr style='background-color: #fbe1ca'><td>1990</td><td>2013-08-22</td><td><a href=\"http://live.reuters.com/Event/Politics\" target=\"_blank\">live.reuters.com/Event/Politics</a></td></tr><tr style='background-color: #ffffff'><td>17</td><td>2013-08-21</td><td><a href=\"http://live.reuters.com/Event/FOMC_Minutes_82113\" target=\"_blank\">live.reuters.com/Event/FOMC_Minutes_82113</a></td></tr><tr style='background-color: #fbe1ca'><td>522</td><td>2013-08-19</td><td><a href=\"http://live.reuters.com/Event/Egypt_Unrest_3\" target=\"_blank\">live.reuters.com/Event/Egypt_Unrest_3</a></td></tr><tr style='background-color: #ffffff'><td>1214</td><td>2013-08-08</td><td><a href=\"http://live.reuters.com/Event/World_News\" target=\"_blank\">live.reuters.com/Event/World_News</a></td></tr></table>"
       ],
       "metadata": {},
       "output_type": "pyout",
       "prompt_number": 14,
       "text": [
        "<__main__.HtmlLol instance at 0xb3a2a18c>"
       ]
      }
     ],
     "prompt_number": 14
    },
    {
     "cell_type": "code",
     "collapsed": false,
     "input": [],
     "language": "python",
     "metadata": {},
     "outputs": [
      {
       "html": [
        "<table><tr><th>numposts</th><th>start</th><th>canonical</th></tr><tr style='background-color: #fbe1ca'><td>193252</td><td>2012-01-24</td><td><a href=\"http://live.reuters.com/Event/FX_Community\" target=\"_blank\">live.reuters.com/Event/FX_Community</a></td></tr><tr style='background-color: #ffffff'><td>45133</td><td>2011-10-27</td><td><a href=\"http://live.reuters.com/Event/BreakingViews_on_Twitter\" target=\"_blank\">live.reuters.com/Event/BreakingViews_on_Twitter</a></td></tr><tr style='background-color: #fbe1ca'><td>36973</td><td>2012-07-17</td><td><a href=\"http://live.jp.reuters.com/Event/LiveBlog_04_18_2012\" target=\"_blank\">live.jp.reuters.com/Event/LiveBlog_04_18_2012</a></td></tr><tr style='background-color: #ffffff'><td>21935</td><td>2010-09-22</td><td><a href=\"http://live.reuters.com/Event/Politics_today\" target=\"_blank\">live.reuters.com/Event/Politics_today</a></td></tr><tr style='background-color: #fbe1ca'><td>18263</td><td>2010-06-07</td><td><a href=\"http://live.reuters.com/Event/World_Cup_2010\" target=\"_blank\">live.reuters.com/Event/World_Cup_2010</a></td></tr><tr style='background-color: #ffffff'><td>16552</td><td>2011-11-19</td><td><a href=\"http://live.reuters.com/Event/Capital_City_IFR__-_Live\" target=\"_blank\">live.reuters.com/Event/Capital_City_IFR__-_Live</a></td></tr><tr style='background-color: #fbe1ca'><td>9088</td><td>2011-04-01</td><td><a href=\"http://live.reuters.com/Event/Cricket_World_Cup_2011\" target=\"_blank\">live.reuters.com/Event/Cricket_World_Cup_2011</a></td></tr><tr style='background-color: #ffffff'><td>7226</td><td>2013-02-01</td><td><a href=\"http://live.reuters.com/Event/Capital_City_IFR_-_Live\" target=\"_blank\">live.reuters.com/Event/Capital_City_IFR_-_Live</a></td></tr><tr style='background-color: #fbe1ca'><td>7164</td><td>2012-11-30</td><td><a href=\"http://live.jp.reuters.com/Event/LiveBlog_03_15_2012\" target=\"_blank\">live.jp.reuters.com/Event/LiveBlog_03_15_2012</a></td></tr><tr style='background-color: #ffffff'><td>7061</td><td>2013-02-07</td><td><a href=\"http://live.reuters.com/Event/US_Economy\" target=\"_blank\">live.reuters.com/Event/US_Economy</a></td></tr></table>"
       ],
       "metadata": {},
       "output_type": "pyout",
       "prompt_number": 205,
       "text": [
        "<__main__.HtmlLol instance at 0x98b45ac>"
       ]
      }
     ],
     "prompt_number": 205
    },
    {
     "cell_type": "markdown",
     "metadata": {},
     "source": [
      "### Liveblogs von T-Online nach Zahl der Postings"
     ]
    },
    {
     "cell_type": "code",
     "collapsed": false,
     "input": [
      "table(\"select numposts,strftime('%Y-%m-%d',start) as start, canonical from events where canonical like '%t-online%' order by start desc limit 10\")"
     ],
     "language": "python",
     "metadata": {},
     "outputs": [
      {
       "html": [
        "<table><tr><th>numposts</th><th>start</th><th>canonical</th></tr><tr style='background-color: #fbe1ca'><td>94</td><td>2013-09-10</td><td><a href=\"http://liveblog.t-online.de/Event/Apple_Keynote_2013_-_DPA\" target=\"_blank\">liveblog.t-online.de/Event/Apple_Keynote_2013_-_DPA</a></td></tr><tr style='background-color: #ffffff'><td>97</td><td>2013-09-09</td><td><a href=\"http://liveblog.sport.t-online.de/Event/Basketball-EM_2013_Deutschland_-_Belgien\" target=\"_blank\">liveblog.sport.t-online.de/Event/Basketball-EM_2013_Deutschland_-_Belgien</a></td></tr><tr style='background-color: #fbe1ca'><td>112</td><td>2013-09-07</td><td><a href=\"http://liveblog.sport.t-online.de/Event/Basketball-EM_2013_Grossbritannien_-_Deutschland_LIVE\" target=\"_blank\">liveblog.sport.t-online.de/Event/Basketball-EM_2013_Grossbritannien_-_Deutschland_LIVE</a></td></tr><tr style='background-color: #ffffff'><td>13</td><td>2013-09-07</td><td><a href=\"http://liveblog.t-online.de/Event/Deutschland_gegen_Osterreich_-_Geisterspiel_in_Munchen\" target=\"_blank\">liveblog.t-online.de/Event/Deutschland_gegen_Osterreich_-_Geisterspiel_in_Munchen</a></td></tr><tr style='background-color: #fbe1ca'><td>87</td><td>2013-09-04</td><td><a href=\"http://liveblog.sport.t-online.de/Event/Basketball-EM_2013_Deutschland_-_Israel\" target=\"_blank\">liveblog.sport.t-online.de/Event/Basketball-EM_2013_Deutschland_-_Israel</a></td></tr><tr style='background-color: #ffffff'><td>85</td><td>2013-09-03</td><td><a href=\"http://liveblog.sport.t-online.de/Event/LIVE_Basketball-EM_2013_Deutschland_-_Frankreich\" target=\"_blank\">liveblog.sport.t-online.de/Event/LIVE_Basketball-EM_2013_Deutschland_-_Frankreich</a></td></tr><tr style='background-color: #fbe1ca'><td>169</td><td>2013-09-02</td><td><a href=\"http://liveblog.t-online.de/Event/Merkel_gegen_Steinbruck_Das_TV-Duell_zur_Bundestagswahl_2013\" target=\"_blank\">liveblog.t-online.de/Event/Merkel_gegen_Steinbruck_Das_TV-Duell_zur_Bundestagswahl_2013</a></td></tr><tr style='background-color: #ffffff'><td>70</td><td>2013-09-02</td><td><a href=\"http://liveblog.t-online.de/Event/iPhone_6_oder_iPhone_5S_Apple_zeigt_das_nachste_Top-Smartphone\" target=\"_blank\">liveblog.t-online.de/Event/iPhone_6_oder_iPhone_5S_Apple_zeigt_das_nachste_Top-Smartphone</a></td></tr><tr style='background-color: #fbe1ca'><td>83</td><td>2013-08-29</td><td><a href=\"http://liveblog.sport.t-online.de/Event/Champions-League-Auslosung\" target=\"_blank\">liveblog.sport.t-online.de/Event/Champions-League-Auslosung</a></td></tr><tr style='background-color: #ffffff'><td>2</td><td>2013-08-28</td><td><a href=\"http://liveblog.t-online.de/Event/IAA_2013\" target=\"_blank\">liveblog.t-online.de/Event/IAA_2013</a></td></tr></table>"
       ],
       "metadata": {},
       "output_type": "pyout",
       "prompt_number": 15,
       "text": [
        "<__main__.HtmlLol instance at 0xb3a2c74c>"
       ]
      }
     ],
     "prompt_number": 15
    },
    {
     "cell_type": "code",
     "collapsed": false,
     "input": [
      "\"\"\"\n",
      "Demo of the histogram (hist) function with a few features.\n",
      "\n",
      "In addition to the basic histogram, this demo shows a few optional features:\n",
      "\n",
      "    * Setting the number of data bins\n",
      "    * The ``normed`` flag, which normalizes bin heights so that the integral of\n",
      "      the histogram is 1. The resulting histogram is a probability density.\n",
      "    * Setting the face color of the bars\n",
      "    * Setting the opacity (alpha value).\n",
      "\n",
      "\"\"\"\n",
      "import numpy as np\n",
      "import matplotlib.mlab as mlab\n",
      "import matplotlib.pyplot as plt\n",
      "\n",
      "x=[a[\"c\"] for a in dt.execute(\"select numposts as c from events where numposts>10 and numposts<1000\")]\n",
      "\n",
      "\n",
      "\n",
      "num_bins = 50\n",
      "# the histogram of the data\n",
      "n, bins, patches = plt.hist(x, num_bins, facecolor='green', alpha=0.5)\n",
      "# add a 'best fit' line\n",
      "plt.xlabel('x')\n",
      "plt.ylabel('y')\n",
      "plt.title(r'Histogram')\n",
      "\n",
      "# Tweak spacing to prevent clipping of ylabel\n",
      "plt.subplots_adjust(left=0.15)\n",
      "plt.show()\n"
     ],
     "language": "python",
     "metadata": {},
     "outputs": [
      {
       "ename": "ImportError",
       "evalue": "No module named matplotlib.mlab",
       "output_type": "pyerr",
       "traceback": [
        "\u001b[1;31m---------------------------------------------------------------------------\u001b[0m\n\u001b[1;31mImportError\u001b[0m                               Traceback (most recent call last)",
        "\u001b[1;32m<ipython-input-15-c2440af9a04c>\u001b[0m in \u001b[0;36m<module>\u001b[1;34m()\u001b[0m\n\u001b[0;32m     12\u001b[0m \"\"\"\n\u001b[0;32m     13\u001b[0m \u001b[1;32mimport\u001b[0m \u001b[0mnumpy\u001b[0m \u001b[1;32mas\u001b[0m \u001b[0mnp\u001b[0m\u001b[1;33m\u001b[0m\u001b[0m\n\u001b[1;32m---> 14\u001b[1;33m \u001b[1;32mimport\u001b[0m \u001b[0mmatplotlib\u001b[0m\u001b[1;33m.\u001b[0m\u001b[0mmlab\u001b[0m \u001b[1;32mas\u001b[0m \u001b[0mmlab\u001b[0m\u001b[1;33m\u001b[0m\u001b[0m\n\u001b[0m\u001b[0;32m     15\u001b[0m \u001b[1;32mimport\u001b[0m \u001b[0mmatplotlib\u001b[0m\u001b[1;33m.\u001b[0m\u001b[0mpyplot\u001b[0m \u001b[1;32mas\u001b[0m \u001b[0mplt\u001b[0m\u001b[1;33m\u001b[0m\u001b[0m\n\u001b[0;32m     16\u001b[0m \u001b[1;33m\u001b[0m\u001b[0m\n",
        "\u001b[1;31mImportError\u001b[0m: No module named matplotlib.mlab"
       ]
      }
     ],
     "prompt_number": 15
    },
    {
     "cell_type": "code",
     "collapsed": false,
     "input": [
      "plt.plot([a[\"c\"] for a in table(\"select count(*) as c ,strftime('%Y-%m-%d',start) as day from events where start>'2013-08-01' and numposts>0  group by day order by day desc\").o])"
     ],
     "language": "python",
     "metadata": {},
     "outputs": [
      {
       "ename": "TypeError",
       "evalue": "list indices must be integers, not str",
       "output_type": "pyerr",
       "traceback": [
        "\u001b[1;31m---------------------------------------------------------------------------\u001b[0m\n\u001b[1;31mTypeError\u001b[0m                                 Traceback (most recent call last)",
        "\u001b[1;32m<ipython-input-16-5fde6c9d5f39>\u001b[0m in \u001b[0;36m<module>\u001b[1;34m()\u001b[0m\n\u001b[1;32m----> 1\u001b[1;33m \u001b[0mplt\u001b[0m\u001b[1;33m.\u001b[0m\u001b[0mplot\u001b[0m\u001b[1;33m(\u001b[0m\u001b[1;33m[\u001b[0m\u001b[0ma\u001b[0m\u001b[1;33m[\u001b[0m\u001b[1;34m\"c\"\u001b[0m\u001b[1;33m]\u001b[0m \u001b[1;32mfor\u001b[0m \u001b[0ma\u001b[0m \u001b[1;32min\u001b[0m \u001b[0mtable\u001b[0m\u001b[1;33m(\u001b[0m\u001b[1;34m\"select count(*) as c ,strftime('%Y-%m-%d',start) as day from events where start>'2013-08-01' and numposts>0  group by day order by day desc\"\u001b[0m\u001b[1;33m)\u001b[0m\u001b[1;33m.\u001b[0m\u001b[0mo\u001b[0m\u001b[1;33m]\u001b[0m\u001b[1;33m)\u001b[0m\u001b[1;33m\u001b[0m\u001b[0m\n\u001b[0m",
        "\u001b[1;31mTypeError\u001b[0m: list indices must be integers, not str"
       ]
      }
     ],
     "prompt_number": 16
    },
    {
     "cell_type": "code",
     "collapsed": false,
     "input": [],
     "language": "python",
     "metadata": {},
     "outputs": []
    }
   ],
   "metadata": {}
  }
 ]
}