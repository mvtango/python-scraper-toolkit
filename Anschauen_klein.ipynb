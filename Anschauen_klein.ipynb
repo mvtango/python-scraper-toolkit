{
 "metadata": {
  "name": ""
 },
 "nbformat": 3,
 "nbformat_minor": 0,
 "worksheets": [
  {
   "cells": [
    {
     "cell_type": "markdown",
     "metadata": {},
     "source": [
      "## Vorspann ##"
     ]
    },
    {
     "cell_type": "code",
     "collapsed": false,
     "input": [
      "from dumptruck import DumpTruck\n",
      "dt=DumpTruck(dbname=\"/home/martin/projekte/scribblelive/ipython/data/events.sqlite\")\n",
      "from cgi import escape\n",
      "import types\n",
      "import markdown\n",
      "import re\n",
      "\n",
      "def hstr(s) :\n",
      "    if type(s) not in types.StringTypes :\n",
      "        s=unicode(repr(s))\n",
      "    s=unicode(s)\n",
      "    s=re.sub(r\"(http://([^/]+[^ ]+))\",r'<a href=\"\\1\" target=\"_blank\">\\2</a>',escape(s))\n",
      "    return s\n",
      "\n",
      "\n",
      "styles=['#fbe1ca','#ffffff']\n",
      "\n",
      "class HtmlLol :\n",
      "    \n",
      "    def __init__(self,o) :\n",
      "        self.o=o\n",
      "        \n",
      "    def _repr_html_(self) :\n",
      "        n=0\n",
      "        res=u\"<table>\"\n",
      "        res+=u\"<tr><th>%s</th></tr>\" % \"</th><th>\".join([hstr(a) for a in self.o[0]])\n",
      "        for r in self.o[1:] :\n",
      "            res+=u\"<tr style='background-color: %s'><td>%s</td></tr>\" % (styles[n % 2] ,u\"</td><td>\".join([hstr(a) for a in r]))\n",
      "            n+=1\n",
      "        res+=u\"</table>\"\n",
      "        return res\n",
      "            \n",
      "        \n",
      "\n",
      "def table(s) :\n",
      "    res=dt.execute(s)\n",
      "    top=[]\n",
      "    top.append(res[0].keys())\n",
      "    top.extend([a.values() for a in dt.execute(s)])\n",
      "    t=HtmlLol(top)\n",
      "    return(t)\n",
      "\n",
      "\n"
     ],
     "language": "python",
     "metadata": {},
     "outputs": [],
     "prompt_number": 1
    },
    {
     "cell_type": "markdown",
     "metadata": {},
     "source": [
      "## Neueste Live Blogs (deutsch) ##"
     ]
    },
    {
     "cell_type": "code",
     "collapsed": false,
     "input": [
      "table(\"select numposts,id,title,strftime('%Y-%m-%d',lastmodified) as s,canonical,substr(who,2,50) as who from events where language = 'de' order by id desc, numposts desc limit 20\")"
     ],
     "language": "python",
     "metadata": {},
     "outputs": [
     ],
     "prompt_number": 6
    },
    {
     "cell_type": "markdown",
     "metadata": {},
     "source": [
      "## Statistik nach Sprachen ##"
     ]
    },
    {
     "cell_type": "code",
     "collapsed": false,
     "input": [
      "table(\"select language,count(*) as num from events where numposts>0  group by language order by num desc\")"
     ],
     "language": "python",
     "metadata": {},
     "outputs": [
     ],
     "prompt_number": 7
    },
    {
     "cell_type": "markdown",
     "metadata": {},
     "source": [
      "## Zeitverlauf: Deutsche Liveblogs ##"
     ]
    },
    {
     "cell_type": "code",
     "collapsed": false,
     "input": [
      "table(\"select language,count(*) as num,strftime('%Y-%m',start) as month from events where numposts>0 and language='de' group by language,month order by month desc\")"
     ],
     "language": "python",
     "metadata": {},
     "outputs": [
     ],
     "prompt_number": 8
    },
    {
     "cell_type": "markdown",
     "metadata": {},
     "source": [
      "## Die letzten Tage ##"
     ]
    },
    {
     "cell_type": "code",
     "collapsed": false,
     "input": [
      "table(\"select count(*),max(id) as id,strftime('%Y-%m-%d',start) as day from events where start>'2013-08-01' and numposts>0  group by day order by day desc\")"
     ],
     "language": "python",
     "metadata": {},
     "outputs": [
      {
       "html": [
        "<table><tr><th>count(*)</th><th>id</th><th>day</th></tr><tr style='background-color: #fbe1ca'><td>1</td><td>176533</td><td>2013-10-03</td></tr><tr style='background-color: #ffffff'><td>1</td><td>127672</td><td>2013-09-11</td></tr><tr style='background-color: #fbe1ca'><td>1</td><td>175479</td><td>2013-09-09</td></tr><tr style='background-color: #ffffff'><td>37</td><td>182253</td><td>2013-08-26</td></tr><tr style='background-color: #fbe1ca'><td>83</td><td>181993</td><td>2013-08-25</td></tr><tr style='background-color: #ffffff'><td>123</td><td>181009</td><td>2013-08-24</td></tr><tr style='background-color: #fbe1ca'><td>166</td><td>180045</td><td>2013-08-23</td></tr><tr style='background-color: #ffffff'><td>183</td><td>179276</td><td>2013-08-22</td></tr><tr style='background-color: #fbe1ca'><td>154</td><td>178413</td><td>2013-08-21</td></tr><tr style='background-color: #ffffff'><td>140</td><td>176725</td><td>2013-08-20</td></tr><tr style='background-color: #fbe1ca'><td>130</td><td>175979</td><td>2013-08-19</td></tr><tr style='background-color: #ffffff'><td>88</td><td>175313</td><td>2013-08-18</td></tr><tr style='background-color: #fbe1ca'><td>94</td><td>175094</td><td>2013-08-17</td></tr><tr style='background-color: #ffffff'><td>105</td><td>174113</td><td>2013-08-16</td></tr><tr style='background-color: #fbe1ca'><td>121</td><td>172138</td><td>2013-08-15</td></tr><tr style='background-color: #ffffff'><td>141</td><td>171691</td><td>2013-08-14</td></tr><tr style='background-color: #fbe1ca'><td>110</td><td>170365</td><td>2013-08-13</td></tr><tr style='background-color: #ffffff'><td>115</td><td>169010</td><td>2013-08-12</td></tr><tr style='background-color: #fbe1ca'><td>65</td><td>168079</td><td>2013-08-11</td></tr><tr style='background-color: #ffffff'><td>83</td><td>166925</td><td>2013-08-10</td></tr><tr style='background-color: #fbe1ca'><td>123</td><td>165968</td><td>2013-08-09</td></tr><tr style='background-color: #ffffff'><td>117</td><td>165490</td><td>2013-08-08</td></tr><tr style='background-color: #fbe1ca'><td>133</td><td>164416</td><td>2013-08-07</td></tr><tr style='background-color: #ffffff'><td>114</td><td>163905</td><td>2013-08-06</td></tr><tr style='background-color: #fbe1ca'><td>83</td><td>163391</td><td>2013-08-05</td></tr><tr style='background-color: #ffffff'><td>61</td><td>162825</td><td>2013-08-04</td></tr><tr style='background-color: #fbe1ca'><td>63</td><td>162305</td><td>2013-08-03</td></tr><tr style='background-color: #ffffff'><td>119</td><td>162276</td><td>2013-08-02</td></tr><tr style='background-color: #fbe1ca'><td>116</td><td>177150</td><td>2013-08-01</td></tr></table>"
       ],
       "output_type": "pyout",
       "prompt_number": 150,
       "text": [
        "<__main__.HtmlLol instance at 0xa094b2c>"
       ]
      }
     ],
     "prompt_number": 150
    },
    {
     "cell_type": "markdown",
     "metadata": {},
     "source": [
      "## Top 10: Deutsche Liveblogs mit den meisten Kommentaren ##"
     ]
    },
    {
     "cell_type": "code",
     "collapsed": false,
     "input": [
      "table(\"select numposts,numcomments,title,canonical,who from events where language='de' order by numcomments desc limit 10\")"
     ],
     "language": "python",
     "metadata": {},
     "outputs": [
      {
       "html": [
        "<table><tr><th><p>numposts</p></th><th><p>numcomments</p></th><th><p>title</p></th><th><p>canonical</p></th><th><p>who</p></th></tr><tr style='background-color: #fbe1ca'><td><p>3530</p></td><td><p>27222</p></td><td><p>Tatort Test</p></td><td><p>None</p></td><td><p>None</p></td></tr><tr style='background-color: #ffffff'><td><p>69</p></td><td><p>11725</p></td><td><p>DD_Rock am Ring Livestream</p></td><td><p>None</p></td><td><p>None</p></td></tr><tr style='background-color: #fbe1ca'><td><p>395</p></td><td><p>7788</p></td><td><p>UEFA Frauen EM 2013</p></td><td><p>None</p></td><td><p>[\"Meike Richter\"]</p></td></tr><tr style='background-color: #ffffff'><td><p>3131</p></td><td><p>6879</p></td><td><p>Jetzt mitdiskutieren im EM-Talk</p></td><td><p><a href=\"http://live.hr-online.de/Event/EM_der_Tag_live\">live.hr-online.de/Event/EM_der_Tag_live</a></p></td><td><p>[\"Redaktion sportschau.de\", \"Tom Klein\", \"Sven Nees\", \"michael.friedrich\", \"Redaktion sportschau.de\", \"Facebook-Kommentare\"]</p></td></tr><tr style='background-color: #fbe1ca'><td><p>18</p></td><td><p>5547</p></td><td><p>Walulis sieht fern - Premiere Folge 4</p></td><td><p>None</p></td><td><p>None</p></td></tr><tr style='background-color: #ffffff'><td><p>473</p></td><td><p>4300</p></td><td><p>Rock im Park 2012</p></td><td><p>None</p></td><td><p>[\"on3_de\"]</p></td></tr><tr style='background-color: #fbe1ca'><td><p>265</p></td><td><p>4079</p></td><td><p>Leichtathletik WM 2013</p></td><td><p>None</p></td><td><p>None</p></td></tr><tr style='background-color: #ffffff'><td><p>126</p></td><td><p>3997</p></td><td><p>24h Berlin live Blogging DE</p></td><td><p><a href=\"http://www.scribblelive.com/Event/24h_Berlin_live_Blogging_DE\">www.scribblelive.com/Event/24h_Berlin_live_Blogging_DE</a></p></td><td><p>ARTE</p></td></tr><tr style='background-color: #fbe1ca'><td><p>693</p></td><td><p>3558</p></td><td><p>LateLine TV 23.5.</p></td><td><p>None</p></td><td><p>None</p></td></tr><tr style='background-color: #ffffff'><td><p>1182</p></td><td><p>3236</p></td><td><p>Sportschau: Wintersport im Ersten</p></td><td><p>None</p></td><td><p>None</p></td></tr></table>"
       ],
       "output_type": "pyout",
       "prompt_number": 198,
       "text": [
        "<__main__.HtmlLol instance at 0xa12974c>"
       ]
      }
     ],
     "prompt_number": 198
    },
    {
     "cell_type": "markdown",
     "metadata": {},
     "source": [
      "## Top 10: L\u00e4ngste Liveblogs (deutsch) nach Anzahl der Postings ##"
     ]
    },
    {
     "cell_type": "code",
     "collapsed": false,
     "input": [
      "table(\"select numposts,numcomments,title,canonical from events where language='de' order by numposts desc limit 10\")"
     ],
     "language": "python",
     "metadata": {},
     "outputs": [
      {
       "html": [
        "<table><tr><th>numposts</th><th>numcomments</th><th>title</th><th>canonical</th></tr><tr style='background-color: #fbe1ca'><td>89137</td><td>7</td><td>London Olympics</td><td><a href=\"http://www.scribblelive.com/Event/London_Olympics\" target=\"_blank\">www.scribblelive.com/Event/London_Olympics</a></td></tr><tr style='background-color: #ffffff'><td>66322</td><td>19</td><td>iPhone 6 Keynote</td><td><a href=\"http://www.scribblelive.com/Event/iPhone_6_Keynote\" target=\"_blank\">www.scribblelive.com/Event/iPhone_6_Keynote</a></td></tr><tr style='background-color: #fbe1ca'><td>40010</td><td>0</td><td>Tweets mit #RIP</td><td><a href=\"http://liveblog.br.de/Event/Tweets_mit_RIP\" target=\"_blank\">liveblog.br.de/Event/Tweets_mit_RIP</a></td></tr><tr style='background-color: #ffffff'><td>40003</td><td>0</td><td>re:publica 2013 tweets</td><td>None</td></tr><tr style='background-color: #fbe1ca'><td>30005</td><td>0</td><td>Detox CH</td><td>None</td></tr><tr style='background-color: #ffffff'><td>24115</td><td>0</td><td>#rar13</td><td>None</td></tr><tr style='background-color: #fbe1ca'><td>17109</td><td>15</td><td>[Sandkasten] Test Event dpa Berlin 29. 5. 2013</td><td><a href=\"http://live.dtf12.de/Event/Test_Event_dpa_Berlin_29_5_2013\" target=\"_blank\">live.dtf12.de/Event/Test_Event_dpa_Berlin_29_5_2013</a></td></tr><tr style='background-color: #ffffff'><td>16453</td><td>2847</td><td>Test</td><td><a href=\"http://www.scribblelive.com/Event/Thread.aspx?Id=44954\" target=\"_blank\">www.scribblelive.com/Event/Thread.aspx?Id=44954</a></td></tr><tr style='background-color: #fbe1ca'><td>15637</td><td>0</td><td>#rar</td><td>None</td></tr><tr style='background-color: #ffffff'><td>13359</td><td>458</td><td>Studentenprotest</td><td><a href=\"http://www.scribblelive.com/Event/Studentenprotest\" target=\"_blank\">www.scribblelive.com/Event/Studentenprotest</a></td></tr></table>"
       ],
       "output_type": "pyout",
       "prompt_number": 204,
       "text": [
        "<__main__.HtmlLol instance at 0x9f5c72c>"
       ]
      }
     ],
     "prompt_number": 204
    },
    {
     "cell_type": "markdown",
     "metadata": {},
     "source": [
      "## Top 10: Syndizierte Liveblogs nach Anzahl der Postings ##"
     ]
    },
    {
     "cell_type": "code",
     "collapsed": false,
     "input": [
      "table(\"select numposts,title,canonical,issyndicated from events where issyndicated>0  order by numposts desc limit 10\")"
     ],
     "language": "python",
     "metadata": {},
     "outputs": [
      {
       "html": [
        "<table><tr><th>numposts</th><th>title</th><th>canonical</th><th>issyndicated</th></tr><tr style='background-color: #fbe1ca'><td>132161</td><td>Prueba DTS</td><td>None</td><td>1</td></tr><tr style='background-color: #ffffff'><td>108640</td><td>Resassion</td><td>http://changecamp.scribblelive.com/Event/Resassion</td><td>1</td></tr><tr style='background-color: #fbe1ca'><td>106267</td><td>Movember Charity Donations</td><td>http://toronto.exceptional-results.com/Event/Movember_Charity_Donations</td><td>1</td></tr><tr style='background-color: #ffffff'><td>84366</td><td>Cricket Event</td><td>http://www.scribblelive.com/Event/Cricket_Event</td><td>1</td></tr><tr style='background-color: #fbe1ca'><td>47751</td><td>test p2</td><td>http://liveblog.citytv.com/bachelor/Event/test_p2</td><td>1</td></tr><tr style='background-color: #ffffff'><td>42126</td><td>SEC Twitter feeds </td><td>http://espn.scribblelive.com/Event/SEC_Twitter_feeds</td><td>1</td></tr><tr style='background-color: #fbe1ca'><td>41625</td><td>JLo bb</td><td>http://dev.scribblelive.com/LiveBlog/Event/JLo</td><td>1</td></tr><tr style='background-color: #ffffff'><td>40694</td><td>NCAA Tournament live blog and buzz</td><td>None</td><td>1</td></tr><tr style='background-color: #fbe1ca'><td>40004</td><td>AD Test</td><td>http://demos.scribblelive.com/Event/AD_Test_2</td><td>1</td></tr><tr style='background-color: #ffffff'><td>40003</td><td>Real Estate Agent Toronto: SYNDICATION</td><td>None</td><td>1</td></tr></table>"
       ],
       "output_type": "pyout",
       "prompt_number": 153,
       "text": [
        "<__main__.HtmlLol instance at 0xa0c644c>"
       ]
      }
     ],
     "prompt_number": 153
    },
    {
     "cell_type": "markdown",
     "metadata": {},
     "source": [
      "## Top 10: White-Label-Liveblogs nach Anzahl der Kommentare ##"
     ]
    },
    {
     "cell_type": "code",
     "collapsed": false,
     "input": [
      "table(\"select numposts,canonical from events where numposts>0  and canonical != url order by numposts desc limit 10\")"
     ],
     "language": "python",
     "metadata": {},
     "outputs": [
      {
       "html": [
        "<table><tr><th>numposts</th><th>canonical</th></tr><tr style='background-color: #fbe1ca'><td>35986</td><td>http://directos.abc.es/Event/Actualidad_2</td></tr><tr style='background-color: #ffffff'><td>26037</td><td>http://live.cbc.ca/Event/CBC_NL</td></tr><tr style='background-color: #fbe1ca'><td>18601</td><td>http://live.blog.scribblelive.com/Event/The_ScribbleLive_Daily</td></tr><tr style='background-color: #ffffff'><td>18356</td><td>http://endirect.radio-canada.ca/Event/Sport_en_direct</td></tr><tr style='background-color: #fbe1ca'><td>15139</td><td>http://live.boston.com/Event/Country_Fest_at_Gillette_Stadium_Aug_23-24_--_reaction_from_the_show</td></tr><tr style='background-color: #ffffff'><td>3366</td><td>http://directos.abc.es/Event/Galicia_ahora</td></tr><tr style='background-color: #fbe1ca'><td>3089</td><td>http://directos.abc.es/Event/Actualidad_Madrid</td></tr><tr style='background-color: #ffffff'><td>1913</td><td>http://live.philstar.com/Event/MaringUpdates</td></tr><tr style='background-color: #fbe1ca'><td>1812</td><td>http://live.walesonline.co.uk/Event/Glamorgan_Cricket_Live</td></tr><tr style='background-color: #ffffff'><td>882</td><td>http://live.1500espn.com/Event/Hubbard_Test_Event_Title</td></tr></table>"
       ],
       "output_type": "pyout",
       "prompt_number": 154,
       "text": [
        "<__main__.HtmlLol instance at 0x9bb70ac>"
       ]
      }
     ],
     "prompt_number": 154
    },
    {
     "cell_type": "markdown",
     "metadata": {},
     "source": [
      "## Die allerersten Liveblogs 2008 ##"
     ]
    },
    {
     "cell_type": "code",
     "collapsed": false,
     "input": [
      "table(\"select start,language,canonical,title,numposts from events where numposts>0  order by start asc limit 4\")"
     ],
     "language": "python",
     "metadata": {},
     "outputs": [
      {
       "html": [
        "<table><tr><th>start</th><th>language</th><th>canonical</th><th>title</th><th>numposts</th></tr><tr style='background-color: #fbe1ca'><td>datetime.datetime(1990, 10, 1, 7, 0)</td><td>en</td><td>None</td><td>title</td><td>1</td></tr><tr style='background-color: #ffffff'><td>datetime.datetime(2008, 1, 19, 23, 32, 31)</td><td>en</td><td>http://www.scribblelive.com/Event/Thread.aspx?Id=12</td><td>Test1</td><td>1</td></tr><tr style='background-color: #fbe1ca'><td>datetime.datetime(2008, 1, 20, 0, 5, 5)</td><td>en</td><td>http://www.scribblelive.com/Event/Thread.aspx?Id=13</td><td>Test2</td><td>5</td></tr><tr style='background-color: #ffffff'><td>datetime.datetime(2008, 1, 20, 0, 45, 19)</td><td>en</td><td>http://www.scribblelive.com/Event/Thread.aspx?Id=15</td><td>Test3</td><td>2</td></tr></table>"
       ],
       "output_type": "pyout",
       "prompt_number": 155,
       "text": [
        "<__main__.HtmlLol instance at 0xa08e0cc>"
       ]
      }
     ],
     "prompt_number": 155
    },
    {
     "cell_type": "code",
     "collapsed": false,
     "input": [
      "table(\"select max(id),min(id) from events\")"
     ],
     "language": "python",
     "metadata": {},
     "outputs": [
      {
       "html": [
        "<table><tr><th>max(id)</th><th>min(id)</th></tr><tr style='background-color: #fbe1ca'><td>182253</td><td>1</td></tr></table>"
       ],
       "output_type": "pyout",
       "prompt_number": 156,
       "text": [
        "<__main__.HtmlLol instance at 0xa090e0c>"
       ]
      }
     ],
     "prompt_number": 156
    },
    {
     "cell_type": "markdown",
     "metadata": {},
     "source": [
      "## Top 10: Liveblogs von T-Online nach Anzahl der Postings ##"
     ]
    },
    {
     "cell_type": "code",
     "collapsed": false,
     "input": [
      "table(\"select numposts,strftime('%Y-%m-%d',start) as start, canonical from events where canonical like '%reuters%' order by numposts desc limit 10\")"
     ],
     "language": "python",
     "metadata": {},
     "outputs": [
      {
       "html": [
        "<table><tr><th>numposts</th><th>start</th><th>canonical</th></tr><tr style='background-color: #fbe1ca'><td>193252</td><td>2012-01-24</td><td><a href=\"http://live.reuters.com/Event/FX_Community\" target=\"_blank\">live.reuters.com/Event/FX_Community</a></td></tr><tr style='background-color: #ffffff'><td>45133</td><td>2011-10-27</td><td><a href=\"http://live.reuters.com/Event/BreakingViews_on_Twitter\" target=\"_blank\">live.reuters.com/Event/BreakingViews_on_Twitter</a></td></tr><tr style='background-color: #fbe1ca'><td>36973</td><td>2012-07-17</td><td><a href=\"http://live.jp.reuters.com/Event/LiveBlog_04_18_2012\" target=\"_blank\">live.jp.reuters.com/Event/LiveBlog_04_18_2012</a></td></tr><tr style='background-color: #ffffff'><td>21935</td><td>2010-09-22</td><td><a href=\"http://live.reuters.com/Event/Politics_today\" target=\"_blank\">live.reuters.com/Event/Politics_today</a></td></tr><tr style='background-color: #fbe1ca'><td>18263</td><td>2010-06-07</td><td><a href=\"http://live.reuters.com/Event/World_Cup_2010\" target=\"_blank\">live.reuters.com/Event/World_Cup_2010</a></td></tr><tr style='background-color: #ffffff'><td>16552</td><td>2011-11-19</td><td><a href=\"http://live.reuters.com/Event/Capital_City_IFR__-_Live\" target=\"_blank\">live.reuters.com/Event/Capital_City_IFR__-_Live</a></td></tr><tr style='background-color: #fbe1ca'><td>9088</td><td>2011-04-01</td><td><a href=\"http://live.reuters.com/Event/Cricket_World_Cup_2011\" target=\"_blank\">live.reuters.com/Event/Cricket_World_Cup_2011</a></td></tr><tr style='background-color: #ffffff'><td>7226</td><td>2013-02-01</td><td><a href=\"http://live.reuters.com/Event/Capital_City_IFR_-_Live\" target=\"_blank\">live.reuters.com/Event/Capital_City_IFR_-_Live</a></td></tr><tr style='background-color: #fbe1ca'><td>7164</td><td>2012-11-30</td><td><a href=\"http://live.jp.reuters.com/Event/LiveBlog_03_15_2012\" target=\"_blank\">live.jp.reuters.com/Event/LiveBlog_03_15_2012</a></td></tr><tr style='background-color: #ffffff'><td>7061</td><td>2013-02-07</td><td><a href=\"http://live.reuters.com/Event/US_Economy\" target=\"_blank\">live.reuters.com/Event/US_Economy</a></td></tr></table>"
       ],
       "output_type": "pyout",
       "prompt_number": 205,
       "text": [
        "<__main__.HtmlLol instance at 0x98b45ac>"
       ]
      }
     ],
     "prompt_number": 205
    },
    {
     "cell_type": "code",
     "collapsed": false,
     "input": [
      "\"\"\"\n",
      "Demo of the histogram (hist) function with a few features.\n",
      "\n",
      "In addition to the basic histogram, this demo shows a few optional features:\n",
      "\n",
      "    * Setting the number of data bins\n",
      "    * The ``normed`` flag, which normalizes bin heights so that the integral of\n",
      "      the histogram is 1. The resulting histogram is a probability density.\n",
      "    * Setting the face color of the bars\n",
      "    * Setting the opacity (alpha value).\n",
      "\n",
      "\"\"\"\n",
      "import numpy as np\n",
      "import matplotlib.mlab as mlab\n",
      "import matplotlib.pyplot as plt\n",
      "\n",
      "x=[a[\"c\"] for a in dt.execute(\"select numposts as c from events where numposts>10 and numposts<1000\")]\n",
      "\n",
      "\n",
      "\n",
      "num_bins = 50\n",
      "# the histogram of the data\n",
      "n, bins, patches = plt.hist(x, num_bins, facecolor='green', alpha=0.5)\n",
      "# add a 'best fit' line\n",
      "plt.xlabel('x')\n",
      "plt.ylabel('y')\n",
      "plt.title(r'Histogram')\n",
      "\n",
      "# Tweak spacing to prevent clipping of ylabel\n",
      "plt.subplots_adjust(left=0.15)\n",
      "plt.show()\n"
     ],
     "language": "python",
     "metadata": {},
     "outputs": [
      {
       "metadata": {},
       "output_type": "display_data",
       "png": "[encoded data removed]",
       "text": [
        "<matplotlib.figure.Figure at 0xd3961ac>"
       ]
      }
     ],
     "prompt_number": 12
    },
    {
     "cell_type": "code",
     "collapsed": false,
     "input": [
      "plt.plot([a[\"c\"] for a in table(\"select count(*) as c ,strftime('%Y-%m-%d',start) as day from events where start>'2013-08-01' and numposts>0  group by day order by day desc\").o])"
     ],
     "language": "python",
     "metadata": {},
     "outputs": [
      {
       "ename": "TypeError",
       "evalue": "list indices must be integers, not str",
       "output_type": "pyerr",
       "traceback": [
        "\u001b[1;31m---------------------------------------------------------------------------\u001b[0m\n\u001b[1;31mTypeError\u001b[0m                                 Traceback (most recent call last)",
        "\u001b[1;32m<ipython-input-16-5fde6c9d5f39>\u001b[0m in \u001b[0;36m<module>\u001b[1;34m()\u001b[0m\n\u001b[1;32m----> 1\u001b[1;33m \u001b[0mplt\u001b[0m\u001b[1;33m.\u001b[0m\u001b[0mplot\u001b[0m\u001b[1;33m(\u001b[0m\u001b[1;33m[\u001b[0m\u001b[0ma\u001b[0m\u001b[1;33m[\u001b[0m\u001b[1;34m\"c\"\u001b[0m\u001b[1;33m]\u001b[0m \u001b[1;32mfor\u001b[0m \u001b[0ma\u001b[0m \u001b[1;32min\u001b[0m \u001b[0mtable\u001b[0m\u001b[1;33m(\u001b[0m\u001b[1;34m\"select count(*) as c ,strftime('%Y-%m-%d',start) as day from events where start>'2013-08-01' and numposts>0  group by day order by day desc\"\u001b[0m\u001b[1;33m)\u001b[0m\u001b[1;33m.\u001b[0m\u001b[0mo\u001b[0m\u001b[1;33m]\u001b[0m\u001b[1;33m)\u001b[0m\u001b[1;33m\u001b[0m\u001b[0m\n\u001b[0m",
        "\u001b[1;31mTypeError\u001b[0m: list indices must be integers, not str"
       ]
      }
     ],
     "prompt_number": 16
    },
    {
     "cell_type": "code",
     "collapsed": false,
     "input": [],
     "language": "python",
     "metadata": {},
     "outputs": []
    }
   ],
   "metadata": {}
  }
 ]
}
